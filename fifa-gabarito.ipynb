{
 "cells": [
  {
   "cell_type": "markdown",
   "metadata": {},
   "source": [
    "# WORKSHOP - ESTATÍSTICA BÁSICA COM R - GRUPO TURING"
   ]
  },
  {
   "cell_type": "markdown",
   "metadata": {},
   "source": [
    "**Tabela de Conteúdos**\n",
    "\n",
    "- :open_file_folder: [Importando dados em R](#parte1)\n",
    "    - [Importando um csv](#importando_csv)\n",
    "    - [Boas práticas em criação de bases de dados](#boas_praticas)\n",
    "    - [Importando os dados do Workshop](#importando_ws)\n",
    "    <br><br>\n",
    "- :bookmark_tabs: [Manipulando dados em R](#parte2)\n",
    "    - [Dados Faltantes](#dados_faltantes)\n",
    "    - [Deep dive in dplyr](#dplyr)\n",
    "        - [mutate() - criando novas variáveis](#mutate)\n",
    "        - [select() - selecionando colunas](#select)\n",
    "        - [filter() - filtrando a base de dados](#filter)\n",
    "        - [summarise() - a tabela dinâmica do R](#summarise)\n",
    "        - [arrange() - alterando a ordem das linhas](#arrange)\n",
    "        - [Combinando os verbos](#varios_verbos)\n",
    "        <br><br>\n",
    "- :mag: [Estatística básica em R](#parte3)\n",
    "    - [Tipos de dados](#tipos_de_dados)\n",
    "        - [Dados Qualitativos](#quali)\n",
    "        - [Dados Quantitativos](#quant)\n",
    "    - [Estatística Descritiva](#descritiva)\n",
    "        - [Medidas de tendência central](#tendencia_central)\n",
    "            - [Média](#media)\n",
    "            - [Mediana](#mediana)\n",
    "            - [Percentis](#percentil)\n",
    "            - [Summary](#summary)\n",
    "        - [Medidas de variação uni e multivariadas](#variacao)\n",
    "            - [Amplitude](#amplitude)\n",
    "            - [Amplitude interquartil](#amplitude_interquartil)\n",
    "            - [Variância](#variancia)\n",
    "            - [Desvio Padrão](#desv_pad)\n",
    "            - [Covariância](#covar)\n",
    "            - [Coeficiente de Correlação](#ccor)\n",
    "            <br><br>\n",
    "- :chart_with_downwards_trend: [Visualizando dados em R](#parte4)\n",
    "<br><br>\n",
    "- :question: [Inferência Estatística em R](#parte5)\n",
    "    - [Testes de hipótese](#testes_de_hipotese)\n",
    "        - [Amostra vs População](#amostra_pop)\n",
    "        - [Testes paramétricos VS Testes não paramétricos](#par_vs_npar)\n",
    "        - [Teste de Kolgomorov-Smirnov](#ks)\n",
    "        - Testes Paramétricos\n",
    "            - [Teste T](#t_test)\n",
    "            - [ANOVA de um fator](#anova)\n",
    "    - [Regressão Linear](#rl)\n"
   ]
  },
  {
   "cell_type": "markdown",
   "metadata": {},
   "source": [
    "## <a id = \"parte1\"></a> <span style=\"color: orange;\"> Parte 1 - Importando dados em R </span>"
   ]
  },
  {
   "cell_type": "markdown",
   "metadata": {},
   "source": [
    "Quando vamos fazer nossa análise de dados, comumente devemos trazer esses dados de algum outro arquivo, o que nos pede um pouco de cuidado. <br> Por exemplo, é importante sabermos qual é o tipo de arquivo que estamos importando, pois isso pode fazer nosso programa ler os dados errôneamente. <br> Um dos formatos mais comums para a análise de dados é o **CSV**, ou *Comma separeted values*."
   ]
  },
  {
   "cell_type": "markdown",
   "metadata": {},
   "source": [
    "![img](img/csv_meme.jpg)"
   ]
  },
  {
   "cell_type": "markdown",
   "metadata": {},
   "source": [
    "### <a id=\"importando_csv\"></a>Importando um arquivo CSV "
   ]
  },
  {
   "cell_type": "markdown",
   "metadata": {},
   "source": [
    "```R\n",
    "mydata <- read.csv(\"Data.csv\", header=TRUE)\n",
    "```"
   ]
  },
  {
   "cell_type": "markdown",
   "metadata": {},
   "source": [
    "```mydata``` é o nome da variável que atribuiremos o conteúdo do arquivo que estamos lendo <br>\n",
    "```read.csv``` lê arquivos que possuem este formato<br>\n",
    "O nome do arquivo deve vir dentro de aspas (simples ou dupla). Neste caso o arquivo está no mesmo diretório em que o nosso programa está sendo salvo, por isso não há necessidade de especificar diretórios anteriores. <br>\n",
    "```header=TRUE``` que significa que a primeira linha do nosso arquivo contém o nome das colunas."
   ]
  },
  {
   "cell_type": "markdown",
   "metadata": {},
   "source": [
    "### Alguns problemas "
   ]
  },
  {
   "cell_type": "markdown",
   "metadata": {},
   "source": [
    "Caso o arquivo esteja em um diretório diferente, é necessário identificá-lo. <br>\n",
    "Além disso, caso a primeira linha já contenha dados, vc deve trocar o argumento por ```header=FALSE```. <br>\n",
    "No caso do separador não ser a vírgula, podemos usar o argumento  ```sep=\" \"``` como o separador desejado. <br>\n",
    "Vamos ver um exemplo com esses casos juntos:"
   ]
  },
  {
   "cell_type": "markdown",
   "metadata": {},
   "source": [
    "```R\n",
    "mydata <- read.csv(\"C:/Usuarios/Caminho/do/arquivo/Data.csv\", header=FALSE, sep=\";\")\n",
    "```"
   ]
  },
  {
   "cell_type": "markdown",
   "metadata": {},
   "source": [
    "```R\n",
    "names(mydata) <- c('id','name','type')\n",
    "```"
   ]
  },
  {
   "cell_type": "markdown",
   "metadata": {},
   "source": [
    "## <a id=\"boas_praticas\"></a> Boas Práticas "
   ]
  },
  {
   "cell_type": "markdown",
   "metadata": {},
   "source": [
    "Caso você não queira ter problemas na hora de importar dados para fazer suas análises, são necessárias algumas boas práticas na hora de criar seu arquivo."
   ]
  },
  {
   "cell_type": "markdown",
   "metadata": {},
   "source": [
    "Neste WorkShop, usaremos o dataset Adults, que possui dados do censo norte americano sobre fatores socioeconômicos. Vamos visualizá-lo no Excel para entender sua estrutura:"
   ]
  },
  {
   "cell_type": "markdown",
   "metadata": {},
   "source": [
    "![img2](img/excel_fifa.png)"
   ]
  },
  {
   "cell_type": "markdown",
   "metadata": {},
   "source": [
    "```\n",
    "\"\",\"sofifa_id\",\"short_name\",\"long_name\",\"age\",\"nationality\",\"club\",\"wage_eur\",\"player_positions\",\"preferred_foot\"\n",
    "\"2600\",223152,\"S. Vilakazi\",\"Sibusiso Vilakazi\",29,\"South Africa\",\"South Africa\",0,\"CAM, CF, RW\",\"Right\"\n",
    "\"11493\",244742,\"A. Ivan\",\"Andreas Ivan\",24,\"Romania\",\"New York Red Bulls\",2000,\"RM, LM\",\"Left\"\n",
    "\"11171\",248710,\"Paulino\",\"Paulino de la Fuente GÃ³mez\",22,\"Spain\",\"Deportivo AlavÃ©s\",5000,\"RM, CAM\",\"Left\"\n",
    "\"5780\",245598,\"I. Baba\",\"Iddrisu Baba Mohammed\",23,\"Ghana\",\"RCD Mallorca\",9000,\"CDM, CM\",\"Right\"\n",
    "\n",
    "```"
   ]
  },
  {
   "cell_type": "markdown",
   "metadata": {},
   "source": [
    "Datasets também podem ser montados num simples arquivo de texto:"
   ]
  },
  {
   "cell_type": "markdown",
   "metadata": {},
   "source": [
    "### Como escrever então seu arquivo de dados?"
   ]
  },
  {
   "cell_type": "markdown",
   "metadata": {},
   "source": [
    "1. Comece pela primeira linha e primeira coluna, ou seja, não pule células\n",
    "2. Inclua uma linha de títulos para cada coluna\n",
    "3. Tenha certeza que o número de títulos é igual ao número de colunas dos seus dados\n",
    "4. Não junte células, isso pode fazer seu programa ter problemas na hora de ler o arquivo\n",
    "5. No caso de arquivos de texto, use preferencialmente ```,``` como separador dos dados"
   ]
  },
  {
   "cell_type": "markdown",
   "metadata": {},
   "source": [
    "## <a id=\"importando_ws\"></a> Importando o arquivo do Workshop "
   ]
  },
  {
   "cell_type": "code",
   "execution_count": 1,
   "metadata": {},
   "outputs": [
    {
     "data": {
      "text/html": [
       "<table>\n",
       "<thead><tr><th scope=col>X</th><th scope=col>sofifa_id</th><th scope=col>short_name</th><th scope=col>long_name</th><th scope=col>age</th><th scope=col>nationality</th><th scope=col>club</th><th scope=col>wage_eur</th><th scope=col>player_positions</th><th scope=col>preferred_foot</th></tr></thead>\n",
       "<tbody>\n",
       "\t<tr><td> 2600                      </td><td>223152                     </td><td>S. Vilakazi                </td><td>Sibusiso Vilakazi          </td><td>29                         </td><td>South Africa               </td><td>South Africa               </td><td>   0                       </td><td>CAM, CF, RW                </td><td>Right                      </td></tr>\n",
       "\t<tr><td>11493                      </td><td>244742                     </td><td>A. Ivan                    </td><td>Andreas Ivan               </td><td>24                         </td><td>Romania                    </td><td>New York Red Bulls         </td><td>2000                       </td><td>RM, LM                     </td><td>Left                       </td></tr>\n",
       "\t<tr><td>11171                      </td><td>248710                     </td><td>Paulino                    </td><td>Paulino de la Fuente GÃ³mez</td><td>22                         </td><td>Spain                      </td><td>Deportivo AlavÃ©s          </td><td>5000                       </td><td>RM, CAM                    </td><td>Left                       </td></tr>\n",
       "\t<tr><td> 5780                      </td><td>245598                     </td><td>I. Baba                    </td><td>Iddrisu Baba Mohammed      </td><td>23                         </td><td>Ghana                      </td><td>RCD Mallorca               </td><td>9000                       </td><td>CDM, CM                    </td><td>Right                      </td></tr>\n",
       "\t<tr><td>17256                      </td><td>247856                     </td><td>B. Nieto                   </td><td>Byron Nieto                </td><td>21                         </td><td>Chile                      </td><td>CD Antofagasta             </td><td>1000                       </td><td>RM, RB                     </td><td>Right                      </td></tr>\n",
       "</tbody>\n",
       "</table>\n"
      ],
      "text/latex": [
       "\\begin{tabular}{r|llllllllll}\n",
       " X & sofifa\\_id & short\\_name & long\\_name & age & nationality & club & wage\\_eur & player\\_positions & preferred\\_foot\\\\\n",
       "\\hline\n",
       "\t  2600                       & 223152                      & S. Vilakazi                 & Sibusiso Vilakazi           & 29                          & South Africa                & South Africa                &    0                        & CAM, CF, RW                 & Right                      \\\\\n",
       "\t 11493                       & 244742                      & A. Ivan                     & Andreas Ivan                & 24                          & Romania                     & New York Red Bulls          & 2000                        & RM, LM                      & Left                       \\\\\n",
       "\t 11171                       & 248710                      & Paulino                     & Paulino de la Fuente GÃ³mez & 22                          & Spain                       & Deportivo AlavÃ©s           & 5000                        & RM, CAM                     & Left                       \\\\\n",
       "\t  5780                       & 245598                      & I. Baba                     & Iddrisu Baba Mohammed       & 23                          & Ghana                       & RCD Mallorca                & 9000                        & CDM, CM                     & Right                      \\\\\n",
       "\t 17256                       & 247856                      & B. Nieto                    & Byron Nieto                 & 21                          & Chile                       & CD Antofagasta              & 1000                        & RM, RB                      & Right                      \\\\\n",
       "\\end{tabular}\n"
      ],
      "text/markdown": [
       "\n",
       "| X | sofifa_id | short_name | long_name | age | nationality | club | wage_eur | player_positions | preferred_foot |\n",
       "|---|---|---|---|---|---|---|---|---|---|\n",
       "|  2600                       | 223152                      | S. Vilakazi                 | Sibusiso Vilakazi           | 29                          | South Africa                | South Africa                |    0                        | CAM, CF, RW                 | Right                       |\n",
       "| 11493                       | 244742                      | A. Ivan                     | Andreas Ivan                | 24                          | Romania                     | New York Red Bulls          | 2000                        | RM, LM                      | Left                        |\n",
       "| 11171                       | 248710                      | Paulino                     | Paulino de la Fuente GÃ³mez | 22                          | Spain                       | Deportivo AlavÃ©s           | 5000                        | RM, CAM                     | Left                        |\n",
       "|  5780                       | 245598                      | I. Baba                     | Iddrisu Baba Mohammed       | 23                          | Ghana                       | RCD Mallorca                | 9000                        | CDM, CM                     | Right                       |\n",
       "| 17256                       | 247856                      | B. Nieto                    | Byron Nieto                 | 21                          | Chile                       | CD Antofagasta              | 1000                        | RM, RB                      | Right                       |\n",
       "\n"
      ],
      "text/plain": [
       "  X     sofifa_id short_name  long_name                   age nationality \n",
       "1  2600 223152    S. Vilakazi Sibusiso Vilakazi           29  South Africa\n",
       "2 11493 244742    A. Ivan     Andreas Ivan                24  Romania     \n",
       "3 11171 248710    Paulino     Paulino de la Fuente GÃ³mez 22  Spain       \n",
       "4  5780 245598    I. Baba     Iddrisu Baba Mohammed       23  Ghana       \n",
       "5 17256 247856    B. Nieto    Byron Nieto                 21  Chile       \n",
       "  club               wage_eur player_positions preferred_foot\n",
       "1 South Africa          0     CAM, CF, RW      Right         \n",
       "2 New York Red Bulls 2000     RM, LM           Left          \n",
       "3 Deportivo AlavÃ©s  5000     RM, CAM          Left          \n",
       "4 RCD Mallorca       9000     CDM, CM          Right         \n",
       "5 CD Antofagasta     1000     RM, RB           Right         "
      ]
     },
     "metadata": {},
     "output_type": "display_data"
    }
   ],
   "source": [
    "mydata <- read.csv(\"fifa_sample_wsR.csv\", header=TRUE)\n",
    "head(mydata, 5)"
   ]
  },
  {
   "cell_type": "markdown",
   "metadata": {},
   "source": [
    "Note que por padrão, R lê seu arquivo CSV como se fosse separado por ```,``` <br>\n",
    "O que acontece então se usarmos outro separador?"
   ]
  },
  {
   "cell_type": "code",
   "execution_count": 2,
   "metadata": {},
   "outputs": [
    {
     "data": {
      "text/html": [
       "<table>\n",
       "<thead><tr><th scope=col>X.sofifa_id.short_name.long_name.age.nationality.club.wage_eur.player_positions.preferred_foot</th></tr></thead>\n",
       "<tbody>\n",
       "\t<tr><td>2600,223152,S. Vilakazi,Sibusiso Vilakazi,29,South Africa,South Africa,0,CAM, CF, RW,Right   </td></tr>\n",
       "\t<tr><td>11493,244742,A. Ivan,Andreas Ivan,24,Romania,New York Red Bulls,2000,RM, LM,Left             </td></tr>\n",
       "\t<tr><td>11171,248710,Paulino,Paulino de la Fuente GÃ³mez,22,Spain,Deportivo AlavÃ©s,5000,RM, CAM,Left</td></tr>\n",
       "\t<tr><td>5780,245598,I. Baba,Iddrisu Baba Mohammed,23,Ghana,RCD Mallorca,9000,CDM, CM,Right           </td></tr>\n",
       "\t<tr><td>17256,247856,B. Nieto,Byron Nieto,21,Chile,CD Antofagasta,1000,RM, RB,Right                  </td></tr>\n",
       "</tbody>\n",
       "</table>\n"
      ],
      "text/latex": [
       "\\begin{tabular}{r|l}\n",
       " X.sofifa\\_id.short\\_name.long\\_name.age.nationality.club.wage\\_eur.player\\_positions.preferred\\_foot\\\\\n",
       "\\hline\n",
       "\t 2600,223152,S. Vilakazi,Sibusiso Vilakazi,29,South Africa,South Africa,0,CAM, CF, RW,Right   \\\\\n",
       "\t 11493,244742,A. Ivan,Andreas Ivan,24,Romania,New York Red Bulls,2000,RM, LM,Left             \\\\\n",
       "\t 11171,248710,Paulino,Paulino de la Fuente GÃ³mez,22,Spain,Deportivo AlavÃ©s,5000,RM, CAM,Left\\\\\n",
       "\t 5780,245598,I. Baba,Iddrisu Baba Mohammed,23,Ghana,RCD Mallorca,9000,CDM, CM,Right           \\\\\n",
       "\t 17256,247856,B. Nieto,Byron Nieto,21,Chile,CD Antofagasta,1000,RM, RB,Right                  \\\\\n",
       "\\end{tabular}\n"
      ],
      "text/markdown": [
       "\n",
       "| X.sofifa_id.short_name.long_name.age.nationality.club.wage_eur.player_positions.preferred_foot |\n",
       "|---|\n",
       "| 2600,223152,S. Vilakazi,Sibusiso Vilakazi,29,South Africa,South Africa,0,CAM, CF, RW,Right    |\n",
       "| 11493,244742,A. Ivan,Andreas Ivan,24,Romania,New York Red Bulls,2000,RM, LM,Left              |\n",
       "| 11171,248710,Paulino,Paulino de la Fuente GÃ³mez,22,Spain,Deportivo AlavÃ©s,5000,RM, CAM,Left |\n",
       "| 5780,245598,I. Baba,Iddrisu Baba Mohammed,23,Ghana,RCD Mallorca,9000,CDM, CM,Right            |\n",
       "| 17256,247856,B. Nieto,Byron Nieto,21,Chile,CD Antofagasta,1000,RM, RB,Right                   |\n",
       "\n"
      ],
      "text/plain": [
       "  X.sofifa_id.short_name.long_name.age.nationality.club.wage_eur.player_positions.preferred_foot\n",
       "1 2600,223152,S. Vilakazi,Sibusiso Vilakazi,29,South Africa,South Africa,0,CAM, CF, RW,Right    \n",
       "2 11493,244742,A. Ivan,Andreas Ivan,24,Romania,New York Red Bulls,2000,RM, LM,Left              \n",
       "3 11171,248710,Paulino,Paulino de la Fuente GÃ³mez,22,Spain,Deportivo AlavÃ©s,5000,RM, CAM,Left \n",
       "4 5780,245598,I. Baba,Iddrisu Baba Mohammed,23,Ghana,RCD Mallorca,9000,CDM, CM,Right            \n",
       "5 17256,247856,B. Nieto,Byron Nieto,21,Chile,CD Antofagasta,1000,RM, RB,Right                   "
      ]
     },
     "metadata": {},
     "output_type": "display_data"
    }
   ],
   "source": [
    "mydata <- read.csv(\"fifa_sample_wsR.csv\", header=TRUE, sep=\";\")\n",
    "head(mydata, 5)"
   ]
  },
  {
   "cell_type": "markdown",
   "metadata": {},
   "source": [
    "<img src=\"img/surprised_face.jpg\" width=\"300\"/>"
   ]
  },
  {
   "cell_type": "code",
   "execution_count": 9,
   "metadata": {
    "scrolled": false
   },
   "outputs": [
    {
     "data": {
      "text/html": [
       "<table>\n",
       "<thead><tr><th scope=col>X</th><th scope=col>sofifa_id</th><th scope=col>short_name</th><th scope=col>long_name</th><th scope=col>age</th><th scope=col>nationality</th><th scope=col>club</th><th scope=col>wage_eur</th><th scope=col>player_positions</th><th scope=col>preferred_foot</th></tr></thead>\n",
       "<tbody>\n",
       "\t<tr><td> 2600                      </td><td>223152                     </td><td>S. Vilakazi                </td><td>Sibusiso Vilakazi          </td><td>29                         </td><td>South Africa               </td><td>South Africa               </td><td>   0                       </td><td>CAM, CF, RW                </td><td>Right                      </td></tr>\n",
       "\t<tr><td>11493                      </td><td>244742                     </td><td>A. Ivan                    </td><td>Andreas Ivan               </td><td>24                         </td><td>Romania                    </td><td>New York Red Bulls         </td><td>2000                       </td><td>RM, LM                     </td><td>Left                       </td></tr>\n",
       "\t<tr><td>11171                      </td><td>248710                     </td><td>Paulino                    </td><td>Paulino de la Fuente GÃ³mez</td><td>22                         </td><td>Spain                      </td><td>Deportivo AlavÃ©s          </td><td>5000                       </td><td>RM, CAM                    </td><td>Left                       </td></tr>\n",
       "\t<tr><td> 5780                      </td><td>245598                     </td><td>I. Baba                    </td><td>Iddrisu Baba Mohammed      </td><td>23                         </td><td>Ghana                      </td><td>RCD Mallorca               </td><td>9000                       </td><td>CDM, CM                    </td><td>Right                      </td></tr>\n",
       "\t<tr><td>17256                      </td><td>247856                     </td><td>B. Nieto                   </td><td>Byron Nieto                </td><td>21                         </td><td>Chile                      </td><td>CD Antofagasta             </td><td>1000                       </td><td>RM, RB                     </td><td>Right                      </td></tr>\n",
       "\t<tr><td> 9092                      </td><td>208999                     </td><td>D. Wright                  </td><td>Drey Jermaine Wright       </td><td>24                         </td><td>England                    </td><td>St. Johnstone FC           </td><td>2000                       </td><td>RM, CM, ST                 </td><td>Right                      </td></tr>\n",
       "</tbody>\n",
       "</table>\n"
      ],
      "text/latex": [
       "\\begin{tabular}{r|llllllllll}\n",
       " X & sofifa\\_id & short\\_name & long\\_name & age & nationality & club & wage\\_eur & player\\_positions & preferred\\_foot\\\\\n",
       "\\hline\n",
       "\t  2600                       & 223152                      & S. Vilakazi                 & Sibusiso Vilakazi           & 29                          & South Africa                & South Africa                &    0                        & CAM, CF, RW                 & Right                      \\\\\n",
       "\t 11493                       & 244742                      & A. Ivan                     & Andreas Ivan                & 24                          & Romania                     & New York Red Bulls          & 2000                        & RM, LM                      & Left                       \\\\\n",
       "\t 11171                       & 248710                      & Paulino                     & Paulino de la Fuente GÃ³mez & 22                          & Spain                       & Deportivo AlavÃ©s           & 5000                        & RM, CAM                     & Left                       \\\\\n",
       "\t  5780                       & 245598                      & I. Baba                     & Iddrisu Baba Mohammed       & 23                          & Ghana                       & RCD Mallorca                & 9000                        & CDM, CM                     & Right                      \\\\\n",
       "\t 17256                       & 247856                      & B. Nieto                    & Byron Nieto                 & 21                          & Chile                       & CD Antofagasta              & 1000                        & RM, RB                      & Right                      \\\\\n",
       "\t  9092                       & 208999                      & D. Wright                   & Drey Jermaine Wright        & 24                          & England                     & St. Johnstone FC            & 2000                        & RM, CM, ST                  & Right                      \\\\\n",
       "\\end{tabular}\n"
      ],
      "text/markdown": [
       "\n",
       "| X | sofifa_id | short_name | long_name | age | nationality | club | wage_eur | player_positions | preferred_foot |\n",
       "|---|---|---|---|---|---|---|---|---|---|\n",
       "|  2600                       | 223152                      | S. Vilakazi                 | Sibusiso Vilakazi           | 29                          | South Africa                | South Africa                |    0                        | CAM, CF, RW                 | Right                       |\n",
       "| 11493                       | 244742                      | A. Ivan                     | Andreas Ivan                | 24                          | Romania                     | New York Red Bulls          | 2000                        | RM, LM                      | Left                        |\n",
       "| 11171                       | 248710                      | Paulino                     | Paulino de la Fuente GÃ³mez | 22                          | Spain                       | Deportivo AlavÃ©s           | 5000                        | RM, CAM                     | Left                        |\n",
       "|  5780                       | 245598                      | I. Baba                     | Iddrisu Baba Mohammed       | 23                          | Ghana                       | RCD Mallorca                | 9000                        | CDM, CM                     | Right                       |\n",
       "| 17256                       | 247856                      | B. Nieto                    | Byron Nieto                 | 21                          | Chile                       | CD Antofagasta              | 1000                        | RM, RB                      | Right                       |\n",
       "|  9092                       | 208999                      | D. Wright                   | Drey Jermaine Wright        | 24                          | England                     | St. Johnstone FC            | 2000                        | RM, CM, ST                  | Right                       |\n",
       "\n"
      ],
      "text/plain": [
       "  X     sofifa_id short_name  long_name                   age nationality \n",
       "1  2600 223152    S. Vilakazi Sibusiso Vilakazi           29  South Africa\n",
       "2 11493 244742    A. Ivan     Andreas Ivan                24  Romania     \n",
       "3 11171 248710    Paulino     Paulino de la Fuente GÃ³mez 22  Spain       \n",
       "4  5780 245598    I. Baba     Iddrisu Baba Mohammed       23  Ghana       \n",
       "5 17256 247856    B. Nieto    Byron Nieto                 21  Chile       \n",
       "6  9092 208999    D. Wright   Drey Jermaine Wright        24  England     \n",
       "  club               wage_eur player_positions preferred_foot\n",
       "1 South Africa          0     CAM, CF, RW      Right         \n",
       "2 New York Red Bulls 2000     RM, LM           Left          \n",
       "3 Deportivo AlavÃ©s  5000     RM, CAM          Left          \n",
       "4 RCD Mallorca       9000     CDM, CM          Right         \n",
       "5 CD Antofagasta     1000     RM, RB           Right         \n",
       "6 St. Johnstone FC   2000     RM, CM, ST       Right         "
      ]
     },
     "metadata": {},
     "output_type": "display_data"
    }
   ],
   "source": [
    "fifa <- read.csv(\"fifa_sample_wsR.csv\", header=TRUE)\n",
    "head(fifa)"
   ]
  },
  {
   "cell_type": "markdown",
   "metadata": {},
   "source": [
    "## <a id = \"parte2\"></a><span style=\"color: orange;\"> Parte 2 - Manipulação de dados em R </span>"
   ]
  },
  {
   "cell_type": "markdown",
   "metadata": {},
   "source": [
    "A linguagem R tem como um de seus grandes destaques o pacote Tidyverse.<br>\n",
    "Para falar a verdade, o Tidyverse não é um pacote em si, mas sim um conjunto de pacotes.<br>\n",
    "Dentro dele, encontramos o `dplyr`, que é instalado automaticamente com o `install.packages(\"tidyverse\")`.\n",
    "<br>\n",
    "Aqui uma [Cheat Sheet do dplyr](https://github.com/rstudio/cheatsheets/blob/master/data-transformation.pdf)\n",
    "<br>"
   ]
  },
  {
   "cell_type": "code",
   "execution_count": 14,
   "metadata": {},
   "outputs": [
    {
     "name": "stderr",
     "output_type": "stream",
     "text": [
      "\n",
      "Attaching package: 'dplyr'\n",
      "\n",
      "The following objects are masked from 'package:stats':\n",
      "\n",
      "    filter, lag\n",
      "\n",
      "The following objects are masked from 'package:base':\n",
      "\n",
      "    intersect, setdiff, setequal, union\n",
      "\n"
     ]
    }
   ],
   "source": [
    "library(dplyr)"
   ]
  },
  {
   "cell_type": "markdown",
   "metadata": {},
   "source": [
    "### <a id=\"dados_faltantes\"></a>Dados faltantes\n",
    "<br>\n",
    "Dados faltantes podem ser um grande problema quando estamos lidando com uma base de dados. Assim, uma abordagem geralmente aplicada é simplesmente removê-los da sua base de dados. No R, muitas funções (a grande maioria delas) exibe um parâmetro `na.rm` que abrevia \"remover NAs\" ou *not available* ."
   ]
  },
  {
   "cell_type": "code",
   "execution_count": 94,
   "metadata": {},
   "outputs": [
    {
     "name": "stdout",
     "output_type": "stream",
     "text": [
      "[1] NA\n"
     ]
    }
   ],
   "source": [
    "#definimos aqui um vetor, vamos ver o que acontece quando aplicamos a função mean()  a ele\n",
    "vetor <- c(2, 3, 4, 5, NA, 7)\n",
    "print(mean(vetor))"
   ]
  },
  {
   "cell_type": "code",
   "execution_count": 95,
   "metadata": {},
   "outputs": [
    {
     "name": "stdout",
     "output_type": "stream",
     "text": [
      "[1] 4.2\n"
     ]
    }
   ],
   "source": [
    "#Agora com o na.rm = TRUE\n",
    "print(mean(vetor, na.rm=TRUE))"
   ]
  },
  {
   "cell_type": "markdown",
   "metadata": {},
   "source": [
    "Outra coisa que podemos querer fazer é inputar algum dado padrão aos dados faltantes, isso pode ser feito da seguinte maneira:"
   ]
  },
  {
   "cell_type": "code",
   "execution_count": 96,
   "metadata": {
    "scrolled": true
   },
   "outputs": [
    {
     "name": "stdout",
     "output_type": "stream",
     "text": [
      "[1] 2 3 4 5 0 7\n"
     ]
    }
   ],
   "source": [
    "vetor[is.na(vetor)] <- 0\n",
    "print(vetor)"
   ]
  },
  {
   "cell_type": "code",
   "execution_count": 97,
   "metadata": {},
   "outputs": [
    {
     "name": "stdout",
     "output_type": "stream",
     "text": [
      "[1] 2.0 3.0 4.0 5.0 4.2 7.0\n"
     ]
    }
   ],
   "source": [
    "vetor <- c(2, 3, 4, 5, NA, 7)\n",
    "vetor[is.na(vetor)] <- mean(vetor, na.rm=TRUE)\n",
    "print(vetor)"
   ]
  },
  {
   "cell_type": "markdown",
   "metadata": {},
   "source": [
    "Vamos dar uma olhada na nossa tabela da Fifa, vamos ver se ela tem algum dado faltante."
   ]
  },
  {
   "cell_type": "code",
   "execution_count": 12,
   "metadata": {
    "scrolled": true
   },
   "outputs": [
    {
     "data": {
      "text/html": [
       "0"
      ],
      "text/latex": [
       "0"
      ],
      "text/markdown": [
       "0"
      ],
      "text/plain": [
       "[1] 0"
      ]
     },
     "metadata": {},
     "output_type": "display_data"
    }
   ],
   "source": [
    "#Calculando a quantidade de dados faltantes\n",
    "sum(is.na(fifa))"
   ]
  },
  {
   "cell_type": "markdown",
   "metadata": {},
   "source": [
    "Como não há dados faltantes, não precisamos nos preocupar."
   ]
  },
  {
   "cell_type": "markdown",
   "metadata": {},
   "source": [
    "### <a id=\"dplyr\"></a>Deep dive in dplyr\n",
    "Vamos agora nos aprofundar na biblioteca `dplyr`. <br>\n",
    "Essa biblioteca é boa porque deixa o nosso código extremamente legível para um ser humano.<br>\n",
    "Isso ocorre porque ela usa uma estrutura de \"verbos\" que regem o que será feito com a base de dados.<br>\n",
    "Os verbos existentes na biblioteca são os seguintes:\n",
    "1. `mutate()` - que adiciona novas variáveis (colunas) ao dataset a partir de operações/ aplicação de funções nas variáveis existentes \n",
    "2. `select()` - seleciona as colunas com base em critérios de nome\n",
    "3. `filter()` - filtra os dados com base em valores.\n",
    "4. `summarise()` - reduz um grande número de valores para valores resumo (como média, contagem, desvio, etc). Para quem mexe com excel, aqui seria algo para criar uma tabela dinâmica (pivot table). Em geral é usado com `group_by()`\n",
    "5. `arrange()`- muda a ordenação das linhas com base em algum critério\n",
    "<br>\n",
    "<br>\n",
    "Todos esses verbos podem ser performados tendo como critério um grupo, usando o `group_by()` , mas é mais comum usar isso no `summarise()`. <br>"
   ]
  },
  {
   "cell_type": "markdown",
   "metadata": {},
   "source": [
    "A estrutura de utilização dos verbos é bem simples: <br>\n",
    "`base de dados %>% verbo` <br>\n",
    "Podemos aplicar vários verbos em seguida também, com a seguinte estutura (a ordem de execução será a ordem desses verbos): <br>\n",
    "`base de dados %>% verbo1 %>% verbo2 %>% verbo3`"
   ]
  },
  {
   "cell_type": "markdown",
   "metadata": {},
   "source": [
    "Nesse Workshop, não usaremos todas essas funções, assim vamos explicar a que mais iremos usar e depois mostraremos um exemplo com todas as funções juntas para entender seu uso."
   ]
  },
  {
   "cell_type": "markdown",
   "metadata": {},
   "source": [
    "#### <a id=\"filter\"></a> `filter()` - Filtrando nossa base de dados!"
   ]
  },
  {
   "cell_type": "markdown",
   "metadata": {},
   "source": [
    "Vamos supor que você quer analisar sua base de dados e segmentar essa análise com base em algum critério. Isso é só um dos cenários em que pode ser muito importante você usar filtros!<br>\n",
    "Vamos aqui filtrar a base para ver jogadores com idade acima de 30 anos."
   ]
  },
  {
   "cell_type": "code",
   "execution_count": 16,
   "metadata": {
    "scrolled": true
   },
   "outputs": [
    {
     "data": {
      "text/html": [
       "<table>\n",
       "<thead><tr><th scope=col>X</th><th scope=col>sofifa_id</th><th scope=col>short_name</th><th scope=col>long_name</th><th scope=col>age</th><th scope=col>nationality</th><th scope=col>club</th><th scope=col>wage_eur</th><th scope=col>player_positions</th><th scope=col>preferred_foot</th></tr></thead>\n",
       "<tbody>\n",
       "\t<tr><td>  877                            </td><td>169115                           </td><td>A. Masiello                      </td><td>Andrea Masiello                  </td><td>33                               </td><td>Italy                            </td><td>Atalanta                         </td><td>48000                            </td><td>CB                               </td><td>Right                            </td></tr>\n",
       "\t<tr><td> 6343                            </td><td>184944                           </td><td>Charles                          </td><td>Charles Fernando Basilio da Silva</td><td>34                               </td><td>Brazil                           </td><td>Antalyaspor                      </td><td> 8000                            </td><td>CDM                              </td><td>Right                            </td></tr>\n",
       "\t<tr><td> 4510                            </td><td>184337                           </td><td>Go Yo Han                        </td><td>ê³ ìš”í•œ é«˜çº¦ç¿°              </td><td>31                               </td><td>Korea Republic                   </td><td>FC Seoul                         </td><td> 6000                            </td><td>CM, RM                           </td><td>Right                            </td></tr>\n",
       "\t<tr><td>11008                            </td><td>246719                           </td><td>D. Ojeda                         </td><td>Delio Ojeda                      </td><td>33                               </td><td>Paraguay                         </td><td>Jaguares de CÃ³rdoba             </td><td> 1000                            </td><td>CB                               </td><td>Right                            </td></tr>\n",
       "\t<tr><td> 2994                            </td><td>157716                           </td><td>M. Russ                          </td><td>Marco Russ                       </td><td>33                               </td><td>Germany                          </td><td>Eintracht Frankfurt              </td><td>24000                            </td><td>CB                               </td><td>Right                            </td></tr>\n",
       "</tbody>\n",
       "</table>\n"
      ],
      "text/latex": [
       "\\begin{tabular}{r|llllllllll}\n",
       " X & sofifa\\_id & short\\_name & long\\_name & age & nationality & club & wage\\_eur & player\\_positions & preferred\\_foot\\\\\n",
       "\\hline\n",
       "\t   877                             & 169115                            & A. Masiello                       & Andrea Masiello                   & 33                                & Italy                             & Atalanta                          & 48000                             & CB                                & Right                            \\\\\n",
       "\t  6343                             & 184944                            & Charles                           & Charles Fernando Basilio da Silva & 34                                & Brazil                            & Antalyaspor                       &  8000                             & CDM                               & Right                            \\\\\n",
       "\t  4510                             & 184337                            & Go Yo Han                         & ê³ ìš”í•œ é«˜çº¦ç¿°               & 31                                & Korea Republic                    & FC Seoul                          &  6000                             & CM, RM                            & Right                            \\\\\n",
       "\t 11008                             & 246719                            & D. Ojeda                          & Delio Ojeda                       & 33                                & Paraguay                          & Jaguares de CÃ³rdoba              &  1000                             & CB                                & Right                            \\\\\n",
       "\t  2994                             & 157716                            & M. Russ                           & Marco Russ                        & 33                                & Germany                           & Eintracht Frankfurt               & 24000                             & CB                                & Right                            \\\\\n",
       "\\end{tabular}\n"
      ],
      "text/markdown": [
       "\n",
       "| X | sofifa_id | short_name | long_name | age | nationality | club | wage_eur | player_positions | preferred_foot |\n",
       "|---|---|---|---|---|---|---|---|---|---|\n",
       "|   877                             | 169115                            | A. Masiello                       | Andrea Masiello                   | 33                                | Italy                             | Atalanta                          | 48000                             | CB                                | Right                             |\n",
       "|  6343                             | 184944                            | Charles                           | Charles Fernando Basilio da Silva | 34                                | Brazil                            | Antalyaspor                       |  8000                             | CDM                               | Right                             |\n",
       "|  4510                             | 184337                            | Go Yo Han                         | ê³ ìš”í•œ é«˜çº¦ç¿°               | 31                                | Korea Republic                    | FC Seoul                          |  6000                             | CM, RM                            | Right                             |\n",
       "| 11008                             | 246719                            | D. Ojeda                          | Delio Ojeda                       | 33                                | Paraguay                          | Jaguares de CÃ³rdoba              |  1000                             | CB                                | Right                             |\n",
       "|  2994                             | 157716                            | M. Russ                           | Marco Russ                        | 33                                | Germany                           | Eintracht Frankfurt               | 24000                             | CB                                | Right                             |\n",
       "\n"
      ],
      "text/plain": [
       "  X     sofifa_id short_name  long_name                         age\n",
       "1   877 169115    A. Masiello Andrea Masiello                   33 \n",
       "2  6343 184944    Charles     Charles Fernando Basilio da Silva 34 \n",
       "3  4510 184337    Go Yo Han   ê³ ìš”í•œ é«\\230çº¦ç¿°               31 \n",
       "4 11008 246719    D. Ojeda    Delio Ojeda                       33 \n",
       "5  2994 157716    M. Russ     Marco Russ                        33 \n",
       "  nationality    club                 wage_eur player_positions preferred_foot\n",
       "1 Italy          Atalanta             48000    CB               Right         \n",
       "2 Brazil         Antalyaspor           8000    CDM              Right         \n",
       "3 Korea Republic FC Seoul              6000    CM, RM           Right         \n",
       "4 Paraguay       Jaguares de CÃ³rdoba  1000    CB               Right         \n",
       "5 Germany        Eintracht Frankfurt  24000    CB               Right         "
      ]
     },
     "metadata": {},
     "output_type": "display_data"
    }
   ],
   "source": [
    "filtro_idade <- fifa %>% filter(age > 30)\n",
    "filtro_idade[1:5,]"
   ]
  },
  {
   "cell_type": "markdown",
   "metadata": {},
   "source": [
    "### <a id=\"varios_verbos\"></a> Usando vários verbos ao mesmo tempo\n",
    "\n",
    "Uma coisa legal do `dplyr` é que a gente pode usar vários verbos ao mesmo tempo"
   ]
  },
  {
   "cell_type": "markdown",
   "metadata": {},
   "source": [
    "Aqui vamos pegar uma base apenas com aqueles com **idade abaixo de 37 anos**, depois vamos avaliar as **combinações de nacionalidade e pé preferido** possíves, para cada uma dando sua **máxima idade**. Finalmente, vamos fazer com que os resultados sejam **ordenados da maior idade máxima para a menor**."
   ]
  },
  {
   "cell_type": "code",
   "execution_count": 18,
   "metadata": {},
   "outputs": [
    {
     "data": {
      "text/html": [
       "<table>\n",
       "<thead><tr><th scope=col>nationality</th><th scope=col>preferred_foot</th><th scope=col>idade_maxima</th></tr></thead>\n",
       "<tbody>\n",
       "\t<tr><td>England            </td><td>Right              </td><td>36                 </td></tr>\n",
       "\t<tr><td>Italy              </td><td>Right              </td><td>36                 </td></tr>\n",
       "\t<tr><td>New Zealand        </td><td>Right              </td><td>36                 </td></tr>\n",
       "\t<tr><td>Portugal           </td><td>Right              </td><td>36                 </td></tr>\n",
       "\t<tr><td>Scotland           </td><td>Right              </td><td>36                 </td></tr>\n",
       "\t<tr><td>Brazil             </td><td>Left               </td><td>35                 </td></tr>\n",
       "\t<tr><td>Brazil             </td><td>Right              </td><td>35                 </td></tr>\n",
       "\t<tr><td>Japan              </td><td>Right              </td><td>35                 </td></tr>\n",
       "\t<tr><td>Greece             </td><td>Right              </td><td>34                 </td></tr>\n",
       "\t<tr><td>Italy              </td><td>Left               </td><td>34                 </td></tr>\n",
       "\t<tr><td>Northern Ireland   </td><td>Right              </td><td>34                 </td></tr>\n",
       "\t<tr><td>Paraguay           </td><td>Right              </td><td>34                 </td></tr>\n",
       "\t<tr><td>Serbia             </td><td>Left               </td><td>34                 </td></tr>\n",
       "\t<tr><td>Colombia           </td><td>Right              </td><td>33                 </td></tr>\n",
       "\t<tr><td>France             </td><td>Right              </td><td>33                 </td></tr>\n",
       "\t<tr><td>Germany            </td><td>Right              </td><td>33                 </td></tr>\n",
       "\t<tr><td>Republic of Ireland</td><td>Right              </td><td>33                 </td></tr>\n",
       "\t<tr><td>Romania            </td><td>Right              </td><td>33                 </td></tr>\n",
       "\t<tr><td>Saudi Arabia       </td><td>Right              </td><td>33                 </td></tr>\n",
       "\t<tr><td>Turkey             </td><td>Right              </td><td>33                 </td></tr>\n",
       "\t<tr><td>France             </td><td>Left               </td><td>32                 </td></tr>\n",
       "\t<tr><td>Germany            </td><td>Left               </td><td>32                 </td></tr>\n",
       "\t<tr><td>Poland             </td><td>Right              </td><td>32                 </td></tr>\n",
       "\t<tr><td>Spain              </td><td>Right              </td><td>32                 </td></tr>\n",
       "\t<tr><td>Turkey             </td><td>Left               </td><td>32                 </td></tr>\n",
       "\t<tr><td>Argentina          </td><td>Right              </td><td>31                 </td></tr>\n",
       "\t<tr><td>Korea Republic     </td><td>Right              </td><td>31                 </td></tr>\n",
       "\t<tr><td>Mexico             </td><td>Right              </td><td>31                 </td></tr>\n",
       "\t<tr><td>Netherlands        </td><td>Right              </td><td>31                 </td></tr>\n",
       "\t<tr><td>Nigeria            </td><td>Right              </td><td>31                 </td></tr>\n",
       "\t<tr><td>...</td><td>...</td><td>...</td></tr>\n",
       "\t<tr><td>Montenegro          </td><td>Right               </td><td>25                  </td></tr>\n",
       "\t<tr><td>Portugal            </td><td>Left                </td><td>25                  </td></tr>\n",
       "\t<tr><td>Tunisia             </td><td>Right               </td><td>25                  </td></tr>\n",
       "\t<tr><td>United States       </td><td>Right               </td><td>25                  </td></tr>\n",
       "\t<tr><td>Egypt               </td><td>Right               </td><td>24                  </td></tr>\n",
       "\t<tr><td>Haiti               </td><td>Right               </td><td>24                  </td></tr>\n",
       "\t<tr><td>Romania             </td><td>Left                </td><td>24                  </td></tr>\n",
       "\t<tr><td>Sweden              </td><td>Left                </td><td>24                  </td></tr>\n",
       "\t<tr><td>Wales               </td><td>Right               </td><td>24                  </td></tr>\n",
       "\t<tr><td>Benin               </td><td>Right               </td><td>23                  </td></tr>\n",
       "\t<tr><td>England             </td><td>Left                </td><td>23                  </td></tr>\n",
       "\t<tr><td>Poland              </td><td>Left                </td><td>23                  </td></tr>\n",
       "\t<tr><td>Switzerland         </td><td>Left                </td><td>23                  </td></tr>\n",
       "\t<tr><td>Finland             </td><td>Right               </td><td>22                  </td></tr>\n",
       "\t<tr><td>Gabon               </td><td>Right               </td><td>22                  </td></tr>\n",
       "\t<tr><td>Kenya               </td><td>Right               </td><td>22                  </td></tr>\n",
       "\t<tr><td>Mexico              </td><td>Left                </td><td>22                  </td></tr>\n",
       "\t<tr><td>Saudi Arabia        </td><td>Left                </td><td>22                  </td></tr>\n",
       "\t<tr><td>Slovenia            </td><td>Left                </td><td>22                  </td></tr>\n",
       "\t<tr><td>Ukraine             </td><td>Left                </td><td>22                  </td></tr>\n",
       "\t<tr><td>Greece              </td><td>Left                </td><td>21                  </td></tr>\n",
       "\t<tr><td>Niger               </td><td>Right               </td><td>21                  </td></tr>\n",
       "\t<tr><td>Austria             </td><td>Left                </td><td>20                  </td></tr>\n",
       "\t<tr><td>Congo               </td><td>Left                </td><td>20                  </td></tr>\n",
       "\t<tr><td>Costa Rica          </td><td>Left                </td><td>20                  </td></tr>\n",
       "\t<tr><td>United Arab Emirates</td><td>Right               </td><td>20                  </td></tr>\n",
       "\t<tr><td>Canada              </td><td>Right               </td><td>19                  </td></tr>\n",
       "\t<tr><td>Uruguay             </td><td>Left                </td><td>19                  </td></tr>\n",
       "\t<tr><td>Iran                </td><td>Right               </td><td>18                  </td></tr>\n",
       "\t<tr><td>Belgium             </td><td>Left                </td><td>17                  </td></tr>\n",
       "</tbody>\n",
       "</table>\n"
      ],
      "text/latex": [
       "\\begin{tabular}{r|lll}\n",
       " nationality & preferred\\_foot & idade\\_maxima\\\\\n",
       "\\hline\n",
       "\t England             & Right               & 36                 \\\\\n",
       "\t Italy               & Right               & 36                 \\\\\n",
       "\t New Zealand         & Right               & 36                 \\\\\n",
       "\t Portugal            & Right               & 36                 \\\\\n",
       "\t Scotland            & Right               & 36                 \\\\\n",
       "\t Brazil              & Left                & 35                 \\\\\n",
       "\t Brazil              & Right               & 35                 \\\\\n",
       "\t Japan               & Right               & 35                 \\\\\n",
       "\t Greece              & Right               & 34                 \\\\\n",
       "\t Italy               & Left                & 34                 \\\\\n",
       "\t Northern Ireland    & Right               & 34                 \\\\\n",
       "\t Paraguay            & Right               & 34                 \\\\\n",
       "\t Serbia              & Left                & 34                 \\\\\n",
       "\t Colombia            & Right               & 33                 \\\\\n",
       "\t France              & Right               & 33                 \\\\\n",
       "\t Germany             & Right               & 33                 \\\\\n",
       "\t Republic of Ireland & Right               & 33                 \\\\\n",
       "\t Romania             & Right               & 33                 \\\\\n",
       "\t Saudi Arabia        & Right               & 33                 \\\\\n",
       "\t Turkey              & Right               & 33                 \\\\\n",
       "\t France              & Left                & 32                 \\\\\n",
       "\t Germany             & Left                & 32                 \\\\\n",
       "\t Poland              & Right               & 32                 \\\\\n",
       "\t Spain               & Right               & 32                 \\\\\n",
       "\t Turkey              & Left                & 32                 \\\\\n",
       "\t Argentina           & Right               & 31                 \\\\\n",
       "\t Korea Republic      & Right               & 31                 \\\\\n",
       "\t Mexico              & Right               & 31                 \\\\\n",
       "\t Netherlands         & Right               & 31                 \\\\\n",
       "\t Nigeria             & Right               & 31                 \\\\\n",
       "\t ... & ... & ...\\\\\n",
       "\t Montenegro           & Right                & 25                  \\\\\n",
       "\t Portugal             & Left                 & 25                  \\\\\n",
       "\t Tunisia              & Right                & 25                  \\\\\n",
       "\t United States        & Right                & 25                  \\\\\n",
       "\t Egypt                & Right                & 24                  \\\\\n",
       "\t Haiti                & Right                & 24                  \\\\\n",
       "\t Romania              & Left                 & 24                  \\\\\n",
       "\t Sweden               & Left                 & 24                  \\\\\n",
       "\t Wales                & Right                & 24                  \\\\\n",
       "\t Benin                & Right                & 23                  \\\\\n",
       "\t England              & Left                 & 23                  \\\\\n",
       "\t Poland               & Left                 & 23                  \\\\\n",
       "\t Switzerland          & Left                 & 23                  \\\\\n",
       "\t Finland              & Right                & 22                  \\\\\n",
       "\t Gabon                & Right                & 22                  \\\\\n",
       "\t Kenya                & Right                & 22                  \\\\\n",
       "\t Mexico               & Left                 & 22                  \\\\\n",
       "\t Saudi Arabia         & Left                 & 22                  \\\\\n",
       "\t Slovenia             & Left                 & 22                  \\\\\n",
       "\t Ukraine              & Left                 & 22                  \\\\\n",
       "\t Greece               & Left                 & 21                  \\\\\n",
       "\t Niger                & Right                & 21                  \\\\\n",
       "\t Austria              & Left                 & 20                  \\\\\n",
       "\t Congo                & Left                 & 20                  \\\\\n",
       "\t Costa Rica           & Left                 & 20                  \\\\\n",
       "\t United Arab Emirates & Right                & 20                  \\\\\n",
       "\t Canada               & Right                & 19                  \\\\\n",
       "\t Uruguay              & Left                 & 19                  \\\\\n",
       "\t Iran                 & Right                & 18                  \\\\\n",
       "\t Belgium              & Left                 & 17                  \\\\\n",
       "\\end{tabular}\n"
      ],
      "text/markdown": [
       "\n",
       "| nationality | preferred_foot | idade_maxima |\n",
       "|---|---|---|\n",
       "| England             | Right               | 36                  |\n",
       "| Italy               | Right               | 36                  |\n",
       "| New Zealand         | Right               | 36                  |\n",
       "| Portugal            | Right               | 36                  |\n",
       "| Scotland            | Right               | 36                  |\n",
       "| Brazil              | Left                | 35                  |\n",
       "| Brazil              | Right               | 35                  |\n",
       "| Japan               | Right               | 35                  |\n",
       "| Greece              | Right               | 34                  |\n",
       "| Italy               | Left                | 34                  |\n",
       "| Northern Ireland    | Right               | 34                  |\n",
       "| Paraguay            | Right               | 34                  |\n",
       "| Serbia              | Left                | 34                  |\n",
       "| Colombia            | Right               | 33                  |\n",
       "| France              | Right               | 33                  |\n",
       "| Germany             | Right               | 33                  |\n",
       "| Republic of Ireland | Right               | 33                  |\n",
       "| Romania             | Right               | 33                  |\n",
       "| Saudi Arabia        | Right               | 33                  |\n",
       "| Turkey              | Right               | 33                  |\n",
       "| France              | Left                | 32                  |\n",
       "| Germany             | Left                | 32                  |\n",
       "| Poland              | Right               | 32                  |\n",
       "| Spain               | Right               | 32                  |\n",
       "| Turkey              | Left                | 32                  |\n",
       "| Argentina           | Right               | 31                  |\n",
       "| Korea Republic      | Right               | 31                  |\n",
       "| Mexico              | Right               | 31                  |\n",
       "| Netherlands         | Right               | 31                  |\n",
       "| Nigeria             | Right               | 31                  |\n",
       "| ... | ... | ... |\n",
       "| Montenegro           | Right                | 25                   |\n",
       "| Portugal             | Left                 | 25                   |\n",
       "| Tunisia              | Right                | 25                   |\n",
       "| United States        | Right                | 25                   |\n",
       "| Egypt                | Right                | 24                   |\n",
       "| Haiti                | Right                | 24                   |\n",
       "| Romania              | Left                 | 24                   |\n",
       "| Sweden               | Left                 | 24                   |\n",
       "| Wales                | Right                | 24                   |\n",
       "| Benin                | Right                | 23                   |\n",
       "| England              | Left                 | 23                   |\n",
       "| Poland               | Left                 | 23                   |\n",
       "| Switzerland          | Left                 | 23                   |\n",
       "| Finland              | Right                | 22                   |\n",
       "| Gabon                | Right                | 22                   |\n",
       "| Kenya                | Right                | 22                   |\n",
       "| Mexico               | Left                 | 22                   |\n",
       "| Saudi Arabia         | Left                 | 22                   |\n",
       "| Slovenia             | Left                 | 22                   |\n",
       "| Ukraine              | Left                 | 22                   |\n",
       "| Greece               | Left                 | 21                   |\n",
       "| Niger                | Right                | 21                   |\n",
       "| Austria              | Left                 | 20                   |\n",
       "| Congo                | Left                 | 20                   |\n",
       "| Costa Rica           | Left                 | 20                   |\n",
       "| United Arab Emirates | Right                | 20                   |\n",
       "| Canada               | Right                | 19                   |\n",
       "| Uruguay              | Left                 | 19                   |\n",
       "| Iran                 | Right                | 18                   |\n",
       "| Belgium              | Left                 | 17                   |\n",
       "\n"
      ],
      "text/plain": [
       "    nationality          preferred_foot idade_maxima\n",
       "1   England              Right          36          \n",
       "2   Italy                Right          36          \n",
       "3   New Zealand          Right          36          \n",
       "4   Portugal             Right          36          \n",
       "5   Scotland             Right          36          \n",
       "6   Brazil               Left           35          \n",
       "7   Brazil               Right          35          \n",
       "8   Japan                Right          35          \n",
       "9   Greece               Right          34          \n",
       "10  Italy                Left           34          \n",
       "11  Northern Ireland     Right          34          \n",
       "12  Paraguay             Right          34          \n",
       "13  Serbia               Left           34          \n",
       "14  Colombia             Right          33          \n",
       "15  France               Right          33          \n",
       "16  Germany              Right          33          \n",
       "17  Republic of Ireland  Right          33          \n",
       "18  Romania              Right          33          \n",
       "19  Saudi Arabia         Right          33          \n",
       "20  Turkey               Right          33          \n",
       "21  France               Left           32          \n",
       "22  Germany              Left           32          \n",
       "23  Poland               Right          32          \n",
       "24  Spain                Right          32          \n",
       "25  Turkey               Left           32          \n",
       "26  Argentina            Right          31          \n",
       "27  Korea Republic       Right          31          \n",
       "28  Mexico               Right          31          \n",
       "29  Netherlands          Right          31          \n",
       "30  Nigeria              Right          31          \n",
       "... ...                  ...            ...         \n",
       "76  Montenegro           Right          25          \n",
       "77  Portugal             Left           25          \n",
       "78  Tunisia              Right          25          \n",
       "79  United States        Right          25          \n",
       "80  Egypt                Right          24          \n",
       "81  Haiti                Right          24          \n",
       "82  Romania              Left           24          \n",
       "83  Sweden               Left           24          \n",
       "84  Wales                Right          24          \n",
       "85  Benin                Right          23          \n",
       "86  England              Left           23          \n",
       "87  Poland               Left           23          \n",
       "88  Switzerland          Left           23          \n",
       "89  Finland              Right          22          \n",
       "90  Gabon                Right          22          \n",
       "91  Kenya                Right          22          \n",
       "92  Mexico               Left           22          \n",
       "93  Saudi Arabia         Left           22          \n",
       "94  Slovenia             Left           22          \n",
       "95  Ukraine              Left           22          \n",
       "96  Greece               Left           21          \n",
       "97  Niger                Right          21          \n",
       "98  Austria              Left           20          \n",
       "99  Congo                Left           20          \n",
       "100 Costa Rica           Left           20          \n",
       "101 United Arab Emirates Right          20          \n",
       "102 Canada               Right          19          \n",
       "103 Uruguay              Left           19          \n",
       "104 Iran                 Right          18          \n",
       "105 Belgium              Left           17          "
      ]
     },
     "metadata": {},
     "output_type": "display_data"
    }
   ],
   "source": [
    "fifa %>%\n",
    "    filter(age < 37) %>%\n",
    "    group_by(nationality, preferred_foot) %>% \n",
    "    summarise(idade_maxima=max(age)) %>%\n",
    "    arrange(desc(idade_maxima))"
   ]
  },
  {
   "cell_type": "markdown",
   "metadata": {},
   "source": [
    "## <a id = \"parte2\"></a><span style=\"color: orange;\">  Parte 2 -  Estatística Básica em R </span>\n",
    "\n",
    "Agora que já vimos o básico de importação de dados em **R**, estamos prontos para entender como essa linguagem é utilizada efetivamente para fazer análises estatísticas!\n",
    "\n",
    "Mas não se preocupe, vamos explorando os diversos temas de estatística enquanto aprendemos mais sobre **R**."
   ]
  },
  {
   "cell_type": "markdown",
   "metadata": {},
   "source": [
    "## <a id=\"tipos_de_dados\"></a> Tipos de Dados\n",
    "\n",
    "Um dos pontos base da Estatística consiste em entender nossas informações e como elas elas são organizadas: os **dados**. Esses dados podem ser divididos em dois tipos diferentes: dados **qualitativos** e dados **quantitativos**.\n",
    "\n",
    "### <a id=\"quali\"></a>Dados Qualitativos\n",
    "\n",
    "Esses dados representam **categorias** do nosso espaço, ou seja, eles dividem os indivíduos em diversas classes que não se intersectam. Por exemplo, a cor de uma flor é um tipo de dado qualitativo, já que as categoriza em classes como: *'amarelo'*, *'rosa'*, *'vermelho'*, *'azul'*, etc. Esses dados são bem úteis para representar características que não são facilmente descritas por números, como qualidades (daí vem o nome)."
   ]
  },
  {
   "cell_type": "code",
   "execution_count": 4,
   "metadata": {},
   "outputs": [
    {
     "data": {
      "text/html": [
       "<table>\n",
       "<caption>A data.frame: 4 × 2</caption>\n",
       "<thead>\n",
       "\t<tr><th scope=col>Flor</th><th scope=col>Cor</th></tr>\n",
       "\t<tr><th scope=col>&lt;fct&gt;</th><th scope=col>&lt;fct&gt;</th></tr>\n",
       "</thead>\n",
       "<tbody>\n",
       "\t<tr><td>Margarida</td><td>Amarelo </td></tr>\n",
       "\t<tr><td>Hortênsia</td><td>Azul    </td></tr>\n",
       "\t<tr><td>Violeta  </td><td>Azul    </td></tr>\n",
       "\t<tr><td>Rosa     </td><td>Vermelho</td></tr>\n",
       "</tbody>\n",
       "</table>\n"
      ],
      "text/latex": [
       "A data.frame: 4 × 2\n",
       "\\begin{tabular}{ll}\n",
       " Flor & Cor\\\\\n",
       " <fct> & <fct>\\\\\n",
       "\\hline\n",
       "\t Margarida & Amarelo \\\\\n",
       "\t Hortênsia & Azul    \\\\\n",
       "\t Violeta   & Azul    \\\\\n",
       "\t Rosa      & Vermelho\\\\\n",
       "\\end{tabular}\n"
      ],
      "text/markdown": [
       "\n",
       "A data.frame: 4 × 2\n",
       "\n",
       "| Flor &lt;fct&gt; | Cor &lt;fct&gt; |\n",
       "|---|---|\n",
       "| Margarida | Amarelo  |\n",
       "| Hortênsia | Azul     |\n",
       "| Violeta   | Azul     |\n",
       "| Rosa      | Vermelho |\n",
       "\n"
      ],
      "text/plain": [
       "  Flor      Cor     \n",
       "1 Margarida Amarelo \n",
       "2 Hortênsia Azul    \n",
       "3 Violeta   Azul    \n",
       "4 Rosa      Vermelho"
      ]
     },
     "metadata": {},
     "output_type": "display_data"
    }
   ],
   "source": [
    "# Montando um Dataframe de Cores de Flores\n",
    "\n",
    "Flor = c(\"Margarida\", \"Hortênsia\", \"Violeta\", \"Rosa\")\n",
    "Cor = c(\"Amarelo\", \"Azul\", \"Azul\", \"Vermelho\")\n",
    "flores = data.frame(Flor, Cor)\n",
    "flores"
   ]
  },
  {
   "cell_type": "code",
   "execution_count": 5,
   "metadata": {},
   "outputs": [
    {
     "data": {
      "text/html": [
       "<table>\n",
       "<caption>A data.frame: 2 × 2</caption>\n",
       "<thead>\n",
       "\t<tr><th></th><th scope=col>Flor</th><th scope=col>Cor</th></tr>\n",
       "\t<tr><th></th><th scope=col>&lt;fct&gt;</th><th scope=col>&lt;fct&gt;</th></tr>\n",
       "</thead>\n",
       "<tbody>\n",
       "\t<tr><th scope=row>2</th><td>Hortênsia</td><td>Azul</td></tr>\n",
       "\t<tr><th scope=row>3</th><td>Violeta  </td><td>Azul</td></tr>\n",
       "</tbody>\n",
       "</table>\n"
      ],
      "text/latex": [
       "A data.frame: 2 × 2\n",
       "\\begin{tabular}{r|ll}\n",
       "  & Flor & Cor\\\\\n",
       "  & <fct> & <fct>\\\\\n",
       "\\hline\n",
       "\t2 & Hortênsia & Azul\\\\\n",
       "\t3 & Violeta   & Azul\\\\\n",
       "\\end{tabular}\n"
      ],
      "text/markdown": [
       "\n",
       "A data.frame: 2 × 2\n",
       "\n",
       "| <!--/--> | Flor &lt;fct&gt; | Cor &lt;fct&gt; |\n",
       "|---|---|---|\n",
       "| 2 | Hortênsia | Azul |\n",
       "| 3 | Violeta   | Azul |\n",
       "\n"
      ],
      "text/plain": [
       "  Flor      Cor \n",
       "2 Hortênsia Azul\n",
       "3 Violeta   Azul"
      ]
     },
     "metadata": {},
     "output_type": "display_data"
    }
   ],
   "source": [
    "# Mostrando as flores de cor Azul\n",
    "\n",
    "flores[flores$Cor == \"Azul\",]"
   ]
  },
  {
   "cell_type": "markdown",
   "metadata": {},
   "source": [
    "### <a id=\"quant\"></a> Dados Quantitativos\n",
    "\n",
    "São tipos de dados **numéricos**, ou seja, são mensuráveis e podem ser manipulados matematicamente. Essa categoria engloba os dados representáveis por números, como a altura de uma pessoa ou a área de um terreno. Esses dados são mais versáteis, já que conseguimos fazer comparações, médias e outros tipos de operações aritméticas que não são possíveis com os dados qualitativos."
   ]
  },
  {
   "cell_type": "code",
   "execution_count": 6,
   "metadata": {},
   "outputs": [
    {
     "data": {
      "text/html": [
       "<table>\n",
       "<caption>A data.frame: 5 × 2</caption>\n",
       "<thead>\n",
       "\t<tr><th scope=col>Nome</th><th scope=col>Altura</th></tr>\n",
       "\t<tr><th scope=col>&lt;fct&gt;</th><th scope=col>&lt;dbl&gt;</th></tr>\n",
       "</thead>\n",
       "<tbody>\n",
       "\t<tr><td>Marcela  </td><td>161</td></tr>\n",
       "\t<tr><td>Alexandre</td><td>184</td></tr>\n",
       "\t<tr><td>Rafaela  </td><td>172</td></tr>\n",
       "\t<tr><td>Mariana  </td><td>174</td></tr>\n",
       "\t<tr><td>Victor   </td><td>169</td></tr>\n",
       "</tbody>\n",
       "</table>\n"
      ],
      "text/latex": [
       "A data.frame: 5 × 2\n",
       "\\begin{tabular}{ll}\n",
       " Nome & Altura\\\\\n",
       " <fct> & <dbl>\\\\\n",
       "\\hline\n",
       "\t Marcela   & 161\\\\\n",
       "\t Alexandre & 184\\\\\n",
       "\t Rafaela   & 172\\\\\n",
       "\t Mariana   & 174\\\\\n",
       "\t Victor    & 169\\\\\n",
       "\\end{tabular}\n"
      ],
      "text/markdown": [
       "\n",
       "A data.frame: 5 × 2\n",
       "\n",
       "| Nome &lt;fct&gt; | Altura &lt;dbl&gt; |\n",
       "|---|---|\n",
       "| Marcela   | 161 |\n",
       "| Alexandre | 184 |\n",
       "| Rafaela   | 172 |\n",
       "| Mariana   | 174 |\n",
       "| Victor    | 169 |\n",
       "\n"
      ],
      "text/plain": [
       "  Nome      Altura\n",
       "1 Marcela   161   \n",
       "2 Alexandre 184   \n",
       "3 Rafaela   172   \n",
       "4 Mariana   174   \n",
       "5 Victor    169   "
      ]
     },
     "metadata": {},
     "output_type": "display_data"
    }
   ],
   "source": [
    "# Montando um Dataframe de Altura de Pessoas\n",
    "\n",
    "Nome = c(\"Marcela\", \"Alexandre\", \"Rafaela\", \"Mariana\", \"Victor\")\n",
    "Altura = c(161, 184, 172, 174, 169)\n",
    "alturas = data.frame(Nome, Altura)\n",
    "alturas"
   ]
  },
  {
   "cell_type": "code",
   "execution_count": 7,
   "metadata": {},
   "outputs": [
    {
     "data": {
      "text/html": [
       "<table>\n",
       "<caption>A data.frame: 3 × 2</caption>\n",
       "<thead>\n",
       "\t<tr><th></th><th scope=col>Nome</th><th scope=col>Altura</th></tr>\n",
       "\t<tr><th></th><th scope=col>&lt;fct&gt;</th><th scope=col>&lt;dbl&gt;</th></tr>\n",
       "</thead>\n",
       "<tbody>\n",
       "\t<tr><th scope=row>2</th><td>Alexandre</td><td>184</td></tr>\n",
       "\t<tr><th scope=row>3</th><td>Rafaela  </td><td>172</td></tr>\n",
       "\t<tr><th scope=row>4</th><td>Mariana  </td><td>174</td></tr>\n",
       "</tbody>\n",
       "</table>\n"
      ],
      "text/latex": [
       "A data.frame: 3 × 2\n",
       "\\begin{tabular}{r|ll}\n",
       "  & Nome & Altura\\\\\n",
       "  & <fct> & <dbl>\\\\\n",
       "\\hline\n",
       "\t2 & Alexandre & 184\\\\\n",
       "\t3 & Rafaela   & 172\\\\\n",
       "\t4 & Mariana   & 174\\\\\n",
       "\\end{tabular}\n"
      ],
      "text/markdown": [
       "\n",
       "A data.frame: 3 × 2\n",
       "\n",
       "| <!--/--> | Nome &lt;fct&gt; | Altura &lt;dbl&gt; |\n",
       "|---|---|---|\n",
       "| 2 | Alexandre | 184 |\n",
       "| 3 | Rafaela   | 172 |\n",
       "| 4 | Mariana   | 174 |\n",
       "\n"
      ],
      "text/plain": [
       "  Nome      Altura\n",
       "2 Alexandre 184   \n",
       "3 Rafaela   172   \n",
       "4 Mariana   174   "
      ]
     },
     "metadata": {},
     "output_type": "display_data"
    }
   ],
   "source": [
    "# Selecionando as pessoas com altura maior que 170 cm\n",
    "\n",
    "alturas[alturas$Altura > 170,]"
   ]
  },
  {
   "cell_type": "markdown",
   "metadata": {},
   "source": [
    "## <a id=\"descritiva\"></a>Estatística Descritiva\n",
    "\n",
    "O tipo de análise estatística mais básico é a **Estatística Descritiva**, que busca simplesmente resumir e descrever os nossos dados da melhor maneira possível. Esse ramo utiliza de diversas medidas para expressar características diferentes dos nossos dados, como veremos a seguir."
   ]
  },
  {
   "cell_type": "markdown",
   "metadata": {},
   "source": [
    "### <a id=\"tendencia_central\"></a>Medidas de Tendência Central\n",
    "\n",
    "As **Medidas de Tendência Central** procuram representrar um valor central em torno do qual os dados se agrupam. Você provavelmente já ouviu falar de alguns exemplos desse tipo de medida, como a **média** e a **mediana**.\n",
    "\n",
    "#### <a id=\"media\"></a> Média\n",
    "\n",
    "A **Média** é a medida numérica que representa a posição central dos nossos dados. Seu valor é obtido ao dividir a soma de todos os nossos dados pela sua quantidade.\n",
    "\n",
    "$$\\large \\bar x ={\\frac {1}{N}}\\sum _{i=1}^{N}x_{i}$$"
   ]
  },
  {
   "cell_type": "code",
   "execution_count": 8,
   "metadata": {},
   "outputs": [
    {
     "data": {
      "text/html": [
       "40.4374692874693"
      ],
      "text/latex": [
       "40.4374692874693"
      ],
      "text/markdown": [
       "40.4374692874693"
      ],
      "text/plain": [
       "[1] 40.43747"
      ]
     },
     "metadata": {},
     "output_type": "display_data"
    }
   ],
   "source": [
    "# Média de horas trabalhadas dos indivíduos\n",
    "\n",
    "mean(adult$hours.per.week)"
   ]
  },
  {
   "cell_type": "code",
   "execution_count": 9,
   "metadata": {},
   "outputs": [
    {
     "name": "stdout",
     "output_type": "stream",
     "text": [
      "43.04164  >  28.14997"
     ]
    }
   ],
   "source": [
    "# Média de idade dos indivíduos divorciados e não-casados\n",
    "\n",
    "media_a = mean(adult$age[adult$marital.status == \"Divorced\"])\n",
    "media_b = mean(adult$age[adult$marital.status == \"Never-married\"])\n",
    "\n",
    "# As pessoas divorciadas são, na média, mais velhas que as que nunca casaram\n",
    "\n",
    "cat(media_a, \" > \", media_b)"
   ]
  },
  {
   "cell_type": "code",
   "execution_count": 10,
   "metadata": {},
   "outputs": [
    {
     "name": "stderr",
     "output_type": "stream",
     "text": [
      "Warning message in mean.default(adult$marital.status):\n",
      "“argument is not numeric or logical: returning NA”\n"
     ]
    },
    {
     "data": {
      "text/html": [
       "&lt;NA&gt;"
      ],
      "text/latex": [
       "<NA>"
      ],
      "text/markdown": [
       "&lt;NA&gt;"
      ],
      "text/plain": [
       "[1] NA"
      ]
     },
     "metadata": {},
     "output_type": "display_data"
    }
   ],
   "source": [
    "# Não é possível calcular a média de dados qualitativos\n",
    "\n",
    "mean(adult$marital.status)"
   ]
  },
  {
   "cell_type": "markdown",
   "metadata": {},
   "source": [
    "#### <a id=\"mediana\"></a>Mediana\n",
    "\n",
    "A **Mediana** é a medida numérica que representa o dado que se encontra na metade da nossa distribuição quanto esta se encontra ordenada. Ou seja, a mediana é o valor que divide os nossos dados de tal forma que metade deles sejam maiores que a mediana e a outra metade seja menor."
   ]
  },
  {
   "cell_type": "code",
   "execution_count": 11,
   "metadata": {},
   "outputs": [
    {
     "data": {
      "text/html": [
       "10"
      ],
      "text/latex": [
       "10"
      ],
      "text/markdown": [
       "10"
      ],
      "text/plain": [
       "[1] 10"
      ]
     },
     "metadata": {},
     "output_type": "display_data"
    }
   ],
   "source": [
    "# Mediana do grau de escolaridade dos trabalhadores do setor privado\n",
    "\n",
    "median(adult$education.num[adult$workclass == \"Private\"])"
   ]
  },
  {
   "cell_type": "code",
   "execution_count": 12,
   "metadata": {},
   "outputs": [
    {
     "ename": "ERROR",
     "evalue": "Error in median.default(adult$workclass): need numeric data\n",
     "output_type": "error",
     "traceback": [
      "Error in median.default(adult$workclass): need numeric data\nTraceback:\n",
      "1. median(adult$workclass)",
      "2. median.default(adult$workclass)",
      "3. stop(\"need numeric data\")"
     ]
    }
   ],
   "source": [
    "# Não é possível calcular a mediana de dados qualitativos\n",
    "\n",
    "median(adult$workclass)"
   ]
  },
  {
   "cell_type": "markdown",
   "metadata": {},
   "source": [
    "#### <a id=\"percentil\"></a>Percentil\n",
    "\n",
    "O **Percentil** não é uma medida de tendência central, mas se relaciona bastante com a Mediana. Os percentis são medidas que dividem as nossas amostras tal que **p%** delas sejam menores que o percentil. O **50º percentil**, portanto, é a nossa já conhecida mediana, enquanto o **25º percentil** é denominado primeiro quartil."
   ]
  },
  {
   "cell_type": "code",
   "execution_count": 13,
   "metadata": {},
   "outputs": [
    {
     "data": {
      "text/html": [
       "<table>\n",
       "<caption>A matrix: 1 × 5 of type dbl</caption>\n",
       "<thead>\n",
       "\t<tr><th scope=col>0%</th><th scope=col>25%</th><th scope=col>50%</th><th scope=col>75%</th><th scope=col>100%</th></tr>\n",
       "</thead>\n",
       "<tbody>\n",
       "\t<tr><td>1</td><td>40</td><td>40</td><td>45</td><td>99</td></tr>\n",
       "</tbody>\n",
       "</table>\n"
      ],
      "text/latex": [
       "A matrix: 1 × 5 of type dbl\n",
       "\\begin{tabular}{lllll}\n",
       " 0\\% & 25\\% & 50\\% & 75\\% & 100\\%\\\\\n",
       "\\hline\n",
       "\t 1 & 40 & 40 & 45 & 99\\\\\n",
       "\\end{tabular}\n"
      ],
      "text/markdown": [
       "\n",
       "A matrix: 1 × 5 of type dbl\n",
       "\n",
       "| 0% | 25% | 50% | 75% | 100% |\n",
       "|---|---|---|---|---|\n",
       "| 1 | 40 | 40 | 45 | 99 |\n",
       "\n"
      ],
      "text/plain": [
       "     0% 25% 50% 75% 100%\n",
       "[1,] 1  40  40  45  99  "
      ]
     },
     "metadata": {},
     "output_type": "display_data"
    }
   ],
   "source": [
    "# Obtendo os quartis das horas trabalhadas pelos indivíduos\n",
    "\n",
    "quartis = quantile(adult$hours.per.week)\n",
    "\n",
    "# Transpondo o resultado para ficar mais visualizável\n",
    "t(quartis)"
   ]
  },
  {
   "cell_type": "code",
   "execution_count": 14,
   "metadata": {},
   "outputs": [
    {
     "data": {
      "text/html": [
       "<table>\n",
       "<caption>A matrix: 1 × 3 of type dbl</caption>\n",
       "<thead>\n",
       "\t<tr><th scope=col>30%</th><th scope=col>60%</th><th scope=col>90%</th></tr>\n",
       "</thead>\n",
       "<tbody>\n",
       "\t<tr><td>35</td><td>40</td><td>48</td></tr>\n",
       "</tbody>\n",
       "</table>\n"
      ],
      "text/latex": [
       "A matrix: 1 × 3 of type dbl\n",
       "\\begin{tabular}{lll}\n",
       " 30\\% & 60\\% & 90\\%\\\\\n",
       "\\hline\n",
       "\t 35 & 40 & 48\\\\\n",
       "\\end{tabular}\n"
      ],
      "text/markdown": [
       "\n",
       "A matrix: 1 × 3 of type dbl\n",
       "\n",
       "| 30% | 60% | 90% |\n",
       "|---|---|---|\n",
       "| 35 | 40 | 48 |\n",
       "\n"
      ],
      "text/plain": [
       "     30% 60% 90%\n",
       "[1,] 35  40  48 "
      ]
     },
     "metadata": {},
     "output_type": "display_data"
    }
   ],
   "source": [
    "# Obtendo os percentis 30%, 60% e 90% das horas trabalhadas pelas mulheres\n",
    "\n",
    "percentis = quantile(adult$hours.per.week[adult$sex == \"Female\"], c(.30, .60, .90))\n",
    "\n",
    "# Transpondo o resultado para ficar mais visualizável\n",
    "t(percentis)"
   ]
  },
  {
   "cell_type": "markdown",
   "metadata": {},
   "source": [
    "#### <a id=\"summary\"></a> Summary\n",
    "\n",
    "Uma maneira bem simples de mostrar vários dos valores que vimos até agora é utilizando a função ```summary()```. Ela nos apresenta o *mínimo*, o *1º quartil*, a *mediana*, a *média*, o *3º quartil* e o *máximo* da variável em questão, da seguinte forma:"
   ]
  },
  {
   "cell_type": "code",
   "execution_count": 15,
   "metadata": {},
   "outputs": [
    {
     "data": {
      "text/plain": [
       "   Min. 1st Qu.  Median    Mean 3rd Qu.    Max. \n",
       "   1.00    9.00   10.00   10.08   12.00   16.00 "
      ]
     },
     "metadata": {},
     "output_type": "display_data"
    }
   ],
   "source": [
    "# Resumo do grau de escolaridade dos indivíduos\n",
    "\n",
    "summary(adult$education.num)"
   ]
  },
  {
   "cell_type": "markdown",
   "metadata": {},
   "source": [
    "### <a id=\"variacao\"></a> Medidas de Variação\n",
    "\n",
    "As **Medidas de Variação** medem o *grau de afastamento* dos dados em torno de um valor central. Elas são importantes para medir a homogeneidade dos dados, indicando se nossas amostras estão próximas entre si ou muito afastadas.\n",
    "\n",
    "#### <a id=\"amplitude\"></a> Amplitude\n",
    "\n",
    "A medida mais simples de variação é a **Amplitude**, que mede simplesmente a diferença entre a maior e a menor amostra. Entretanto, essa medida é bem sensível outliers em suas extremidades.\n",
    "\n",
    "$$ \\large A =  x_{max} - x_{min} $$"
   ]
  },
  {
   "cell_type": "code",
   "execution_count": 16,
   "metadata": {},
   "outputs": [
    {
     "data": {
      "text/html": [
       "73"
      ],
      "text/latex": [
       "73"
      ],
      "text/markdown": [
       "73"
      ],
      "text/plain": [
       "[1] 73"
      ]
     },
     "metadata": {},
     "output_type": "display_data"
    }
   ],
   "source": [
    "# Calculando a amplitude de idade dos homens\n",
    "\n",
    "amplitude = max(adult$age[adult$sex == \"Male\"]) - min(adult$age[adult$sex == \"Male\"])\n",
    "\n",
    "amplitude"
   ]
  },
  {
   "cell_type": "markdown",
   "metadata": {},
   "source": [
    "#### <a id=\"amplitude_interquartil\"></a> Amplitude Interquartil\n",
    "\n",
    "Uma outra medida de variação mais precisa é a **Amplitude Interquartil**, definida como a diferença entre o 3º e o 1º quartil. Por desprezar os valores mais extremos, essa medida é menos sujeita a flutuações que a amplitude normal."
   ]
  },
  {
   "cell_type": "code",
   "execution_count": 17,
   "metadata": {},
   "outputs": [
    {
     "data": {
      "text/html": [
       "19"
      ],
      "text/latex": [
       "19"
      ],
      "text/markdown": [
       "19"
      ],
      "text/plain": [
       "[1] 19"
      ]
     },
     "metadata": {},
     "output_type": "display_data"
    }
   ],
   "source": [
    "# Calculando a amplitude interquartil da idade dos homens\n",
    "\n",
    "IQR(adult$age[adult$sex == \"Male\"])"
   ]
  },
  {
   "cell_type": "markdown",
   "metadata": {},
   "source": [
    "#### <a id=\"variancia\"></a> Variância\n",
    "\n",
    "A **Variância** é uma medida de variação que mensura a dispersão das amostras com relação à média.\n",
    "\n",
    "Seu valor é obtido a partir do cálculo da média do quadrado das diferenças entre os dados e a média, da seguinte forma:\n",
    "<br>\n",
    "<br>\n",
    "\n",
    "$$\\large s^2 = {\\frac{\\sum_{i=1}^{N}(x_{i} -\\bar{x})^2}{N-1}}$$"
   ]
  },
  {
   "cell_type": "code",
   "execution_count": 18,
   "metadata": {},
   "outputs": [
    {
     "data": {
      "text/html": [
       "143.083630933816"
      ],
      "text/latex": [
       "143.083630933816"
      ],
      "text/markdown": [
       "143.083630933816"
      ],
      "text/plain": [
       "[1] 143.0836"
      ]
     },
     "metadata": {},
     "output_type": "display_data"
    }
   ],
   "source": [
    "# Calculando a variância das horas trabalhadas de quem possui mais de 30 anos\n",
    "\n",
    "var(adult$hours.per.week[adult$age > 30])"
   ]
  },
  {
   "cell_type": "markdown",
   "metadata": {},
   "source": [
    "#### <a id=\"desv_pad\"></a> Desvio Padrão\n",
    "\n",
    "O **Desvio Padrão** é uma outra medida de variação obtida simplesmente pela raiz quadrada da variância. Essa raiz é feita para que a unidade de medida seja a mesma dos nossos dados.\n",
    "<br>\n",
    "<br>\n",
    "\n",
    "$$\\large s = \\sqrt{\\frac{\\sum_{i=1}^{N}(x_{i} -\\bar{x})^2}{N-1}}$$"
   ]
  },
  {
   "cell_type": "code",
   "execution_count": 19,
   "metadata": {},
   "outputs": [
    {
     "data": {
      "text/html": [
       "11.9617570170028"
      ],
      "text/latex": [
       "11.9617570170028"
      ],
      "text/markdown": [
       "11.9617570170028"
      ],
      "text/plain": [
       "[1] 11.96176"
      ]
     },
     "metadata": {},
     "output_type": "display_data"
    }
   ],
   "source": [
    "# Calculando o desvio padrão das horas trabalhadas de quem possui mais de 30 anos\n",
    "\n",
    "sd(adult$hours.per.week[adult$age > 30])"
   ]
  },
  {
   "cell_type": "markdown",
   "metadata": {},
   "source": [
    "#### <a id=\"covar\"></a> Covariância\n",
    "\n",
    "A **Covariância** é a medida da *relação linear* entre duas variáveis: seu valor representa o quanto elas \"caminham juntas\". Se a covarância é positiva, significa que as duas crescem juntas; se a covariância é negativa, significa que conforme uma cresce, a outra decresce.\n",
    "\n",
    "Seu valor é obtido da seguinte forma:\n",
    "<br>\n",
    "\n",
    "$$\\large s_{x,y}=\\frac{\\sum_{i=1}^{N}(x_{i}-\\bar{x})(y_{i}-\\bar{y})}{N-1}$$"
   ]
  },
  {
   "cell_type": "code",
   "execution_count": 20,
   "metadata": {},
   "outputs": [
    {
     "data": {
      "text/html": [
       "4.70552168646705"
      ],
      "text/latex": [
       "4.70552168646705"
      ],
      "text/markdown": [
       "4.70552168646705"
      ],
      "text/plain": [
       "[1] 4.705522"
      ]
     },
     "metadata": {},
     "output_type": "display_data"
    }
   ],
   "source": [
    "# Calculando a covarância entre o grau de escolaridade e as horas trabalhadas dos indivíduos\n",
    "\n",
    "cov(adult$education.num, adult$hours.per.week)"
   ]
  },
  {
   "cell_type": "markdown",
   "metadata": {},
   "source": [
    "A covariância positiva significa que quanto maior a idade do indivíduo, maior é a chance dele trabalhar mais horas"
   ]
  },
  {
   "cell_type": "markdown",
   "metadata": {},
   "source": [
    "#### <a id=\"ccor\"></a>Coeficiente de Correlação\n",
    "\n",
    "O **Coeficiente de Correlação** também mede a relação linear entre duas variáveis, mas é obtida a partir da divisão da covariância pelos desvios padrões individuais de cada variável. Dessa forma, encontramos uma medida **normalizada** da relação entre as duas. \n",
    "<br>\n",
    "<br>\n",
    "\n",
    "$$\\large r_{x,y}= \\frac{s_{x,y}}{s_{x} s_{y}}$$\n",
    "\n",
    "Quanto mais próximo de 1, maior a _relação linear positiva_ entre as duas variáveis, e seu gráfico se aproxima de uma linha reta _crescente_. Quanto mais próximo de -1, maior a _relação linear negativa_ entre as duas variáveis, e seu gráfico se aproxima de uma linha reta _decrescente_. Quando seu valor é próximo de 0, não existe uma relação muito grande entre as duas variáveis."
   ]
  },
  {
   "cell_type": "code",
   "execution_count": 21,
   "metadata": {},
   "outputs": [
    {
     "data": {
      "text/html": [
       "0.148126899193798"
      ],
      "text/latex": [
       "0.148126899193798"
      ],
      "text/markdown": [
       "0.148126899193798"
      ],
      "text/plain": [
       "[1] 0.1481269"
      ]
     },
     "metadata": {},
     "output_type": "display_data"
    }
   ],
   "source": [
    "# Calculando o coeficiente de correlação entre o grau de escolaridade e as horas trabalhadas dos indivíduos\n",
    "\n",
    "cor(adult$education.num, adult$hours.per.week)"
   ]
  },
  {
   "cell_type": "markdown",
   "metadata": {},
   "source": [
    "O grau de escolaridade dos indivíduos tem uma relação linear positiva fraca com as horas semanais de trabalho."
   ]
  },
  {
   "cell_type": "markdown",
   "metadata": {},
   "source": [
    "## <a id = \"parte3\"></a><span style=\"color: orange;\"> Parte 4 - Visualização de dados em R com ggplot2 </span>\n",
    "\n",
    "__ggplot2__ foi desenvolvido para apresentações gráficas de qualidade em segundos. \n",
    "\n",
    "Este pacote é baseado em **gramática de gráficos**, a ideia é que você possa construir qualquer gráfico combinando adequadamente elementos da gramática, do mesmo modo que é feito na língua portuguesa.\n",
    "\n",
    "### Vantagens\n",
    "\n",
    "- Baseado em __gramática de gráficos__;\n",
    "- Alto nível de abstração em plots;\n",
    "- Flexibilidade;\n",
    "- Sistema de temas para melhorar aparência de gráficos;\n",
    "- Muitos usuários ativos na comunidade open source;\n",
    "\n",
    "### O que não fazer com ggplot2?\n",
    "\n",
    "- Gráficos de 3 dimensões (vide biblioteca [rgl](https://www.rdocumentation.org/packages/rgl/versions/0.100.50));\n",
    "- Gráficos iterativos (vide biblioteca [ggvis](https://ggvis.rstudio.com/));\n",
    "- Gráficos de teoria dos grafos (vide biblioteca [igraph](https://igraph.org/r/));"
   ]
  },
  {
   "cell_type": "code",
   "execution_count": 1,
   "metadata": {
    "scrolled": true
   },
   "outputs": [
    {
     "name": "stderr",
     "output_type": "stream",
     "text": [
      "Registered S3 methods overwritten by 'ggplot2':\n",
      "  method         from \n",
      "  [.quosures     rlang\n",
      "  c.quosures     rlang\n",
      "  print.quosures rlang\n",
      "Registered S3 method overwritten by 'rvest':\n",
      "  method            from\n",
      "  read_xml.response xml2\n",
      "-- Attaching packages --------------------------------------- tidyverse 1.2.1 --\n",
      "v ggplot2 3.1.1       v purrr   0.3.2  \n",
      "v tibble  2.1.1       v dplyr   0.8.0.1\n",
      "v tidyr   0.8.3       v stringr 1.4.0  \n",
      "v readr   1.3.1       v forcats 0.4.0  \n",
      "-- Conflicts ------------------------------------------ tidyverse_conflicts() --\n",
      "x dplyr::filter() masks stats::filter()\n",
      "x dplyr::lag()    masks stats::lag()\n"
     ]
    }
   ],
   "source": [
    "library(tidyverse) # pacote que vamos usar em quase todas as análises de dados"
   ]
  },
  {
   "cell_type": "markdown",
   "metadata": {},
   "source": [
    "Esse warning mostra as funções do tidyverse que conflitam com as funções do R base. Se precisar explicitar de onde a função vem, basta usar a notação ```package::function()```:\n",
    "```R\n",
    "# exemplo\n",
    "\n",
    "ggplot2::ggplot()\n",
    "```"
   ]
  },
  {
   "cell_type": "markdown",
   "metadata": {},
   "source": [
    "## A gramática de gráficos\n",
    "Esse conceito foi introduzido pelo estatístico Leland Wilkinson, em [Grammar of Graphics](https://www.springer.com/gp/book/9780387245447) (1999).\n",
    "\n",
    "### Os elementos\n",
    "\n",
    "1. __Dados__ - o conjunto de dados da visualização;\n",
    "2. __Estética__ - descreve como variáveis são mapeadas em propriedades visuais;\n",
    "3. __Geometrias__ - o formato que os dados assumem nos plots;\n",
    "4. __Facetas__ - plots de pequenos multiplos;\n",
    "5. __Estatísticas__-  representação dos dados para auxiliar o entendimento;\n",
    "6. __Coordenadas__ - o espaço em que os dados são plotados;\n",
    "7. __Temas__ - todo material sem dados;"
   ]
  },
  {
   "cell_type": "markdown",
   "metadata": {},
   "source": [
    "## Entendendo a lógica do ggplot2\n",
    "\n",
    "\n",
    "### Códigos base\n",
    "\n",
    "#### [Inicializando objeto](https://ggplot2.tidyverse.org/reference/ggplot.html)\n",
    "\n",
    "```R\n",
    "# exemplo\n",
    "ggplot(data = adult)\n",
    "```\n",
    "\n",
    "- dados\n",
    "- mapeamento estético (opcional)\n",
    "\n",
    "#### [Mapeamento Estético](https://ggplot2.tidyverse.org/reference/aes.html)\n",
    "\n",
    "```R\n",
    "# exemplo\n",
    "aes(x = age, y = hours.per.week)\n",
    "```\n",
    "\n",
    "- atribui variáveis aos eixos;\n",
    "- adicionar detalhes (cores, contorno, preenchimento, ...)"
   ]
  },
  {
   "cell_type": "code",
   "execution_count": 5,
   "metadata": {
    "scrolled": false
   },
   "outputs": [
    {
     "data": {
      "image/png": "[encoded data removed]",
      "text/plain": [
       "plot without title"
      ]
     },
     "metadata": {},
     "output_type": "display_data"
    }
   ],
   "source": [
    "# exemplo teste com ggplot e aes\n",
    "ggplot(data = adult, mapping = aes(x = age, y = hours.per.week))"
   ]
  },
  {
   "cell_type": "markdown",
   "metadata": {},
   "source": [
    "#### [Geometrias](https://ggplot2.tidyverse.org/reference/index.html#section-layer-geoms)\n",
    "\n",
    "- Gráfico de barras - geom_bar()\n",
    "- Histograma - geom_histogram()\n",
    "- Dispersão - geom_point() ou geom_jitter()"
   ]
  },
  {
   "cell_type": "code",
   "execution_count": 6,
   "metadata": {},
   "outputs": [
    {
     "data": {
      "image/png": "[encoded data removed]",
      "text/plain": [
       "plot without title"
      ]
     },
     "metadata": {},
     "output_type": "display_data"
    }
   ],
   "source": [
    "# exemplo teste com geom_jitter\n",
    "ggplot(data = adult, mapping = aes(x = age, y = hours.per.week)) + geom_jitter()"
   ]
  },
  {
   "cell_type": "markdown",
   "metadata": {},
   "source": [
    "#### [O CheatSheet do ggplot2](https://github.com/rstudio/cheatsheets/blob/master/data-visualization-2.1.pdf)\n",
    "\n",
    "### Boas Práticas de Visualização de Dados\n",
    "\n",
    "- Títulos\n",
    "- Nome dos Eixos\n",
    "- Unidades dos eixos\n",
    "\n",
    "```R\n",
    "# inserindo textos nos graficos\n",
    "labs(\n",
    "    x = \"Idade\", y = \"Horas Semanais (h)\",\n",
    "    title = \"Idade X Horas Semanais\"\n",
    ")\n",
    "```\n",
    "\n",
    "- Cores\n",
    "\n",
    "```R\n",
    "aes(\n",
    "    #color = income,\n",
    "    color = \"red\",\n",
    ")\n",
    "```"
   ]
  },
  {
   "cell_type": "code",
   "execution_count": 10,
   "metadata": {
    "scrolled": false
   },
   "outputs": [
    {
     "data": {
      "image/png": "[encoded data removed]",
      "text/plain": [
       "plot without title"
      ]
     },
     "metadata": {},
     "output_type": "display_data"
    }
   ],
   "source": [
    "# exemplo teste com nomes dos eixos e cores\n",
    "ggplot(data = adult, mapping = aes(x = age, y = hours.per.week)) + \n",
    "  geom_jitter(mapping = aes(color = income)) +\n",
    "  labs(\n",
    "    x = \"Idade\", y = \"Horas Semanais (h)\",\n",
    "    title = \"Idade X Horas Semanais\", color = \"Renda\"\n",
    ")"
   ]
  },
  {
   "cell_type": "markdown",
   "metadata": {},
   "source": [
    "### Analisando o Dataset"
   ]
  },
  {
   "cell_type": "code",
   "execution_count": 11,
   "metadata": {},
   "outputs": [
    {
     "data": {
      "image/png": "[encoded data removed]",
      "text/plain": [
       "plot without title"
      ]
     },
     "metadata": {},
     "output_type": "display_data"
    }
   ],
   "source": [
    "# Número de pessoas por sexo\n",
    "ggplot(data = adult, mapping = aes(x = sex)) +\n",
    " geom_bar(aes(fill = race), position = \"stack\") + theme_minimal() +\n",
    " labs(\n",
    "     x = \"Sexo\", y = \"Contagem\", fill = \"Raça\",\n",
    "     title = \"Contagem de Pessoas por Sexo\"\n",
    " )"
   ]
  },
  {
   "cell_type": "code",
   "execution_count": 12,
   "metadata": {},
   "outputs": [
    {
     "data": {
      "image/png": "[encoded data removed]",
      "text/plain": [
       "plot without title"
      ]
     },
     "metadata": {},
     "output_type": "display_data"
    }
   ],
   "source": [
    "# Número de pessoas por grau de educação\n",
    "ggplot(data = adult, mapping = aes(x = education)) + \n",
    "  geom_bar(aes(fill = sex), position = \"stack\") +\n",
    "  theme_minimal() + coord_flip() +\n",
    "  labs(y = \"Número de Pessoas\", x = \"Nível Educacional\", title = \"Contagem de Pessoas por Nível Educacional e por Sexo\")"
   ]
  },
  {
   "cell_type": "code",
   "execution_count": 13,
   "metadata": {},
   "outputs": [
    {
     "data": {
      "image/png": "[encoded data removed]",
      "text/plain": [
       "plot without title"
      ]
     },
     "metadata": {},
     "output_type": "display_data"
    }
   ],
   "source": [
    "# numero de pessoas por tipo de receita e estado civil\n",
    "ggplot(data = adult, mapping = aes(x = income)) +\n",
    " geom_bar(aes(fill = marital.status), position = \"stack\") + theme_minimal() +\n",
    " labs(\n",
    "     x = \"Tipo de Receita\", y = \"Contagem\", fill = \"Estado Civil\",\n",
    "     title = \"Contagem de Pessoas por Tipo de Receita\"\n",
    " )"
   ]
  },
  {
   "cell_type": "code",
   "execution_count": 15,
   "metadata": {},
   "outputs": [
    {
     "data": {
      "image/png": "[encoded data removed]",
      "text/plain": [
       "plot without title"
      ]
     },
     "metadata": {},
     "output_type": "display_data"
    }
   ],
   "source": [
    "# Contagem de pessoas por idade e sexo\n",
    "ggplot(data = adult, mapping = aes(x = age)) +\n",
    " geom_bar(aes(fill = sex), position = \"stack\") + \n",
    " theme_minimal() +\n",
    " labs(\n",
    "     x = \"Idade\", y = \"Contagem\", fill = \"Sexo\",\n",
    "     title = \"Contagem de Pessoas por Idade\"\n",
    " )"
   ]
  },
  {
   "cell_type": "code",
   "execution_count": 16,
   "metadata": {},
   "outputs": [
    {
     "data": {
      "image/png": "[encoded data removed]",
      "text/plain": [
       "plot without title"
      ]
     },
     "metadata": {},
     "output_type": "display_data"
    }
   ],
   "source": [
    "ggplot(data = adult, mapping = aes(x = income)) +\n",
    " geom_bar(aes(fill = race), position = \"fill\") + theme_bw() +\n",
    " labs(\n",
    "     x = \"Tipo de Receita\", y = \"Contagem\",# legend = \"Raça\",\n",
    "     title = \"Contagem de Pessoas por Tipo de Receita\"\n",
    " )"
   ]
  },
  {
   "cell_type": "code",
   "execution_count": 17,
   "metadata": {
    "scrolled": false
   },
   "outputs": [
    {
     "name": "stderr",
     "output_type": "stream",
     "text": [
      "`geom_smooth()` using method = 'gam' and formula 'y ~ s(x, bs = \"cs\")'\n"
     ]
    },
    {
     "data": {
      "image/png": "[encoded data removed]",
      "text/plain": [
       "plot without title"
      ]
     },
     "metadata": {},
     "output_type": "display_data"
    }
   ],
   "source": [
    "# ajuste de curva renda x horas semanais x idade\n",
    "ggplot(data = adult, mapping = aes(x = age, y = hours.per.week)) + \n",
    "  \n",
    "  geom_smooth(mapping = aes(color = income), method = \"auto\") +\n",
    "  theme_minimal() + \n",
    "  labs(\n",
    "      x = \"Idade\", y = \"Horas Semanais\", color = \"Renda\",\n",
    "      title = \"Horas Semanais X Idade X Renda\"\n",
    "  )\n"
   ]
  },
  {
   "cell_type": "code",
   "execution_count": 18,
   "metadata": {},
   "outputs": [
    {
     "data": {
      "image/png": "[encoded data removed]",
      "text/plain": [
       "plot without title"
      ]
     },
     "metadata": {},
     "output_type": "display_data"
    }
   ],
   "source": [
    "# violin plot horas semanais x renda\n",
    "ggplot(data = adult, mapping = aes(x = income, y = hours.per.week)) + \n",
    "  geom_violin(scale = \"area\") +\n",
    "  theme_minimal() + \n",
    "  labs(\n",
    "      x = \"Renda\", y = \"Horas Semanais\",\n",
    "      title = \"Distribuição de Renda por Horas Semanais\"\n",
    "  )\n",
    "\n"
   ]
  },
  {
   "cell_type": "markdown",
   "metadata": {},
   "source": [
    "## <a id = \"parte5\"></a><span style=\"color: orange;\"> Parte 5 - Inferência Estatística em R </span>"
   ]
  },
  {
   "cell_type": "markdown",
   "metadata": {},
   "source": [
    "### <a id=\"testes_de_hipotese\"></a>Testes de Hipótese\n",
    "Muitas vezes, quando estamos fazendo alguma análise, queremos provar que **duas médias são diferentes**. <br>\n",
    "Por exemplo, temos dois grupos de pacientes, um que tomou analgésico e outro que tomou um placebo, e queremos saber se existe diferença na nota que eles atribuem para sua dor antes e depois de tomar o remédio/placebo. <br>\n",
    "<br>\n",
    "Esse é o típico cenário em que devemos aplicar um **teste de hipótese**.\n",
    "<br>\n",
    "#### <a id=\"amostra_pop\"></a> Amostra vs População\n",
    "![censovssample](img/census-vs-sample.jpg)\n",
    "Os testes de hipótese precisam ser feitos porque, muitas vezes, nós não temos a totalidade dos dados e sim uma **amostra**.\n",
    "<br> <br>\n",
    "Existem teoremas matemáticos que garantem que as médias tiradas de amostras aleatorias de uma população convergem para a própria média da população.\n",
    "Mas pode ser que, por acaso, vc tenha pegado uma amostra extrema que não representa essa população - **os testes de hipótese são uma forma de verificar qual é essa probabilidade e se ela é considerável**.\n",
    "Os **testes de hipóteses** têm uma estrutura comum. Eles assumem uma *hipótese nula* e uma *hipótese alternativa*.<br>\n",
    "Em geral: <br>\n",
    "$H_0 =$ (hipótese nula) as médias são iguais <br>\n",
    "$H_A =$ (hipótese alternativa) as médias são diferentes (você pode mudar isso para \"maior\" ou \"menor\" também\n",
    "<br>\n",
    "O que o teste de hipótese nos retorna é o **p-valor**, ele nos dá **a probabilidade de cometer um erro ao falar que $H_A$ está certa** . <br>\n",
    "Em geral, quando o $p-valor \\leq 0.05$ aceitamos $H_A$, pois a probabilidade de \"estarmos falando besteira\" é menor do que 5%"
   ]
  },
  {
   "cell_type": "markdown",
   "metadata": {},
   "source": [
    "#### <a id=\"par_vs_npar\"></a> Testes paramétricos VS não-paramétricos\n",
    "![distribuicaonormal](img/normal.jpeg)\n",
    "Os testes de hipótese podem ser divididos entre paramétricos e não paramétricos.\n",
    "<br>\n",
    "Os testes **paramétricos** assumem a **distribuição normal dos dados**, enquanto os **não paramétricos** não possuem tal premissa.<br>\n",
    "A distribuição normal é a famosa curva de sino, em que a maioria dos valores estão próximos de uma média.\n",
    "#### <a id=\"ks\"></a> Kolgomorov-Smirnov\n",
    "Para saber se devemos ou não aplicar um teste paramétrico ou não paramétrico, precisamos saber se nossos dados seguem ou não uma distribuição normal. Para isso usamos o teste de *Kolgomorov-Smirnov* comparando a nossa amostra com uma distribuição normal.\n",
    "Nesse teste, as hipóteses são as seguintes:<br>\n",
    "$H_0 = $ a distribuição é normal <br>\n",
    "$H_A = $ a distribuição não é normal\n"
   ]
  },
  {
   "cell_type": "markdown",
   "metadata": {},
   "source": [
    "Aplicando o ks nas variáveis da base adult, vemos que praticamente todas são não paramétricas"
   ]
  },
  {
   "cell_type": "code",
   "execution_count": 35,
   "metadata": {},
   "outputs": [
    {
     "name": "stderr",
     "output_type": "stream",
     "text": [
      "Warning message in ks.test(adult$hours.per.week, \"pnorm\", mean(adult$hours.per.week), :\n",
      "“ties should not be present for the Kolmogorov-Smirnov test”\n"
     ]
    },
    {
     "data": {
      "text/plain": [
       "\n",
       "\tOne-sample Kolmogorov-Smirnov test\n",
       "\n",
       "data:  adult$hours.per.week\n",
       "D = 0.24745, p-value < 2.2e-16\n",
       "alternative hypothesis: two-sided\n"
      ]
     },
     "metadata": {},
     "output_type": "display_data"
    }
   ],
   "source": [
    "ks.test(adult$hours.per.week,\"pnorm\", mean(adult$hours.per.week), sd(adult$hours.per.week))"
   ]
  },
  {
   "cell_type": "markdown",
   "metadata": {},
   "source": [
    "Vamos criar variáveis aleatórias que seguem uma distribuição normal, através da função `rnorm()`. Na segunda, vamos multiplicar ela por 30"
   ]
  },
  {
   "cell_type": "code",
   "execution_count": 36,
   "metadata": {},
   "outputs": [],
   "source": [
    "r_1 = rnorm(1000, 1.01, 1.002)\n",
    "r_2 = rnorm(1000, 300, 10)\n",
    "r_3 = rnorm(1000, 1.031, 1.012)"
   ]
  },
  {
   "cell_type": "code",
   "execution_count": 37,
   "metadata": {},
   "outputs": [
    {
     "data": {
      "text/plain": [
       "\n",
       "\tOne-sample Kolmogorov-Smirnov test\n",
       "\n",
       "data:  r_1\n",
       "D = 0.012976, p-value = 0.996\n",
       "alternative hypothesis: two-sided\n"
      ]
     },
     "metadata": {},
     "output_type": "display_data"
    }
   ],
   "source": [
    "ks.test(r_1, \"pnorm\", mean(r_1), sd(r_1))"
   ]
  },
  {
   "cell_type": "code",
   "execution_count": 38,
   "metadata": {},
   "outputs": [
    {
     "data": {
      "text/plain": [
       "\n",
       "\tOne-sample Kolmogorov-Smirnov test\n",
       "\n",
       "data:  r_2\n",
       "D = 0.013697, p-value = 0.9919\n",
       "alternative hypothesis: two-sided\n"
      ]
     },
     "metadata": {},
     "output_type": "display_data"
    }
   ],
   "source": [
    "ks.test(r_2, \"pnorm\", mean(r_2), sd(r_2))"
   ]
  },
  {
   "cell_type": "code",
   "execution_count": 39,
   "metadata": {},
   "outputs": [
    {
     "data": {
      "text/plain": [
       "\n",
       "\tOne-sample Kolmogorov-Smirnov test\n",
       "\n",
       "data:  r_3\n",
       "D = 0.0209, p-value = 0.7749\n",
       "alternative hypothesis: two-sided\n"
      ]
     },
     "metadata": {},
     "output_type": "display_data"
    }
   ],
   "source": [
    "ks.test(r_3, \"pnorm\", mean(r_3), sd(r_3))"
   ]
  },
  {
   "cell_type": "markdown",
   "metadata": {},
   "source": [
    "#### <a id=\"ttest\"></a> Teste T"
   ]
  },
  {
   "cell_type": "markdown",
   "metadata": {},
   "source": [
    "Existem dois testes mais conhecidos para comparar médias, o teste T e o teste Z. O teste Z é mais usado para comparar uma média amostral com uma média teórica, apesar de poder ser usado para comparar duas médias amostrais também. <br>\n",
    "O teste Z não é nativo do R, mas aceitando-se $H_A$ de teste T = também aceitaria-se ela via teste Z\n",
    "<br>\n",
    "Vamos aqui aplicar um teste que compara as médias, o teste t. A hipótese nula é de que as médias são iguais e a alternativa é de que são diferentes. <br>\n",
    "Esse teste precisa saber se as variâncias são iguais ou diferentes. Pra isso vamos aplicar um teste chamado teste F. <br>\n",
    "Para o teste  F, a hipótese nula é de que as variâncias são diferentes."
   ]
  },
  {
   "cell_type": "markdown",
   "metadata": {},
   "source": [
    "Vemos aqui que $r_1$ e $r_3$ tem variâncias que podem ser consideradas iguais, enquanto $r_2$ e $r_3$ tem variâncias que podem ser consideradas diferentes"
   ]
  },
  {
   "cell_type": "code",
   "execution_count": 40,
   "metadata": {},
   "outputs": [
    {
     "name": "stdout",
     "output_type": "stream",
     "text": [
      "[1] \"Valor p do teste:  0.149304866703109\"\n"
     ]
    }
   ],
   "source": [
    "f_test <- var.test(r_1,r_3)\n",
    "print(paste(\"Valor p do teste: \", f_test$p.value))"
   ]
  },
  {
   "cell_type": "code",
   "execution_count": 41,
   "metadata": {},
   "outputs": [
    {
     "name": "stdout",
     "output_type": "stream",
     "text": [
      "[1] \"Valor p do teste:  0\"\n"
     ]
    }
   ],
   "source": [
    "f_test <- var.test(r_2,r_3)\n",
    "print(paste(\"Valor p do teste: \", f_test$p.value))"
   ]
  },
  {
   "cell_type": "markdown",
   "metadata": {},
   "source": [
    "Fazendo o teste T, vemos que as médias de $r_1$e $r_3$ podem ser consideradas iguais"
   ]
  },
  {
   "cell_type": "code",
   "execution_count": 42,
   "metadata": {},
   "outputs": [
    {
     "name": "stdout",
     "output_type": "stream",
     "text": [
      "[1] \"Valor p do teste:  0.888192374982587\"\n"
     ]
    },
    {
     "data": {
      "text/plain": [
       "\n",
       "\tTwo Sample t-test\n",
       "\n",
       "data:  r_1 and r_3\n",
       "t = 0.14061, df = 1998, p-value = 0.8882\n",
       "alternative hypothesis: true difference in means is not equal to 0\n",
       "95 percent confidence interval:\n",
       " -0.08003720  0.09240057\n",
       "sample estimates:\n",
       "mean of x mean of y \n",
       " 1.063489  1.057308 \n"
      ]
     },
     "metadata": {},
     "output_type": "display_data"
    }
   ],
   "source": [
    "t_test <- t.test(r_1, r_3, var.equal = TRUE)\n",
    "print(paste(\"Valor p do teste: \", t_test$p.value))\n",
    "t_test"
   ]
  },
  {
   "cell_type": "markdown",
   "metadata": {},
   "source": [
    "Vemos que $r_2$ e $r_3$ são diferentes"
   ]
  },
  {
   "cell_type": "code",
   "execution_count": 43,
   "metadata": {},
   "outputs": [
    {
     "name": "stdout",
     "output_type": "stream",
     "text": [
      "[1] \"Valor p do teste:  0\"\n"
     ]
    },
    {
     "data": {
      "text/plain": [
       "\n",
       "\tWelch Two Sample t-test\n",
       "\n",
       "data:  r_2 and r_3\n",
       "t = 933.3, df = 1018.9, p-value < 2.2e-16\n",
       "alternative hypothesis: true difference in means is not equal to 0\n",
       "95 percent confidence interval:\n",
       " 298.0294 299.2852\n",
       "sample estimates:\n",
       " mean of x  mean of y \n",
       "299.714616   1.057308 \n"
      ]
     },
     "metadata": {},
     "output_type": "display_data"
    }
   ],
   "source": [
    "t_test <- t.test(r_2, r_3, var.equal = FALSE)\n",
    "print(paste(\"Valor p do teste: \", t_test$p.value))\n",
    "t_test"
   ]
  },
  {
   "cell_type": "markdown",
   "metadata": {},
   "source": [
    "#### <a id=\"anova\"></a> ANOVA de um fator"
   ]
  },
  {
   "cell_type": "markdown",
   "metadata": {},
   "source": [
    "Para comparar três ou mais médias, utilizaremos um teste de hipóteses chamado ANOVA (Análise de variância) de um fator<br>\n",
    "Aqui, a $H_A$ é que *alguma das médias é diferentes da outras*"
   ]
  },
  {
   "cell_type": "code",
   "execution_count": 44,
   "metadata": {},
   "outputs": [],
   "source": [
    "r_1_name = rep(\"r_1\", 1000)\n",
    "r_2_name = rep(\"r_2\", 1000)\n",
    "r_3_name = rep(\"r_3\", 1000)\n",
    "nomes = c(r_1_name, r_2_name, r_3_name)\n",
    "valores = c(r_1,r_2,r_3)\n",
    "data = data.frame(nomes, valores)"
   ]
  },
  {
   "cell_type": "code",
   "execution_count": 45,
   "metadata": {
    "scrolled": true
   },
   "outputs": [
    {
     "data": {
      "text/plain": [
       "              Df   Sum Sq  Mean Sq F value Pr(>F)    \n",
       "nomes          2 59462894 29731447  863256 <2e-16 ***\n",
       "Residuals   2997   103220       34                   \n",
       "---\n",
       "Signif. codes:  0 ‘***’ 0.001 ‘**’ 0.01 ‘*’ 0.05 ‘.’ 0.1 ‘ ’ 1"
      ]
     },
     "metadata": {},
     "output_type": "display_data"
    }
   ],
   "source": [
    "anova <- aov(valores ~ nomes, data = data)\n",
    "summary(anova)"
   ]
  },
  {
   "cell_type": "markdown",
   "metadata": {},
   "source": [
    "Temos que `Pr(>F)` é o nosso valor P, ele é bem baixo, então alguma das médias é diferente das outras."
   ]
  },
  {
   "cell_type": "markdown",
   "metadata": {},
   "source": [
    "#### <a id=\"rl\"></a> Regressão Linear"
   ]
  },
  {
   "cell_type": "markdown",
   "metadata": {},
   "source": [
    "Os principais tipos de correlação estatística são: <br>\n",
    "**Spearmann** = correlação não paramétrica <br>\n",
    "**Pearson** = correlação paramétrica <br>"
   ]
  },
  {
   "cell_type": "code",
   "execution_count": 46,
   "metadata": {
    "scrolled": false
   },
   "outputs": [
    {
     "data": {
      "text/html": [
       "0.124949809253391"
      ],
      "text/latex": [
       "0.124949809253391"
      ],
      "text/markdown": [
       "0.124949809253391"
      ],
      "text/plain": [
       "[1] 0.1249498"
      ]
     },
     "metadata": {},
     "output_type": "display_data"
    },
    {
     "name": "stderr",
     "output_type": "stream",
     "text": [
      "Warning message in cor.test.default(adult$capital.gain, adult$age, method = \"spearman\"):\n",
      "“Cannot compute exact p-value with ties”\n"
     ]
    },
    {
     "data": {
      "text/plain": [
       "\n",
       "\tSpearman's rank correlation rho\n",
       "\n",
       "data:  adult$capital.gain and adult$age\n",
       "S = 5.0343e+12, p-value < 2.2e-16\n",
       "alternative hypothesis: true rho is not equal to 0\n",
       "sample estimates:\n",
       "      rho \n",
       "0.1249498 \n"
      ]
     },
     "metadata": {},
     "output_type": "display_data"
    }
   ],
   "source": [
    "cor(adult$capital.gain, adult$age, method = \"spearman\")\n",
    "cor.test(adult$capital.gain, adult$age, method = \"spearman\")"
   ]
  },
  {
   "cell_type": "markdown",
   "metadata": {},
   "source": [
    "P valor baixo, a relação entre os dois é significativa"
   ]
  },
  {
   "cell_type": "code",
   "execution_count": 48,
   "metadata": {},
   "outputs": [],
   "source": [
    "linearMod <- lm(capital.gain ~ age, data=adult)\n",
    "modelSummary <- summary(linearMod)"
   ]
  },
  {
   "cell_type": "code",
   "execution_count": 49,
   "metadata": {},
   "outputs": [
    {
     "data": {
      "text/plain": [
       "\n",
       "Call:\n",
       "lm(formula = capital.gain ~ age, data = adult)\n",
       "\n",
       "Residuals:\n",
       "   Min     1Q Median     3Q    Max \n",
       " -3240  -1390   -927   -506  99661 \n",
       "\n",
       "Coefficients:\n",
       "            Estimate Std. Error t value Pr(>|t|)    \n",
       "(Intercept) -544.934    122.420  -4.451 8.56e-06 ***\n",
       "age           42.055      2.992  14.058  < 2e-16 ***\n",
       "---\n",
       "Signif. codes:  0 ‘***’ 0.001 ‘**’ 0.01 ‘*’ 0.05 ‘.’ 0.1 ‘ ’ 1\n",
       "\n",
       "Residual standard error: 7363 on 32558 degrees of freedom\n",
       "Multiple R-squared:  0.006033,\tAdjusted R-squared:  0.006003 \n",
       "F-statistic: 197.6 on 1 and 32558 DF,  p-value: < 2.2e-16\n"
      ]
     },
     "metadata": {},
     "output_type": "display_data"
    }
   ],
   "source": [
    "modelSummary"
   ]
  },
  {
   "cell_type": "code",
   "execution_count": 50,
   "metadata": {
    "scrolled": false
   },
   "outputs": [
    {
     "name": "stderr",
     "output_type": "stream",
     "text": [
      "`geom_smooth()` using formula 'y ~ x'\n",
      "\n"
     ]
    },
    {
     "data": {
      "image/png": "[encoded data removed]",
      "text/plain": [
       "plot without title"
      ]
     },
     "metadata": {
      "image/png": {
       "height": 420,
       "width": 420
      },
      "text/plain": {
       "height": 420,
       "width": 420
      }
     },
     "output_type": "display_data"
    }
   ],
   "source": [
    "library(ggplot2)\n",
    "ggplot(adult,aes(age, capital.gain)) + geom_point() + geom_smooth(method='lm')"
   ]
  }
 ],
 "metadata": {
  "kernelspec": {
   "display_name": "R",
   "language": "R",
   "name": "ir"
  },
  "language_info": {
   "codemirror_mode": "r",
   "file_extension": ".r",
   "mimetype": "text/x-r-source",
   "name": "R",
   "pygments_lexer": "r",
   "version": "3.6.1"
  }
 },
 "nbformat": 4,
 "nbformat_minor": 4
}
