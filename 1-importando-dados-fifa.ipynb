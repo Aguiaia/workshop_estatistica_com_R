{
 "cells": [
  {
   "cell_type": "markdown",
   "metadata": {},
   "source": [
    "# Importanto dados em R "
   ]
  },
  {
   "cell_type": "markdown",
   "metadata": {},
   "source": [
    "Quando vamos fazer nossa análise de dados, comumente devemos trazer esses dados de algum outro arquivo, o que nos pede um pouco de cuidado. <br> Por exemplo, é importante sabermos qual é o tipo de arquivo que estamos importando, pois isso pode fazer nosso programa ler os dados errôneamente. <br> Um dos formatos mais comums para a análise de dados é o **CSV**, ou *Comma separeted values*, que é o tipo de arquivo do excel por exemplo."
   ]
  },
  {
   "cell_type": "markdown",
   "metadata": {},
   "source": [
    "Assim, se for salvar uma planilha de dados, não se esqueça de salvar como CSV."
   ]
  },
  {
   "cell_type": "markdown",
   "metadata": {},
   "source": [
    "![img](img/csv_meme.jpg)"
   ]
  },
  {
   "cell_type": "markdown",
   "metadata": {},
   "source": [
    "Outro fator importante que devemos levar em conta na hora de importar o arquivo é o local em que ele está salvo. Se ele for salvo no mesmo diretório que o programa que se está usando para ler os dados, ou alguma pasta dentro deste, isso acarretará que podemos apenas escrever o nome do arquivo, sem a necessidade de escrever todo o caminho. <br> Vamos ver um exemplo abaixo:"
   ]
  },
  {
   "cell_type": "markdown",
   "metadata": {},
   "source": [
    "### Importando um arquivo CSV "
   ]
  },
  {
   "cell_type": "markdown",
   "metadata": {},
   "source": [
    "```R\n",
    "mydata <- read.csv(\"Data.csv\", header=TRUE)\n",
    "```"
   ]
  },
  {
   "cell_type": "markdown",
   "metadata": {},
   "source": [
    "```R\n",
    "names(mydata) <- c('id','name','type')\n",
    "```"
   ]
  },
  {
   "cell_type": "markdown",
   "metadata": {},
   "source": [
    "Aqui ```mydata``` é o nome da variável que atribuiremos o conteúdo do arquivo que estamos lendo <br>\n",
    "A função ```read.csv``` lê arquivos que possuem este formato, aí uma importância de sabermos o formato do arquivo que estamos trabalhando. <br>\n",
    "O nome do arquivo deve vir dentro de aspas (simples ou dupla). Neste caso o arquivo está no mesmo diretório em que o nosso programa está sendo salvo, por isso não há necessidade de especificar diretórios anteriores. <br>\n",
    "Um argumento diferente da função deve ser separado por vírgula, aqui colocamos a função ```header=TRUE``` que significa que a primeira linha do nosso arquivo contém o nome das colunas (*labels*). Caso a primeira linha já contenha dados, vc deve trocar esse argumento por ```header=FALSE``` ."
   ]
  },
  {
   "cell_type": "markdown",
   "metadata": {},
   "source": [
    "Caso o arquivo esteja em um diretório diferente, é necessário identificá-lo. Vamos ver um exemplo:"
   ]
  },
  {
   "cell_type": "markdown",
   "metadata": {},
   "source": [
    "```R\n",
    "mydata <- read.csv(\"C:/Usuarios/Caminho/do/arquivo/Data.csv\", header=TRUE)\n",
    "```"
   ]
  },
  {
   "cell_type": "markdown",
   "metadata": {},
   "source": [
    "### Importando um arquivo TXT "
   ]
  },
  {
   "cell_type": "markdown",
   "metadata": {},
   "source": [
    "Uma outra alternativa é se seus dados não estão no formato CSV, mas em TXT. Nesse caso, você deve usar a seguinte linha de código:"
   ]
  },
  {
   "cell_type": "markdown",
   "metadata": {},
   "source": [
    "``` R \n",
    "mydata2 <- read.table(\"Data2.txt\", header=TRUE)\n",
    "```"
   ]
  },
  {
   "cell_type": "markdown",
   "metadata": {},
   "source": [
    "### Importando um arquivo da internet "
   ]
  },
  {
   "cell_type": "markdown",
   "metadata": {},
   "source": [
    "Caso você queira importar dados diretamente de algum site:"
   ]
  },
  {
   "cell_type": "markdown",
   "metadata": {},
   "source": [
    "``` R\n",
    "library(RCurl)\n",
    "site <- \"https://algum_site\"\n",
    "dados <- getURL(site)\n",
    "mydata3 <- read.table(text = dados, header = TRUE)\n",
    "```"
   ]
  },
  {
   "cell_type": "markdown",
   "metadata": {},
   "source": [
    "Note que é necessário importar a biblioteca ``` RCurl ```, e que a função para ler os dados é a mesma do TXT, ```read.table()```."
   ]
  },
  {
   "cell_type": "markdown",
   "metadata": {},
   "source": [
    "### Alguns problemas "
   ]
  },
  {
   "cell_type": "markdown",
   "metadata": {},
   "source": [
    "É comum importarmos um arquivo e este não parecer estar com um formato adequado, como por exemplo uma coluna sem dados, ou duplicada. Nestes casos, é importante checar se os dados estão da mesma forma que seu programa está lendo. Uma forma de descobrir isso é abrir os dados em um programa como o excel, ou leitor de texto e verificar se a divisão das colunas está sendo feita por vírgula ```,``` ou ponto e vírgula ```;```."
   ]
  },
  {
   "cell_type": "markdown",
   "metadata": {},
   "source": [
    "Caso o separador não seja a vírgula, podemos usar o argumento  ```sep=\" \"``` como o separador desejado:"
   ]
  },
  {
   "cell_type": "markdown",
   "metadata": {},
   "source": [
    "``` R \n",
    "mydata4 <- read.csv(\"Data3.csv\", header=TRUE, sep=\";\")\n",
    "```"
   ]
  },
  {
   "cell_type": "markdown",
   "metadata": {},
   "source": [
    "## Boas Práticas "
   ]
  },
  {
   "cell_type": "markdown",
   "metadata": {},
   "source": [
    "Caso você não queira ter problemas na hora de importar dados para fazer suas análises, são necessárias algumas boas práticas na hora de criar seu arquivo."
   ]
  },
  {
   "cell_type": "markdown",
   "metadata": {},
   "source": [
    "Neste WorkShop, usaremos um dataset da Fifa, que possui dados de jogadores de futebol. Vamos visualizá-lo no Excel para entender sua estrutura:"
   ]
  },
  {
   "cell_type": "markdown",
   "metadata": {},
   "source": [
    "![img2](img/excel_fifa.png)"
   ]
  },
  {
   "cell_type": "markdown",
   "metadata": {},
   "source": [
    "Datasets também podem ser montados num simples arquivo de texto:"
   ]
  },
  {
   "cell_type": "markdown",
   "metadata": {},
   "source": [
    "```\n",
    "\"\",\"sofifa_id\",\"short_name\",\"long_name\",\"age\",\"nationality\",\"club\",\"wage_eur\",\"player_positions\",\"preferred_foot\"\n",
    "\"2600\",223152,\"S. Vilakazi\",\"Sibusiso Vilakazi\",29,\"South Africa\",\"South Africa\",0,\"CAM, CF, RW\",\"Right\"\n",
    "\"11493\",244742,\"A. Ivan\",\"Andreas Ivan\",24,\"Romania\",\"New York Red Bulls\",2000,\"RM, LM\",\"Left\"\n",
    "\"11171\",248710,\"Paulino\",\"Paulino de la Fuente GÃ³mez\",22,\"Spain\",\"Deportivo AlavÃ©s\",5000,\"RM, CAM\",\"Left\"\n",
    "\"5780\",245598,\"I. Baba\",\"Iddrisu Baba Mohammed\",23,\"Ghana\",\"RCD Mallorca\",9000,\"CDM, CM\",\"Right\"\n",
    "\n",
    "```"
   ]
  },
  {
   "cell_type": "markdown",
   "metadata": {},
   "source": [
    "### Como escrever então seu arquivo de dados?"
   ]
  },
  {
   "cell_type": "markdown",
   "metadata": {},
   "source": [
    "1. Comece pela primeira linha e primeira coluna, ou seja, não pule células\n",
    "2. Inclua uma linha de títulos para cada coluna\n",
    "3. Tenha certeza que o número de títulos é igual ao número de colunas dos seus dados\n",
    "4. Não junte células, isso pode fazer seu programa ter problemas na hora de ler o arquivo\n",
    "5. No caso de arquivos de texto, use preferencialmente ```,``` como separador dos dados"
   ]
  },
  {
   "cell_type": "markdown",
   "metadata": {},
   "source": [
    "## Importando o arquivo do Workshop "
   ]
  },
  {
   "cell_type": "code",
   "execution_count": 3,
   "metadata": {
    "scrolled": true
   },
   "outputs": [
    {
     "data": {
      "text/html": [
       "<table>\n",
       "<thead><tr><th scope=col>X</th><th scope=col>sofifa_id</th><th scope=col>short_name</th><th scope=col>long_name</th><th scope=col>age</th><th scope=col>nationality</th><th scope=col>club</th><th scope=col>wage_eur</th><th scope=col>player_positions</th><th scope=col>preferred_foot</th></tr></thead>\n",
       "<tbody>\n",
       "\t<tr><td> 2600                      </td><td>223152                     </td><td>S. Vilakazi                </td><td>Sibusiso Vilakazi          </td><td>29                         </td><td>South Africa               </td><td>South Africa               </td><td>   0                       </td><td>CAM, CF, RW                </td><td>Right                      </td></tr>\n",
       "\t<tr><td>11493                      </td><td>244742                     </td><td>A. Ivan                    </td><td>Andreas Ivan               </td><td>24                         </td><td>Romania                    </td><td>New York Red Bulls         </td><td>2000                       </td><td>RM, LM                     </td><td>Left                       </td></tr>\n",
       "\t<tr><td>11171                      </td><td>248710                     </td><td>Paulino                    </td><td>Paulino de la Fuente GÃ³mez</td><td>22                         </td><td>Spain                      </td><td>Deportivo AlavÃ©s          </td><td>5000                       </td><td>RM, CAM                    </td><td>Left                       </td></tr>\n",
       "\t<tr><td> 5780                      </td><td>245598                     </td><td>I. Baba                    </td><td>Iddrisu Baba Mohammed      </td><td>23                         </td><td>Ghana                      </td><td>RCD Mallorca               </td><td>9000                       </td><td>CDM, CM                    </td><td>Right                      </td></tr>\n",
       "\t<tr><td>17256                      </td><td>247856                     </td><td>B. Nieto                   </td><td>Byron Nieto                </td><td>21                         </td><td>Chile                      </td><td>CD Antofagasta             </td><td>1000                       </td><td>RM, RB                     </td><td>Right                      </td></tr>\n",
       "</tbody>\n",
       "</table>\n"
      ],
      "text/latex": [
       "\\begin{tabular}{r|llllllllll}\n",
       " X & sofifa\\_id & short\\_name & long\\_name & age & nationality & club & wage\\_eur & player\\_positions & preferred\\_foot\\\\\n",
       "\\hline\n",
       "\t  2600                       & 223152                      & S. Vilakazi                 & Sibusiso Vilakazi           & 29                          & South Africa                & South Africa                &    0                        & CAM, CF, RW                 & Right                      \\\\\n",
       "\t 11493                       & 244742                      & A. Ivan                     & Andreas Ivan                & 24                          & Romania                     & New York Red Bulls          & 2000                        & RM, LM                      & Left                       \\\\\n",
       "\t 11171                       & 248710                      & Paulino                     & Paulino de la Fuente GÃ³mez & 22                          & Spain                       & Deportivo AlavÃ©s           & 5000                        & RM, CAM                     & Left                       \\\\\n",
       "\t  5780                       & 245598                      & I. Baba                     & Iddrisu Baba Mohammed       & 23                          & Ghana                       & RCD Mallorca                & 9000                        & CDM, CM                     & Right                      \\\\\n",
       "\t 17256                       & 247856                      & B. Nieto                    & Byron Nieto                 & 21                          & Chile                       & CD Antofagasta              & 1000                        & RM, RB                      & Right                      \\\\\n",
       "\\end{tabular}\n"
      ],
      "text/markdown": [
       "\n",
       "| X | sofifa_id | short_name | long_name | age | nationality | club | wage_eur | player_positions | preferred_foot |\n",
       "|---|---|---|---|---|---|---|---|---|---|\n",
       "|  2600                       | 223152                      | S. Vilakazi                 | Sibusiso Vilakazi           | 29                          | South Africa                | South Africa                |    0                        | CAM, CF, RW                 | Right                       |\n",
       "| 11493                       | 244742                      | A. Ivan                     | Andreas Ivan                | 24                          | Romania                     | New York Red Bulls          | 2000                        | RM, LM                      | Left                        |\n",
       "| 11171                       | 248710                      | Paulino                     | Paulino de la Fuente GÃ³mez | 22                          | Spain                       | Deportivo AlavÃ©s           | 5000                        | RM, CAM                     | Left                        |\n",
       "|  5780                       | 245598                      | I. Baba                     | Iddrisu Baba Mohammed       | 23                          | Ghana                       | RCD Mallorca                | 9000                        | CDM, CM                     | Right                       |\n",
       "| 17256                       | 247856                      | B. Nieto                    | Byron Nieto                 | 21                          | Chile                       | CD Antofagasta              | 1000                        | RM, RB                      | Right                       |\n",
       "\n"
      ],
      "text/plain": [
       "  X     sofifa_id short_name  long_name                   age nationality \n",
       "1  2600 223152    S. Vilakazi Sibusiso Vilakazi           29  South Africa\n",
       "2 11493 244742    A. Ivan     Andreas Ivan                24  Romania     \n",
       "3 11171 248710    Paulino     Paulino de la Fuente GÃ³mez 22  Spain       \n",
       "4  5780 245598    I. Baba     Iddrisu Baba Mohammed       23  Ghana       \n",
       "5 17256 247856    B. Nieto    Byron Nieto                 21  Chile       \n",
       "  club               wage_eur player_positions preferred_foot\n",
       "1 South Africa          0     CAM, CF, RW      Right         \n",
       "2 New York Red Bulls 2000     RM, LM           Left          \n",
       "3 Deportivo AlavÃ©s  5000     RM, CAM          Left          \n",
       "4 RCD Mallorca       9000     CDM, CM          Right         \n",
       "5 CD Antofagasta     1000     RM, RB           Right         "
      ]
     },
     "metadata": {},
     "output_type": "display_data"
    }
   ],
   "source": [
    "mydata <- read.csv(\"fifa_sample_wsR.csv\", header=TRUE)\n",
    "head(mydata, 5)"
   ]
  },
  {
   "cell_type": "markdown",
   "metadata": {},
   "source": [
    "Note que por padrão, R lê seu arquivo CSV como se fosse separado por ```,``` <br>\n",
    "O que acontece então se usarmos outro separador?"
   ]
  },
  {
   "cell_type": "code",
   "execution_count": 4,
   "metadata": {},
   "outputs": [
    {
     "data": {
      "text/html": [
       "<table>\n",
       "<thead><tr><th scope=col>X.sofifa_id.short_name.long_name.age.nationality.club.wage_eur.player_positions.preferred_foot</th></tr></thead>\n",
       "<tbody>\n",
       "\t<tr><td>2600,223152,S. Vilakazi,Sibusiso Vilakazi,29,South Africa,South Africa,0,CAM, CF, RW,Right   </td></tr>\n",
       "\t<tr><td>11493,244742,A. Ivan,Andreas Ivan,24,Romania,New York Red Bulls,2000,RM, LM,Left             </td></tr>\n",
       "\t<tr><td>11171,248710,Paulino,Paulino de la Fuente GÃ³mez,22,Spain,Deportivo AlavÃ©s,5000,RM, CAM,Left</td></tr>\n",
       "\t<tr><td>5780,245598,I. Baba,Iddrisu Baba Mohammed,23,Ghana,RCD Mallorca,9000,CDM, CM,Right           </td></tr>\n",
       "\t<tr><td>17256,247856,B. Nieto,Byron Nieto,21,Chile,CD Antofagasta,1000,RM, RB,Right                  </td></tr>\n",
       "</tbody>\n",
       "</table>\n"
      ],
      "text/latex": [
       "\\begin{tabular}{r|l}\n",
       " X.sofifa\\_id.short\\_name.long\\_name.age.nationality.club.wage\\_eur.player\\_positions.preferred\\_foot\\\\\n",
       "\\hline\n",
       "\t 2600,223152,S. Vilakazi,Sibusiso Vilakazi,29,South Africa,South Africa,0,CAM, CF, RW,Right   \\\\\n",
       "\t 11493,244742,A. Ivan,Andreas Ivan,24,Romania,New York Red Bulls,2000,RM, LM,Left             \\\\\n",
       "\t 11171,248710,Paulino,Paulino de la Fuente GÃ³mez,22,Spain,Deportivo AlavÃ©s,5000,RM, CAM,Left\\\\\n",
       "\t 5780,245598,I. Baba,Iddrisu Baba Mohammed,23,Ghana,RCD Mallorca,9000,CDM, CM,Right           \\\\\n",
       "\t 17256,247856,B. Nieto,Byron Nieto,21,Chile,CD Antofagasta,1000,RM, RB,Right                  \\\\\n",
       "\\end{tabular}\n"
      ],
      "text/markdown": [
       "\n",
       "| X.sofifa_id.short_name.long_name.age.nationality.club.wage_eur.player_positions.preferred_foot |\n",
       "|---|\n",
       "| 2600,223152,S. Vilakazi,Sibusiso Vilakazi,29,South Africa,South Africa,0,CAM, CF, RW,Right    |\n",
       "| 11493,244742,A. Ivan,Andreas Ivan,24,Romania,New York Red Bulls,2000,RM, LM,Left              |\n",
       "| 11171,248710,Paulino,Paulino de la Fuente GÃ³mez,22,Spain,Deportivo AlavÃ©s,5000,RM, CAM,Left |\n",
       "| 5780,245598,I. Baba,Iddrisu Baba Mohammed,23,Ghana,RCD Mallorca,9000,CDM, CM,Right            |\n",
       "| 17256,247856,B. Nieto,Byron Nieto,21,Chile,CD Antofagasta,1000,RM, RB,Right                   |\n",
       "\n"
      ],
      "text/plain": [
       "  X.sofifa_id.short_name.long_name.age.nationality.club.wage_eur.player_positions.preferred_foot\n",
       "1 2600,223152,S. Vilakazi,Sibusiso Vilakazi,29,South Africa,South Africa,0,CAM, CF, RW,Right    \n",
       "2 11493,244742,A. Ivan,Andreas Ivan,24,Romania,New York Red Bulls,2000,RM, LM,Left              \n",
       "3 11171,248710,Paulino,Paulino de la Fuente GÃ³mez,22,Spain,Deportivo AlavÃ©s,5000,RM, CAM,Left \n",
       "4 5780,245598,I. Baba,Iddrisu Baba Mohammed,23,Ghana,RCD Mallorca,9000,CDM, CM,Right            \n",
       "5 17256,247856,B. Nieto,Byron Nieto,21,Chile,CD Antofagasta,1000,RM, RB,Right                   "
      ]
     },
     "metadata": {},
     "output_type": "display_data"
    }
   ],
   "source": [
    "my_wrong_data <- read.csv(\"fifa_sample_wsR.csv\", header=TRUE, sep=\";\")\n",
    "head(my_wrong_data, 5)"
   ]
  },
  {
   "cell_type": "markdown",
   "metadata": {},
   "source": [
    "<img src=\"img/surprised_face.jpg\" width=\"300\"/>"
   ]
  }
 ],
 "metadata": {
  "kernelspec": {
   "display_name": "R",
   "language": "R",
   "name": "ir"
  },
  "language_info": {
   "codemirror_mode": "r",
   "file_extension": ".r",
   "mimetype": "text/x-r-source",
   "name": "R",
   "pygments_lexer": "r",
   "version": "3.6.1"
  }
 },
 "nbformat": 4,
 "nbformat_minor": 4
}
