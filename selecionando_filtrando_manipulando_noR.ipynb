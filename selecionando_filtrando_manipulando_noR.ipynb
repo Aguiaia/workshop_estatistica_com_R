{
 "cells": [
  {
   "cell_type": "markdown",
   "metadata": {},
   "source": [
    "# Manipulando, analisando, filtrando e resumindo dados em R\n",
    "A linguagem R tem como um de seus grandes destaques o pacote Tidyverse.<br>\n",
    "Para falar a verdade, o Tidyverse não é um pacote em si, mas sim um conjunto de pacotes.<br>\n",
    "Dentro dele, encotramos o `dplyr`, que é instaldo automaticamente com o `install.packages(\"tidyverse\")`.\n",
    "Vamos aqui fazer uma análise do dataset `Consumo_cerveja.xlsx`. <br>\n",
    "Esse dataset é o que chamamos de uma série temporal: ele tem uma sequência de datas e os valores de certas variáveis nesta sequência.<br>\n",
    "Vamos dar uma olhada nessas variáveis e ver se descobrimos algo.<br>"
   ]
  },
  {
   "cell_type": "markdown",
   "metadata": {},
   "source": [
    "Aqui uma [Cheat Sheet do dplyr](https://github.com/rstudio/cheatsheets/blob/master/data-transformation.pdf)"
   ]
  },
  {
   "cell_type": "code",
   "execution_count": 1,
   "metadata": {},
   "outputs": [
    {
     "name": "stderr",
     "output_type": "stream",
     "text": [
      "\n",
      "Attaching package: ‘dplyr’\n",
      "\n",
      "\n",
      "The following objects are masked from ‘package:stats’:\n",
      "\n",
      "    filter, lag\n",
      "\n",
      "\n",
      "The following objects are masked from ‘package:base’:\n",
      "\n",
      "    intersect, setdiff, setequal, union\n",
      "\n",
      "\n"
     ]
    }
   ],
   "source": [
    "library(\"dplyr\")\n",
    "library(\"readxl\")"
   ]
  },
  {
   "cell_type": "code",
   "execution_count": 2,
   "metadata": {},
   "outputs": [],
   "source": [
    "dataset <- read_excel(\"Consumo_cerveja.xlsx\")"
   ]
  },
  {
   "cell_type": "markdown",
   "metadata": {},
   "source": [
    "Agora que lemos o nosso arquivo para dentro do ambiente do R, vamos dar uma olhada nas colunas que temos. Para isso vamos usar a função nativa do `R` , a `names()`"
   ]
  },
  {
   "cell_type": "code",
   "execution_count": 3,
   "metadata": {},
   "outputs": [
    {
     "data": {
      "text/html": [
       "<style>\n",
       ".list-inline {list-style: none; margin:0; padding: 0}\n",
       ".list-inline>li {display: inline-block}\n",
       ".list-inline>li:not(:last-child)::after {content: \"\\00b7\"; padding: 0 .5ex}\n",
       "</style>\n",
       "<ol class=list-inline><li>'Data'</li><li>'Temperatura Media (C)'</li><li>'Temperatura Minima (C)'</li><li>'Temperatura Maxima (C)'</li><li>'Precipitacao (mm)'</li><li>'Final de Semana'</li><li>'Consumo de cerveja (litros)'</li></ol>\n"
      ],
      "text/latex": [
       "\\begin{enumerate*}\n",
       "\\item 'Data'\n",
       "\\item 'Temperatura Media (C)'\n",
       "\\item 'Temperatura Minima (C)'\n",
       "\\item 'Temperatura Maxima (C)'\n",
       "\\item 'Precipitacao (mm)'\n",
       "\\item 'Final de Semana'\n",
       "\\item 'Consumo de cerveja (litros)'\n",
       "\\end{enumerate*}\n"
      ],
      "text/markdown": [
       "1. 'Data'\n",
       "2. 'Temperatura Media (C)'\n",
       "3. 'Temperatura Minima (C)'\n",
       "4. 'Temperatura Maxima (C)'\n",
       "5. 'Precipitacao (mm)'\n",
       "6. 'Final de Semana'\n",
       "7. 'Consumo de cerveja (litros)'\n",
       "\n",
       "\n"
      ],
      "text/plain": [
       "[1] \"Data\"                        \"Temperatura Media (C)\"      \n",
       "[3] \"Temperatura Minima (C)\"      \"Temperatura Maxima (C)\"     \n",
       "[5] \"Precipitacao (mm)\"           \"Final de Semana\"            \n",
       "[7] \"Consumo de cerveja (litros)\""
      ]
     },
     "metadata": {},
     "output_type": "display_data"
    }
   ],
   "source": [
    "names(dataset)"
   ]
  },
  {
   "cell_type": "markdown",
   "metadata": {},
   "source": [
    "Vamos dar uma olhada no nosso dataset então. <br>\n",
    "Para imprimir as primeiras `n` linhas nós usamos um comando do tipo `dataset[1:n,]`.<br>\n",
    "A vírgula no final dos colchetes indica que todas as colunas devem ser selecionadas.<br>\n",
    "Se a ideia fosse selecionar da linha 5 até a 25, das colunas 3 a 5 usariamos o seguinte comando:<br>\n",
    "`dataset[5:25,3:5]`<br>\n",
    "Agora se quiséssemos apenas a linha 22 e a 27 das colunas 2 e 5, usariamos:<br>\n",
    "`dataset[c(22,27),c(2,5)]`"
   ]
  },
  {
   "cell_type": "code",
   "execution_count": 4,
   "metadata": {},
   "outputs": [
    {
     "data": {
      "text/html": [
       "<table>\n",
       "<caption>A tibble: 5 × 7</caption>\n",
       "<thead>\n",
       "\t<tr><th scope=col>Data</th><th scope=col>Temperatura Media (C)</th><th scope=col>Temperatura Minima (C)</th><th scope=col>Temperatura Maxima (C)</th><th scope=col>Precipitacao (mm)</th><th scope=col>Final de Semana</th><th scope=col>Consumo de cerveja (litros)</th></tr>\n",
       "\t<tr><th scope=col>&lt;chr&gt;</th><th scope=col>&lt;dbl&gt;</th><th scope=col>&lt;dbl&gt;</th><th scope=col>&lt;dbl&gt;</th><th scope=col>&lt;dbl&gt;</th><th scope=col>&lt;dbl&gt;</th><th scope=col>&lt;dbl&gt;</th></tr>\n",
       "</thead>\n",
       "<tbody>\n",
       "\t<tr><td>2015-01-01</td><td>27.30</td><td>23.9</td><td>32.5</td><td>0.0</td><td>0</td><td>25461</td></tr>\n",
       "\t<tr><td>2015-01-02</td><td>27.02</td><td>24.5</td><td>33.5</td><td>0.0</td><td>0</td><td>28972</td></tr>\n",
       "\t<tr><td>2015-01-03</td><td>24.82</td><td>22.4</td><td>29.9</td><td>0.0</td><td>1</td><td>30814</td></tr>\n",
       "\t<tr><td>2015-01-04</td><td>23.98</td><td>21.5</td><td>28.6</td><td>1.2</td><td>1</td><td>29799</td></tr>\n",
       "\t<tr><td>2015-01-05</td><td>23.82</td><td>21.0</td><td>28.3</td><td>0.0</td><td>0</td><td>28900</td></tr>\n",
       "</tbody>\n",
       "</table>\n"
      ],
      "text/latex": [
       "A tibble: 5 × 7\n",
       "\\begin{tabular}{lllllll}\n",
       " Data & Temperatura Media (C) & Temperatura Minima (C) & Temperatura Maxima (C) & Precipitacao (mm) & Final de Semana & Consumo de cerveja (litros)\\\\\n",
       " <chr> & <dbl> & <dbl> & <dbl> & <dbl> & <dbl> & <dbl>\\\\\n",
       "\\hline\n",
       "\t 2015-01-01 & 27.30 & 23.9 & 32.5 & 0.0 & 0 & 25461\\\\\n",
       "\t 2015-01-02 & 27.02 & 24.5 & 33.5 & 0.0 & 0 & 28972\\\\\n",
       "\t 2015-01-03 & 24.82 & 22.4 & 29.9 & 0.0 & 1 & 30814\\\\\n",
       "\t 2015-01-04 & 23.98 & 21.5 & 28.6 & 1.2 & 1 & 29799\\\\\n",
       "\t 2015-01-05 & 23.82 & 21.0 & 28.3 & 0.0 & 0 & 28900\\\\\n",
       "\\end{tabular}\n"
      ],
      "text/markdown": [
       "\n",
       "A tibble: 5 × 7\n",
       "\n",
       "| Data &lt;chr&gt; | Temperatura Media (C) &lt;dbl&gt; | Temperatura Minima (C) &lt;dbl&gt; | Temperatura Maxima (C) &lt;dbl&gt; | Precipitacao (mm) &lt;dbl&gt; | Final de Semana &lt;dbl&gt; | Consumo de cerveja (litros) &lt;dbl&gt; |\n",
       "|---|---|---|---|---|---|---|\n",
       "| 2015-01-01 | 27.30 | 23.9 | 32.5 | 0.0 | 0 | 25461 |\n",
       "| 2015-01-02 | 27.02 | 24.5 | 33.5 | 0.0 | 0 | 28972 |\n",
       "| 2015-01-03 | 24.82 | 22.4 | 29.9 | 0.0 | 1 | 30814 |\n",
       "| 2015-01-04 | 23.98 | 21.5 | 28.6 | 1.2 | 1 | 29799 |\n",
       "| 2015-01-05 | 23.82 | 21.0 | 28.3 | 0.0 | 0 | 28900 |\n",
       "\n"
      ],
      "text/plain": [
       "  Data       Temperatura Media (C) Temperatura Minima (C)\n",
       "1 2015-01-01 27.30                 23.9                  \n",
       "2 2015-01-02 27.02                 24.5                  \n",
       "3 2015-01-03 24.82                 22.4                  \n",
       "4 2015-01-04 23.98                 21.5                  \n",
       "5 2015-01-05 23.82                 21.0                  \n",
       "  Temperatura Maxima (C) Precipitacao (mm) Final de Semana\n",
       "1 32.5                   0.0               0              \n",
       "2 33.5                   0.0               0              \n",
       "3 29.9                   0.0               1              \n",
       "4 28.6                   1.2               1              \n",
       "5 28.3                   0.0               0              \n",
       "  Consumo de cerveja (litros)\n",
       "1 25461                      \n",
       "2 28972                      \n",
       "3 30814                      \n",
       "4 29799                      \n",
       "5 28900                      "
      ]
     },
     "metadata": {},
     "output_type": "display_data"
    }
   ],
   "source": [
    "dataset[1:5,]"
   ]
  },
  {
   "cell_type": "markdown",
   "metadata": {},
   "source": [
    "Podemos ver que embaixo dos nomes das variáveis, temos valores como `<chr>` e `<dbl>`. <br>\n",
    "Isso indica o tipo da variável interpretada pelo R.<br>\n",
    "Por exemplo, no caso da data, o R interpretou como `<chr>`, ou seja, um texto. <br>\n",
    "No caso das temperaturas mínimas e máximas foi interpretado `<dbl>` que significa um número com casas decimais. <br>\n",
    "No caso da variável 'Fim de Semana', que foi interpretada como numero com casas decimais, é guardado o valor `1` se o dia corresponder a um dia do fim de semana e `0` se for um dia comum. Isso é o que chamamos de uma `variável lógica (binária)`. \n",
    "Ou seja, o `R` interpretou de forma errada o tipo da nossa variável, já que não é um numero com casas decimais e sim um valor lógico.\n",
    "Vamos arrumar isso:"
   ]
  },
  {
   "cell_type": "code",
   "execution_count": 5,
   "metadata": {},
   "outputs": [],
   "source": [
    "dataset$`Final de Semana` <- as.logical(dataset$`Final de Semana`)\n",
    "#o `$` é usado para selecionar uma coluna"
   ]
  },
  {
   "cell_type": "markdown",
   "metadata": {},
   "source": [
    "Vamos ver que, agora, o valor da variável é `<lgl>`, como queríamos."
   ]
  },
  {
   "cell_type": "code",
   "execution_count": 6,
   "metadata": {},
   "outputs": [
    {
     "data": {
      "text/html": [
       "<table>\n",
       "<caption>A tibble: 5 × 7</caption>\n",
       "<thead>\n",
       "\t<tr><th scope=col>Data</th><th scope=col>Temperatura Media (C)</th><th scope=col>Temperatura Minima (C)</th><th scope=col>Temperatura Maxima (C)</th><th scope=col>Precipitacao (mm)</th><th scope=col>Final de Semana</th><th scope=col>Consumo de cerveja (litros)</th></tr>\n",
       "\t<tr><th scope=col>&lt;chr&gt;</th><th scope=col>&lt;dbl&gt;</th><th scope=col>&lt;dbl&gt;</th><th scope=col>&lt;dbl&gt;</th><th scope=col>&lt;dbl&gt;</th><th scope=col>&lt;lgl&gt;</th><th scope=col>&lt;dbl&gt;</th></tr>\n",
       "</thead>\n",
       "<tbody>\n",
       "\t<tr><td>2015-01-01</td><td>27.30</td><td>23.9</td><td>32.5</td><td>0.0</td><td>FALSE</td><td>25461</td></tr>\n",
       "\t<tr><td>2015-01-02</td><td>27.02</td><td>24.5</td><td>33.5</td><td>0.0</td><td>FALSE</td><td>28972</td></tr>\n",
       "\t<tr><td>2015-01-03</td><td>24.82</td><td>22.4</td><td>29.9</td><td>0.0</td><td> TRUE</td><td>30814</td></tr>\n",
       "\t<tr><td>2015-01-04</td><td>23.98</td><td>21.5</td><td>28.6</td><td>1.2</td><td> TRUE</td><td>29799</td></tr>\n",
       "\t<tr><td>2015-01-05</td><td>23.82</td><td>21.0</td><td>28.3</td><td>0.0</td><td>FALSE</td><td>28900</td></tr>\n",
       "</tbody>\n",
       "</table>\n"
      ],
      "text/latex": [
       "A tibble: 5 × 7\n",
       "\\begin{tabular}{lllllll}\n",
       " Data & Temperatura Media (C) & Temperatura Minima (C) & Temperatura Maxima (C) & Precipitacao (mm) & Final de Semana & Consumo de cerveja (litros)\\\\\n",
       " <chr> & <dbl> & <dbl> & <dbl> & <dbl> & <lgl> & <dbl>\\\\\n",
       "\\hline\n",
       "\t 2015-01-01 & 27.30 & 23.9 & 32.5 & 0.0 & FALSE & 25461\\\\\n",
       "\t 2015-01-02 & 27.02 & 24.5 & 33.5 & 0.0 & FALSE & 28972\\\\\n",
       "\t 2015-01-03 & 24.82 & 22.4 & 29.9 & 0.0 &  TRUE & 30814\\\\\n",
       "\t 2015-01-04 & 23.98 & 21.5 & 28.6 & 1.2 &  TRUE & 29799\\\\\n",
       "\t 2015-01-05 & 23.82 & 21.0 & 28.3 & 0.0 & FALSE & 28900\\\\\n",
       "\\end{tabular}\n"
      ],
      "text/markdown": [
       "\n",
       "A tibble: 5 × 7\n",
       "\n",
       "| Data &lt;chr&gt; | Temperatura Media (C) &lt;dbl&gt; | Temperatura Minima (C) &lt;dbl&gt; | Temperatura Maxima (C) &lt;dbl&gt; | Precipitacao (mm) &lt;dbl&gt; | Final de Semana &lt;lgl&gt; | Consumo de cerveja (litros) &lt;dbl&gt; |\n",
       "|---|---|---|---|---|---|---|\n",
       "| 2015-01-01 | 27.30 | 23.9 | 32.5 | 0.0 | FALSE | 25461 |\n",
       "| 2015-01-02 | 27.02 | 24.5 | 33.5 | 0.0 | FALSE | 28972 |\n",
       "| 2015-01-03 | 24.82 | 22.4 | 29.9 | 0.0 |  TRUE | 30814 |\n",
       "| 2015-01-04 | 23.98 | 21.5 | 28.6 | 1.2 |  TRUE | 29799 |\n",
       "| 2015-01-05 | 23.82 | 21.0 | 28.3 | 0.0 | FALSE | 28900 |\n",
       "\n"
      ],
      "text/plain": [
       "  Data       Temperatura Media (C) Temperatura Minima (C)\n",
       "1 2015-01-01 27.30                 23.9                  \n",
       "2 2015-01-02 27.02                 24.5                  \n",
       "3 2015-01-03 24.82                 22.4                  \n",
       "4 2015-01-04 23.98                 21.5                  \n",
       "5 2015-01-05 23.82                 21.0                  \n",
       "  Temperatura Maxima (C) Precipitacao (mm) Final de Semana\n",
       "1 32.5                   0.0               FALSE          \n",
       "2 33.5                   0.0               FALSE          \n",
       "3 29.9                   0.0                TRUE          \n",
       "4 28.6                   1.2                TRUE          \n",
       "5 28.3                   0.0               FALSE          \n",
       "  Consumo de cerveja (litros)\n",
       "1 25461                      \n",
       "2 28972                      \n",
       "3 30814                      \n",
       "4 29799                      \n",
       "5 28900                      "
      ]
     },
     "metadata": {},
     "output_type": "display_data"
    }
   ],
   "source": [
    "dataset[1:5,]"
   ]
  },
  {
   "cell_type": "markdown",
   "metadata": {},
   "source": [
    "## Deep dive in dplyr"
   ]
  },
  {
   "cell_type": "markdown",
   "metadata": {},
   "source": [
    "Vamos agora nos aprofundar na biblioteca `dplyr`. <br>\n",
    "Essa biblioteca é boa porque deixa o nosso código extremamente legível para um ser humano.<br>\n",
    "Isso ocorre porque ela usa uma estrutura de \"verbos\" que regem o que será feito com a base de dados.<br>\n",
    "Os verbos existentes na biblioteca são os seguintes:\n",
    "1. `mutate()` - que adiciona novas variáveis (colunas) ao dataset a partir de operações/ aplicação de funções nas variáveis existentes \n",
    "2. `select()` - seleciona as colunas com base em critérios de nome\n",
    "3. `filter()` - filtra os dados com base em valores.\n",
    "4. `summarise()` - reduz um grande número de valores para valores resumo (como média, contagem, desvio, etc). Para quem mexe com excel, aqui seria algo para criar uma tabela dinâmica (pivot table). Em geral é usado com `group_by()`\n",
    "5. `arrange()`- muda a ordenação das linhas com base em algum critério\n",
    "<br>\n",
    "<br>\n",
    "Todos esses verbos podem ser performados tendo como critério um grupo, usando o `group_by()` , mas é mais comum usar isso no `summarise()`."
   ]
  },
  {
   "cell_type": "markdown",
   "metadata": {},
   "source": [
    "A estrutura de utilização dos verbos é bem simples: <br>\n",
    "`base de dados %>% verbo`"
   ]
  },
  {
   "cell_type": "markdown",
   "metadata": {},
   "source": [
    "Podemos aplicar vários verbos em seguida também, com a seguinte estutura (a ordem de execução será a ordem desses verbos): <br>\n",
    "`base de dados %>% verbo1 %>% verbo2 %>% verbo3`"
   ]
  },
  {
   "cell_type": "markdown",
   "metadata": {},
   "source": [
    "### `mutate()` - adicionando variáveis"
   ]
  },
  {
   "cell_type": "markdown",
   "metadata": {},
   "source": [
    "Vamos aqui adicionar duas variáveis a partir de funções aplicadas em outras.<br>\n",
    "Primeiro, vamo classificar dias com precipitação maior que 10mm como dias chuvosos, criando uma coluna lógica. <br>\n",
    "A segunda coluna criada será a de amplitude térmica, obtida com a diferença entre as temperaturas máximas e mínimas."
   ]
  },
  {
   "cell_type": "code",
   "execution_count": 8,
   "metadata": {},
   "outputs": [
    {
     "data": {
      "text/html": [
       "<table>\n",
       "<caption>A tibble: 365 × 9</caption>\n",
       "<thead>\n",
       "\t<tr><th scope=col>Data</th><th scope=col>Temperatura Media (C)</th><th scope=col>Temperatura Minima (C)</th><th scope=col>Temperatura Maxima (C)</th><th scope=col>Precipitacao (mm)</th><th scope=col>Final de Semana</th><th scope=col>Consumo de cerveja (litros)</th><th scope=col>Dia chuvoso</th><th scope=col>Amplitude térmica (C)</th></tr>\n",
       "\t<tr><th scope=col>&lt;chr&gt;</th><th scope=col>&lt;dbl&gt;</th><th scope=col>&lt;dbl&gt;</th><th scope=col>&lt;dbl&gt;</th><th scope=col>&lt;dbl&gt;</th><th scope=col>&lt;lgl&gt;</th><th scope=col>&lt;dbl&gt;</th><th scope=col>&lt;lgl&gt;</th><th scope=col>&lt;dbl&gt;</th></tr>\n",
       "</thead>\n",
       "<tbody>\n",
       "\t<tr><td>2015-01-01</td><td>27.30</td><td>23.9</td><td>32.5</td><td> 0.0</td><td>FALSE</td><td>25461</td><td>FALSE</td><td> 8.6</td></tr>\n",
       "\t<tr><td>2015-01-02</td><td>27.02</td><td>24.5</td><td>33.5</td><td> 0.0</td><td>FALSE</td><td>28972</td><td>FALSE</td><td> 9.0</td></tr>\n",
       "\t<tr><td>2015-01-03</td><td>24.82</td><td>22.4</td><td>29.9</td><td> 0.0</td><td> TRUE</td><td>30814</td><td>FALSE</td><td> 7.5</td></tr>\n",
       "\t<tr><td>2015-01-04</td><td>23.98</td><td>21.5</td><td>28.6</td><td> 1.2</td><td> TRUE</td><td>29799</td><td>FALSE</td><td> 7.1</td></tr>\n",
       "\t<tr><td>2015-01-05</td><td>23.82</td><td>21.0</td><td>28.3</td><td> 0.0</td><td>FALSE</td><td>28900</td><td>FALSE</td><td> 7.3</td></tr>\n",
       "\t<tr><td>2015-01-06</td><td>23.78</td><td>20.1</td><td>30.5</td><td>12.2</td><td>FALSE</td><td>28218</td><td> TRUE</td><td>10.4</td></tr>\n",
       "\t<tr><td>2015-01-07</td><td>24.00</td><td>19.5</td><td>33.7</td><td> 0.0</td><td>FALSE</td><td>29732</td><td>FALSE</td><td>14.2</td></tr>\n",
       "\t<tr><td>2015-01-08</td><td>24.90</td><td>19.5</td><td>32.8</td><td>48.6</td><td>FALSE</td><td>28397</td><td> TRUE</td><td>13.3</td></tr>\n",
       "\t<tr><td>2015-01-09</td><td>28.20</td><td>21.9</td><td>34.0</td><td> 4.4</td><td>FALSE</td><td>24886</td><td>FALSE</td><td>12.1</td></tr>\n",
       "\t<tr><td>2015-01-10</td><td>26.76</td><td>22.1</td><td>34.2</td><td> 0.0</td><td> TRUE</td><td>37937</td><td>FALSE</td><td>12.1</td></tr>\n",
       "\t<tr><td>2015-01-11</td><td>27.62</td><td>22.2</td><td>34.8</td><td> 3.4</td><td> TRUE</td><td>36254</td><td>FALSE</td><td>12.6</td></tr>\n",
       "\t<tr><td>2015-01-12</td><td>25.96</td><td>21.4</td><td>35.4</td><td> 0.0</td><td>FALSE</td><td>25743</td><td>FALSE</td><td>14.0</td></tr>\n",
       "\t<tr><td>2015-01-13</td><td>25.52</td><td>21.2</td><td>34.8</td><td> 0.8</td><td>FALSE</td><td>26990</td><td>FALSE</td><td>13.6</td></tr>\n",
       "\t<tr><td>2015-01-14</td><td>25.96</td><td>21.3</td><td>34.0</td><td> 1.6</td><td>FALSE</td><td>31825</td><td>FALSE</td><td>12.7</td></tr>\n",
       "\t<tr><td>2015-01-15</td><td>25.86</td><td>21.5</td><td>32.8</td><td> 3.0</td><td>FALSE</td><td>25724</td><td>FALSE</td><td>11.3</td></tr>\n",
       "\t<tr><td>2015-01-16</td><td>26.50</td><td>22.3</td><td>32.7</td><td> 2.0</td><td>FALSE</td><td>29938</td><td>FALSE</td><td>10.4</td></tr>\n",
       "\t<tr><td>2015-01-17</td><td>28.86</td><td>22.0</td><td>35.8</td><td> 0.0</td><td> TRUE</td><td>37690</td><td>FALSE</td><td>13.8</td></tr>\n",
       "\t<tr><td>2015-01-18</td><td>28.26</td><td>23.4</td><td>35.6</td><td> 0.0</td><td> TRUE</td><td>30524</td><td>FALSE</td><td>12.2</td></tr>\n",
       "\t<tr><td>2015-01-19</td><td>28.22</td><td>22.7</td><td>36.5</td><td> 3.7</td><td>FALSE</td><td>29265</td><td>FALSE</td><td>13.8</td></tr>\n",
       "\t<tr><td>2015-01-20</td><td>27.68</td><td>23.3</td><td>35.6</td><td> 0.6</td><td>FALSE</td><td>35127</td><td>FALSE</td><td>12.3</td></tr>\n",
       "\t<tr><td>2015-01-21</td><td>25.32</td><td>22.7</td><td>30.9</td><td> 0.0</td><td>FALSE</td><td>29130</td><td>FALSE</td><td> 8.2</td></tr>\n",
       "\t<tr><td>2015-01-22</td><td>21.74</td><td>19.2</td><td>26.1</td><td>31.0</td><td>FALSE</td><td>25795</td><td> TRUE</td><td> 6.9</td></tr>\n",
       "\t<tr><td>2015-01-23</td><td>21.04</td><td>18.5</td><td>26.1</td><td> 3.6</td><td>FALSE</td><td>21784</td><td>FALSE</td><td> 7.6</td></tr>\n",
       "\t<tr><td>2015-01-24</td><td>23.12</td><td>19.0</td><td>29.4</td><td>13.0</td><td> TRUE</td><td>28348</td><td> TRUE</td><td>10.4</td></tr>\n",
       "\t<tr><td>2015-01-25</td><td>24.40</td><td>18.1</td><td>30.0</td><td> 0.0</td><td> TRUE</td><td>31088</td><td>FALSE</td><td>11.9</td></tr>\n",
       "\t<tr><td>2015-01-26</td><td>22.40</td><td>18.9</td><td>28.7</td><td>20.8</td><td>FALSE</td><td>21520</td><td> TRUE</td><td> 9.8</td></tr>\n",
       "\t<tr><td>2015-01-27</td><td>23.60</td><td>20.5</td><td>28.7</td><td> 1.2</td><td>FALSE</td><td>29972</td><td>FALSE</td><td> 8.2</td></tr>\n",
       "\t<tr><td>2015-01-28</td><td>25.68</td><td>20.1</td><td>29.9</td><td> 4.9</td><td>FALSE</td><td>22603</td><td>FALSE</td><td> 9.8</td></tr>\n",
       "\t<tr><td>2015-01-29</td><td>25.00</td><td>21.5</td><td>29.2</td><td> 0.0</td><td>FALSE</td><td>22696</td><td>FALSE</td><td> 7.7</td></tr>\n",
       "\t<tr><td>2015-01-30</td><td>22.80</td><td>20.9</td><td>26.9</td><td> 0.0</td><td>FALSE</td><td>26845</td><td>FALSE</td><td> 6.0</td></tr>\n",
       "\t<tr><td>⋮</td><td>⋮</td><td>⋮</td><td>⋮</td><td>⋮</td><td>⋮</td><td>⋮</td><td>⋮</td><td>⋮</td></tr>\n",
       "\t<tr><td>2015-12-02</td><td>22.10</td><td>18.2</td><td>29.4</td><td> 0.0</td><td>FALSE</td><td>30471</td><td>FALSE</td><td>11.2</td></tr>\n",
       "\t<tr><td>2015-12-03</td><td>22.44</td><td>20.2</td><td>26.1</td><td> 0.0</td><td>FALSE</td><td>28405</td><td>FALSE</td><td> 5.9</td></tr>\n",
       "\t<tr><td>2015-12-04</td><td>22.76</td><td>19.0</td><td>29.1</td><td> 0.0</td><td>FALSE</td><td>29513</td><td>FALSE</td><td>10.1</td></tr>\n",
       "\t<tr><td>2015-12-05</td><td>24.80</td><td>19.5</td><td>30.6</td><td> 0.1</td><td> TRUE</td><td>32451</td><td>FALSE</td><td>11.1</td></tr>\n",
       "\t<tr><td>2015-12-06</td><td>23.12</td><td>20.6</td><td>28.0</td><td> 0.1</td><td> TRUE</td><td>32780</td><td>FALSE</td><td> 7.4</td></tr>\n",
       "\t<tr><td>2015-12-07</td><td>20.04</td><td>18.0</td><td>23.9</td><td>47.8</td><td>FALSE</td><td>23375</td><td> TRUE</td><td> 5.9</td></tr>\n",
       "\t<tr><td>2015-12-08</td><td>21.70</td><td>18.0</td><td>28.0</td><td> 0.0</td><td>FALSE</td><td>27713</td><td>FALSE</td><td>10.0</td></tr>\n",
       "\t<tr><td>2015-12-09</td><td>23.96</td><td>19.6</td><td>27.9</td><td> 0.0</td><td>FALSE</td><td>27137</td><td>FALSE</td><td> 8.3</td></tr>\n",
       "\t<tr><td>2015-12-10</td><td>24.00</td><td>22.2</td><td>27.7</td><td> 0.0</td><td>FALSE</td><td>22933</td><td>FALSE</td><td> 5.5</td></tr>\n",
       "\t<tr><td>2015-12-11</td><td>24.04</td><td>20.7</td><td>30.3</td><td> 0.0</td><td>FALSE</td><td>30740</td><td>FALSE</td><td> 9.6</td></tr>\n",
       "\t<tr><td>2015-12-12</td><td>23.92</td><td>20.6</td><td>30.8</td><td> 0.0</td><td> TRUE</td><td>29579</td><td>FALSE</td><td>10.2</td></tr>\n",
       "\t<tr><td>2015-12-13</td><td>24.54</td><td>19.3</td><td>31.0</td><td>12.2</td><td> TRUE</td><td>29188</td><td> TRUE</td><td>11.7</td></tr>\n",
       "\t<tr><td>2015-12-14</td><td>26.28</td><td>21.1</td><td>32.5</td><td> 2.0</td><td>FALSE</td><td>28131</td><td>FALSE</td><td>11.4</td></tr>\n",
       "\t<tr><td>2015-12-15</td><td>25.66</td><td>20.6</td><td>32.8</td><td> 4.0</td><td>FALSE</td><td>28617</td><td>FALSE</td><td>12.2</td></tr>\n",
       "\t<tr><td>2015-12-16</td><td>22.04</td><td>20.7</td><td>24.8</td><td> 1.5</td><td>FALSE</td><td>21062</td><td>FALSE</td><td> 4.1</td></tr>\n",
       "\t<tr><td>2015-12-17</td><td>23.32</td><td>18.9</td><td>28.7</td><td> 0.0</td><td>FALSE</td><td>24337</td><td>FALSE</td><td> 9.8</td></tr>\n",
       "\t<tr><td>2015-12-18</td><td>26.42</td><td>19.6</td><td>33.5</td><td> 0.1</td><td>FALSE</td><td>27042</td><td>FALSE</td><td>13.9</td></tr>\n",
       "\t<tr><td>2015-12-19</td><td>23.74</td><td>19.8</td><td>31.3</td><td> 1.3</td><td> TRUE</td><td>32536</td><td>FALSE</td><td>11.5</td></tr>\n",
       "\t<tr><td>2015-12-20</td><td>22.84</td><td>19.6</td><td>29.0</td><td> 8.4</td><td> TRUE</td><td>30127</td><td>FALSE</td><td> 9.4</td></tr>\n",
       "\t<tr><td>2015-12-21</td><td>23.12</td><td>19.6</td><td>29.1</td><td>27.2</td><td>FALSE</td><td>24834</td><td> TRUE</td><td> 9.5</td></tr>\n",
       "\t<tr><td>2015-12-22</td><td>24.60</td><td>19.6</td><td>32.4</td><td>43.0</td><td>FALSE</td><td>26828</td><td> TRUE</td><td>12.8</td></tr>\n",
       "\t<tr><td>2015-12-23</td><td>27.46</td><td>22.1</td><td>32.4</td><td> 3.0</td><td>FALSE</td><td>26468</td><td>FALSE</td><td>10.3</td></tr>\n",
       "\t<tr><td>2015-12-24</td><td>24.72</td><td>20.5</td><td>31.5</td><td> 3.4</td><td>FALSE</td><td>31572</td><td>FALSE</td><td>11.0</td></tr>\n",
       "\t<tr><td>2015-12-25</td><td>23.58</td><td>17.8</td><td>31.0</td><td>39.0</td><td>FALSE</td><td>26308</td><td> TRUE</td><td>13.2</td></tr>\n",
       "\t<tr><td>2015-12-26</td><td>23.34</td><td>17.8</td><td>29.8</td><td>94.8</td><td> TRUE</td><td>21955</td><td> TRUE</td><td>12.0</td></tr>\n",
       "\t<tr><td>2015-12-27</td><td>24.00</td><td>21.1</td><td>28.2</td><td>13.6</td><td> TRUE</td><td>32307</td><td> TRUE</td><td> 7.1</td></tr>\n",
       "\t<tr><td>2015-12-28</td><td>22.64</td><td>21.1</td><td>26.7</td><td> 0.0</td><td>FALSE</td><td>26095</td><td>FALSE</td><td> 5.6</td></tr>\n",
       "\t<tr><td>2015-12-29</td><td>21.68</td><td>20.3</td><td>24.1</td><td>10.3</td><td>FALSE</td><td>22309</td><td> TRUE</td><td> 3.8</td></tr>\n",
       "\t<tr><td>2015-12-30</td><td>21.38</td><td>19.3</td><td>22.4</td><td> 6.3</td><td>FALSE</td><td>20467</td><td>FALSE</td><td> 3.1</td></tr>\n",
       "\t<tr><td>2015-12-31</td><td>24.76</td><td>20.2</td><td>29.0</td><td> 0.0</td><td>FALSE</td><td>22446</td><td>FALSE</td><td> 8.8</td></tr>\n",
       "</tbody>\n",
       "</table>\n"
      ],
      "text/latex": [
       "A tibble: 365 × 9\n",
       "\\begin{tabular}{lllllllll}\n",
       " Data & Temperatura Media (C) & Temperatura Minima (C) & Temperatura Maxima (C) & Precipitacao (mm) & Final de Semana & Consumo de cerveja (litros) & Dia chuvoso & Amplitude térmica (C)\\\\\n",
       " <chr> & <dbl> & <dbl> & <dbl> & <dbl> & <lgl> & <dbl> & <lgl> & <dbl>\\\\\n",
       "\\hline\n",
       "\t 2015-01-01 & 27.30 & 23.9 & 32.5 &  0.0 & FALSE & 25461 & FALSE &  8.6\\\\\n",
       "\t 2015-01-02 & 27.02 & 24.5 & 33.5 &  0.0 & FALSE & 28972 & FALSE &  9.0\\\\\n",
       "\t 2015-01-03 & 24.82 & 22.4 & 29.9 &  0.0 &  TRUE & 30814 & FALSE &  7.5\\\\\n",
       "\t 2015-01-04 & 23.98 & 21.5 & 28.6 &  1.2 &  TRUE & 29799 & FALSE &  7.1\\\\\n",
       "\t 2015-01-05 & 23.82 & 21.0 & 28.3 &  0.0 & FALSE & 28900 & FALSE &  7.3\\\\\n",
       "\t 2015-01-06 & 23.78 & 20.1 & 30.5 & 12.2 & FALSE & 28218 &  TRUE & 10.4\\\\\n",
       "\t 2015-01-07 & 24.00 & 19.5 & 33.7 &  0.0 & FALSE & 29732 & FALSE & 14.2\\\\\n",
       "\t 2015-01-08 & 24.90 & 19.5 & 32.8 & 48.6 & FALSE & 28397 &  TRUE & 13.3\\\\\n",
       "\t 2015-01-09 & 28.20 & 21.9 & 34.0 &  4.4 & FALSE & 24886 & FALSE & 12.1\\\\\n",
       "\t 2015-01-10 & 26.76 & 22.1 & 34.2 &  0.0 &  TRUE & 37937 & FALSE & 12.1\\\\\n",
       "\t 2015-01-11 & 27.62 & 22.2 & 34.8 &  3.4 &  TRUE & 36254 & FALSE & 12.6\\\\\n",
       "\t 2015-01-12 & 25.96 & 21.4 & 35.4 &  0.0 & FALSE & 25743 & FALSE & 14.0\\\\\n",
       "\t 2015-01-13 & 25.52 & 21.2 & 34.8 &  0.8 & FALSE & 26990 & FALSE & 13.6\\\\\n",
       "\t 2015-01-14 & 25.96 & 21.3 & 34.0 &  1.6 & FALSE & 31825 & FALSE & 12.7\\\\\n",
       "\t 2015-01-15 & 25.86 & 21.5 & 32.8 &  3.0 & FALSE & 25724 & FALSE & 11.3\\\\\n",
       "\t 2015-01-16 & 26.50 & 22.3 & 32.7 &  2.0 & FALSE & 29938 & FALSE & 10.4\\\\\n",
       "\t 2015-01-17 & 28.86 & 22.0 & 35.8 &  0.0 &  TRUE & 37690 & FALSE & 13.8\\\\\n",
       "\t 2015-01-18 & 28.26 & 23.4 & 35.6 &  0.0 &  TRUE & 30524 & FALSE & 12.2\\\\\n",
       "\t 2015-01-19 & 28.22 & 22.7 & 36.5 &  3.7 & FALSE & 29265 & FALSE & 13.8\\\\\n",
       "\t 2015-01-20 & 27.68 & 23.3 & 35.6 &  0.6 & FALSE & 35127 & FALSE & 12.3\\\\\n",
       "\t 2015-01-21 & 25.32 & 22.7 & 30.9 &  0.0 & FALSE & 29130 & FALSE &  8.2\\\\\n",
       "\t 2015-01-22 & 21.74 & 19.2 & 26.1 & 31.0 & FALSE & 25795 &  TRUE &  6.9\\\\\n",
       "\t 2015-01-23 & 21.04 & 18.5 & 26.1 &  3.6 & FALSE & 21784 & FALSE &  7.6\\\\\n",
       "\t 2015-01-24 & 23.12 & 19.0 & 29.4 & 13.0 &  TRUE & 28348 &  TRUE & 10.4\\\\\n",
       "\t 2015-01-25 & 24.40 & 18.1 & 30.0 &  0.0 &  TRUE & 31088 & FALSE & 11.9\\\\\n",
       "\t 2015-01-26 & 22.40 & 18.9 & 28.7 & 20.8 & FALSE & 21520 &  TRUE &  9.8\\\\\n",
       "\t 2015-01-27 & 23.60 & 20.5 & 28.7 &  1.2 & FALSE & 29972 & FALSE &  8.2\\\\\n",
       "\t 2015-01-28 & 25.68 & 20.1 & 29.9 &  4.9 & FALSE & 22603 & FALSE &  9.8\\\\\n",
       "\t 2015-01-29 & 25.00 & 21.5 & 29.2 &  0.0 & FALSE & 22696 & FALSE &  7.7\\\\\n",
       "\t 2015-01-30 & 22.80 & 20.9 & 26.9 &  0.0 & FALSE & 26845 & FALSE &  6.0\\\\\n",
       "\t ⋮ & ⋮ & ⋮ & ⋮ & ⋮ & ⋮ & ⋮ & ⋮ & ⋮\\\\\n",
       "\t 2015-12-02 & 22.10 & 18.2 & 29.4 &  0.0 & FALSE & 30471 & FALSE & 11.2\\\\\n",
       "\t 2015-12-03 & 22.44 & 20.2 & 26.1 &  0.0 & FALSE & 28405 & FALSE &  5.9\\\\\n",
       "\t 2015-12-04 & 22.76 & 19.0 & 29.1 &  0.0 & FALSE & 29513 & FALSE & 10.1\\\\\n",
       "\t 2015-12-05 & 24.80 & 19.5 & 30.6 &  0.1 &  TRUE & 32451 & FALSE & 11.1\\\\\n",
       "\t 2015-12-06 & 23.12 & 20.6 & 28.0 &  0.1 &  TRUE & 32780 & FALSE &  7.4\\\\\n",
       "\t 2015-12-07 & 20.04 & 18.0 & 23.9 & 47.8 & FALSE & 23375 &  TRUE &  5.9\\\\\n",
       "\t 2015-12-08 & 21.70 & 18.0 & 28.0 &  0.0 & FALSE & 27713 & FALSE & 10.0\\\\\n",
       "\t 2015-12-09 & 23.96 & 19.6 & 27.9 &  0.0 & FALSE & 27137 & FALSE &  8.3\\\\\n",
       "\t 2015-12-10 & 24.00 & 22.2 & 27.7 &  0.0 & FALSE & 22933 & FALSE &  5.5\\\\\n",
       "\t 2015-12-11 & 24.04 & 20.7 & 30.3 &  0.0 & FALSE & 30740 & FALSE &  9.6\\\\\n",
       "\t 2015-12-12 & 23.92 & 20.6 & 30.8 &  0.0 &  TRUE & 29579 & FALSE & 10.2\\\\\n",
       "\t 2015-12-13 & 24.54 & 19.3 & 31.0 & 12.2 &  TRUE & 29188 &  TRUE & 11.7\\\\\n",
       "\t 2015-12-14 & 26.28 & 21.1 & 32.5 &  2.0 & FALSE & 28131 & FALSE & 11.4\\\\\n",
       "\t 2015-12-15 & 25.66 & 20.6 & 32.8 &  4.0 & FALSE & 28617 & FALSE & 12.2\\\\\n",
       "\t 2015-12-16 & 22.04 & 20.7 & 24.8 &  1.5 & FALSE & 21062 & FALSE &  4.1\\\\\n",
       "\t 2015-12-17 & 23.32 & 18.9 & 28.7 &  0.0 & FALSE & 24337 & FALSE &  9.8\\\\\n",
       "\t 2015-12-18 & 26.42 & 19.6 & 33.5 &  0.1 & FALSE & 27042 & FALSE & 13.9\\\\\n",
       "\t 2015-12-19 & 23.74 & 19.8 & 31.3 &  1.3 &  TRUE & 32536 & FALSE & 11.5\\\\\n",
       "\t 2015-12-20 & 22.84 & 19.6 & 29.0 &  8.4 &  TRUE & 30127 & FALSE &  9.4\\\\\n",
       "\t 2015-12-21 & 23.12 & 19.6 & 29.1 & 27.2 & FALSE & 24834 &  TRUE &  9.5\\\\\n",
       "\t 2015-12-22 & 24.60 & 19.6 & 32.4 & 43.0 & FALSE & 26828 &  TRUE & 12.8\\\\\n",
       "\t 2015-12-23 & 27.46 & 22.1 & 32.4 &  3.0 & FALSE & 26468 & FALSE & 10.3\\\\\n",
       "\t 2015-12-24 & 24.72 & 20.5 & 31.5 &  3.4 & FALSE & 31572 & FALSE & 11.0\\\\\n",
       "\t 2015-12-25 & 23.58 & 17.8 & 31.0 & 39.0 & FALSE & 26308 &  TRUE & 13.2\\\\\n",
       "\t 2015-12-26 & 23.34 & 17.8 & 29.8 & 94.8 &  TRUE & 21955 &  TRUE & 12.0\\\\\n",
       "\t 2015-12-27 & 24.00 & 21.1 & 28.2 & 13.6 &  TRUE & 32307 &  TRUE &  7.1\\\\\n",
       "\t 2015-12-28 & 22.64 & 21.1 & 26.7 &  0.0 & FALSE & 26095 & FALSE &  5.6\\\\\n",
       "\t 2015-12-29 & 21.68 & 20.3 & 24.1 & 10.3 & FALSE & 22309 &  TRUE &  3.8\\\\\n",
       "\t 2015-12-30 & 21.38 & 19.3 & 22.4 &  6.3 & FALSE & 20467 & FALSE &  3.1\\\\\n",
       "\t 2015-12-31 & 24.76 & 20.2 & 29.0 &  0.0 & FALSE & 22446 & FALSE &  8.8\\\\\n",
       "\\end{tabular}\n"
      ],
      "text/markdown": [
       "\n",
       "A tibble: 365 × 9\n",
       "\n",
       "| Data &lt;chr&gt; | Temperatura Media (C) &lt;dbl&gt; | Temperatura Minima (C) &lt;dbl&gt; | Temperatura Maxima (C) &lt;dbl&gt; | Precipitacao (mm) &lt;dbl&gt; | Final de Semana &lt;lgl&gt; | Consumo de cerveja (litros) &lt;dbl&gt; | Dia chuvoso &lt;lgl&gt; | Amplitude térmica (C) &lt;dbl&gt; |\n",
       "|---|---|---|---|---|---|---|---|---|\n",
       "| 2015-01-01 | 27.30 | 23.9 | 32.5 |  0.0 | FALSE | 25461 | FALSE |  8.6 |\n",
       "| 2015-01-02 | 27.02 | 24.5 | 33.5 |  0.0 | FALSE | 28972 | FALSE |  9.0 |\n",
       "| 2015-01-03 | 24.82 | 22.4 | 29.9 |  0.0 |  TRUE | 30814 | FALSE |  7.5 |\n",
       "| 2015-01-04 | 23.98 | 21.5 | 28.6 |  1.2 |  TRUE | 29799 | FALSE |  7.1 |\n",
       "| 2015-01-05 | 23.82 | 21.0 | 28.3 |  0.0 | FALSE | 28900 | FALSE |  7.3 |\n",
       "| 2015-01-06 | 23.78 | 20.1 | 30.5 | 12.2 | FALSE | 28218 |  TRUE | 10.4 |\n",
       "| 2015-01-07 | 24.00 | 19.5 | 33.7 |  0.0 | FALSE | 29732 | FALSE | 14.2 |\n",
       "| 2015-01-08 | 24.90 | 19.5 | 32.8 | 48.6 | FALSE | 28397 |  TRUE | 13.3 |\n",
       "| 2015-01-09 | 28.20 | 21.9 | 34.0 |  4.4 | FALSE | 24886 | FALSE | 12.1 |\n",
       "| 2015-01-10 | 26.76 | 22.1 | 34.2 |  0.0 |  TRUE | 37937 | FALSE | 12.1 |\n",
       "| 2015-01-11 | 27.62 | 22.2 | 34.8 |  3.4 |  TRUE | 36254 | FALSE | 12.6 |\n",
       "| 2015-01-12 | 25.96 | 21.4 | 35.4 |  0.0 | FALSE | 25743 | FALSE | 14.0 |\n",
       "| 2015-01-13 | 25.52 | 21.2 | 34.8 |  0.8 | FALSE | 26990 | FALSE | 13.6 |\n",
       "| 2015-01-14 | 25.96 | 21.3 | 34.0 |  1.6 | FALSE | 31825 | FALSE | 12.7 |\n",
       "| 2015-01-15 | 25.86 | 21.5 | 32.8 |  3.0 | FALSE | 25724 | FALSE | 11.3 |\n",
       "| 2015-01-16 | 26.50 | 22.3 | 32.7 |  2.0 | FALSE | 29938 | FALSE | 10.4 |\n",
       "| 2015-01-17 | 28.86 | 22.0 | 35.8 |  0.0 |  TRUE | 37690 | FALSE | 13.8 |\n",
       "| 2015-01-18 | 28.26 | 23.4 | 35.6 |  0.0 |  TRUE | 30524 | FALSE | 12.2 |\n",
       "| 2015-01-19 | 28.22 | 22.7 | 36.5 |  3.7 | FALSE | 29265 | FALSE | 13.8 |\n",
       "| 2015-01-20 | 27.68 | 23.3 | 35.6 |  0.6 | FALSE | 35127 | FALSE | 12.3 |\n",
       "| 2015-01-21 | 25.32 | 22.7 | 30.9 |  0.0 | FALSE | 29130 | FALSE |  8.2 |\n",
       "| 2015-01-22 | 21.74 | 19.2 | 26.1 | 31.0 | FALSE | 25795 |  TRUE |  6.9 |\n",
       "| 2015-01-23 | 21.04 | 18.5 | 26.1 |  3.6 | FALSE | 21784 | FALSE |  7.6 |\n",
       "| 2015-01-24 | 23.12 | 19.0 | 29.4 | 13.0 |  TRUE | 28348 |  TRUE | 10.4 |\n",
       "| 2015-01-25 | 24.40 | 18.1 | 30.0 |  0.0 |  TRUE | 31088 | FALSE | 11.9 |\n",
       "| 2015-01-26 | 22.40 | 18.9 | 28.7 | 20.8 | FALSE | 21520 |  TRUE |  9.8 |\n",
       "| 2015-01-27 | 23.60 | 20.5 | 28.7 |  1.2 | FALSE | 29972 | FALSE |  8.2 |\n",
       "| 2015-01-28 | 25.68 | 20.1 | 29.9 |  4.9 | FALSE | 22603 | FALSE |  9.8 |\n",
       "| 2015-01-29 | 25.00 | 21.5 | 29.2 |  0.0 | FALSE | 22696 | FALSE |  7.7 |\n",
       "| 2015-01-30 | 22.80 | 20.9 | 26.9 |  0.0 | FALSE | 26845 | FALSE |  6.0 |\n",
       "| ⋮ | ⋮ | ⋮ | ⋮ | ⋮ | ⋮ | ⋮ | ⋮ | ⋮ |\n",
       "| 2015-12-02 | 22.10 | 18.2 | 29.4 |  0.0 | FALSE | 30471 | FALSE | 11.2 |\n",
       "| 2015-12-03 | 22.44 | 20.2 | 26.1 |  0.0 | FALSE | 28405 | FALSE |  5.9 |\n",
       "| 2015-12-04 | 22.76 | 19.0 | 29.1 |  0.0 | FALSE | 29513 | FALSE | 10.1 |\n",
       "| 2015-12-05 | 24.80 | 19.5 | 30.6 |  0.1 |  TRUE | 32451 | FALSE | 11.1 |\n",
       "| 2015-12-06 | 23.12 | 20.6 | 28.0 |  0.1 |  TRUE | 32780 | FALSE |  7.4 |\n",
       "| 2015-12-07 | 20.04 | 18.0 | 23.9 | 47.8 | FALSE | 23375 |  TRUE |  5.9 |\n",
       "| 2015-12-08 | 21.70 | 18.0 | 28.0 |  0.0 | FALSE | 27713 | FALSE | 10.0 |\n",
       "| 2015-12-09 | 23.96 | 19.6 | 27.9 |  0.0 | FALSE | 27137 | FALSE |  8.3 |\n",
       "| 2015-12-10 | 24.00 | 22.2 | 27.7 |  0.0 | FALSE | 22933 | FALSE |  5.5 |\n",
       "| 2015-12-11 | 24.04 | 20.7 | 30.3 |  0.0 | FALSE | 30740 | FALSE |  9.6 |\n",
       "| 2015-12-12 | 23.92 | 20.6 | 30.8 |  0.0 |  TRUE | 29579 | FALSE | 10.2 |\n",
       "| 2015-12-13 | 24.54 | 19.3 | 31.0 | 12.2 |  TRUE | 29188 |  TRUE | 11.7 |\n",
       "| 2015-12-14 | 26.28 | 21.1 | 32.5 |  2.0 | FALSE | 28131 | FALSE | 11.4 |\n",
       "| 2015-12-15 | 25.66 | 20.6 | 32.8 |  4.0 | FALSE | 28617 | FALSE | 12.2 |\n",
       "| 2015-12-16 | 22.04 | 20.7 | 24.8 |  1.5 | FALSE | 21062 | FALSE |  4.1 |\n",
       "| 2015-12-17 | 23.32 | 18.9 | 28.7 |  0.0 | FALSE | 24337 | FALSE |  9.8 |\n",
       "| 2015-12-18 | 26.42 | 19.6 | 33.5 |  0.1 | FALSE | 27042 | FALSE | 13.9 |\n",
       "| 2015-12-19 | 23.74 | 19.8 | 31.3 |  1.3 |  TRUE | 32536 | FALSE | 11.5 |\n",
       "| 2015-12-20 | 22.84 | 19.6 | 29.0 |  8.4 |  TRUE | 30127 | FALSE |  9.4 |\n",
       "| 2015-12-21 | 23.12 | 19.6 | 29.1 | 27.2 | FALSE | 24834 |  TRUE |  9.5 |\n",
       "| 2015-12-22 | 24.60 | 19.6 | 32.4 | 43.0 | FALSE | 26828 |  TRUE | 12.8 |\n",
       "| 2015-12-23 | 27.46 | 22.1 | 32.4 |  3.0 | FALSE | 26468 | FALSE | 10.3 |\n",
       "| 2015-12-24 | 24.72 | 20.5 | 31.5 |  3.4 | FALSE | 31572 | FALSE | 11.0 |\n",
       "| 2015-12-25 | 23.58 | 17.8 | 31.0 | 39.0 | FALSE | 26308 |  TRUE | 13.2 |\n",
       "| 2015-12-26 | 23.34 | 17.8 | 29.8 | 94.8 |  TRUE | 21955 |  TRUE | 12.0 |\n",
       "| 2015-12-27 | 24.00 | 21.1 | 28.2 | 13.6 |  TRUE | 32307 |  TRUE |  7.1 |\n",
       "| 2015-12-28 | 22.64 | 21.1 | 26.7 |  0.0 | FALSE | 26095 | FALSE |  5.6 |\n",
       "| 2015-12-29 | 21.68 | 20.3 | 24.1 | 10.3 | FALSE | 22309 |  TRUE |  3.8 |\n",
       "| 2015-12-30 | 21.38 | 19.3 | 22.4 |  6.3 | FALSE | 20467 | FALSE |  3.1 |\n",
       "| 2015-12-31 | 24.76 | 20.2 | 29.0 |  0.0 | FALSE | 22446 | FALSE |  8.8 |\n",
       "\n"
      ],
      "text/plain": [
       "    Data       Temperatura Media (C) Temperatura Minima (C)\n",
       "1   2015-01-01 27.30                 23.9                  \n",
       "2   2015-01-02 27.02                 24.5                  \n",
       "3   2015-01-03 24.82                 22.4                  \n",
       "4   2015-01-04 23.98                 21.5                  \n",
       "5   2015-01-05 23.82                 21.0                  \n",
       "6   2015-01-06 23.78                 20.1                  \n",
       "7   2015-01-07 24.00                 19.5                  \n",
       "8   2015-01-08 24.90                 19.5                  \n",
       "9   2015-01-09 28.20                 21.9                  \n",
       "10  2015-01-10 26.76                 22.1                  \n",
       "11  2015-01-11 27.62                 22.2                  \n",
       "12  2015-01-12 25.96                 21.4                  \n",
       "13  2015-01-13 25.52                 21.2                  \n",
       "14  2015-01-14 25.96                 21.3                  \n",
       "15  2015-01-15 25.86                 21.5                  \n",
       "16  2015-01-16 26.50                 22.3                  \n",
       "17  2015-01-17 28.86                 22.0                  \n",
       "18  2015-01-18 28.26                 23.4                  \n",
       "19  2015-01-19 28.22                 22.7                  \n",
       "20  2015-01-20 27.68                 23.3                  \n",
       "21  2015-01-21 25.32                 22.7                  \n",
       "22  2015-01-22 21.74                 19.2                  \n",
       "23  2015-01-23 21.04                 18.5                  \n",
       "24  2015-01-24 23.12                 19.0                  \n",
       "25  2015-01-25 24.40                 18.1                  \n",
       "26  2015-01-26 22.40                 18.9                  \n",
       "27  2015-01-27 23.60                 20.5                  \n",
       "28  2015-01-28 25.68                 20.1                  \n",
       "29  2015-01-29 25.00                 21.5                  \n",
       "30  2015-01-30 22.80                 20.9                  \n",
       "⋮   ⋮          ⋮                     ⋮                     \n",
       "336 2015-12-02 22.10                 18.2                  \n",
       "337 2015-12-03 22.44                 20.2                  \n",
       "338 2015-12-04 22.76                 19.0                  \n",
       "339 2015-12-05 24.80                 19.5                  \n",
       "340 2015-12-06 23.12                 20.6                  \n",
       "341 2015-12-07 20.04                 18.0                  \n",
       "342 2015-12-08 21.70                 18.0                  \n",
       "343 2015-12-09 23.96                 19.6                  \n",
       "344 2015-12-10 24.00                 22.2                  \n",
       "345 2015-12-11 24.04                 20.7                  \n",
       "346 2015-12-12 23.92                 20.6                  \n",
       "347 2015-12-13 24.54                 19.3                  \n",
       "348 2015-12-14 26.28                 21.1                  \n",
       "349 2015-12-15 25.66                 20.6                  \n",
       "350 2015-12-16 22.04                 20.7                  \n",
       "351 2015-12-17 23.32                 18.9                  \n",
       "352 2015-12-18 26.42                 19.6                  \n",
       "353 2015-12-19 23.74                 19.8                  \n",
       "354 2015-12-20 22.84                 19.6                  \n",
       "355 2015-12-21 23.12                 19.6                  \n",
       "356 2015-12-22 24.60                 19.6                  \n",
       "357 2015-12-23 27.46                 22.1                  \n",
       "358 2015-12-24 24.72                 20.5                  \n",
       "359 2015-12-25 23.58                 17.8                  \n",
       "360 2015-12-26 23.34                 17.8                  \n",
       "361 2015-12-27 24.00                 21.1                  \n",
       "362 2015-12-28 22.64                 21.1                  \n",
       "363 2015-12-29 21.68                 20.3                  \n",
       "364 2015-12-30 21.38                 19.3                  \n",
       "365 2015-12-31 24.76                 20.2                  \n",
       "    Temperatura Maxima (C) Precipitacao (mm) Final de Semana\n",
       "1   32.5                    0.0              FALSE          \n",
       "2   33.5                    0.0              FALSE          \n",
       "3   29.9                    0.0               TRUE          \n",
       "4   28.6                    1.2               TRUE          \n",
       "5   28.3                    0.0              FALSE          \n",
       "6   30.5                   12.2              FALSE          \n",
       "7   33.7                    0.0              FALSE          \n",
       "8   32.8                   48.6              FALSE          \n",
       "9   34.0                    4.4              FALSE          \n",
       "10  34.2                    0.0               TRUE          \n",
       "11  34.8                    3.4               TRUE          \n",
       "12  35.4                    0.0              FALSE          \n",
       "13  34.8                    0.8              FALSE          \n",
       "14  34.0                    1.6              FALSE          \n",
       "15  32.8                    3.0              FALSE          \n",
       "16  32.7                    2.0              FALSE          \n",
       "17  35.8                    0.0               TRUE          \n",
       "18  35.6                    0.0               TRUE          \n",
       "19  36.5                    3.7              FALSE          \n",
       "20  35.6                    0.6              FALSE          \n",
       "21  30.9                    0.0              FALSE          \n",
       "22  26.1                   31.0              FALSE          \n",
       "23  26.1                    3.6              FALSE          \n",
       "24  29.4                   13.0               TRUE          \n",
       "25  30.0                    0.0               TRUE          \n",
       "26  28.7                   20.8              FALSE          \n",
       "27  28.7                    1.2              FALSE          \n",
       "28  29.9                    4.9              FALSE          \n",
       "29  29.2                    0.0              FALSE          \n",
       "30  26.9                    0.0              FALSE          \n",
       "⋮   ⋮                      ⋮                 ⋮              \n",
       "336 29.4                    0.0              FALSE          \n",
       "337 26.1                    0.0              FALSE          \n",
       "338 29.1                    0.0              FALSE          \n",
       "339 30.6                    0.1               TRUE          \n",
       "340 28.0                    0.1               TRUE          \n",
       "341 23.9                   47.8              FALSE          \n",
       "342 28.0                    0.0              FALSE          \n",
       "343 27.9                    0.0              FALSE          \n",
       "344 27.7                    0.0              FALSE          \n",
       "345 30.3                    0.0              FALSE          \n",
       "346 30.8                    0.0               TRUE          \n",
       "347 31.0                   12.2               TRUE          \n",
       "348 32.5                    2.0              FALSE          \n",
       "349 32.8                    4.0              FALSE          \n",
       "350 24.8                    1.5              FALSE          \n",
       "351 28.7                    0.0              FALSE          \n",
       "352 33.5                    0.1              FALSE          \n",
       "353 31.3                    1.3               TRUE          \n",
       "354 29.0                    8.4               TRUE          \n",
       "355 29.1                   27.2              FALSE          \n",
       "356 32.4                   43.0              FALSE          \n",
       "357 32.4                    3.0              FALSE          \n",
       "358 31.5                    3.4              FALSE          \n",
       "359 31.0                   39.0              FALSE          \n",
       "360 29.8                   94.8               TRUE          \n",
       "361 28.2                   13.6               TRUE          \n",
       "362 26.7                    0.0              FALSE          \n",
       "363 24.1                   10.3              FALSE          \n",
       "364 22.4                    6.3              FALSE          \n",
       "365 29.0                    0.0              FALSE          \n",
       "    Consumo de cerveja (litros) Dia chuvoso Amplitude térmica (C)\n",
       "1   25461                       FALSE        8.6                 \n",
       "2   28972                       FALSE        9.0                 \n",
       "3   30814                       FALSE        7.5                 \n",
       "4   29799                       FALSE        7.1                 \n",
       "5   28900                       FALSE        7.3                 \n",
       "6   28218                        TRUE       10.4                 \n",
       "7   29732                       FALSE       14.2                 \n",
       "8   28397                        TRUE       13.3                 \n",
       "9   24886                       FALSE       12.1                 \n",
       "10  37937                       FALSE       12.1                 \n",
       "11  36254                       FALSE       12.6                 \n",
       "12  25743                       FALSE       14.0                 \n",
       "13  26990                       FALSE       13.6                 \n",
       "14  31825                       FALSE       12.7                 \n",
       "15  25724                       FALSE       11.3                 \n",
       "16  29938                       FALSE       10.4                 \n",
       "17  37690                       FALSE       13.8                 \n",
       "18  30524                       FALSE       12.2                 \n",
       "19  29265                       FALSE       13.8                 \n",
       "20  35127                       FALSE       12.3                 \n",
       "21  29130                       FALSE        8.2                 \n",
       "22  25795                        TRUE        6.9                 \n",
       "23  21784                       FALSE        7.6                 \n",
       "24  28348                        TRUE       10.4                 \n",
       "25  31088                       FALSE       11.9                 \n",
       "26  21520                        TRUE        9.8                 \n",
       "27  29972                       FALSE        8.2                 \n",
       "28  22603                       FALSE        9.8                 \n",
       "29  22696                       FALSE        7.7                 \n",
       "30  26845                       FALSE        6.0                 \n",
       "⋮   ⋮                           ⋮           ⋮                    \n",
       "336 30471                       FALSE       11.2                 \n",
       "337 28405                       FALSE        5.9                 \n",
       "338 29513                       FALSE       10.1                 \n",
       "339 32451                       FALSE       11.1                 \n",
       "340 32780                       FALSE        7.4                 \n",
       "341 23375                        TRUE        5.9                 \n",
       "342 27713                       FALSE       10.0                 \n",
       "343 27137                       FALSE        8.3                 \n",
       "344 22933                       FALSE        5.5                 \n",
       "345 30740                       FALSE        9.6                 \n",
       "346 29579                       FALSE       10.2                 \n",
       "347 29188                        TRUE       11.7                 \n",
       "348 28131                       FALSE       11.4                 \n",
       "349 28617                       FALSE       12.2                 \n",
       "350 21062                       FALSE        4.1                 \n",
       "351 24337                       FALSE        9.8                 \n",
       "352 27042                       FALSE       13.9                 \n",
       "353 32536                       FALSE       11.5                 \n",
       "354 30127                       FALSE        9.4                 \n",
       "355 24834                        TRUE        9.5                 \n",
       "356 26828                        TRUE       12.8                 \n",
       "357 26468                       FALSE       10.3                 \n",
       "358 31572                       FALSE       11.0                 \n",
       "359 26308                        TRUE       13.2                 \n",
       "360 21955                        TRUE       12.0                 \n",
       "361 32307                        TRUE        7.1                 \n",
       "362 26095                       FALSE        5.6                 \n",
       "363 22309                        TRUE        3.8                 \n",
       "364 20467                       FALSE        3.1                 \n",
       "365 22446                       FALSE        8.8                 "
      ]
     },
     "metadata": {},
     "output_type": "display_data"
    }
   ],
   "source": [
    "dataset %>% mutate(\n",
    "            `Dia chuvoso` = if_else(`Precipitacao (mm)` >= 10, TRUE, FALSE, missing = NULL),\n",
    "            # a função if_else tem quatro argumentos. O primeiro é a 'afirmação lógica' a ser avaliada\n",
    "            # no caso, essa afirmação é verificar se a precipitação é maior que 10mm.\n",
    "            # o segundo argumento é o que será inputado no caso da afirmação ser verdadeira\n",
    "            # o terceiro, o que será inputado no caso de falsa\n",
    "            # e o quarto, o que será inputado no caso de missing value (valor faltante)\n",
    "            `Amplitude térmica (C)` = `Temperatura Maxima (C)` - `Temperatura Minima (C)`\n",
    "            )"
   ]
  },
  {
   "cell_type": "markdown",
   "metadata": {},
   "source": [
    "### `select()` - selecionando valores com base em nome"
   ]
  },
  {
   "cell_type": "markdown",
   "metadata": {},
   "source": [
    "Esse comando é bem simples, nós podemos selecionar as colunas com o critério baseado no nome. \n",
    "<br>Isso pode incluir \"começa com\": `starts_with(padrão procurado)`, \"termina com\": `ends_with(padrão procurado)`, \"contém\": `contains(padrão procurado)`... <br>\n",
    "Pra quem manja mais, pode usar expressões regulares com `matches()` ou muitos outros critérios que vc pode dar uma conferida [aqui!](https://www.rdocumentation.org/packages/tidyselect/versions/1.0.0/topics/select_helpers)"
   ]
  },
  {
   "cell_type": "markdown",
   "metadata": {},
   "source": [
    "Aqui vamos selecionar todas as colunas que contem a palavra \"temperatura\" no título e guardar esse resultado na variável \"selecting\""
   ]
  },
  {
   "cell_type": "code",
   "execution_count": 12,
   "metadata": {},
   "outputs": [],
   "source": [
    "selecting <- dataset %>% select(contains(\"Temperatura\"))"
   ]
  },
  {
   "cell_type": "code",
   "execution_count": 15,
   "metadata": {
    "scrolled": true
   },
   "outputs": [
    {
     "data": {
      "text/html": [
       "<table>\n",
       "<caption>A tibble: 5 × 3</caption>\n",
       "<thead>\n",
       "\t<tr><th scope=col>Temperatura Media (C)</th><th scope=col>Temperatura Minima (C)</th><th scope=col>Temperatura Maxima (C)</th></tr>\n",
       "\t<tr><th scope=col>&lt;dbl&gt;</th><th scope=col>&lt;dbl&gt;</th><th scope=col>&lt;dbl&gt;</th></tr>\n",
       "</thead>\n",
       "<tbody>\n",
       "\t<tr><td>27.30</td><td>23.9</td><td>32.5</td></tr>\n",
       "\t<tr><td>27.02</td><td>24.5</td><td>33.5</td></tr>\n",
       "\t<tr><td>24.82</td><td>22.4</td><td>29.9</td></tr>\n",
       "\t<tr><td>23.98</td><td>21.5</td><td>28.6</td></tr>\n",
       "\t<tr><td>23.82</td><td>21.0</td><td>28.3</td></tr>\n",
       "</tbody>\n",
       "</table>\n"
      ],
      "text/latex": [
       "A tibble: 5 × 3\n",
       "\\begin{tabular}{lll}\n",
       " Temperatura Media (C) & Temperatura Minima (C) & Temperatura Maxima (C)\\\\\n",
       " <dbl> & <dbl> & <dbl>\\\\\n",
       "\\hline\n",
       "\t 27.30 & 23.9 & 32.5\\\\\n",
       "\t 27.02 & 24.5 & 33.5\\\\\n",
       "\t 24.82 & 22.4 & 29.9\\\\\n",
       "\t 23.98 & 21.5 & 28.6\\\\\n",
       "\t 23.82 & 21.0 & 28.3\\\\\n",
       "\\end{tabular}\n"
      ],
      "text/markdown": [
       "\n",
       "A tibble: 5 × 3\n",
       "\n",
       "| Temperatura Media (C) &lt;dbl&gt; | Temperatura Minima (C) &lt;dbl&gt; | Temperatura Maxima (C) &lt;dbl&gt; |\n",
       "|---|---|---|\n",
       "| 27.30 | 23.9 | 32.5 |\n",
       "| 27.02 | 24.5 | 33.5 |\n",
       "| 24.82 | 22.4 | 29.9 |\n",
       "| 23.98 | 21.5 | 28.6 |\n",
       "| 23.82 | 21.0 | 28.3 |\n",
       "\n"
      ],
      "text/plain": [
       "  Temperatura Media (C) Temperatura Minima (C) Temperatura Maxima (C)\n",
       "1 27.30                 23.9                   32.5                  \n",
       "2 27.02                 24.5                   33.5                  \n",
       "3 24.82                 22.4                   29.9                  \n",
       "4 23.98                 21.5                   28.6                  \n",
       "5 23.82                 21.0                   28.3                  "
      ]
     },
     "metadata": {},
     "output_type": "display_data"
    }
   ],
   "source": [
    "selecting[1:5,]"
   ]
  },
  {
   "cell_type": "markdown",
   "metadata": {},
   "source": [
    "### `filter()` - Filtrando nossa base de dados!"
   ]
  },
  {
   "cell_type": "markdown",
   "metadata": {},
   "source": [
    "Vamos supor que você quer analisar sua base de dados e segmentar essa análise com base em algum critério.. Isso é só um dos cenários em que pode ser muito importante você usar filtros!"
   ]
  },
  {
   "cell_type": "markdown",
   "metadata": {},
   "source": [
    "Vamos aqui, pegar apenas os dias em que o consumo de cerveja foi acima da média. Para isso vamos usar a função `mean()` nativa do `R`"
   ]
  },
  {
   "cell_type": "code",
   "execution_count": 17,
   "metadata": {},
   "outputs": [],
   "source": [
    "filtro_cerveja = dataset %>% filter(`Consumo de cerveja (litros)` > mean(`Consumo de cerveja (litros)`, na.rm = TRUE))"
   ]
  },
  {
   "cell_type": "code",
   "execution_count": 18,
   "metadata": {},
   "outputs": [
    {
     "data": {
      "text/html": [
       "<table>\n",
       "<caption>A tibble: 5 × 7</caption>\n",
       "<thead>\n",
       "\t<tr><th scope=col>Data</th><th scope=col>Temperatura Media (C)</th><th scope=col>Temperatura Minima (C)</th><th scope=col>Temperatura Maxima (C)</th><th scope=col>Precipitacao (mm)</th><th scope=col>Final de Semana</th><th scope=col>Consumo de cerveja (litros)</th></tr>\n",
       "\t<tr><th scope=col>&lt;chr&gt;</th><th scope=col>&lt;dbl&gt;</th><th scope=col>&lt;dbl&gt;</th><th scope=col>&lt;dbl&gt;</th><th scope=col>&lt;dbl&gt;</th><th scope=col>&lt;lgl&gt;</th><th scope=col>&lt;dbl&gt;</th></tr>\n",
       "</thead>\n",
       "<tbody>\n",
       "\t<tr><td>2015-01-01</td><td>27.30</td><td>23.9</td><td>32.5</td><td>0.0</td><td>FALSE</td><td>25461</td></tr>\n",
       "\t<tr><td>2015-01-02</td><td>27.02</td><td>24.5</td><td>33.5</td><td>0.0</td><td>FALSE</td><td>28972</td></tr>\n",
       "\t<tr><td>2015-01-03</td><td>24.82</td><td>22.4</td><td>29.9</td><td>0.0</td><td> TRUE</td><td>30814</td></tr>\n",
       "\t<tr><td>2015-01-04</td><td>23.98</td><td>21.5</td><td>28.6</td><td>1.2</td><td> TRUE</td><td>29799</td></tr>\n",
       "\t<tr><td>2015-01-05</td><td>23.82</td><td>21.0</td><td>28.3</td><td>0.0</td><td>FALSE</td><td>28900</td></tr>\n",
       "</tbody>\n",
       "</table>\n"
      ],
      "text/latex": [
       "A tibble: 5 × 7\n",
       "\\begin{tabular}{lllllll}\n",
       " Data & Temperatura Media (C) & Temperatura Minima (C) & Temperatura Maxima (C) & Precipitacao (mm) & Final de Semana & Consumo de cerveja (litros)\\\\\n",
       " <chr> & <dbl> & <dbl> & <dbl> & <dbl> & <lgl> & <dbl>\\\\\n",
       "\\hline\n",
       "\t 2015-01-01 & 27.30 & 23.9 & 32.5 & 0.0 & FALSE & 25461\\\\\n",
       "\t 2015-01-02 & 27.02 & 24.5 & 33.5 & 0.0 & FALSE & 28972\\\\\n",
       "\t 2015-01-03 & 24.82 & 22.4 & 29.9 & 0.0 &  TRUE & 30814\\\\\n",
       "\t 2015-01-04 & 23.98 & 21.5 & 28.6 & 1.2 &  TRUE & 29799\\\\\n",
       "\t 2015-01-05 & 23.82 & 21.0 & 28.3 & 0.0 & FALSE & 28900\\\\\n",
       "\\end{tabular}\n"
      ],
      "text/markdown": [
       "\n",
       "A tibble: 5 × 7\n",
       "\n",
       "| Data &lt;chr&gt; | Temperatura Media (C) &lt;dbl&gt; | Temperatura Minima (C) &lt;dbl&gt; | Temperatura Maxima (C) &lt;dbl&gt; | Precipitacao (mm) &lt;dbl&gt; | Final de Semana &lt;lgl&gt; | Consumo de cerveja (litros) &lt;dbl&gt; |\n",
       "|---|---|---|---|---|---|---|\n",
       "| 2015-01-01 | 27.30 | 23.9 | 32.5 | 0.0 | FALSE | 25461 |\n",
       "| 2015-01-02 | 27.02 | 24.5 | 33.5 | 0.0 | FALSE | 28972 |\n",
       "| 2015-01-03 | 24.82 | 22.4 | 29.9 | 0.0 |  TRUE | 30814 |\n",
       "| 2015-01-04 | 23.98 | 21.5 | 28.6 | 1.2 |  TRUE | 29799 |\n",
       "| 2015-01-05 | 23.82 | 21.0 | 28.3 | 0.0 | FALSE | 28900 |\n",
       "\n"
      ],
      "text/plain": [
       "  Data       Temperatura Media (C) Temperatura Minima (C)\n",
       "1 2015-01-01 27.30                 23.9                  \n",
       "2 2015-01-02 27.02                 24.5                  \n",
       "3 2015-01-03 24.82                 22.4                  \n",
       "4 2015-01-04 23.98                 21.5                  \n",
       "5 2015-01-05 23.82                 21.0                  \n",
       "  Temperatura Maxima (C) Precipitacao (mm) Final de Semana\n",
       "1 32.5                   0.0               FALSE          \n",
       "2 33.5                   0.0               FALSE          \n",
       "3 29.9                   0.0                TRUE          \n",
       "4 28.6                   1.2                TRUE          \n",
       "5 28.3                   0.0               FALSE          \n",
       "  Consumo de cerveja (litros)\n",
       "1 25461                      \n",
       "2 28972                      \n",
       "3 30814                      \n",
       "4 29799                      \n",
       "5 28900                      "
      ]
     },
     "metadata": {},
     "output_type": "display_data"
    }
   ],
   "source": [
    "filtro_cerveja[1:5,]"
   ]
  },
  {
   "cell_type": "markdown",
   "metadata": {},
   "source": [
    "Agora vamos filtrar nossa base, pegando apenas as linhas que correspondem a finais de semana"
   ]
  },
  {
   "cell_type": "code",
   "execution_count": 19,
   "metadata": {},
   "outputs": [],
   "source": [
    "filtro_fds = dataset %>% filter(`Final de Semana` == TRUE)"
   ]
  },
  {
   "cell_type": "code",
   "execution_count": 20,
   "metadata": {},
   "outputs": [
    {
     "data": {
      "text/html": [
       "<table>\n",
       "<caption>A tibble: 5 × 7</caption>\n",
       "<thead>\n",
       "\t<tr><th scope=col>Data</th><th scope=col>Temperatura Media (C)</th><th scope=col>Temperatura Minima (C)</th><th scope=col>Temperatura Maxima (C)</th><th scope=col>Precipitacao (mm)</th><th scope=col>Final de Semana</th><th scope=col>Consumo de cerveja (litros)</th></tr>\n",
       "\t<tr><th scope=col>&lt;chr&gt;</th><th scope=col>&lt;dbl&gt;</th><th scope=col>&lt;dbl&gt;</th><th scope=col>&lt;dbl&gt;</th><th scope=col>&lt;dbl&gt;</th><th scope=col>&lt;lgl&gt;</th><th scope=col>&lt;dbl&gt;</th></tr>\n",
       "</thead>\n",
       "<tbody>\n",
       "\t<tr><td>2015-01-03</td><td>24.82</td><td>22.4</td><td>29.9</td><td>0.0</td><td>TRUE</td><td>30814</td></tr>\n",
       "\t<tr><td>2015-01-04</td><td>23.98</td><td>21.5</td><td>28.6</td><td>1.2</td><td>TRUE</td><td>29799</td></tr>\n",
       "\t<tr><td>2015-01-10</td><td>26.76</td><td>22.1</td><td>34.2</td><td>0.0</td><td>TRUE</td><td>37937</td></tr>\n",
       "\t<tr><td>2015-01-11</td><td>27.62</td><td>22.2</td><td>34.8</td><td>3.4</td><td>TRUE</td><td>36254</td></tr>\n",
       "\t<tr><td>2015-01-17</td><td>28.86</td><td>22.0</td><td>35.8</td><td>0.0</td><td>TRUE</td><td>37690</td></tr>\n",
       "</tbody>\n",
       "</table>\n"
      ],
      "text/latex": [
       "A tibble: 5 × 7\n",
       "\\begin{tabular}{lllllll}\n",
       " Data & Temperatura Media (C) & Temperatura Minima (C) & Temperatura Maxima (C) & Precipitacao (mm) & Final de Semana & Consumo de cerveja (litros)\\\\\n",
       " <chr> & <dbl> & <dbl> & <dbl> & <dbl> & <lgl> & <dbl>\\\\\n",
       "\\hline\n",
       "\t 2015-01-03 & 24.82 & 22.4 & 29.9 & 0.0 & TRUE & 30814\\\\\n",
       "\t 2015-01-04 & 23.98 & 21.5 & 28.6 & 1.2 & TRUE & 29799\\\\\n",
       "\t 2015-01-10 & 26.76 & 22.1 & 34.2 & 0.0 & TRUE & 37937\\\\\n",
       "\t 2015-01-11 & 27.62 & 22.2 & 34.8 & 3.4 & TRUE & 36254\\\\\n",
       "\t 2015-01-17 & 28.86 & 22.0 & 35.8 & 0.0 & TRUE & 37690\\\\\n",
       "\\end{tabular}\n"
      ],
      "text/markdown": [
       "\n",
       "A tibble: 5 × 7\n",
       "\n",
       "| Data &lt;chr&gt; | Temperatura Media (C) &lt;dbl&gt; | Temperatura Minima (C) &lt;dbl&gt; | Temperatura Maxima (C) &lt;dbl&gt; | Precipitacao (mm) &lt;dbl&gt; | Final de Semana &lt;lgl&gt; | Consumo de cerveja (litros) &lt;dbl&gt; |\n",
       "|---|---|---|---|---|---|---|\n",
       "| 2015-01-03 | 24.82 | 22.4 | 29.9 | 0.0 | TRUE | 30814 |\n",
       "| 2015-01-04 | 23.98 | 21.5 | 28.6 | 1.2 | TRUE | 29799 |\n",
       "| 2015-01-10 | 26.76 | 22.1 | 34.2 | 0.0 | TRUE | 37937 |\n",
       "| 2015-01-11 | 27.62 | 22.2 | 34.8 | 3.4 | TRUE | 36254 |\n",
       "| 2015-01-17 | 28.86 | 22.0 | 35.8 | 0.0 | TRUE | 37690 |\n",
       "\n"
      ],
      "text/plain": [
       "  Data       Temperatura Media (C) Temperatura Minima (C)\n",
       "1 2015-01-03 24.82                 22.4                  \n",
       "2 2015-01-04 23.98                 21.5                  \n",
       "3 2015-01-10 26.76                 22.1                  \n",
       "4 2015-01-11 27.62                 22.2                  \n",
       "5 2015-01-17 28.86                 22.0                  \n",
       "  Temperatura Maxima (C) Precipitacao (mm) Final de Semana\n",
       "1 29.9                   0.0               TRUE           \n",
       "2 28.6                   1.2               TRUE           \n",
       "3 34.2                   0.0               TRUE           \n",
       "4 34.8                   3.4               TRUE           \n",
       "5 35.8                   0.0               TRUE           \n",
       "  Consumo de cerveja (litros)\n",
       "1 30814                      \n",
       "2 29799                      \n",
       "3 37937                      \n",
       "4 36254                      \n",
       "5 37690                      "
      ]
     },
     "metadata": {},
     "output_type": "display_data"
    }
   ],
   "source": [
    "filtro_fds[1:5,]"
   ]
  },
  {
   "cell_type": "markdown",
   "metadata": {},
   "source": [
    "### `summarise()` - \"Tabelas dinâmicas\" no R"
   ]
  },
  {
   "cell_type": "markdown",
   "metadata": {},
   "source": [
    "Usar o verbo `summarise()` vai produzir um único número com a(s) medida(s) resumo escolhidas. <br>\n",
    "Mas como, muitas vezes, nós queremos segmentar a análise para subgrupos diferentes do dataset, o `summarise()` costuma ser utilizado com o `group_by()`. <br>\n",
    "O `group_by()` vai fazer com que as medidas resumos sejam feitas com base nos diferentes valores tidos em uma coluna."
   ]
  },
  {
   "cell_type": "markdown",
   "metadata": {},
   "source": [
    "Vamos, primeiro, usar o `summarise()` puro. Perceba que ele devolve a medida escolhida levando em consideração todas as linhas."
   ]
  },
  {
   "cell_type": "code",
   "execution_count": 22,
   "metadata": {},
   "outputs": [
    {
     "data": {
      "text/html": [
       "<table>\n",
       "<caption>A tibble: 1 × 2</caption>\n",
       "<thead>\n",
       "\t<tr><th scope=col>media</th><th scope=col>n</th></tr>\n",
       "\t<tr><th scope=col>&lt;dbl&gt;</th><th scope=col>&lt;int&gt;</th></tr>\n",
       "</thead>\n",
       "<tbody>\n",
       "\t<tr><td>25401.37</td><td>365</td></tr>\n",
       "</tbody>\n",
       "</table>\n"
      ],
      "text/latex": [
       "A tibble: 1 × 2\n",
       "\\begin{tabular}{ll}\n",
       " media & n\\\\\n",
       " <dbl> & <int>\\\\\n",
       "\\hline\n",
       "\t 25401.37 & 365\\\\\n",
       "\\end{tabular}\n"
      ],
      "text/markdown": [
       "\n",
       "A tibble: 1 × 2\n",
       "\n",
       "| media &lt;dbl&gt; | n &lt;int&gt; |\n",
       "|---|---|\n",
       "| 25401.37 | 365 |\n",
       "\n"
      ],
      "text/plain": [
       "  media    n  \n",
       "1 25401.37 365"
      ]
     },
     "metadata": {},
     "output_type": "display_data"
    }
   ],
   "source": [
    "dataset %>%\n",
    "  summarise(media = mean(`Consumo de cerveja (litros)`))"
   ]
  },
  {
   "cell_type": "markdown",
   "metadata": {},
   "source": [
    "Agora, utilizando o `group_by()` podemos segmentar os números com base em uma categoria (se é fim de semana ou não)."
   ]
  },
  {
   "cell_type": "code",
   "execution_count": 24,
   "metadata": {},
   "outputs": [
    {
     "data": {
      "text/html": [
       "<table>\n",
       "<caption>A tibble: 2 × 3</caption>\n",
       "<thead>\n",
       "\t<tr><th scope=col>Final de Semana</th><th scope=col>Média de consumo de cerveja (litros)</th><th scope=col>Desvio Padrão no consumo de cerveja (litros)</th></tr>\n",
       "\t<tr><th scope=col>&lt;lgl&gt;</th><th scope=col>&lt;dbl&gt;</th><th scope=col>&lt;dbl&gt;</th></tr>\n",
       "</thead>\n",
       "<tbody>\n",
       "\t<tr><td>FALSE</td><td>23998.22</td><td>3787.527</td></tr>\n",
       "\t<tr><td> TRUE</td><td>28922.72</td><td>3830.191</td></tr>\n",
       "</tbody>\n",
       "</table>\n"
      ],
      "text/latex": [
       "A tibble: 2 × 3\n",
       "\\begin{tabular}{lll}\n",
       " Final de Semana & Média de consumo de cerveja (litros) & Desvio Padrão no consumo de cerveja (litros)\\\\\n",
       " <lgl> & <dbl> & <dbl>\\\\\n",
       "\\hline\n",
       "\t FALSE & 23998.22 & 3787.527\\\\\n",
       "\t  TRUE & 28922.72 & 3830.191\\\\\n",
       "\\end{tabular}\n"
      ],
      "text/markdown": [
       "\n",
       "A tibble: 2 × 3\n",
       "\n",
       "| Final de Semana &lt;lgl&gt; | Média de consumo de cerveja (litros) &lt;dbl&gt; | Desvio Padrão no consumo de cerveja (litros) &lt;dbl&gt; |\n",
       "|---|---|---|\n",
       "| FALSE | 23998.22 | 3787.527 |\n",
       "|  TRUE | 28922.72 | 3830.191 |\n",
       "\n"
      ],
      "text/plain": [
       "  Final de Semana Média de consumo de cerveja (litros)\n",
       "1 FALSE           23998.22                            \n",
       "2  TRUE           28922.72                            \n",
       "  Desvio Padrão no consumo de cerveja (litros)\n",
       "1 3787.527                                    \n",
       "2 3830.191                                    "
      ]
     },
     "metadata": {},
     "output_type": "display_data"
    }
   ],
   "source": [
    "dataset %>% \n",
    "        group_by(`Final de Semana`) %>%\n",
    "        summarise(`Média de consumo de cerveja (litros)` = mean(`Consumo de cerveja (litros)`), \n",
    "                  `Desvio Padrão no consumo de cerveja (litros)` = sd(`Consumo de cerveja (litros)`))"
   ]
  },
  {
   "cell_type": "markdown",
   "metadata": {},
   "source": [
    "### `arrange()` - Alterando a ordem das linhas do seu dataset"
   ]
  },
  {
   "cell_type": "markdown",
   "metadata": {},
   "source": [
    "Esse é provavelmente o verbo mais fácil de ser usado. Você passa como argumento um ou mais critérios de ordenação (sendo que a ordem de preferência é a ordem passada). <br>\n",
    "Caso queira que a ordenação seja decrescente, é só utilizar a função `desc()`."
   ]
  },
  {
   "cell_type": "markdown",
   "metadata": {},
   "source": [
    "Ordenando o dataset do maior para o menor consumo de cerveja"
   ]
  },
  {
   "cell_type": "code",
   "execution_count": 26,
   "metadata": {},
   "outputs": [],
   "source": [
    "desc_consumo_cerveja = dataset %>% arrange(desc(`Consumo de cerveja (litros)`))"
   ]
  },
  {
   "cell_type": "code",
   "execution_count": 27,
   "metadata": {},
   "outputs": [
    {
     "data": {
      "text/html": [
       "<table>\n",
       "<caption>A tibble: 5 × 7</caption>\n",
       "<thead>\n",
       "\t<tr><th scope=col>Data</th><th scope=col>Temperatura Media (C)</th><th scope=col>Temperatura Minima (C)</th><th scope=col>Temperatura Maxima (C)</th><th scope=col>Precipitacao (mm)</th><th scope=col>Final de Semana</th><th scope=col>Consumo de cerveja (litros)</th></tr>\n",
       "\t<tr><th scope=col>&lt;chr&gt;</th><th scope=col>&lt;dbl&gt;</th><th scope=col>&lt;dbl&gt;</th><th scope=col>&lt;dbl&gt;</th><th scope=col>&lt;dbl&gt;</th><th scope=col>&lt;lgl&gt;</th><th scope=col>&lt;dbl&gt;</th></tr>\n",
       "</thead>\n",
       "<tbody>\n",
       "\t<tr><td>2015-01-10</td><td>26.76</td><td>22.1</td><td>34.2</td><td>0.0</td><td> TRUE</td><td>37937</td></tr>\n",
       "\t<tr><td>2015-01-17</td><td>28.86</td><td>22.0</td><td>35.8</td><td>0.0</td><td> TRUE</td><td>37690</td></tr>\n",
       "\t<tr><td>2015-01-11</td><td>27.62</td><td>22.2</td><td>34.8</td><td>3.4</td><td> TRUE</td><td>36254</td></tr>\n",
       "\t<tr><td>2015-10-15</td><td>28.12</td><td>18.9</td><td>35.8</td><td>0.0</td><td>FALSE</td><td>35861</td></tr>\n",
       "\t<tr><td>2015-10-31</td><td>23.18</td><td>18.2</td><td>29.3</td><td>0.0</td><td> TRUE</td><td>35781</td></tr>\n",
       "</tbody>\n",
       "</table>\n"
      ],
      "text/latex": [
       "A tibble: 5 × 7\n",
       "\\begin{tabular}{lllllll}\n",
       " Data & Temperatura Media (C) & Temperatura Minima (C) & Temperatura Maxima (C) & Precipitacao (mm) & Final de Semana & Consumo de cerveja (litros)\\\\\n",
       " <chr> & <dbl> & <dbl> & <dbl> & <dbl> & <lgl> & <dbl>\\\\\n",
       "\\hline\n",
       "\t 2015-01-10 & 26.76 & 22.1 & 34.2 & 0.0 &  TRUE & 37937\\\\\n",
       "\t 2015-01-17 & 28.86 & 22.0 & 35.8 & 0.0 &  TRUE & 37690\\\\\n",
       "\t 2015-01-11 & 27.62 & 22.2 & 34.8 & 3.4 &  TRUE & 36254\\\\\n",
       "\t 2015-10-15 & 28.12 & 18.9 & 35.8 & 0.0 & FALSE & 35861\\\\\n",
       "\t 2015-10-31 & 23.18 & 18.2 & 29.3 & 0.0 &  TRUE & 35781\\\\\n",
       "\\end{tabular}\n"
      ],
      "text/markdown": [
       "\n",
       "A tibble: 5 × 7\n",
       "\n",
       "| Data &lt;chr&gt; | Temperatura Media (C) &lt;dbl&gt; | Temperatura Minima (C) &lt;dbl&gt; | Temperatura Maxima (C) &lt;dbl&gt; | Precipitacao (mm) &lt;dbl&gt; | Final de Semana &lt;lgl&gt; | Consumo de cerveja (litros) &lt;dbl&gt; |\n",
       "|---|---|---|---|---|---|---|\n",
       "| 2015-01-10 | 26.76 | 22.1 | 34.2 | 0.0 |  TRUE | 37937 |\n",
       "| 2015-01-17 | 28.86 | 22.0 | 35.8 | 0.0 |  TRUE | 37690 |\n",
       "| 2015-01-11 | 27.62 | 22.2 | 34.8 | 3.4 |  TRUE | 36254 |\n",
       "| 2015-10-15 | 28.12 | 18.9 | 35.8 | 0.0 | FALSE | 35861 |\n",
       "| 2015-10-31 | 23.18 | 18.2 | 29.3 | 0.0 |  TRUE | 35781 |\n",
       "\n"
      ],
      "text/plain": [
       "  Data       Temperatura Media (C) Temperatura Minima (C)\n",
       "1 2015-01-10 26.76                 22.1                  \n",
       "2 2015-01-17 28.86                 22.0                  \n",
       "3 2015-01-11 27.62                 22.2                  \n",
       "4 2015-10-15 28.12                 18.9                  \n",
       "5 2015-10-31 23.18                 18.2                  \n",
       "  Temperatura Maxima (C) Precipitacao (mm) Final de Semana\n",
       "1 34.2                   0.0                TRUE          \n",
       "2 35.8                   0.0                TRUE          \n",
       "3 34.8                   3.4                TRUE          \n",
       "4 35.8                   0.0               FALSE          \n",
       "5 29.3                   0.0                TRUE          \n",
       "  Consumo de cerveja (litros)\n",
       "1 37937                      \n",
       "2 37690                      \n",
       "3 36254                      \n",
       "4 35861                      \n",
       "5 35781                      "
      ]
     },
     "metadata": {},
     "output_type": "display_data"
    }
   ],
   "source": [
    "desc_consumo_cerveja[1:5,]"
   ]
  },
  {
   "cell_type": "markdown",
   "metadata": {},
   "source": [
    "Ordenando o dataset da menor para a maior Temperatura Máxima"
   ]
  },
  {
   "cell_type": "code",
   "execution_count": 28,
   "metadata": {},
   "outputs": [],
   "source": [
    "ord_max_temp <- dataset %>% arrange(`Temperatura Maxima (C)`)"
   ]
  },
  {
   "cell_type": "code",
   "execution_count": 29,
   "metadata": {},
   "outputs": [
    {
     "data": {
      "text/html": [
       "<table>\n",
       "<caption>A tibble: 5 × 7</caption>\n",
       "<thead>\n",
       "\t<tr><th scope=col>Data</th><th scope=col>Temperatura Media (C)</th><th scope=col>Temperatura Minima (C)</th><th scope=col>Temperatura Maxima (C)</th><th scope=col>Precipitacao (mm)</th><th scope=col>Final de Semana</th><th scope=col>Consumo de cerveja (litros)</th></tr>\n",
       "\t<tr><th scope=col>&lt;chr&gt;</th><th scope=col>&lt;dbl&gt;</th><th scope=col>&lt;dbl&gt;</th><th scope=col>&lt;dbl&gt;</th><th scope=col>&lt;dbl&gt;</th><th scope=col>&lt;lgl&gt;</th><th scope=col>&lt;dbl&gt;</th></tr>\n",
       "</thead>\n",
       "<tbody>\n",
       "\t<tr><td>2015-07-05</td><td>12.90</td><td>11.0</td><td>14.5</td><td> 4.4</td><td> TRUE</td><td>21294</td></tr>\n",
       "\t<tr><td>2015-09-12</td><td>14.00</td><td>12.8</td><td>15.6</td><td>27.6</td><td> TRUE</td><td>21814</td></tr>\n",
       "\t<tr><td>2015-07-22</td><td>14.52</td><td>12.8</td><td>16.1</td><td> 0.0</td><td>FALSE</td><td>14343</td></tr>\n",
       "\t<tr><td>2015-09-13</td><td>14.18</td><td>12.5</td><td>16.1</td><td> 0.0</td><td> TRUE</td><td>21252</td></tr>\n",
       "\t<tr><td>2015-06-25</td><td>14.72</td><td>12.1</td><td>17.4</td><td> 1.0</td><td>FALSE</td><td>19463</td></tr>\n",
       "</tbody>\n",
       "</table>\n"
      ],
      "text/latex": [
       "A tibble: 5 × 7\n",
       "\\begin{tabular}{lllllll}\n",
       " Data & Temperatura Media (C) & Temperatura Minima (C) & Temperatura Maxima (C) & Precipitacao (mm) & Final de Semana & Consumo de cerveja (litros)\\\\\n",
       " <chr> & <dbl> & <dbl> & <dbl> & <dbl> & <lgl> & <dbl>\\\\\n",
       "\\hline\n",
       "\t 2015-07-05 & 12.90 & 11.0 & 14.5 &  4.4 &  TRUE & 21294\\\\\n",
       "\t 2015-09-12 & 14.00 & 12.8 & 15.6 & 27.6 &  TRUE & 21814\\\\\n",
       "\t 2015-07-22 & 14.52 & 12.8 & 16.1 &  0.0 & FALSE & 14343\\\\\n",
       "\t 2015-09-13 & 14.18 & 12.5 & 16.1 &  0.0 &  TRUE & 21252\\\\\n",
       "\t 2015-06-25 & 14.72 & 12.1 & 17.4 &  1.0 & FALSE & 19463\\\\\n",
       "\\end{tabular}\n"
      ],
      "text/markdown": [
       "\n",
       "A tibble: 5 × 7\n",
       "\n",
       "| Data &lt;chr&gt; | Temperatura Media (C) &lt;dbl&gt; | Temperatura Minima (C) &lt;dbl&gt; | Temperatura Maxima (C) &lt;dbl&gt; | Precipitacao (mm) &lt;dbl&gt; | Final de Semana &lt;lgl&gt; | Consumo de cerveja (litros) &lt;dbl&gt; |\n",
       "|---|---|---|---|---|---|---|\n",
       "| 2015-07-05 | 12.90 | 11.0 | 14.5 |  4.4 |  TRUE | 21294 |\n",
       "| 2015-09-12 | 14.00 | 12.8 | 15.6 | 27.6 |  TRUE | 21814 |\n",
       "| 2015-07-22 | 14.52 | 12.8 | 16.1 |  0.0 | FALSE | 14343 |\n",
       "| 2015-09-13 | 14.18 | 12.5 | 16.1 |  0.0 |  TRUE | 21252 |\n",
       "| 2015-06-25 | 14.72 | 12.1 | 17.4 |  1.0 | FALSE | 19463 |\n",
       "\n"
      ],
      "text/plain": [
       "  Data       Temperatura Media (C) Temperatura Minima (C)\n",
       "1 2015-07-05 12.90                 11.0                  \n",
       "2 2015-09-12 14.00                 12.8                  \n",
       "3 2015-07-22 14.52                 12.8                  \n",
       "4 2015-09-13 14.18                 12.5                  \n",
       "5 2015-06-25 14.72                 12.1                  \n",
       "  Temperatura Maxima (C) Precipitacao (mm) Final de Semana\n",
       "1 14.5                    4.4               TRUE          \n",
       "2 15.6                   27.6               TRUE          \n",
       "3 16.1                    0.0              FALSE          \n",
       "4 16.1                    0.0               TRUE          \n",
       "5 17.4                    1.0              FALSE          \n",
       "  Consumo de cerveja (litros)\n",
       "1 21294                      \n",
       "2 21814                      \n",
       "3 14343                      \n",
       "4 21252                      \n",
       "5 19463                      "
      ]
     },
     "metadata": {},
     "output_type": "display_data"
    }
   ],
   "source": [
    "ord_max_temp[1:5,]"
   ]
  },
  {
   "cell_type": "markdown",
   "metadata": {},
   "source": [
    "### Usando vários verbos ao mesmo tempo"
   ]
  },
  {
   "cell_type": "markdown",
   "metadata": {},
   "source": [
    "Vamos agora usar o `summarise()` junto com o `filter()` com as mesmas operações feitas antes, note a diferença. <br>\n",
    "Agora, estamos fazendo as medidas resumo apenas para o que esta na base filtrada"
   ]
  },
  {
   "cell_type": "code",
   "execution_count": 34,
   "metadata": {},
   "outputs": [
    {
     "data": {
      "text/html": [
       "<table>\n",
       "<caption>A tibble: 2 × 3</caption>\n",
       "<thead>\n",
       "\t<tr><th scope=col>Final de Semana</th><th scope=col>Média de consumo de cerveja (litros)</th><th scope=col>Desvio Padrão no consumo de cerveja (litros)</th></tr>\n",
       "\t<tr><th scope=col>&lt;lgl&gt;</th><th scope=col>&lt;dbl&gt;</th><th scope=col>&lt;dbl&gt;</th></tr>\n",
       "</thead>\n",
       "<tbody>\n",
       "\t<tr><td>FALSE</td><td>28313.24</td><td>2278.434</td></tr>\n",
       "\t<tr><td> TRUE</td><td>30440.48</td><td>2781.788</td></tr>\n",
       "</tbody>\n",
       "</table>\n"
      ],
      "text/latex": [
       "A tibble: 2 × 3\n",
       "\\begin{tabular}{lll}\n",
       " Final de Semana & Média de consumo de cerveja (litros) & Desvio Padrão no consumo de cerveja (litros)\\\\\n",
       " <lgl> & <dbl> & <dbl>\\\\\n",
       "\\hline\n",
       "\t FALSE & 28313.24 & 2278.434\\\\\n",
       "\t  TRUE & 30440.48 & 2781.788\\\\\n",
       "\\end{tabular}\n"
      ],
      "text/markdown": [
       "\n",
       "A tibble: 2 × 3\n",
       "\n",
       "| Final de Semana &lt;lgl&gt; | Média de consumo de cerveja (litros) &lt;dbl&gt; | Desvio Padrão no consumo de cerveja (litros) &lt;dbl&gt; |\n",
       "|---|---|---|\n",
       "| FALSE | 28313.24 | 2278.434 |\n",
       "|  TRUE | 30440.48 | 2781.788 |\n",
       "\n"
      ],
      "text/plain": [
       "  Final de Semana Média de consumo de cerveja (litros)\n",
       "1 FALSE           28313.24                            \n",
       "2  TRUE           30440.48                            \n",
       "  Desvio Padrão no consumo de cerveja (litros)\n",
       "1 2278.434                                    \n",
       "2 2781.788                                    "
      ]
     },
     "metadata": {},
     "output_type": "display_data"
    }
   ],
   "source": [
    "dataset %>%\n",
    "        filter(`Consumo de cerveja (litros)` > mean(`Consumo de cerveja (litros)`, na.rm = TRUE))%>%\n",
    "        group_by(`Final de Semana`) %>%\n",
    "        summarise(`Média de consumo de cerveja (litros)` = mean(`Consumo de cerveja (litros)`), \n",
    "                  `Desvio Padrão no consumo de cerveja (litros)` = sd(`Consumo de cerveja (litros)`))"
   ]
  },
  {
   "cell_type": "markdown",
   "metadata": {},
   "source": [
    "### Importante!\n",
    "É importante saber que muitas dessas operações não necessitam no `dplyr` para serem feitas, existindo funções nativas do `R` que dariam conta do recado.\n",
    "<br> A grande facilidade do `dplyr` é que o código se torna extremamente legível."
   ]
  }
 ],
 "metadata": {
  "kernelspec": {
   "display_name": "R",
   "language": "R",
   "name": "ir"
  },
  "language_info": {
   "codemirror_mode": "r",
   "file_extension": ".r",
   "mimetype": "text/x-r-source",
   "name": "R",
   "pygments_lexer": "r",
   "version": "3.4.4"
  }
 },
 "nbformat": 4,
 "nbformat_minor": 2
}
