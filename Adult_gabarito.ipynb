{
 "cells": [
  {
   "cell_type": "markdown",
   "metadata": {},
   "source": [
    "# WORKSHOP - ESTATÍSTICA BÁSICA COM R - GRUPO TURING"
   ]
  },
  {
   "cell_type": "markdown",
   "metadata": {},
   "source": [
    "**Tabela de Conteúdos**\n",
    "\n",
    "- :open_file_folder: [Importando dados em R](#parte1)\n",
    "    - [Importando um csv](#importando_csv)\n",
    "    - [Boas práticas em criação de bases de dados](#boas_praticas)\n",
    "    - [Importando os dados do Workshop](#importando_ws)\n",
    "    <br><br>\n",
    "- :mag: [Estatística básica em R](#parte2)\n",
    "    - [Tipos de dados](#tipos_de_dados)\n",
    "        - [Dados Qualitativos](#quali)\n",
    "        - [Dados Quantitativos](#quant)\n",
    "    - [Estatística Descritiva](#descritiva)\n",
    "        - [Medidas de tendência central](#tendencia_central)\n",
    "            - [Média](#media)\n",
    "            - [Mediana](#mediana)\n",
    "            - [Percentis](#percentil)\n",
    "            - [Summary](#summary)\n",
    "        - [Medidas de variação uni e multivariadas](#variacao)\n",
    "            - [Amplitude](#amplitude)\n",
    "            - [Amplitude interquartil](#amplitude_interquartil)\n",
    "            - [Variância](#variancia)\n",
    "            - [Desvio Padrão](#desv_pad)\n",
    "            - [Covariância](#covar)\n",
    "            - [Coeficiente de Correlação](#ccor)\n",
    "            <br><br>\n",
    "- :bookmark_tabs: [Manipulando dados em R](#parte3)\n",
    "    - [Dados Faltantes](#dados_faltantes)\n",
    "    - [Deep dive in dplyr](#dplyr)\n",
    "        - [mutate() - criando novas variáveis](#mutate)\n",
    "        - [select() - selecionando colunas](#select)\n",
    "        - [filter() - filtrando a base de dados](#filter)\n",
    "        - [summarise() - a tabela dinâmica do R](#summarise)\n",
    "        - [arrange() - alterando a ordem das linhas](#arrange)\n",
    "        - [Combinando os verbos](#varios_verbos)\n",
    "        <br><br>\n",
    "- :chart_with_downwards_trend: [Visualizando dados em R](#parte4)\n",
    "<br><br>\n",
    "- :question: [Inferência Estatística em R](#parte5)\n"
   ]
  },
  {
   "cell_type": "markdown",
   "metadata": {},
   "source": [
    "## <a id = \"parte1\"></a> <span style=\"color: orange;\"> Parte 1 - Importando dados em R </span>"
   ]
  },
  {
   "cell_type": "markdown",
   "metadata": {},
   "source": [
    "Quando vamos fazer nossa análise de dados, comumente devemos trazer esses dados de algum outro arquivo, o que nos pede um pouco de cuidado. <br> Por exemplo, é importante sabermos qual é o tipo de arquivo que estamos importando, pois isso pode fazer nosso programa ler os dados errôneamente. <br> Um dos formatos mais comums para a análise de dados é o **CSV**, ou *Comma separeted values*."
   ]
  },
  {
   "cell_type": "markdown",
   "metadata": {},
   "source": [
    "Assim, se for salvar uma planilha de dados, não se esqueça de salvar como CSV."
   ]
  },
  {
   "cell_type": "markdown",
   "metadata": {},
   "source": [
    "![img](img/csv_meme.jpg)"
   ]
  },
  {
   "cell_type": "markdown",
   "metadata": {},
   "source": [
    "Outro fator importante que devemos levar em conta na hora de importar o arquivo é o local em que ele está salvo. Se ele for salvo no mesmo diretório que o programa que se está usando para ler os dados, ou alguma pasta dentro deste, isso acarretará que podemos apenas escrever o nome do arquivo, sem a necessidade de escrever todo o caminho. <br> Vamos ver um exemplo abaixo:"
   ]
  },
  {
   "cell_type": "markdown",
   "metadata": {},
   "source": [
    "### <a id=\"importando_csv\"></a>Importando um arquivo CSV "
   ]
  },
  {
   "cell_type": "markdown",
   "metadata": {},
   "source": [
    "```R\n",
    "mydata <- read.csv(\"Data.csv\", header=TRUE)\n",
    "```"
   ]
  },
  {
   "cell_type": "markdown",
   "metadata": {},
   "source": [
    "Aqui ```mydata``` é o nome da variável que atribuiremos o conteúdo do arquivo que estamos lendo <br>\n",
    "A função ```read.csv``` lê arquivos que possuem este formato, aí uma importância de sabermos o formato do arquivo que estamos trabalhando. <br>\n",
    "O nome do arquivo deve vir dentro de aspas (simples ou dupla). Neste caso o arquivo está no mesmo diretório em que o nosso programa está sendo salvo, por isso não há necessidade de especificar diretórios anteriores. <br>\n",
    "Um argumento diferente da função deve ser separado por vírgula, aqui colocamos a função ```header=TRUE``` que significa que a primeira linha do nosso arquivo contém o nome das colunas (*labels*). Caso a primeira linha já contenha dados, vc deve trocar esse argumento por ```header=FALSE``` ."
   ]
  },
  {
   "cell_type": "markdown",
   "metadata": {},
   "source": [
    "Caso o arquivo esteja em um diretório diferente, é necessário identificá-lo. Vamos ver um exemplo:"
   ]
  },
  {
   "cell_type": "markdown",
   "metadata": {},
   "source": [
    "```R\n",
    "mydata <- read.csv(\"C:/Usuarios/Caminho/do/arquivo/Data.csv\", header=TRUE)\n",
    "```"
   ]
  },
  {
   "cell_type": "markdown",
   "metadata": {},
   "source": [
    "### Alguns problemas "
   ]
  },
  {
   "cell_type": "markdown",
   "metadata": {},
   "source": [
    "É comum importarmos um arquivo e este não parecer estar com um formato adequado, como por exemplo uma coluna sem dados, ou duplicada. Nestes casos, é importante checar se os dados estão da mesma forma que seu programa está lendo. Uma forma de descobrir isso é abrir os dados em um programa como o excel, ou leitor de texto e verificar se a divisão das colunas está sendo feita por vírgula ```,``` ou ponto e vírgula ```;```."
   ]
  },
  {
   "cell_type": "markdown",
   "metadata": {},
   "source": [
    "Caso o separador não seja a vírgula, podemos usar o argumento  ```sep=\" \"``` como o separador desejado:"
   ]
  },
  {
   "cell_type": "markdown",
   "metadata": {},
   "source": [
    "``` R \n",
    "mydata4 <- read.csv(\"Data3.csv\", header=TRUE, sep=\";\")\n",
    "```"
   ]
  },
  {
   "cell_type": "markdown",
   "metadata": {},
   "source": [
    "## <a id=\"boas_praticas\"></a> Boas Práticas "
   ]
  },
  {
   "cell_type": "markdown",
   "metadata": {},
   "source": [
    "Caso você não queira ter problemas na hora de importar dados para fazer suas análises, são necessárias algumas boas práticas na hora de criar seu arquivo."
   ]
  },
  {
   "cell_type": "markdown",
   "metadata": {},
   "source": [
    "Neste WorkShop, usaremos o dataset Adults, que possui dados do censo norte americano sobre fatores socioeconômicos. Vamos visualizá-lo no Excel para entender sua estrutura:"
   ]
  },
  {
   "cell_type": "markdown",
   "metadata": {},
   "source": [
    "![img2](img/excel_adults.png)"
   ]
  },
  {
   "cell_type": "markdown",
   "metadata": {},
   "source": [
    "Datasets também podem ser montados num simples arquivo de texto:"
   ]
  },
  {
   "cell_type": "markdown",
   "metadata": {},
   "source": [
    "```\n",
    "Id,age,marital.status,occupation,relationship,race,sex,capital.gain,capital.loss,hours.per.week,native.country,income\n",
    "16280,34,Divorced,Exec-managerial,Own-child,White,Male,0,0,44,United-States,<=50K\n",
    "16281,58,Married-civ-spouse,Transport-moving,Husband,White,Male,0,0,40,United-States,<=50K\n",
    "```"
   ]
  },
  {
   "cell_type": "markdown",
   "metadata": {},
   "source": [
    "### Como escrever então seu arquivo de dados?"
   ]
  },
  {
   "cell_type": "markdown",
   "metadata": {},
   "source": [
    "1. Comece pela primeira linha e primeira coluna, ou seja, não pule células\n",
    "2. Inclua uma linha de títulos para cada coluna\n",
    "3. Tenha certeza que o número de títulos é igual ao número de colunas dos seus dados\n",
    "4. Não junte células, isso pode fazer seu programa ter problemas na hora de ler o arquivo\n",
    "5. No caso de arquivos de texto, use preferencialmente ```,``` como separador dos dados"
   ]
  },
  {
   "cell_type": "markdown",
   "metadata": {},
   "source": [
    "## <a id=\"importando_ws\"></a> Importando o arquivo do Workshop "
   ]
  },
  {
   "cell_type": "code",
   "execution_count": 1,
   "metadata": {},
   "outputs": [
    {
     "data": {
      "text/html": [
       "<table>\n",
       "<caption>A data.frame: 5 × 16</caption>\n",
       "<thead>\n",
       "\t<tr><th></th><th scope=col>Id</th><th scope=col>age</th><th scope=col>workclass</th><th scope=col>fnlwgt</th><th scope=col>education</th><th scope=col>education.num</th><th scope=col>marital.status</th><th scope=col>occupation</th><th scope=col>relationship</th><th scope=col>race</th><th scope=col>sex</th><th scope=col>capital.gain</th><th scope=col>capital.loss</th><th scope=col>hours.per.week</th><th scope=col>native.country</th><th scope=col>income</th></tr>\n",
       "\t<tr><th></th><th scope=col>&lt;int&gt;</th><th scope=col>&lt;int&gt;</th><th scope=col>&lt;fct&gt;</th><th scope=col>&lt;int&gt;</th><th scope=col>&lt;fct&gt;</th><th scope=col>&lt;int&gt;</th><th scope=col>&lt;fct&gt;</th><th scope=col>&lt;fct&gt;</th><th scope=col>&lt;fct&gt;</th><th scope=col>&lt;fct&gt;</th><th scope=col>&lt;fct&gt;</th><th scope=col>&lt;int&gt;</th><th scope=col>&lt;int&gt;</th><th scope=col>&lt;int&gt;</th><th scope=col>&lt;fct&gt;</th><th scope=col>&lt;fct&gt;</th></tr>\n",
       "</thead>\n",
       "<tbody>\n",
       "\t<tr><th scope=row>1</th><td>16280</td><td>34</td><td><span style=white-space:pre-wrap>Private     </span></td><td>204991</td><td>Some-college</td><td>10</td><td><span style=white-space:pre-wrap>Divorced          </span></td><td><span style=white-space:pre-wrap>Exec-managerial  </span></td><td><span style=white-space:pre-wrap>Own-child    </span></td><td>White</td><td><span style=white-space:pre-wrap>Male  </span></td><td><span style=white-space:pre-wrap>   0</span></td><td>0</td><td>44</td><td>United-States</td><td>&lt;=50K</td></tr>\n",
       "\t<tr><th scope=row>2</th><td>16281</td><td>58</td><td><span style=white-space:pre-wrap>Local-gov   </span></td><td>310085</td><td><span style=white-space:pre-wrap>10th        </span></td><td> 6</td><td>Married-civ-spouse</td><td>Transport-moving </td><td><span style=white-space:pre-wrap>Husband      </span></td><td>White</td><td><span style=white-space:pre-wrap>Male  </span></td><td><span style=white-space:pre-wrap>   0</span></td><td>0</td><td>40</td><td>United-States</td><td>&lt;=50K</td></tr>\n",
       "\t<tr><th scope=row>3</th><td>16282</td><td>25</td><td><span style=white-space:pre-wrap>Private     </span></td><td>146117</td><td>Some-college</td><td>10</td><td><span style=white-space:pre-wrap>Never-married     </span></td><td>Machine-op-inspct</td><td>Not-in-family</td><td>White</td><td><span style=white-space:pre-wrap>Male  </span></td><td><span style=white-space:pre-wrap>   0</span></td><td>0</td><td>42</td><td>United-States</td><td>&lt;=50K</td></tr>\n",
       "\t<tr><th scope=row>4</th><td>16283</td><td>24</td><td><span style=white-space:pre-wrap>Private     </span></td><td>138938</td><td>Some-college</td><td>10</td><td><span style=white-space:pre-wrap>Divorced          </span></td><td><span style=white-space:pre-wrap>Adm-clerical     </span></td><td>Not-in-family</td><td>White</td><td>Female</td><td><span style=white-space:pre-wrap>   0</span></td><td>0</td><td>40</td><td>United-States</td><td>&lt;=50K</td></tr>\n",
       "\t<tr><th scope=row>5</th><td>16284</td><td>57</td><td>Self-emp-inc</td><td>258883</td><td><span style=white-space:pre-wrap>HS-grad     </span></td><td> 9</td><td>Married-civ-spouse</td><td>Transport-moving </td><td><span style=white-space:pre-wrap>Husband      </span></td><td>White</td><td><span style=white-space:pre-wrap>Male  </span></td><td>5178</td><td>0</td><td>60</td><td><span style=white-space:pre-wrap>Hungary      </span></td><td>&gt;50K </td></tr>\n",
       "</tbody>\n",
       "</table>\n"
      ],
      "text/latex": [
       "A data.frame: 5 × 16\n",
       "\\begin{tabular}{r|llllllllllllllll}\n",
       "  & Id & age & workclass & fnlwgt & education & education.num & marital.status & occupation & relationship & race & sex & capital.gain & capital.loss & hours.per.week & native.country & income\\\\\n",
       "  & <int> & <int> & <fct> & <int> & <fct> & <int> & <fct> & <fct> & <fct> & <fct> & <fct> & <int> & <int> & <int> & <fct> & <fct>\\\\\n",
       "\\hline\n",
       "\t1 & 16280 & 34 & Private      & 204991 & Some-college & 10 & Divorced           & Exec-managerial   & Own-child     & White & Male   &    0 & 0 & 44 & United-States & <=50K\\\\\n",
       "\t2 & 16281 & 58 & Local-gov    & 310085 & 10th         &  6 & Married-civ-spouse & Transport-moving  & Husband       & White & Male   &    0 & 0 & 40 & United-States & <=50K\\\\\n",
       "\t3 & 16282 & 25 & Private      & 146117 & Some-college & 10 & Never-married      & Machine-op-inspct & Not-in-family & White & Male   &    0 & 0 & 42 & United-States & <=50K\\\\\n",
       "\t4 & 16283 & 24 & Private      & 138938 & Some-college & 10 & Divorced           & Adm-clerical      & Not-in-family & White & Female &    0 & 0 & 40 & United-States & <=50K\\\\\n",
       "\t5 & 16284 & 57 & Self-emp-inc & 258883 & HS-grad      &  9 & Married-civ-spouse & Transport-moving  & Husband       & White & Male   & 5178 & 0 & 60 & Hungary       & >50K \\\\\n",
       "\\end{tabular}\n"
      ],
      "text/markdown": [
       "\n",
       "A data.frame: 5 × 16\n",
       "\n",
       "| <!--/--> | Id &lt;int&gt; | age &lt;int&gt; | workclass &lt;fct&gt; | fnlwgt &lt;int&gt; | education &lt;fct&gt; | education.num &lt;int&gt; | marital.status &lt;fct&gt; | occupation &lt;fct&gt; | relationship &lt;fct&gt; | race &lt;fct&gt; | sex &lt;fct&gt; | capital.gain &lt;int&gt; | capital.loss &lt;int&gt; | hours.per.week &lt;int&gt; | native.country &lt;fct&gt; | income &lt;fct&gt; |\n",
       "|---|---|---|---|---|---|---|---|---|---|---|---|---|---|---|---|---|\n",
       "| 1 | 16280 | 34 | Private      | 204991 | Some-college | 10 | Divorced           | Exec-managerial   | Own-child     | White | Male   |    0 | 0 | 44 | United-States | &lt;=50K |\n",
       "| 2 | 16281 | 58 | Local-gov    | 310085 | 10th         |  6 | Married-civ-spouse | Transport-moving  | Husband       | White | Male   |    0 | 0 | 40 | United-States | &lt;=50K |\n",
       "| 3 | 16282 | 25 | Private      | 146117 | Some-college | 10 | Never-married      | Machine-op-inspct | Not-in-family | White | Male   |    0 | 0 | 42 | United-States | &lt;=50K |\n",
       "| 4 | 16283 | 24 | Private      | 138938 | Some-college | 10 | Divorced           | Adm-clerical      | Not-in-family | White | Female |    0 | 0 | 40 | United-States | &lt;=50K |\n",
       "| 5 | 16284 | 57 | Self-emp-inc | 258883 | HS-grad      |  9 | Married-civ-spouse | Transport-moving  | Husband       | White | Male   | 5178 | 0 | 60 | Hungary       | &gt;50K  |\n",
       "\n"
      ],
      "text/plain": [
       "  Id    age workclass    fnlwgt education    education.num marital.status    \n",
       "1 16280 34  Private      204991 Some-college 10            Divorced          \n",
       "2 16281 58  Local-gov    310085 10th          6            Married-civ-spouse\n",
       "3 16282 25  Private      146117 Some-college 10            Never-married     \n",
       "4 16283 24  Private      138938 Some-college 10            Divorced          \n",
       "5 16284 57  Self-emp-inc 258883 HS-grad       9            Married-civ-spouse\n",
       "  occupation        relationship  race  sex    capital.gain capital.loss\n",
       "1 Exec-managerial   Own-child     White Male      0         0           \n",
       "2 Transport-moving  Husband       White Male      0         0           \n",
       "3 Machine-op-inspct Not-in-family White Male      0         0           \n",
       "4 Adm-clerical      Not-in-family White Female    0         0           \n",
       "5 Transport-moving  Husband       White Male   5178         0           \n",
       "  hours.per.week native.country income\n",
       "1 44             United-States  <=50K \n",
       "2 40             United-States  <=50K \n",
       "3 42             United-States  <=50K \n",
       "4 40             United-States  <=50K \n",
       "5 60             Hungary        >50K  "
      ]
     },
     "metadata": {},
     "output_type": "display_data"
    }
   ],
   "source": [
    "mydata <- read.csv(\"dados/adults.csv\", header=TRUE)\n",
    "head(mydata, 5)"
   ]
  },
  {
   "cell_type": "markdown",
   "metadata": {},
   "source": [
    "Note que por padrão, R lê seu arquivo CSV como se fosse separado por ```,``` <br>\n",
    "O que acontece então se usarmos outro separador?"
   ]
  },
  {
   "cell_type": "code",
   "execution_count": 2,
   "metadata": {},
   "outputs": [
    {
     "data": {
      "text/html": [
       "<table>\n",
       "<caption>A data.frame: 5 × 1</caption>\n",
       "<thead>\n",
       "\t<tr><th></th><th scope=col>Id.age.workclass.fnlwgt.education.education.num.marital.status.occupation.relationship.race.sex.capital.gain.capital.loss.hours.per.week.native.country.income</th></tr>\n",
       "\t<tr><th></th><th scope=col>&lt;fct&gt;</th></tr>\n",
       "</thead>\n",
       "<tbody>\n",
       "\t<tr><th scope=row>1</th><td><span style=white-space:pre-wrap>16280,34,Private,204991,Some-college,10,Divorced,Exec-managerial,Own-child,White,Male,0,0,44,United-States,&lt;=50K           </span></td></tr>\n",
       "\t<tr><th scope=row>2</th><td><span style=white-space:pre-wrap>16281,58,Local-gov,310085,10th,6,Married-civ-spouse,Transport-moving,Husband,White,Male,0,0,40,United-States,&lt;=50K         </span></td></tr>\n",
       "\t<tr><th scope=row>3</th><td>16282,25,Private,146117,Some-college,10,Never-married,Machine-op-inspct,Not-in-family,White,Male,0,0,42,United-States,&lt;=50K</td></tr>\n",
       "\t<tr><th scope=row>4</th><td><span style=white-space:pre-wrap>16283,24,Private,138938,Some-college,10,Divorced,Adm-clerical,Not-in-family,White,Female,0,0,40,United-States,&lt;=50K        </span></td></tr>\n",
       "\t<tr><th scope=row>5</th><td><span style=white-space:pre-wrap>16284,57,Self-emp-inc,258883,HS-grad,9,Married-civ-spouse,Transport-moving,Husband,White,Male,5178,0,60,Hungary,&gt;50K       </span></td></tr>\n",
       "</tbody>\n",
       "</table>\n"
      ],
      "text/latex": [
       "A data.frame: 5 × 1\n",
       "\\begin{tabular}{r|l}\n",
       "  & Id.age.workclass.fnlwgt.education.education.num.marital.status.occupation.relationship.race.sex.capital.gain.capital.loss.hours.per.week.native.country.income\\\\\n",
       "  & <fct>\\\\\n",
       "\\hline\n",
       "\t1 & 16280,34,Private,204991,Some-college,10,Divorced,Exec-managerial,Own-child,White,Male,0,0,44,United-States,<=50K           \\\\\n",
       "\t2 & 16281,58,Local-gov,310085,10th,6,Married-civ-spouse,Transport-moving,Husband,White,Male,0,0,40,United-States,<=50K         \\\\\n",
       "\t3 & 16282,25,Private,146117,Some-college,10,Never-married,Machine-op-inspct,Not-in-family,White,Male,0,0,42,United-States,<=50K\\\\\n",
       "\t4 & 16283,24,Private,138938,Some-college,10,Divorced,Adm-clerical,Not-in-family,White,Female,0,0,40,United-States,<=50K        \\\\\n",
       "\t5 & 16284,57,Self-emp-inc,258883,HS-grad,9,Married-civ-spouse,Transport-moving,Husband,White,Male,5178,0,60,Hungary,>50K       \\\\\n",
       "\\end{tabular}\n"
      ],
      "text/markdown": [
       "\n",
       "A data.frame: 5 × 1\n",
       "\n",
       "| <!--/--> | Id.age.workclass.fnlwgt.education.education.num.marital.status.occupation.relationship.race.sex.capital.gain.capital.loss.hours.per.week.native.country.income &lt;fct&gt; |\n",
       "|---|---|\n",
       "| 1 | 16280,34,Private,204991,Some-college,10,Divorced,Exec-managerial,Own-child,White,Male,0,0,44,United-States,&lt;=50K            |\n",
       "| 2 | 16281,58,Local-gov,310085,10th,6,Married-civ-spouse,Transport-moving,Husband,White,Male,0,0,40,United-States,&lt;=50K          |\n",
       "| 3 | 16282,25,Private,146117,Some-college,10,Never-married,Machine-op-inspct,Not-in-family,White,Male,0,0,42,United-States,&lt;=50K |\n",
       "| 4 | 16283,24,Private,138938,Some-college,10,Divorced,Adm-clerical,Not-in-family,White,Female,0,0,40,United-States,&lt;=50K         |\n",
       "| 5 | 16284,57,Self-emp-inc,258883,HS-grad,9,Married-civ-spouse,Transport-moving,Husband,White,Male,5178,0,60,Hungary,&gt;50K        |\n",
       "\n"
      ],
      "text/plain": [
       "  Id.age.workclass.fnlwgt.education.education.num.marital.status.occupation.relationship.race.sex.capital.gain.capital.loss.hours.per.week.native.country.income\n",
       "1 16280,34,Private,204991,Some-college,10,Divorced,Exec-managerial,Own-child,White,Male,0,0,44,United-States,<=50K                                              \n",
       "2 16281,58,Local-gov,310085,10th,6,Married-civ-spouse,Transport-moving,Husband,White,Male,0,0,40,United-States,<=50K                                            \n",
       "3 16282,25,Private,146117,Some-college,10,Never-married,Machine-op-inspct,Not-in-family,White,Male,0,0,42,United-States,<=50K                                   \n",
       "4 16283,24,Private,138938,Some-college,10,Divorced,Adm-clerical,Not-in-family,White,Female,0,0,40,United-States,<=50K                                           \n",
       "5 16284,57,Self-emp-inc,258883,HS-grad,9,Married-civ-spouse,Transport-moving,Husband,White,Male,5178,0,60,Hungary,>50K                                          "
      ]
     },
     "metadata": {},
     "output_type": "display_data"
    }
   ],
   "source": [
    "my_wrong_data <- read.csv(\"dados/adults.csv\", header=TRUE, sep=\";\")\n",
    "head(my_wrong_data, 5)"
   ]
  },
  {
   "cell_type": "markdown",
   "metadata": {},
   "source": [
    "<img src=\"img/surprised_face.jpg\" width=\"300\"/>"
   ]
  },
  {
   "cell_type": "code",
   "execution_count": 3,
   "metadata": {},
   "outputs": [
    {
     "data": {
      "text/html": [
       "<table>\n",
       "<caption>A data.frame: 6 × 16</caption>\n",
       "<thead>\n",
       "\t<tr><th></th><th scope=col>Id</th><th scope=col>age</th><th scope=col>workclass</th><th scope=col>fnlwgt</th><th scope=col>education</th><th scope=col>education.num</th><th scope=col>marital.status</th><th scope=col>occupation</th><th scope=col>relationship</th><th scope=col>race</th><th scope=col>sex</th><th scope=col>capital.gain</th><th scope=col>capital.loss</th><th scope=col>hours.per.week</th><th scope=col>native.country</th><th scope=col>income</th></tr>\n",
       "\t<tr><th></th><th scope=col>&lt;int&gt;</th><th scope=col>&lt;int&gt;</th><th scope=col>&lt;fct&gt;</th><th scope=col>&lt;int&gt;</th><th scope=col>&lt;fct&gt;</th><th scope=col>&lt;int&gt;</th><th scope=col>&lt;fct&gt;</th><th scope=col>&lt;fct&gt;</th><th scope=col>&lt;fct&gt;</th><th scope=col>&lt;fct&gt;</th><th scope=col>&lt;fct&gt;</th><th scope=col>&lt;int&gt;</th><th scope=col>&lt;int&gt;</th><th scope=col>&lt;int&gt;</th><th scope=col>&lt;fct&gt;</th><th scope=col>&lt;fct&gt;</th></tr>\n",
       "</thead>\n",
       "<tbody>\n",
       "\t<tr><th scope=row>1</th><td>16280</td><td>34</td><td><span style=white-space:pre-wrap>Private     </span></td><td>204991</td><td>Some-college</td><td>10</td><td><span style=white-space:pre-wrap>Divorced          </span></td><td><span style=white-space:pre-wrap>Exec-managerial  </span></td><td><span style=white-space:pre-wrap>Own-child    </span></td><td>White</td><td><span style=white-space:pre-wrap>Male  </span></td><td><span style=white-space:pre-wrap>   0</span></td><td>0</td><td>44</td><td>United-States</td><td>&lt;=50K</td></tr>\n",
       "\t<tr><th scope=row>2</th><td>16281</td><td>58</td><td><span style=white-space:pre-wrap>Local-gov   </span></td><td>310085</td><td><span style=white-space:pre-wrap>10th        </span></td><td> 6</td><td>Married-civ-spouse</td><td>Transport-moving </td><td><span style=white-space:pre-wrap>Husband      </span></td><td>White</td><td><span style=white-space:pre-wrap>Male  </span></td><td><span style=white-space:pre-wrap>   0</span></td><td>0</td><td>40</td><td>United-States</td><td>&lt;=50K</td></tr>\n",
       "\t<tr><th scope=row>3</th><td>16282</td><td>25</td><td><span style=white-space:pre-wrap>Private     </span></td><td>146117</td><td>Some-college</td><td>10</td><td><span style=white-space:pre-wrap>Never-married     </span></td><td>Machine-op-inspct</td><td>Not-in-family</td><td>White</td><td><span style=white-space:pre-wrap>Male  </span></td><td><span style=white-space:pre-wrap>   0</span></td><td>0</td><td>42</td><td>United-States</td><td>&lt;=50K</td></tr>\n",
       "\t<tr><th scope=row>4</th><td>16283</td><td>24</td><td><span style=white-space:pre-wrap>Private     </span></td><td>138938</td><td>Some-college</td><td>10</td><td><span style=white-space:pre-wrap>Divorced          </span></td><td><span style=white-space:pre-wrap>Adm-clerical     </span></td><td>Not-in-family</td><td>White</td><td>Female</td><td><span style=white-space:pre-wrap>   0</span></td><td>0</td><td>40</td><td>United-States</td><td>&lt;=50K</td></tr>\n",
       "\t<tr><th scope=row>5</th><td>16284</td><td>57</td><td>Self-emp-inc</td><td>258883</td><td><span style=white-space:pre-wrap>HS-grad     </span></td><td> 9</td><td>Married-civ-spouse</td><td>Transport-moving </td><td><span style=white-space:pre-wrap>Husband      </span></td><td>White</td><td><span style=white-space:pre-wrap>Male  </span></td><td>5178</td><td>0</td><td>60</td><td><span style=white-space:pre-wrap>Hungary      </span></td><td>&gt;50K </td></tr>\n",
       "\t<tr><th scope=row>6</th><td>16285</td><td>57</td><td><span style=white-space:pre-wrap>Private     </span></td><td>163047</td><td><span style=white-space:pre-wrap>HS-grad     </span></td><td> 9</td><td>Married-civ-spouse</td><td><span style=white-space:pre-wrap>Exec-managerial  </span></td><td><span style=white-space:pre-wrap>Wife         </span></td><td>White</td><td>Female</td><td><span style=white-space:pre-wrap>   0</span></td><td>0</td><td>38</td><td>United-States</td><td>&lt;=50K</td></tr>\n",
       "</tbody>\n",
       "</table>\n"
      ],
      "text/latex": [
       "A data.frame: 6 × 16\n",
       "\\begin{tabular}{r|llllllllllllllll}\n",
       "  & Id & age & workclass & fnlwgt & education & education.num & marital.status & occupation & relationship & race & sex & capital.gain & capital.loss & hours.per.week & native.country & income\\\\\n",
       "  & <int> & <int> & <fct> & <int> & <fct> & <int> & <fct> & <fct> & <fct> & <fct> & <fct> & <int> & <int> & <int> & <fct> & <fct>\\\\\n",
       "\\hline\n",
       "\t1 & 16280 & 34 & Private      & 204991 & Some-college & 10 & Divorced           & Exec-managerial   & Own-child     & White & Male   &    0 & 0 & 44 & United-States & <=50K\\\\\n",
       "\t2 & 16281 & 58 & Local-gov    & 310085 & 10th         &  6 & Married-civ-spouse & Transport-moving  & Husband       & White & Male   &    0 & 0 & 40 & United-States & <=50K\\\\\n",
       "\t3 & 16282 & 25 & Private      & 146117 & Some-college & 10 & Never-married      & Machine-op-inspct & Not-in-family & White & Male   &    0 & 0 & 42 & United-States & <=50K\\\\\n",
       "\t4 & 16283 & 24 & Private      & 138938 & Some-college & 10 & Divorced           & Adm-clerical      & Not-in-family & White & Female &    0 & 0 & 40 & United-States & <=50K\\\\\n",
       "\t5 & 16284 & 57 & Self-emp-inc & 258883 & HS-grad      &  9 & Married-civ-spouse & Transport-moving  & Husband       & White & Male   & 5178 & 0 & 60 & Hungary       & >50K \\\\\n",
       "\t6 & 16285 & 57 & Private      & 163047 & HS-grad      &  9 & Married-civ-spouse & Exec-managerial   & Wife          & White & Female &    0 & 0 & 38 & United-States & <=50K\\\\\n",
       "\\end{tabular}\n"
      ],
      "text/markdown": [
       "\n",
       "A data.frame: 6 × 16\n",
       "\n",
       "| <!--/--> | Id &lt;int&gt; | age &lt;int&gt; | workclass &lt;fct&gt; | fnlwgt &lt;int&gt; | education &lt;fct&gt; | education.num &lt;int&gt; | marital.status &lt;fct&gt; | occupation &lt;fct&gt; | relationship &lt;fct&gt; | race &lt;fct&gt; | sex &lt;fct&gt; | capital.gain &lt;int&gt; | capital.loss &lt;int&gt; | hours.per.week &lt;int&gt; | native.country &lt;fct&gt; | income &lt;fct&gt; |\n",
       "|---|---|---|---|---|---|---|---|---|---|---|---|---|---|---|---|---|\n",
       "| 1 | 16280 | 34 | Private      | 204991 | Some-college | 10 | Divorced           | Exec-managerial   | Own-child     | White | Male   |    0 | 0 | 44 | United-States | &lt;=50K |\n",
       "| 2 | 16281 | 58 | Local-gov    | 310085 | 10th         |  6 | Married-civ-spouse | Transport-moving  | Husband       | White | Male   |    0 | 0 | 40 | United-States | &lt;=50K |\n",
       "| 3 | 16282 | 25 | Private      | 146117 | Some-college | 10 | Never-married      | Machine-op-inspct | Not-in-family | White | Male   |    0 | 0 | 42 | United-States | &lt;=50K |\n",
       "| 4 | 16283 | 24 | Private      | 138938 | Some-college | 10 | Divorced           | Adm-clerical      | Not-in-family | White | Female |    0 | 0 | 40 | United-States | &lt;=50K |\n",
       "| 5 | 16284 | 57 | Self-emp-inc | 258883 | HS-grad      |  9 | Married-civ-spouse | Transport-moving  | Husband       | White | Male   | 5178 | 0 | 60 | Hungary       | &gt;50K  |\n",
       "| 6 | 16285 | 57 | Private      | 163047 | HS-grad      |  9 | Married-civ-spouse | Exec-managerial   | Wife          | White | Female |    0 | 0 | 38 | United-States | &lt;=50K |\n",
       "\n"
      ],
      "text/plain": [
       "  Id    age workclass    fnlwgt education    education.num marital.status    \n",
       "1 16280 34  Private      204991 Some-college 10            Divorced          \n",
       "2 16281 58  Local-gov    310085 10th          6            Married-civ-spouse\n",
       "3 16282 25  Private      146117 Some-college 10            Never-married     \n",
       "4 16283 24  Private      138938 Some-college 10            Divorced          \n",
       "5 16284 57  Self-emp-inc 258883 HS-grad       9            Married-civ-spouse\n",
       "6 16285 57  Private      163047 HS-grad       9            Married-civ-spouse\n",
       "  occupation        relationship  race  sex    capital.gain capital.loss\n",
       "1 Exec-managerial   Own-child     White Male      0         0           \n",
       "2 Transport-moving  Husband       White Male      0         0           \n",
       "3 Machine-op-inspct Not-in-family White Male      0         0           \n",
       "4 Adm-clerical      Not-in-family White Female    0         0           \n",
       "5 Transport-moving  Husband       White Male   5178         0           \n",
       "6 Exec-managerial   Wife          White Female    0         0           \n",
       "  hours.per.week native.country income\n",
       "1 44             United-States  <=50K \n",
       "2 40             United-States  <=50K \n",
       "3 42             United-States  <=50K \n",
       "4 40             United-States  <=50K \n",
       "5 60             Hungary        >50K  \n",
       "6 38             United-States  <=50K "
      ]
     },
     "metadata": {},
     "output_type": "display_data"
    }
   ],
   "source": [
    "adult <- read.csv(\"dados/adults.csv\", header=TRUE)\n",
    "head(adult)"
   ]
  },
  {
   "cell_type": "markdown",
   "metadata": {},
   "source": [
    "## <a id = \"parte2\"></a><span style=\"color: orange;\">  Parte 2 -  Estatística Básica em R </span>\n",
    "\n",
    "Agora que já vimos o básico de importação de dados em **R**, estamos prontos para entender como essa linguagem é utilizada efetivamente para fazer análises estatísticas!\n",
    "\n",
    "Mas não se preocupe, vamos explorando os diversos temas de estatística enquanto aprendemos mais sobre **R**."
   ]
  },
  {
   "cell_type": "markdown",
   "metadata": {},
   "source": [
    "## <a id=\"tipos_de_dados\"></a> Tipos de Dados\n",
    "\n",
    "Um dos pontos base da Estatística consiste em entender nossas informações e como elas elas são organizadas: os **dados**. Esses dados podem ser divididos em dois tipos diferentes: dados **qualitativos** e dados **quantitativos**.\n",
    "\n",
    "### <a id=\"quali\"></a>Dados Qualitativos\n",
    "\n",
    "Esses dados representam **categorias** do nosso espaço, ou seja, eles dividem os indivíduos em diversas classes que não se intersectam. Por exemplo, a cor de uma flor é um tipo de dado qualitativo, já que as categoriza em classes como: *'amarelo'*, *'rosa'*, *'vermelho'*, *'azul'*, etc. Esses dados são bem úteis para representar características que não são facilmente descritas por números, como qualidades (daí vem o nome)."
   ]
  },
  {
   "cell_type": "code",
   "execution_count": 4,
   "metadata": {},
   "outputs": [
    {
     "data": {
      "text/html": [
       "<table>\n",
       "<caption>A data.frame: 4 × 2</caption>\n",
       "<thead>\n",
       "\t<tr><th scope=col>Flor</th><th scope=col>Cor</th></tr>\n",
       "\t<tr><th scope=col>&lt;fct&gt;</th><th scope=col>&lt;fct&gt;</th></tr>\n",
       "</thead>\n",
       "<tbody>\n",
       "\t<tr><td>Margarida</td><td>Amarelo </td></tr>\n",
       "\t<tr><td>Hortênsia</td><td>Azul    </td></tr>\n",
       "\t<tr><td>Violeta  </td><td>Azul    </td></tr>\n",
       "\t<tr><td>Rosa     </td><td>Vermelho</td></tr>\n",
       "</tbody>\n",
       "</table>\n"
      ],
      "text/latex": [
       "A data.frame: 4 × 2\n",
       "\\begin{tabular}{ll}\n",
       " Flor & Cor\\\\\n",
       " <fct> & <fct>\\\\\n",
       "\\hline\n",
       "\t Margarida & Amarelo \\\\\n",
       "\t Hortênsia & Azul    \\\\\n",
       "\t Violeta   & Azul    \\\\\n",
       "\t Rosa      & Vermelho\\\\\n",
       "\\end{tabular}\n"
      ],
      "text/markdown": [
       "\n",
       "A data.frame: 4 × 2\n",
       "\n",
       "| Flor &lt;fct&gt; | Cor &lt;fct&gt; |\n",
       "|---|---|\n",
       "| Margarida | Amarelo  |\n",
       "| Hortênsia | Azul     |\n",
       "| Violeta   | Azul     |\n",
       "| Rosa      | Vermelho |\n",
       "\n"
      ],
      "text/plain": [
       "  Flor      Cor     \n",
       "1 Margarida Amarelo \n",
       "2 Hortênsia Azul    \n",
       "3 Violeta   Azul    \n",
       "4 Rosa      Vermelho"
      ]
     },
     "metadata": {},
     "output_type": "display_data"
    }
   ],
   "source": [
    "# Montando um Dataframe de Cores de Flores\n",
    "\n",
    "Flor = c(\"Margarida\", \"Hortênsia\", \"Violeta\", \"Rosa\")\n",
    "Cor = c(\"Amarelo\", \"Azul\", \"Azul\", \"Vermelho\")\n",
    "flores = data.frame(Flor, Cor)\n",
    "flores"
   ]
  },
  {
   "cell_type": "code",
   "execution_count": 5,
   "metadata": {},
   "outputs": [
    {
     "data": {
      "text/html": [
       "<table>\n",
       "<caption>A data.frame: 2 × 2</caption>\n",
       "<thead>\n",
       "\t<tr><th></th><th scope=col>Flor</th><th scope=col>Cor</th></tr>\n",
       "\t<tr><th></th><th scope=col>&lt;fct&gt;</th><th scope=col>&lt;fct&gt;</th></tr>\n",
       "</thead>\n",
       "<tbody>\n",
       "\t<tr><th scope=row>2</th><td>Hortênsia</td><td>Azul</td></tr>\n",
       "\t<tr><th scope=row>3</th><td>Violeta  </td><td>Azul</td></tr>\n",
       "</tbody>\n",
       "</table>\n"
      ],
      "text/latex": [
       "A data.frame: 2 × 2\n",
       "\\begin{tabular}{r|ll}\n",
       "  & Flor & Cor\\\\\n",
       "  & <fct> & <fct>\\\\\n",
       "\\hline\n",
       "\t2 & Hortênsia & Azul\\\\\n",
       "\t3 & Violeta   & Azul\\\\\n",
       "\\end{tabular}\n"
      ],
      "text/markdown": [
       "\n",
       "A data.frame: 2 × 2\n",
       "\n",
       "| <!--/--> | Flor &lt;fct&gt; | Cor &lt;fct&gt; |\n",
       "|---|---|---|\n",
       "| 2 | Hortênsia | Azul |\n",
       "| 3 | Violeta   | Azul |\n",
       "\n"
      ],
      "text/plain": [
       "  Flor      Cor \n",
       "2 Hortênsia Azul\n",
       "3 Violeta   Azul"
      ]
     },
     "metadata": {},
     "output_type": "display_data"
    }
   ],
   "source": [
    "# Mostrando as flores de cor Azul\n",
    "\n",
    "flores[flores$Cor == \"Azul\",]"
   ]
  },
  {
   "cell_type": "markdown",
   "metadata": {},
   "source": [
    "### <a id=\"quant\"></a> Dados Quantitativos\n",
    "\n",
    "São tipos de dados **numéricos**, ou seja, são mensuráveis e podem ser manipulados matematicamente. Essa categoria engloba os dados representáveis por números, como a altura de uma pessoa ou a área de um terreno. Esses dados são mais versáteis, já que conseguimos fazer comparações, médias e outros tipos de operações aritméticas que não são possíveis com os dados qualitativos."
   ]
  },
  {
   "cell_type": "code",
   "execution_count": 6,
   "metadata": {},
   "outputs": [
    {
     "data": {
      "text/html": [
       "<table>\n",
       "<caption>A data.frame: 5 × 2</caption>\n",
       "<thead>\n",
       "\t<tr><th scope=col>Nome</th><th scope=col>Altura</th></tr>\n",
       "\t<tr><th scope=col>&lt;fct&gt;</th><th scope=col>&lt;dbl&gt;</th></tr>\n",
       "</thead>\n",
       "<tbody>\n",
       "\t<tr><td>Marcela  </td><td>161</td></tr>\n",
       "\t<tr><td>Alexandre</td><td>184</td></tr>\n",
       "\t<tr><td>Rafaela  </td><td>172</td></tr>\n",
       "\t<tr><td>Mariana  </td><td>174</td></tr>\n",
       "\t<tr><td>Victor   </td><td>169</td></tr>\n",
       "</tbody>\n",
       "</table>\n"
      ],
      "text/latex": [
       "A data.frame: 5 × 2\n",
       "\\begin{tabular}{ll}\n",
       " Nome & Altura\\\\\n",
       " <fct> & <dbl>\\\\\n",
       "\\hline\n",
       "\t Marcela   & 161\\\\\n",
       "\t Alexandre & 184\\\\\n",
       "\t Rafaela   & 172\\\\\n",
       "\t Mariana   & 174\\\\\n",
       "\t Victor    & 169\\\\\n",
       "\\end{tabular}\n"
      ],
      "text/markdown": [
       "\n",
       "A data.frame: 5 × 2\n",
       "\n",
       "| Nome &lt;fct&gt; | Altura &lt;dbl&gt; |\n",
       "|---|---|\n",
       "| Marcela   | 161 |\n",
       "| Alexandre | 184 |\n",
       "| Rafaela   | 172 |\n",
       "| Mariana   | 174 |\n",
       "| Victor    | 169 |\n",
       "\n"
      ],
      "text/plain": [
       "  Nome      Altura\n",
       "1 Marcela   161   \n",
       "2 Alexandre 184   \n",
       "3 Rafaela   172   \n",
       "4 Mariana   174   \n",
       "5 Victor    169   "
      ]
     },
     "metadata": {},
     "output_type": "display_data"
    }
   ],
   "source": [
    "# Montando um Dataframe de Altura de Pessoas\n",
    "\n",
    "Nome = c(\"Marcela\", \"Alexandre\", \"Rafaela\", \"Mariana\", \"Victor\")\n",
    "Altura = c(161, 184, 172, 174, 169)\n",
    "alturas = data.frame(Nome, Altura)\n",
    "alturas"
   ]
  },
  {
   "cell_type": "code",
   "execution_count": 7,
   "metadata": {},
   "outputs": [
    {
     "data": {
      "text/html": [
       "<table>\n",
       "<caption>A data.frame: 3 × 2</caption>\n",
       "<thead>\n",
       "\t<tr><th></th><th scope=col>Nome</th><th scope=col>Altura</th></tr>\n",
       "\t<tr><th></th><th scope=col>&lt;fct&gt;</th><th scope=col>&lt;dbl&gt;</th></tr>\n",
       "</thead>\n",
       "<tbody>\n",
       "\t<tr><th scope=row>2</th><td>Alexandre</td><td>184</td></tr>\n",
       "\t<tr><th scope=row>3</th><td>Rafaela  </td><td>172</td></tr>\n",
       "\t<tr><th scope=row>4</th><td>Mariana  </td><td>174</td></tr>\n",
       "</tbody>\n",
       "</table>\n"
      ],
      "text/latex": [
       "A data.frame: 3 × 2\n",
       "\\begin{tabular}{r|ll}\n",
       "  & Nome & Altura\\\\\n",
       "  & <fct> & <dbl>\\\\\n",
       "\\hline\n",
       "\t2 & Alexandre & 184\\\\\n",
       "\t3 & Rafaela   & 172\\\\\n",
       "\t4 & Mariana   & 174\\\\\n",
       "\\end{tabular}\n"
      ],
      "text/markdown": [
       "\n",
       "A data.frame: 3 × 2\n",
       "\n",
       "| <!--/--> | Nome &lt;fct&gt; | Altura &lt;dbl&gt; |\n",
       "|---|---|---|\n",
       "| 2 | Alexandre | 184 |\n",
       "| 3 | Rafaela   | 172 |\n",
       "| 4 | Mariana   | 174 |\n",
       "\n"
      ],
      "text/plain": [
       "  Nome      Altura\n",
       "2 Alexandre 184   \n",
       "3 Rafaela   172   \n",
       "4 Mariana   174   "
      ]
     },
     "metadata": {},
     "output_type": "display_data"
    }
   ],
   "source": [
    "# Selecionando as pessoas com altura maior que 170 cm\n",
    "\n",
    "alturas[alturas$Altura > 170,]"
   ]
  },
  {
   "cell_type": "markdown",
   "metadata": {},
   "source": [
    "## <a id=\"descritiva\"></a>Estatística Descritiva\n",
    "\n",
    "O tipo de análise estatística mais básico é a **Estatística Descritiva**, que busca simplesmente resumir e descrever os nossos dados da melhor maneira possível. Esse ramo utiliza de diversas medidas para expressar características diferentes dos nossos dados, como veremos a seguir."
   ]
  },
  {
   "cell_type": "markdown",
   "metadata": {},
   "source": [
    "### <a id=\"tendencia_central\"></a>Medidas de Tendência Central\n",
    "\n",
    "As **Medidas de Tendência Central** procuram representrar um valor central em torno do qual os dados se agrupam. Você provavelmente já ouviu falar de alguns exemplos desse tipo de medida, como a **média** e a **mediana**.\n",
    "\n",
    "#### <a id=\"media\"></a> Média\n",
    "\n",
    "A **Média** é a medida numérica que representa a posição central dos nossos dados. Seu valor é obtido ao dividir a soma de todos os nossos dados pela sua quantidade.\n",
    "\n",
    "$$\\large \\bar x ={\\frac {1}{N}}\\sum _{i=1}^{N}x_{i}$$"
   ]
  },
  {
   "cell_type": "code",
   "execution_count": 8,
   "metadata": {},
   "outputs": [
    {
     "data": {
      "text/html": [
       "40.4374692874693"
      ],
      "text/latex": [
       "40.4374692874693"
      ],
      "text/markdown": [
       "40.4374692874693"
      ],
      "text/plain": [
       "[1] 40.43747"
      ]
     },
     "metadata": {},
     "output_type": "display_data"
    }
   ],
   "source": [
    "# Média de horas trabalhadas dos indivíduos\n",
    "\n",
    "mean(adult$hours.per.week)"
   ]
  },
  {
   "cell_type": "code",
   "execution_count": 9,
   "metadata": {},
   "outputs": [
    {
     "name": "stdout",
     "output_type": "stream",
     "text": [
      "43.04164  >  28.14997"
     ]
    }
   ],
   "source": [
    "# Média de idade dos indivíduos divorciados e não-casados\n",
    "\n",
    "media_a = mean(adult$age[adult$marital.status == \"Divorced\"])\n",
    "media_b = mean(adult$age[adult$marital.status == \"Never-married\"])\n",
    "\n",
    "# As pessoas divorciadas são, na média, mais velhas que as que nunca casaram\n",
    "\n",
    "cat(media_a, \" > \", media_b)"
   ]
  },
  {
   "cell_type": "code",
   "execution_count": 10,
   "metadata": {},
   "outputs": [
    {
     "name": "stderr",
     "output_type": "stream",
     "text": [
      "Warning message in mean.default(adult$marital.status):\n",
      "“argument is not numeric or logical: returning NA”\n"
     ]
    },
    {
     "data": {
      "text/html": [
       "&lt;NA&gt;"
      ],
      "text/latex": [
       "<NA>"
      ],
      "text/markdown": [
       "&lt;NA&gt;"
      ],
      "text/plain": [
       "[1] NA"
      ]
     },
     "metadata": {},
     "output_type": "display_data"
    }
   ],
   "source": [
    "# Não é possível calcular a média de dados qualitativos\n",
    "\n",
    "mean(adult$marital.status)"
   ]
  },
  {
   "cell_type": "markdown",
   "metadata": {},
   "source": [
    "#### <a id=\"mediana\"></a>Mediana\n",
    "\n",
    "A **Mediana** é a medida numérica que representa o dado que se encontra na metade da nossa distribuição quanto esta se encontra ordenada. Ou seja, a mediana é o valor que divide os nossos dados de tal forma que metade deles sejam maiores que a mediana e a outra metade seja menor."
   ]
  },
  {
   "cell_type": "code",
   "execution_count": 11,
   "metadata": {},
   "outputs": [
    {
     "data": {
      "text/html": [
       "10"
      ],
      "text/latex": [
       "10"
      ],
      "text/markdown": [
       "10"
      ],
      "text/plain": [
       "[1] 10"
      ]
     },
     "metadata": {},
     "output_type": "display_data"
    }
   ],
   "source": [
    "# Mediana do grau de escolaridade dos trabalhadores do setor privado\n",
    "\n",
    "median(adult$education.num[adult$workclass == \"Private\"])"
   ]
  },
  {
   "cell_type": "code",
   "execution_count": 12,
   "metadata": {},
   "outputs": [
    {
     "ename": "ERROR",
     "evalue": "Error in median.default(adult$workclass): need numeric data\n",
     "output_type": "error",
     "traceback": [
      "Error in median.default(adult$workclass): need numeric data\nTraceback:\n",
      "1. median(adult$workclass)",
      "2. median.default(adult$workclass)",
      "3. stop(\"need numeric data\")"
     ]
    }
   ],
   "source": [
    "# Não é possível calcular a mediana de dados qualitativos\n",
    "\n",
    "median(adult$workclass)"
   ]
  },
  {
   "cell_type": "markdown",
   "metadata": {},
   "source": [
    "#### <a id=\"percentil\"></a>Percentil\n",
    "\n",
    "O **Percentil** não é uma medida de tendência central, mas se relaciona bastante com a Mediana. Os percentis são medidas que dividem as nossas amostras tal que **p%** delas sejam menores que o percentil. O **50º percentil**, portanto, é a nossa já conhecida mediana, enquanto o **25º percentil** é denominado primeiro quartil."
   ]
  },
  {
   "cell_type": "code",
   "execution_count": 13,
   "metadata": {},
   "outputs": [
    {
     "data": {
      "text/html": [
       "<table>\n",
       "<caption>A matrix: 1 × 5 of type dbl</caption>\n",
       "<thead>\n",
       "\t<tr><th scope=col>0%</th><th scope=col>25%</th><th scope=col>50%</th><th scope=col>75%</th><th scope=col>100%</th></tr>\n",
       "</thead>\n",
       "<tbody>\n",
       "\t<tr><td>1</td><td>40</td><td>40</td><td>45</td><td>99</td></tr>\n",
       "</tbody>\n",
       "</table>\n"
      ],
      "text/latex": [
       "A matrix: 1 × 5 of type dbl\n",
       "\\begin{tabular}{lllll}\n",
       " 0\\% & 25\\% & 50\\% & 75\\% & 100\\%\\\\\n",
       "\\hline\n",
       "\t 1 & 40 & 40 & 45 & 99\\\\\n",
       "\\end{tabular}\n"
      ],
      "text/markdown": [
       "\n",
       "A matrix: 1 × 5 of type dbl\n",
       "\n",
       "| 0% | 25% | 50% | 75% | 100% |\n",
       "|---|---|---|---|---|\n",
       "| 1 | 40 | 40 | 45 | 99 |\n",
       "\n"
      ],
      "text/plain": [
       "     0% 25% 50% 75% 100%\n",
       "[1,] 1  40  40  45  99  "
      ]
     },
     "metadata": {},
     "output_type": "display_data"
    }
   ],
   "source": [
    "# Obtendo os quartis das horas trabalhadas pelos indivíduos\n",
    "\n",
    "quartis = quantile(adult$hours.per.week)\n",
    "\n",
    "# Transpondo o resultado para ficar mais visualizável\n",
    "t(quartis)"
   ]
  },
  {
   "cell_type": "code",
   "execution_count": 14,
   "metadata": {},
   "outputs": [
    {
     "data": {
      "text/html": [
       "<table>\n",
       "<caption>A matrix: 1 × 3 of type dbl</caption>\n",
       "<thead>\n",
       "\t<tr><th scope=col>30%</th><th scope=col>60%</th><th scope=col>90%</th></tr>\n",
       "</thead>\n",
       "<tbody>\n",
       "\t<tr><td>35</td><td>40</td><td>48</td></tr>\n",
       "</tbody>\n",
       "</table>\n"
      ],
      "text/latex": [
       "A matrix: 1 × 3 of type dbl\n",
       "\\begin{tabular}{lll}\n",
       " 30\\% & 60\\% & 90\\%\\\\\n",
       "\\hline\n",
       "\t 35 & 40 & 48\\\\\n",
       "\\end{tabular}\n"
      ],
      "text/markdown": [
       "\n",
       "A matrix: 1 × 3 of type dbl\n",
       "\n",
       "| 30% | 60% | 90% |\n",
       "|---|---|---|\n",
       "| 35 | 40 | 48 |\n",
       "\n"
      ],
      "text/plain": [
       "     30% 60% 90%\n",
       "[1,] 35  40  48 "
      ]
     },
     "metadata": {},
     "output_type": "display_data"
    }
   ],
   "source": [
    "# Obtendo os percentis 30%, 60% e 90% das horas trabalhadas pelas mulheres\n",
    "\n",
    "percentis = quantile(adult$hours.per.week[adult$sex == \"Female\"], c(.30, .60, .90))\n",
    "\n",
    "# Transpondo o resultado para ficar mais visualizável\n",
    "t(percentis)"
   ]
  },
  {
   "cell_type": "markdown",
   "metadata": {},
   "source": [
    "#### <a id=\"summary\"></a> Summary\n",
    "\n",
    "Uma maneira bem simples de mostrar vários dos valores que vimos até agora é utilizando a função ```summary()```. Ela nos apresenta o *mínimo*, o *1º quartil*, a *mediana*, a *média*, o *3º quartil* e o *máximo* da variável em questão, da seguinte forma:"
   ]
  },
  {
   "cell_type": "code",
   "execution_count": 15,
   "metadata": {},
   "outputs": [
    {
     "data": {
      "text/plain": [
       "   Min. 1st Qu.  Median    Mean 3rd Qu.    Max. \n",
       "   1.00    9.00   10.00   10.08   12.00   16.00 "
      ]
     },
     "metadata": {},
     "output_type": "display_data"
    }
   ],
   "source": [
    "# Resumo do grau de escolaridade dos indivíduos\n",
    "\n",
    "summary(adult$education.num)"
   ]
  },
  {
   "cell_type": "markdown",
   "metadata": {},
   "source": [
    "### <a id=\"variacao\"></a> Medidas de Variação\n",
    "\n",
    "As **Medidas de Variação** medem o *grau de afastamento* dos dados em torno de um valor central. Elas são importantes para medir a homogeneidade dos dados, indicando se nossas amostras estão próximas entre si ou muito afastadas.\n",
    "\n",
    "#### <a id=\"amplitude\"></a> Amplitude\n",
    "\n",
    "A medida mais simples de variação é a **Amplitude**, que mede simplesmente a diferença entre a maior e a menor amostra. Entretanto, essa medida é bem sensível outliers em suas extremidades.\n",
    "\n",
    "$$ \\large A =  x_{max} - x_{min} $$"
   ]
  },
  {
   "cell_type": "code",
   "execution_count": 16,
   "metadata": {},
   "outputs": [
    {
     "data": {
      "text/html": [
       "73"
      ],
      "text/latex": [
       "73"
      ],
      "text/markdown": [
       "73"
      ],
      "text/plain": [
       "[1] 73"
      ]
     },
     "metadata": {},
     "output_type": "display_data"
    }
   ],
   "source": [
    "# Calculando a amplitude de idade dos homens\n",
    "\n",
    "amplitude = max(adult$age[adult$sex == \"Male\"]) - min(adult$age[adult$sex == \"Male\"])\n",
    "\n",
    "amplitude"
   ]
  },
  {
   "cell_type": "markdown",
   "metadata": {},
   "source": [
    "#### <a id=\"amplitude_interquartil\"></a> Amplitude Interquartil\n",
    "\n",
    "Uma outra medida de variação mais precisa é a **Amplitude Interquartil**, definida como a diferença entre o 3º e o 1º quartil. Por desprezar os valores mais extremos, essa medida é menos sujeita a flutuações que a amplitude normal."
   ]
  },
  {
   "cell_type": "code",
   "execution_count": 17,
   "metadata": {},
   "outputs": [
    {
     "data": {
      "text/html": [
       "19"
      ],
      "text/latex": [
       "19"
      ],
      "text/markdown": [
       "19"
      ],
      "text/plain": [
       "[1] 19"
      ]
     },
     "metadata": {},
     "output_type": "display_data"
    }
   ],
   "source": [
    "# Calculando a amplitude interquartil da idade dos homens\n",
    "\n",
    "IQR(adult$age[adult$sex == \"Male\"])"
   ]
  },
  {
   "cell_type": "markdown",
   "metadata": {},
   "source": [
    "#### <a id=\"variancia\"></a> Variância\n",
    "\n",
    "A **Variância** é uma medida de variação que mensura a dispersão das amostras com relação à média.\n",
    "\n",
    "Seu valor é obtido a partir do cálculo da média do quadrado das diferenças entre os dados e a média, da seguinte forma:\n",
    "<br>\n",
    "<br>\n",
    "\n",
    "$$\\large s^2 = {\\frac{\\sum_{i=1}^{N}(x_{i} -\\bar{x})^2}{N-1}}$$"
   ]
  },
  {
   "cell_type": "code",
   "execution_count": 18,
   "metadata": {},
   "outputs": [
    {
     "data": {
      "text/html": [
       "143.083630933816"
      ],
      "text/latex": [
       "143.083630933816"
      ],
      "text/markdown": [
       "143.083630933816"
      ],
      "text/plain": [
       "[1] 143.0836"
      ]
     },
     "metadata": {},
     "output_type": "display_data"
    }
   ],
   "source": [
    "# Calculando a variância das horas trabalhadas de quem possui mais de 30 anos\n",
    "\n",
    "var(adult$hours.per.week[adult$age > 30])"
   ]
  },
  {
   "cell_type": "markdown",
   "metadata": {},
   "source": [
    "#### <a id=\"desv_pad\"></a> Desvio Padrão\n",
    "\n",
    "O **Desvio Padrão** é uma outra medida de variação obtida simplesmente pela raiz quadrada da variância. Essa raiz é feita para que a unidade de medida seja a mesma dos nossos dados.\n",
    "<br>\n",
    "<br>\n",
    "\n",
    "$$\\large s = \\sqrt{\\frac{\\sum_{i=1}^{N}(x_{i} -\\bar{x})^2}{N-1}}$$"
   ]
  },
  {
   "cell_type": "code",
   "execution_count": 19,
   "metadata": {},
   "outputs": [
    {
     "data": {
      "text/html": [
       "11.9617570170028"
      ],
      "text/latex": [
       "11.9617570170028"
      ],
      "text/markdown": [
       "11.9617570170028"
      ],
      "text/plain": [
       "[1] 11.96176"
      ]
     },
     "metadata": {},
     "output_type": "display_data"
    }
   ],
   "source": [
    "# Calculando o desvio padrão das horas trabalhadas de quem possui mais de 30 anos\n",
    "\n",
    "sd(adult$hours.per.week[adult$age > 30])"
   ]
  },
  {
   "cell_type": "markdown",
   "metadata": {},
   "source": [
    "#### <a id=\"covar\"></a> Covariância\n",
    "\n",
    "A **Covariância** é a medida da *relação linear* entre duas variáveis: seu valor representa o quanto elas \"caminham juntas\". Se a covarância é positiva, significa que as duas crescem juntas; se a covariância é negativa, significa que conforme uma cresce, a outra decresce.\n",
    "\n",
    "Seu valor é obtido da seguinte forma:\n",
    "<br>\n",
    "\n",
    "$$\\large s_{x,y}=\\frac{\\sum_{i=1}^{N}(x_{i}-\\bar{x})(y_{i}-\\bar{y})}{N-1}$$"
   ]
  },
  {
   "cell_type": "code",
   "execution_count": 20,
   "metadata": {},
   "outputs": [
    {
     "data": {
      "text/html": [
       "4.70552168646705"
      ],
      "text/latex": [
       "4.70552168646705"
      ],
      "text/markdown": [
       "4.70552168646705"
      ],
      "text/plain": [
       "[1] 4.705522"
      ]
     },
     "metadata": {},
     "output_type": "display_data"
    }
   ],
   "source": [
    "# Calculando a covarância entre o grau de escolaridade e as horas trabalhadas dos indivíduos\n",
    "\n",
    "cov(adult$education.num, adult$hours.per.week)"
   ]
  },
  {
   "cell_type": "markdown",
   "metadata": {},
   "source": [
    "A covariância positiva significa que quanto maior a idade do indivíduo, maior é a chance dele trabalhar mais horas"
   ]
  },
  {
   "cell_type": "markdown",
   "metadata": {},
   "source": [
    "#### <a id=\"ccor\"></a>Coeficiente de Correlação\n",
    "\n",
    "O **Coeficiente de Correlação** também mede a relação linear entre duas variáveis, mas é obtida a partir da divisão da covariância pelos desvios padrões individuais de cada variável. Dessa forma, encontramos uma medida **normalizada** da relação entre as duas. \n",
    "<br>\n",
    "<br>\n",
    "\n",
    "$$\\large r_{x,y}= \\frac{s_{x,y}}{s_{x} s_{y}}$$\n",
    "\n",
    "Quanto mais próximo de 1, maior a _relação linear positiva_ entre as duas variáveis, e seu gráfico se aproxima de uma linha reta _crescente_. Quanto mais próximo de -1, maior a _relação linear negativa_ entre as duas variáveis, e seu gráfico se aproxima de uma linha reta _decrescente_. Quando seu valor é próximo de 0, não existe uma relação muito grande entre as duas variáveis."
   ]
  },
  {
   "cell_type": "code",
   "execution_count": 21,
   "metadata": {},
   "outputs": [
    {
     "data": {
      "text/html": [
       "0.148126899193798"
      ],
      "text/latex": [
       "0.148126899193798"
      ],
      "text/markdown": [
       "0.148126899193798"
      ],
      "text/plain": [
       "[1] 0.1481269"
      ]
     },
     "metadata": {},
     "output_type": "display_data"
    }
   ],
   "source": [
    "# Calculando o coeficiente de correlação entre o grau de escolaridade e as horas trabalhadas dos indivíduos\n",
    "\n",
    "cor(adult$education.num, adult$hours.per.week)"
   ]
  },
  {
   "cell_type": "markdown",
   "metadata": {},
   "source": [
    "O grau de escolaridade dos indivíduos tem uma relação linear positiva fraca com as horas semanais de trabalho."
   ]
  },
  {
   "cell_type": "markdown",
   "metadata": {},
   "source": [
    "## <a id = \"parte3\"></a><span style=\"color: orange;\"> Parte 3 - Manipulação de dados em R </span>"
   ]
  },
  {
   "cell_type": "markdown",
   "metadata": {},
   "source": [
    "A linguagem R tem como um de seus grandes destaques o pacote Tidyverse.<br>\n",
    "Para falar a verdade, o Tidyverse não é um pacote em si, mas sim um conjunto de pacotes.<br>\n",
    "Dentro dele, encotramos o `dplyr`, que é instaldo automaticamente com o `install.packages(\"tidyverse\")`.\n",
    "<br>\n",
    "Aqui uma [Cheat Sheet do dplyr](https://github.com/rstudio/cheatsheets/blob/master/data-transformation.pdf)\n",
    "<br>"
   ]
  },
  {
   "cell_type": "code",
   "execution_count": 22,
   "metadata": {},
   "outputs": [
    {
     "name": "stderr",
     "output_type": "stream",
     "text": [
      "\n",
      "Attaching package: ‘dplyr’\n",
      "\n",
      "\n",
      "The following objects are masked from ‘package:stats’:\n",
      "\n",
      "    filter, lag\n",
      "\n",
      "\n",
      "The following objects are masked from ‘package:base’:\n",
      "\n",
      "    intersect, setdiff, setequal, union\n",
      "\n",
      "\n"
     ]
    }
   ],
   "source": [
    "library(dplyr)"
   ]
  },
  {
   "cell_type": "markdown",
   "metadata": {},
   "source": [
    "### <a id=\"dados_faltantes\"></a>Dados faltantes\n",
    "<br>\n",
    "Dados faltantes podem ser um grande problema quando estamos lidando com uma base de dados. Assim, uma abordagem geralmente aplicada é simplesmente removê-los da sua base de dados. No R, muitas funções (a grande maioria delas) exibe um parâmetro `na.rm` que abrevia \"remover NAs (dados faltantes)\"."
   ]
  },
  {
   "cell_type": "code",
   "execution_count": 23,
   "metadata": {},
   "outputs": [
    {
     "name": "stdout",
     "output_type": "stream",
     "text": [
      "[1] NA\n"
     ]
    }
   ],
   "source": [
    "vetor <- c(2,3,4,5,NA,7) \n",
    "#definimos aqui um vetor, vamos ver o que acontece quando aplicamos a função mean()  a ele\n",
    "print(mean(vetor))"
   ]
  },
  {
   "cell_type": "code",
   "execution_count": 24,
   "metadata": {},
   "outputs": [
    {
     "name": "stdout",
     "output_type": "stream",
     "text": [
      "[1] 4.2\n"
     ]
    }
   ],
   "source": [
    "#Agora com o na.rm = TRUE\n",
    "print(mean(vetor, na.rm=TRUE))"
   ]
  },
  {
   "cell_type": "markdown",
   "metadata": {},
   "source": [
    "Outra coisa que podemos querer fazer é inputar algum dado padrão aos dados faltantes, isso pode ser feito da seguinte maneira:"
   ]
  },
  {
   "cell_type": "code",
   "execution_count": 25,
   "metadata": {},
   "outputs": [
    {
     "name": "stdout",
     "output_type": "stream",
     "text": [
      "[1] 2 3 4 5 0 7\n"
     ]
    }
   ],
   "source": [
    "vetor[is.na(vetor)] <- 0\n",
    "print(vetor)"
   ]
  },
  {
   "cell_type": "markdown",
   "metadata": {},
   "source": [
    "Vamos dar uma olhada na base adult, vamos ver se ela tem algum dado faltante, messa base eles estão representados como \"?\" então temos que arrumar isso."
   ]
  },
  {
   "cell_type": "code",
   "execution_count": 44,
   "metadata": {},
   "outputs": [],
   "source": [
    "adult[adult == \"?\"] <- NA"
   ]
  },
  {
   "cell_type": "code",
   "execution_count": 47,
   "metadata": {},
   "outputs": [
    {
     "data": {
      "text/html": [
       "4262"
      ],
      "text/latex": [
       "4262"
      ],
      "text/markdown": [
       "4262"
      ],
      "text/plain": [
       "[1] 4262"
      ]
     },
     "metadata": {},
     "output_type": "display_data"
    }
   ],
   "source": [
    "sum(is.na(adult))"
   ]
  },
  {
   "cell_type": "markdown",
   "metadata": {},
   "source": [
    "Temos cerca de 4262 dados faltantes na base"
   ]
  },
  {
   "cell_type": "markdown",
   "metadata": {},
   "source": [
    "### <a id=\"dplyr\"></a>Deep dive in dplyr\n",
    "Vamos agora nos aprofundar na biblioteca `dplyr`. <br>\n",
    "Essa biblioteca é boa porque deixa o nosso código extremamente legível para um ser humano.<br>\n",
    "Isso ocorre porque ela usa uma estrutura de \"verbos\" que regem o que será feito com a base de dados.<br>\n",
    "Os verbos existentes na biblioteca são os seguintes:\n",
    "1. `mutate()` - que adiciona novas variáveis (colunas) ao dataset a partir de operações/ aplicação de funções nas variáveis existentes \n",
    "2. `select()` - seleciona as colunas com base em critérios de nome\n",
    "3. `filter()` - filtra os dados com base em valores.\n",
    "4. `summarise()` - reduz um grande número de valores para valores resumo (como média, contagem, desvio, etc). Para quem mexe com excel, aqui seria algo para criar uma tabela dinâmica (pivot table). Em geral é usado com `group_by()`\n",
    "5. `arrange()`- muda a ordenação das linhas com base em algum critério\n",
    "<br>\n",
    "<br>\n",
    "Todos esses verbos podem ser performados tendo como critério um grupo, usando o `group_by()` , mas é mais comum usar isso no `summarise()`. <br>"
   ]
  },
  {
   "cell_type": "markdown",
   "metadata": {},
   "source": [
    "A estrutura de utilização dos verbos é bem simples: <br>\n",
    "`base de dados %>% verbo` <br>\n",
    "Podemos aplicar vários verbos em seguida também, com a seguinte estutura (a ordem de execução será a ordem desses verbos): <br>\n",
    "`base de dados %>% verbo1 %>% verbo2 %>% verbo3`"
   ]
  },
  {
   "cell_type": "markdown",
   "metadata": {},
   "source": [
    "#### <a id=\"mutate\"></a> `mutate()` - adicionando variáveis"
   ]
  },
  {
   "cell_type": "code",
   "execution_count": 28,
   "metadata": {},
   "outputs": [
    {
     "data": {
      "text/html": [
       "<table>\n",
       "<caption>A data.frame: 5 × 17</caption>\n",
       "<thead>\n",
       "\t<tr><th></th><th scope=col>Id</th><th scope=col>age</th><th scope=col>workclass</th><th scope=col>fnlwgt</th><th scope=col>education</th><th scope=col>education.num</th><th scope=col>marital.status</th><th scope=col>occupation</th><th scope=col>relationship</th><th scope=col>race</th><th scope=col>sex</th><th scope=col>capital.gain</th><th scope=col>capital.loss</th><th scope=col>hours.per.week</th><th scope=col>native.country</th><th scope=col>income</th><th scope=col>old</th></tr>\n",
       "\t<tr><th></th><th scope=col>&lt;int&gt;</th><th scope=col>&lt;int&gt;</th><th scope=col>&lt;fct&gt;</th><th scope=col>&lt;int&gt;</th><th scope=col>&lt;fct&gt;</th><th scope=col>&lt;int&gt;</th><th scope=col>&lt;fct&gt;</th><th scope=col>&lt;fct&gt;</th><th scope=col>&lt;fct&gt;</th><th scope=col>&lt;fct&gt;</th><th scope=col>&lt;fct&gt;</th><th scope=col>&lt;int&gt;</th><th scope=col>&lt;int&gt;</th><th scope=col>&lt;int&gt;</th><th scope=col>&lt;fct&gt;</th><th scope=col>&lt;fct&gt;</th><th scope=col>&lt;lgl&gt;</th></tr>\n",
       "</thead>\n",
       "<tbody>\n",
       "\t<tr><th scope=row>1</th><td>16280</td><td>34</td><td><span style=white-space:pre-wrap>Private     </span></td><td>204991</td><td>Some-college</td><td>10</td><td><span style=white-space:pre-wrap>Divorced          </span></td><td><span style=white-space:pre-wrap>Exec-managerial  </span></td><td><span style=white-space:pre-wrap>Own-child    </span></td><td>White</td><td><span style=white-space:pre-wrap>Male  </span></td><td><span style=white-space:pre-wrap>   0</span></td><td>0</td><td>44</td><td>United-States</td><td>&lt;=50K</td><td>FALSE</td></tr>\n",
       "\t<tr><th scope=row>2</th><td>16281</td><td>58</td><td><span style=white-space:pre-wrap>Local-gov   </span></td><td>310085</td><td><span style=white-space:pre-wrap>10th        </span></td><td> 6</td><td>Married-civ-spouse</td><td>Transport-moving </td><td><span style=white-space:pre-wrap>Husband      </span></td><td>White</td><td><span style=white-space:pre-wrap>Male  </span></td><td><span style=white-space:pre-wrap>   0</span></td><td>0</td><td>40</td><td>United-States</td><td>&lt;=50K</td><td>FALSE</td></tr>\n",
       "\t<tr><th scope=row>3</th><td>16282</td><td>25</td><td><span style=white-space:pre-wrap>Private     </span></td><td>146117</td><td>Some-college</td><td>10</td><td><span style=white-space:pre-wrap>Never-married     </span></td><td>Machine-op-inspct</td><td>Not-in-family</td><td>White</td><td><span style=white-space:pre-wrap>Male  </span></td><td><span style=white-space:pre-wrap>   0</span></td><td>0</td><td>42</td><td>United-States</td><td>&lt;=50K</td><td>FALSE</td></tr>\n",
       "\t<tr><th scope=row>4</th><td>16283</td><td>24</td><td><span style=white-space:pre-wrap>Private     </span></td><td>138938</td><td>Some-college</td><td>10</td><td><span style=white-space:pre-wrap>Divorced          </span></td><td><span style=white-space:pre-wrap>Adm-clerical     </span></td><td>Not-in-family</td><td>White</td><td>Female</td><td><span style=white-space:pre-wrap>   0</span></td><td>0</td><td>40</td><td>United-States</td><td>&lt;=50K</td><td>FALSE</td></tr>\n",
       "\t<tr><th scope=row>5</th><td>16284</td><td>57</td><td>Self-emp-inc</td><td>258883</td><td><span style=white-space:pre-wrap>HS-grad     </span></td><td> 9</td><td>Married-civ-spouse</td><td>Transport-moving </td><td><span style=white-space:pre-wrap>Husband      </span></td><td>White</td><td><span style=white-space:pre-wrap>Male  </span></td><td>5178</td><td>0</td><td>60</td><td><span style=white-space:pre-wrap>Hungary      </span></td><td>&gt;50K </td><td>FALSE</td></tr>\n",
       "</tbody>\n",
       "</table>\n"
      ],
      "text/latex": [
       "A data.frame: 5 × 17\n",
       "\\begin{tabular}{r|lllllllllllllllll}\n",
       "  & Id & age & workclass & fnlwgt & education & education.num & marital.status & occupation & relationship & race & sex & capital.gain & capital.loss & hours.per.week & native.country & income & old\\\\\n",
       "  & <int> & <int> & <fct> & <int> & <fct> & <int> & <fct> & <fct> & <fct> & <fct> & <fct> & <int> & <int> & <int> & <fct> & <fct> & <lgl>\\\\\n",
       "\\hline\n",
       "\t1 & 16280 & 34 & Private      & 204991 & Some-college & 10 & Divorced           & Exec-managerial   & Own-child     & White & Male   &    0 & 0 & 44 & United-States & <=50K & FALSE\\\\\n",
       "\t2 & 16281 & 58 & Local-gov    & 310085 & 10th         &  6 & Married-civ-spouse & Transport-moving  & Husband       & White & Male   &    0 & 0 & 40 & United-States & <=50K & FALSE\\\\\n",
       "\t3 & 16282 & 25 & Private      & 146117 & Some-college & 10 & Never-married      & Machine-op-inspct & Not-in-family & White & Male   &    0 & 0 & 42 & United-States & <=50K & FALSE\\\\\n",
       "\t4 & 16283 & 24 & Private      & 138938 & Some-college & 10 & Divorced           & Adm-clerical      & Not-in-family & White & Female &    0 & 0 & 40 & United-States & <=50K & FALSE\\\\\n",
       "\t5 & 16284 & 57 & Self-emp-inc & 258883 & HS-grad      &  9 & Married-civ-spouse & Transport-moving  & Husband       & White & Male   & 5178 & 0 & 60 & Hungary       & >50K  & FALSE\\\\\n",
       "\\end{tabular}\n"
      ],
      "text/markdown": [
       "\n",
       "A data.frame: 5 × 17\n",
       "\n",
       "| <!--/--> | Id &lt;int&gt; | age &lt;int&gt; | workclass &lt;fct&gt; | fnlwgt &lt;int&gt; | education &lt;fct&gt; | education.num &lt;int&gt; | marital.status &lt;fct&gt; | occupation &lt;fct&gt; | relationship &lt;fct&gt; | race &lt;fct&gt; | sex &lt;fct&gt; | capital.gain &lt;int&gt; | capital.loss &lt;int&gt; | hours.per.week &lt;int&gt; | native.country &lt;fct&gt; | income &lt;fct&gt; | old &lt;lgl&gt; |\n",
       "|---|---|---|---|---|---|---|---|---|---|---|---|---|---|---|---|---|---|\n",
       "| 1 | 16280 | 34 | Private      | 204991 | Some-college | 10 | Divorced           | Exec-managerial   | Own-child     | White | Male   |    0 | 0 | 44 | United-States | &lt;=50K | FALSE |\n",
       "| 2 | 16281 | 58 | Local-gov    | 310085 | 10th         |  6 | Married-civ-spouse | Transport-moving  | Husband       | White | Male   |    0 | 0 | 40 | United-States | &lt;=50K | FALSE |\n",
       "| 3 | 16282 | 25 | Private      | 146117 | Some-college | 10 | Never-married      | Machine-op-inspct | Not-in-family | White | Male   |    0 | 0 | 42 | United-States | &lt;=50K | FALSE |\n",
       "| 4 | 16283 | 24 | Private      | 138938 | Some-college | 10 | Divorced           | Adm-clerical      | Not-in-family | White | Female |    0 | 0 | 40 | United-States | &lt;=50K | FALSE |\n",
       "| 5 | 16284 | 57 | Self-emp-inc | 258883 | HS-grad      |  9 | Married-civ-spouse | Transport-moving  | Husband       | White | Male   | 5178 | 0 | 60 | Hungary       | &gt;50K  | FALSE |\n",
       "\n"
      ],
      "text/plain": [
       "  Id    age workclass    fnlwgt education    education.num marital.status    \n",
       "1 16280 34  Private      204991 Some-college 10            Divorced          \n",
       "2 16281 58  Local-gov    310085 10th          6            Married-civ-spouse\n",
       "3 16282 25  Private      146117 Some-college 10            Never-married     \n",
       "4 16283 24  Private      138938 Some-college 10            Divorced          \n",
       "5 16284 57  Self-emp-inc 258883 HS-grad       9            Married-civ-spouse\n",
       "  occupation        relationship  race  sex    capital.gain capital.loss\n",
       "1 Exec-managerial   Own-child     White Male      0         0           \n",
       "2 Transport-moving  Husband       White Male      0         0           \n",
       "3 Machine-op-inspct Not-in-family White Male      0         0           \n",
       "4 Adm-clerical      Not-in-family White Female    0         0           \n",
       "5 Transport-moving  Husband       White Male   5178         0           \n",
       "  hours.per.week native.country income old  \n",
       "1 44             United-States  <=50K  FALSE\n",
       "2 40             United-States  <=50K  FALSE\n",
       "3 42             United-States  <=50K  FALSE\n",
       "4 40             United-States  <=50K  FALSE\n",
       "5 60             Hungary        >50K   FALSE"
      ]
     },
     "metadata": {},
     "output_type": "display_data"
    }
   ],
   "source": [
    "adult_nova_var <- adult %>% mutate(\n",
    "            old = if_else( age >= 65, TRUE, FALSE, missing = NULL),\n",
    "            # a função if_else tem quatro argumentos. O primeiro é a 'afirmação lógica' a ser avaliada\n",
    "            # no caso, essa afirmação é verificar se a idade é maior que 65 anos \n",
    "            # o segundo argumento é o que será inputado no caso da afirmação ser verdadeira\n",
    "            # o terceiro, o que será inputado no caso de falsa\n",
    "            # e o quarto, o que será inputado no caso de missing value (valor faltante)\n",
    "            )\n",
    "adult_nova_var[1:5,]"
   ]
  },
  {
   "cell_type": "markdown",
   "metadata": {},
   "source": [
    "#### <a id=\"select\"></a>`select()` - selecionando valores com base em nome"
   ]
  },
  {
   "cell_type": "markdown",
   "metadata": {},
   "source": [
    "Esse comando é bem simples, nós podemos selecionar as colunas com o critério baseado no nome. \n",
    "<br>Isso pode incluir \"começa com\": `starts_with(padrão procurado)`, \"termina com\": `ends_with(padrão procurado)`, \"contém\": `contains(padrão procurado)`... <br>\n",
    "Pra quem manja mais, pode usar expressões regulares com `matches()` ou muitos outros critérios que vc pode dar uma conferida [aqui!](https://www.rdocumentation.org/packages/tidyselect/versions/1.0.0/topics/select_helpers)"
   ]
  },
  {
   "cell_type": "markdown",
   "metadata": {},
   "source": [
    "Vamos selecionar as variávis que contém a palavra \"capital\""
   ]
  },
  {
   "cell_type": "code",
   "execution_count": 31,
   "metadata": {},
   "outputs": [
    {
     "data": {
      "text/html": [
       "<table>\n",
       "<caption>A data.frame: 5 × 2</caption>\n",
       "<thead>\n",
       "\t<tr><th></th><th scope=col>capital.gain</th><th scope=col>capital.loss</th></tr>\n",
       "\t<tr><th></th><th scope=col>&lt;int&gt;</th><th scope=col>&lt;int&gt;</th></tr>\n",
       "</thead>\n",
       "<tbody>\n",
       "\t<tr><th scope=row>1</th><td>   0</td><td>0</td></tr>\n",
       "\t<tr><th scope=row>2</th><td>   0</td><td>0</td></tr>\n",
       "\t<tr><th scope=row>3</th><td>   0</td><td>0</td></tr>\n",
       "\t<tr><th scope=row>4</th><td>   0</td><td>0</td></tr>\n",
       "\t<tr><th scope=row>5</th><td>5178</td><td>0</td></tr>\n",
       "</tbody>\n",
       "</table>\n"
      ],
      "text/latex": [
       "A data.frame: 5 × 2\n",
       "\\begin{tabular}{r|ll}\n",
       "  & capital.gain & capital.loss\\\\\n",
       "  & <int> & <int>\\\\\n",
       "\\hline\n",
       "\t1 &    0 & 0\\\\\n",
       "\t2 &    0 & 0\\\\\n",
       "\t3 &    0 & 0\\\\\n",
       "\t4 &    0 & 0\\\\\n",
       "\t5 & 5178 & 0\\\\\n",
       "\\end{tabular}\n"
      ],
      "text/markdown": [
       "\n",
       "A data.frame: 5 × 2\n",
       "\n",
       "| <!--/--> | capital.gain &lt;int&gt; | capital.loss &lt;int&gt; |\n",
       "|---|---|---|\n",
       "| 1 |    0 | 0 |\n",
       "| 2 |    0 | 0 |\n",
       "| 3 |    0 | 0 |\n",
       "| 4 |    0 | 0 |\n",
       "| 5 | 5178 | 0 |\n",
       "\n"
      ],
      "text/plain": [
       "  capital.gain capital.loss\n",
       "1    0         0           \n",
       "2    0         0           \n",
       "3    0         0           \n",
       "4    0         0           \n",
       "5 5178         0           "
      ]
     },
     "metadata": {},
     "output_type": "display_data"
    }
   ],
   "source": [
    "selecting <- adult %>% select(contains(\"capital\"))\n",
    "selecting[1:5,]"
   ]
  },
  {
   "cell_type": "markdown",
   "metadata": {},
   "source": [
    "#### <a id=\"filter\"></a> `filter()` - Filtrando nossa base de dados!"
   ]
  },
  {
   "cell_type": "markdown",
   "metadata": {},
   "source": [
    "Vamos supor que você quer analisar sua base de dados e segmentar essa análise com base em algum critério.. Isso é só um dos cenários em que pode ser muito importante você usar filtros!<br>\n",
    "Vamos aqui filtrar a base para pessoas com educação formal acima da média"
   ]
  },
  {
   "cell_type": "code",
   "execution_count": 32,
   "metadata": {},
   "outputs": [
    {
     "data": {
      "text/html": [
       "<table>\n",
       "<caption>A data.frame: 5 × 16</caption>\n",
       "<thead>\n",
       "\t<tr><th></th><th scope=col>Id</th><th scope=col>age</th><th scope=col>workclass</th><th scope=col>fnlwgt</th><th scope=col>education</th><th scope=col>education.num</th><th scope=col>marital.status</th><th scope=col>occupation</th><th scope=col>relationship</th><th scope=col>race</th><th scope=col>sex</th><th scope=col>capital.gain</th><th scope=col>capital.loss</th><th scope=col>hours.per.week</th><th scope=col>native.country</th><th scope=col>income</th></tr>\n",
       "\t<tr><th></th><th scope=col>&lt;int&gt;</th><th scope=col>&lt;int&gt;</th><th scope=col>&lt;fct&gt;</th><th scope=col>&lt;int&gt;</th><th scope=col>&lt;fct&gt;</th><th scope=col>&lt;int&gt;</th><th scope=col>&lt;fct&gt;</th><th scope=col>&lt;fct&gt;</th><th scope=col>&lt;fct&gt;</th><th scope=col>&lt;fct&gt;</th><th scope=col>&lt;fct&gt;</th><th scope=col>&lt;int&gt;</th><th scope=col>&lt;int&gt;</th><th scope=col>&lt;int&gt;</th><th scope=col>&lt;fct&gt;</th><th scope=col>&lt;fct&gt;</th></tr>\n",
       "</thead>\n",
       "<tbody>\n",
       "\t<tr><th scope=row>1</th><td>16287</td><td>25</td><td><span style=white-space:pre-wrap>Private  </span></td><td>288519</td><td>Bachelors </td><td>13</td><td><span style=white-space:pre-wrap>Never-married     </span></td><td><span style=white-space:pre-wrap>Adm-clerical     </span></td><td>Not-in-family</td><td>White</td><td>Female</td><td>0</td><td>0</td><td>40</td><td>United-States</td><td>&lt;=50K</td></tr>\n",
       "\t<tr><th scope=row>2</th><td>16291</td><td>42</td><td><span style=white-space:pre-wrap>Private  </span></td><td>213214</td><td>Assoc-acdm</td><td>12</td><td>Married-civ-spouse</td><td><span style=white-space:pre-wrap>Sales            </span></td><td><span style=white-space:pre-wrap>Husband      </span></td><td>White</td><td><span style=white-space:pre-wrap>Male  </span></td><td>0</td><td>0</td><td>40</td><td>United-States</td><td>&lt;=50K</td></tr>\n",
       "\t<tr><th scope=row>3</th><td>16292</td><td>24</td><td>State-gov</td><td>215797</td><td>Bachelors </td><td>13</td><td><span style=white-space:pre-wrap>Never-married     </span></td><td><span style=white-space:pre-wrap>Tech-support     </span></td><td>Not-in-family</td><td>White</td><td>Female</td><td>0</td><td>0</td><td>40</td><td>United-States</td><td>&lt;=50K</td></tr>\n",
       "\t<tr><th scope=row>4</th><td>16295</td><td>24</td><td>Local-gov</td><td>103277</td><td>Bachelors </td><td>13</td><td><span style=white-space:pre-wrap>Never-married     </span></td><td><span style=white-space:pre-wrap>Prof-specialty   </span></td><td><span style=white-space:pre-wrap>Own-child    </span></td><td>White</td><td>Female</td><td>0</td><td>0</td><td>50</td><td>United-States</td><td>&lt;=50K</td></tr>\n",
       "\t<tr><th scope=row>5</th><td>16299</td><td>22</td><td><span style=white-space:pre-wrap>Private  </span></td><td>230704</td><td>Assoc-acdm</td><td>12</td><td><span style=white-space:pre-wrap>Never-married     </span></td><td>Handlers-cleaners</td><td><span style=white-space:pre-wrap>Own-child    </span></td><td>Black</td><td><span style=white-space:pre-wrap>Male  </span></td><td>0</td><td>0</td><td>20</td><td><span style=white-space:pre-wrap>Jamaica      </span></td><td>&lt;=50K</td></tr>\n",
       "</tbody>\n",
       "</table>\n"
      ],
      "text/latex": [
       "A data.frame: 5 × 16\n",
       "\\begin{tabular}{r|llllllllllllllll}\n",
       "  & Id & age & workclass & fnlwgt & education & education.num & marital.status & occupation & relationship & race & sex & capital.gain & capital.loss & hours.per.week & native.country & income\\\\\n",
       "  & <int> & <int> & <fct> & <int> & <fct> & <int> & <fct> & <fct> & <fct> & <fct> & <fct> & <int> & <int> & <int> & <fct> & <fct>\\\\\n",
       "\\hline\n",
       "\t1 & 16287 & 25 & Private   & 288519 & Bachelors  & 13 & Never-married      & Adm-clerical      & Not-in-family & White & Female & 0 & 0 & 40 & United-States & <=50K\\\\\n",
       "\t2 & 16291 & 42 & Private   & 213214 & Assoc-acdm & 12 & Married-civ-spouse & Sales             & Husband       & White & Male   & 0 & 0 & 40 & United-States & <=50K\\\\\n",
       "\t3 & 16292 & 24 & State-gov & 215797 & Bachelors  & 13 & Never-married      & Tech-support      & Not-in-family & White & Female & 0 & 0 & 40 & United-States & <=50K\\\\\n",
       "\t4 & 16295 & 24 & Local-gov & 103277 & Bachelors  & 13 & Never-married      & Prof-specialty    & Own-child     & White & Female & 0 & 0 & 50 & United-States & <=50K\\\\\n",
       "\t5 & 16299 & 22 & Private   & 230704 & Assoc-acdm & 12 & Never-married      & Handlers-cleaners & Own-child     & Black & Male   & 0 & 0 & 20 & Jamaica       & <=50K\\\\\n",
       "\\end{tabular}\n"
      ],
      "text/markdown": [
       "\n",
       "A data.frame: 5 × 16\n",
       "\n",
       "| <!--/--> | Id &lt;int&gt; | age &lt;int&gt; | workclass &lt;fct&gt; | fnlwgt &lt;int&gt; | education &lt;fct&gt; | education.num &lt;int&gt; | marital.status &lt;fct&gt; | occupation &lt;fct&gt; | relationship &lt;fct&gt; | race &lt;fct&gt; | sex &lt;fct&gt; | capital.gain &lt;int&gt; | capital.loss &lt;int&gt; | hours.per.week &lt;int&gt; | native.country &lt;fct&gt; | income &lt;fct&gt; |\n",
       "|---|---|---|---|---|---|---|---|---|---|---|---|---|---|---|---|---|\n",
       "| 1 | 16287 | 25 | Private   | 288519 | Bachelors  | 13 | Never-married      | Adm-clerical      | Not-in-family | White | Female | 0 | 0 | 40 | United-States | &lt;=50K |\n",
       "| 2 | 16291 | 42 | Private   | 213214 | Assoc-acdm | 12 | Married-civ-spouse | Sales             | Husband       | White | Male   | 0 | 0 | 40 | United-States | &lt;=50K |\n",
       "| 3 | 16292 | 24 | State-gov | 215797 | Bachelors  | 13 | Never-married      | Tech-support      | Not-in-family | White | Female | 0 | 0 | 40 | United-States | &lt;=50K |\n",
       "| 4 | 16295 | 24 | Local-gov | 103277 | Bachelors  | 13 | Never-married      | Prof-specialty    | Own-child     | White | Female | 0 | 0 | 50 | United-States | &lt;=50K |\n",
       "| 5 | 16299 | 22 | Private   | 230704 | Assoc-acdm | 12 | Never-married      | Handlers-cleaners | Own-child     | Black | Male   | 0 | 0 | 20 | Jamaica       | &lt;=50K |\n",
       "\n"
      ],
      "text/plain": [
       "  Id    age workclass fnlwgt education  education.num marital.status    \n",
       "1 16287 25  Private   288519 Bachelors  13            Never-married     \n",
       "2 16291 42  Private   213214 Assoc-acdm 12            Married-civ-spouse\n",
       "3 16292 24  State-gov 215797 Bachelors  13            Never-married     \n",
       "4 16295 24  Local-gov 103277 Bachelors  13            Never-married     \n",
       "5 16299 22  Private   230704 Assoc-acdm 12            Never-married     \n",
       "  occupation        relationship  race  sex    capital.gain capital.loss\n",
       "1 Adm-clerical      Not-in-family White Female 0            0           \n",
       "2 Sales             Husband       White Male   0            0           \n",
       "3 Tech-support      Not-in-family White Female 0            0           \n",
       "4 Prof-specialty    Own-child     White Female 0            0           \n",
       "5 Handlers-cleaners Own-child     Black Male   0            0           \n",
       "  hours.per.week native.country income\n",
       "1 40             United-States  <=50K \n",
       "2 40             United-States  <=50K \n",
       "3 40             United-States  <=50K \n",
       "4 50             United-States  <=50K \n",
       "5 20             Jamaica        <=50K "
      ]
     },
     "metadata": {},
     "output_type": "display_data"
    }
   ],
   "source": [
    "filtro_education = adult %>% filter(education.num > mean(education.num, na.rm = TRUE))\n",
    "filtro_education[1:5,]"
   ]
  },
  {
   "cell_type": "markdown",
   "metadata": {},
   "source": [
    "#### <a id=\"summarise\"></a> `summarise()` - \"Tabelas dinâmicas\" no R"
   ]
  },
  {
   "cell_type": "markdown",
   "metadata": {},
   "source": [
    "Usar o verbo `summarise()` vai produzir um único número com a(s) medida(s) resumo escolhidas. <br>\n",
    "Mas como, muitas vezes, nós queremos segmentar a análise para subgrupos diferentes do dataset, o `summarise()` costuma ser utilizado com o `group_by()`. <br>\n",
    "O `group_by()` vai fazer com que as medidas resumos sejam feitas com base nos diferentes valores tidos em uma coluna."
   ]
  },
  {
   "cell_type": "markdown",
   "metadata": {},
   "source": [
    "Vamos, primeiro, usar o `summarise()` puro. Perceba que ele devolve a medida escolhida levando em consideração todas as linhas."
   ]
  },
  {
   "cell_type": "code",
   "execution_count": 36,
   "metadata": {},
   "outputs": [
    {
     "data": {
      "text/html": [
       "<table>\n",
       "<caption>A data.frame: 1 × 2</caption>\n",
       "<thead>\n",
       "\t<tr><th scope=col>media_idade</th><th scope=col>media_anos_educacao</th></tr>\n",
       "\t<tr><th scope=col>&lt;dbl&gt;</th><th scope=col>&lt;dbl&gt;</th></tr>\n",
       "</thead>\n",
       "<tbody>\n",
       "\t<tr><td>38.58163</td><td>10.08059</td></tr>\n",
       "</tbody>\n",
       "</table>\n"
      ],
      "text/latex": [
       "A data.frame: 1 × 2\n",
       "\\begin{tabular}{ll}\n",
       " media\\_idade & media\\_anos\\_educacao\\\\\n",
       " <dbl> & <dbl>\\\\\n",
       "\\hline\n",
       "\t 38.58163 & 10.08059\\\\\n",
       "\\end{tabular}\n"
      ],
      "text/markdown": [
       "\n",
       "A data.frame: 1 × 2\n",
       "\n",
       "| media_idade &lt;dbl&gt; | media_anos_educacao &lt;dbl&gt; |\n",
       "|---|---|\n",
       "| 38.58163 | 10.08059 |\n",
       "\n"
      ],
      "text/plain": [
       "  media_idade media_anos_educacao\n",
       "1 38.58163    10.08059           "
      ]
     },
     "metadata": {},
     "output_type": "display_data"
    }
   ],
   "source": [
    "adult %>%\n",
    "  summarise(media_idade = mean(age), media_anos_educacao = mean(education.num))"
   ]
  },
  {
   "cell_type": "markdown",
   "metadata": {},
   "source": [
    "Agora, utilizando o `group_by()` podemos segmentar os números com base em uma ou mais categorias."
   ]
  },
  {
   "cell_type": "code",
   "execution_count": 38,
   "metadata": {},
   "outputs": [
    {
     "data": {
      "text/html": [
       "<table>\n",
       "<caption>A grouped_df: 10 × 4</caption>\n",
       "<thead>\n",
       "\t<tr><th scope=col>race</th><th scope=col>sex</th><th scope=col>media_idade</th><th scope=col>media_anos_educacao</th></tr>\n",
       "\t<tr><th scope=col>&lt;fct&gt;</th><th scope=col>&lt;fct&gt;</th><th scope=col>&lt;dbl&gt;</th><th scope=col>&lt;dbl&gt;</th></tr>\n",
       "</thead>\n",
       "<tbody>\n",
       "\t<tr><td>Amer-Indian-Eskimo</td><td>Female</td><td>37.11765</td><td> 9.697479</td></tr>\n",
       "\t<tr><td>Amer-Indian-Eskimo</td><td>Male  </td><td>37.20833</td><td> 9.072917</td></tr>\n",
       "\t<tr><td>Asian-Pac-Islander</td><td>Female</td><td>35.08960</td><td>10.390173</td></tr>\n",
       "\t<tr><td>Asian-Pac-Islander</td><td>Male  </td><td>39.07359</td><td>11.245310</td></tr>\n",
       "\t<tr><td>Black             </td><td>Female</td><td>37.85402</td><td> 9.549839</td></tr>\n",
       "\t<tr><td>Black             </td><td>Male  </td><td>37.68260</td><td> 9.423199</td></tr>\n",
       "\t<tr><td>Other             </td><td>Female</td><td>31.67890</td><td> 8.899083</td></tr>\n",
       "\t<tr><td>Other             </td><td>Male  </td><td>34.65432</td><td> 8.802469</td></tr>\n",
       "\t<tr><td>White             </td><td>Female</td><td>36.81162</td><td>10.127980</td></tr>\n",
       "\t<tr><td>White             </td><td>Male  </td><td>39.65253</td><td>10.138372</td></tr>\n",
       "</tbody>\n",
       "</table>\n"
      ],
      "text/latex": [
       "A grouped\\_df: 10 × 4\n",
       "\\begin{tabular}{llll}\n",
       " race & sex & media\\_idade & media\\_anos\\_educacao\\\\\n",
       " <fct> & <fct> & <dbl> & <dbl>\\\\\n",
       "\\hline\n",
       "\t Amer-Indian-Eskimo & Female & 37.11765 &  9.697479\\\\\n",
       "\t Amer-Indian-Eskimo & Male   & 37.20833 &  9.072917\\\\\n",
       "\t Asian-Pac-Islander & Female & 35.08960 & 10.390173\\\\\n",
       "\t Asian-Pac-Islander & Male   & 39.07359 & 11.245310\\\\\n",
       "\t Black              & Female & 37.85402 &  9.549839\\\\\n",
       "\t Black              & Male   & 37.68260 &  9.423199\\\\\n",
       "\t Other              & Female & 31.67890 &  8.899083\\\\\n",
       "\t Other              & Male   & 34.65432 &  8.802469\\\\\n",
       "\t White              & Female & 36.81162 & 10.127980\\\\\n",
       "\t White              & Male   & 39.65253 & 10.138372\\\\\n",
       "\\end{tabular}\n"
      ],
      "text/markdown": [
       "\n",
       "A grouped_df: 10 × 4\n",
       "\n",
       "| race &lt;fct&gt; | sex &lt;fct&gt; | media_idade &lt;dbl&gt; | media_anos_educacao &lt;dbl&gt; |\n",
       "|---|---|---|---|\n",
       "| Amer-Indian-Eskimo | Female | 37.11765 |  9.697479 |\n",
       "| Amer-Indian-Eskimo | Male   | 37.20833 |  9.072917 |\n",
       "| Asian-Pac-Islander | Female | 35.08960 | 10.390173 |\n",
       "| Asian-Pac-Islander | Male   | 39.07359 | 11.245310 |\n",
       "| Black              | Female | 37.85402 |  9.549839 |\n",
       "| Black              | Male   | 37.68260 |  9.423199 |\n",
       "| Other              | Female | 31.67890 |  8.899083 |\n",
       "| Other              | Male   | 34.65432 |  8.802469 |\n",
       "| White              | Female | 36.81162 | 10.127980 |\n",
       "| White              | Male   | 39.65253 | 10.138372 |\n",
       "\n"
      ],
      "text/plain": [
       "   race               sex    media_idade media_anos_educacao\n",
       "1  Amer-Indian-Eskimo Female 37.11765     9.697479          \n",
       "2  Amer-Indian-Eskimo Male   37.20833     9.072917          \n",
       "3  Asian-Pac-Islander Female 35.08960    10.390173          \n",
       "4  Asian-Pac-Islander Male   39.07359    11.245310          \n",
       "5  Black              Female 37.85402     9.549839          \n",
       "6  Black              Male   37.68260     9.423199          \n",
       "7  Other              Female 31.67890     8.899083          \n",
       "8  Other              Male   34.65432     8.802469          \n",
       "9  White              Female 36.81162    10.127980          \n",
       "10 White              Male   39.65253    10.138372          "
      ]
     },
     "metadata": {},
     "output_type": "display_data"
    }
   ],
   "source": [
    "adult %>% \n",
    "    group_by(race, sex) %>%\n",
    "    summarise(media_idade = mean(age), media_anos_educacao = mean(education.num))"
   ]
  },
  {
   "cell_type": "markdown",
   "metadata": {},
   "source": [
    "Perceba que nos é devolvida uma medida para cada combinação possível de grupos"
   ]
  },
  {
   "cell_type": "markdown",
   "metadata": {},
   "source": [
    "#### <a id=\"arrange\"></a> `arrange()` - Alterando a ordem das linhas do seu dataset"
   ]
  },
  {
   "cell_type": "markdown",
   "metadata": {},
   "source": [
    "Esse é provavelmente o verbo mais fácil de ser usado. Você passa como argumento um ou mais critérios de ordenação (sendo que a ordem de preferência é a ordem passada). <br>\n",
    "Caso queira que a ordenação seja decrescente, é só utilizar a função `desc()`."
   ]
  },
  {
   "cell_type": "code",
   "execution_count": 40,
   "metadata": {},
   "outputs": [
    {
     "data": {
      "text/html": [
       "<table>\n",
       "<caption>A data.frame: 5 × 16</caption>\n",
       "<thead>\n",
       "\t<tr><th></th><th scope=col>Id</th><th scope=col>age</th><th scope=col>workclass</th><th scope=col>fnlwgt</th><th scope=col>education</th><th scope=col>education.num</th><th scope=col>marital.status</th><th scope=col>occupation</th><th scope=col>relationship</th><th scope=col>race</th><th scope=col>sex</th><th scope=col>capital.gain</th><th scope=col>capital.loss</th><th scope=col>hours.per.week</th><th scope=col>native.country</th><th scope=col>income</th></tr>\n",
       "\t<tr><th></th><th scope=col>&lt;int&gt;</th><th scope=col>&lt;int&gt;</th><th scope=col>&lt;fct&gt;</th><th scope=col>&lt;int&gt;</th><th scope=col>&lt;fct&gt;</th><th scope=col>&lt;int&gt;</th><th scope=col>&lt;fct&gt;</th><th scope=col>&lt;fct&gt;</th><th scope=col>&lt;fct&gt;</th><th scope=col>&lt;fct&gt;</th><th scope=col>&lt;fct&gt;</th><th scope=col>&lt;int&gt;</th><th scope=col>&lt;int&gt;</th><th scope=col>&lt;int&gt;</th><th scope=col>&lt;fct&gt;</th><th scope=col>&lt;fct&gt;</th></tr>\n",
       "</thead>\n",
       "<tbody>\n",
       "\t<tr><th scope=row>1</th><td>46769</td><td>90</td><td><span style=white-space:pre-wrap>?        </span></td><td>166343</td><td>1st-4th</td><td>2</td><td><span style=white-space:pre-wrap>Widowed           </span></td><td><span style=white-space:pre-wrap>?                </span></td><td>Not-in-family</td><td>Black</td><td>Female</td><td><span style=white-space:pre-wrap>   0</span></td><td>0</td><td>40</td><td>United-States</td><td>&lt;=50K</td></tr>\n",
       "\t<tr><th scope=row>2</th><td>26946</td><td>90</td><td><span style=white-space:pre-wrap>Private  </span></td><td>226968</td><td>7th-8th</td><td>4</td><td>Married-civ-spouse</td><td>Machine-op-inspct</td><td><span style=white-space:pre-wrap>Husband      </span></td><td>White</td><td><span style=white-space:pre-wrap>Male  </span></td><td><span style=white-space:pre-wrap>   0</span></td><td>0</td><td>40</td><td>United-States</td><td>&lt;=50K</td></tr>\n",
       "\t<tr><th scope=row>3</th><td>34834</td><td>90</td><td><span style=white-space:pre-wrap>?        </span></td><td>175444</td><td>7th-8th</td><td>4</td><td><span style=white-space:pre-wrap>Separated         </span></td><td><span style=white-space:pre-wrap>?                </span></td><td>Not-in-family</td><td>White</td><td>Female</td><td><span style=white-space:pre-wrap>   0</span></td><td>0</td><td>15</td><td>United-States</td><td>&lt;=50K</td></tr>\n",
       "\t<tr><th scope=row>4</th><td>48811</td><td>90</td><td>Local-gov</td><td>214594</td><td>7th-8th</td><td>4</td><td>Married-civ-spouse</td><td><span style=white-space:pre-wrap>Protective-serv  </span></td><td><span style=white-space:pre-wrap>Husband      </span></td><td>White</td><td><span style=white-space:pre-wrap>Male  </span></td><td>2653</td><td>0</td><td>40</td><td>United-States</td><td>&lt;=50K</td></tr>\n",
       "\t<tr><th scope=row>5</th><td>25836</td><td>90</td><td><span style=white-space:pre-wrap>Private  </span></td><td>141758</td><td><span style=white-space:pre-wrap>9th    </span></td><td>5</td><td><span style=white-space:pre-wrap>Never-married     </span></td><td><span style=white-space:pre-wrap>Adm-clerical     </span></td><td>Not-in-family</td><td>White</td><td>Female</td><td><span style=white-space:pre-wrap>   0</span></td><td>0</td><td>40</td><td>United-States</td><td>&lt;=50K</td></tr>\n",
       "</tbody>\n",
       "</table>\n"
      ],
      "text/latex": [
       "A data.frame: 5 × 16\n",
       "\\begin{tabular}{r|llllllllllllllll}\n",
       "  & Id & age & workclass & fnlwgt & education & education.num & marital.status & occupation & relationship & race & sex & capital.gain & capital.loss & hours.per.week & native.country & income\\\\\n",
       "  & <int> & <int> & <fct> & <int> & <fct> & <int> & <fct> & <fct> & <fct> & <fct> & <fct> & <int> & <int> & <int> & <fct> & <fct>\\\\\n",
       "\\hline\n",
       "\t1 & 46769 & 90 & ?         & 166343 & 1st-4th & 2 & Widowed            & ?                 & Not-in-family & Black & Female &    0 & 0 & 40 & United-States & <=50K\\\\\n",
       "\t2 & 26946 & 90 & Private   & 226968 & 7th-8th & 4 & Married-civ-spouse & Machine-op-inspct & Husband       & White & Male   &    0 & 0 & 40 & United-States & <=50K\\\\\n",
       "\t3 & 34834 & 90 & ?         & 175444 & 7th-8th & 4 & Separated          & ?                 & Not-in-family & White & Female &    0 & 0 & 15 & United-States & <=50K\\\\\n",
       "\t4 & 48811 & 90 & Local-gov & 214594 & 7th-8th & 4 & Married-civ-spouse & Protective-serv   & Husband       & White & Male   & 2653 & 0 & 40 & United-States & <=50K\\\\\n",
       "\t5 & 25836 & 90 & Private   & 141758 & 9th     & 5 & Never-married      & Adm-clerical      & Not-in-family & White & Female &    0 & 0 & 40 & United-States & <=50K\\\\\n",
       "\\end{tabular}\n"
      ],
      "text/markdown": [
       "\n",
       "A data.frame: 5 × 16\n",
       "\n",
       "| <!--/--> | Id &lt;int&gt; | age &lt;int&gt; | workclass &lt;fct&gt; | fnlwgt &lt;int&gt; | education &lt;fct&gt; | education.num &lt;int&gt; | marital.status &lt;fct&gt; | occupation &lt;fct&gt; | relationship &lt;fct&gt; | race &lt;fct&gt; | sex &lt;fct&gt; | capital.gain &lt;int&gt; | capital.loss &lt;int&gt; | hours.per.week &lt;int&gt; | native.country &lt;fct&gt; | income &lt;fct&gt; |\n",
       "|---|---|---|---|---|---|---|---|---|---|---|---|---|---|---|---|---|\n",
       "| 1 | 46769 | 90 | ?         | 166343 | 1st-4th | 2 | Widowed            | ?                 | Not-in-family | Black | Female |    0 | 0 | 40 | United-States | &lt;=50K |\n",
       "| 2 | 26946 | 90 | Private   | 226968 | 7th-8th | 4 | Married-civ-spouse | Machine-op-inspct | Husband       | White | Male   |    0 | 0 | 40 | United-States | &lt;=50K |\n",
       "| 3 | 34834 | 90 | ?         | 175444 | 7th-8th | 4 | Separated          | ?                 | Not-in-family | White | Female |    0 | 0 | 15 | United-States | &lt;=50K |\n",
       "| 4 | 48811 | 90 | Local-gov | 214594 | 7th-8th | 4 | Married-civ-spouse | Protective-serv   | Husband       | White | Male   | 2653 | 0 | 40 | United-States | &lt;=50K |\n",
       "| 5 | 25836 | 90 | Private   | 141758 | 9th     | 5 | Never-married      | Adm-clerical      | Not-in-family | White | Female |    0 | 0 | 40 | United-States | &lt;=50K |\n",
       "\n"
      ],
      "text/plain": [
       "  Id    age workclass fnlwgt education education.num marital.status    \n",
       "1 46769 90  ?         166343 1st-4th   2             Widowed           \n",
       "2 26946 90  Private   226968 7th-8th   4             Married-civ-spouse\n",
       "3 34834 90  ?         175444 7th-8th   4             Separated         \n",
       "4 48811 90  Local-gov 214594 7th-8th   4             Married-civ-spouse\n",
       "5 25836 90  Private   141758 9th       5             Never-married     \n",
       "  occupation        relationship  race  sex    capital.gain capital.loss\n",
       "1 ?                 Not-in-family Black Female    0         0           \n",
       "2 Machine-op-inspct Husband       White Male      0         0           \n",
       "3 ?                 Not-in-family White Female    0         0           \n",
       "4 Protective-serv   Husband       White Male   2653         0           \n",
       "5 Adm-clerical      Not-in-family White Female    0         0           \n",
       "  hours.per.week native.country income\n",
       "1 40             United-States  <=50K \n",
       "2 40             United-States  <=50K \n",
       "3 15             United-States  <=50K \n",
       "4 40             United-States  <=50K \n",
       "5 40             United-States  <=50K "
      ]
     },
     "metadata": {},
     "output_type": "display_data"
    }
   ],
   "source": [
    "arrange_adult = adult %>% arrange(desc(age), education.num)\n",
    "arrange_adult[1:5,]"
   ]
  },
  {
   "cell_type": "markdown",
   "metadata": {},
   "source": [
    "### <a id=\"varios_verbos\"></a> Usando vários verbos ao mesmo tempo\n",
    "\n",
    "Uma coisa legal do `dplyr` é que a gente pode usar vários verbos ao mesmo tempo"
   ]
  },
  {
   "cell_type": "markdown",
   "metadata": {},
   "source": [
    "Aqui vamos pegar uma base apenas com aqueles com anos de educação acima da média, depois vamos avaliar as combinações de raça e sexo possíves, para cada uma dando sua média de idade e média de anos de educação. Finalmente, vamos fazer com que os resultados sejam ordenados da maior média de anos de educação para a menor"
   ]
  },
  {
   "cell_type": "code",
   "execution_count": 49,
   "metadata": {},
   "outputs": [
    {
     "data": {
      "text/html": [
       "<table>\n",
       "<caption>A grouped_df: 10 × 4</caption>\n",
       "<thead>\n",
       "\t<tr><th scope=col>race</th><th scope=col>sex</th><th scope=col>media_idade</th><th scope=col>media_anos_educacao</th></tr>\n",
       "\t<tr><th scope=col>&lt;fct&gt;</th><th scope=col>&lt;fct&gt;</th><th scope=col>&lt;dbl&gt;</th><th scope=col>&lt;dbl&gt;</th></tr>\n",
       "</thead>\n",
       "<tbody>\n",
       "\t<tr><td>Asian-Pac-Islander</td><td>Male  </td><td>39.71467</td><td>13.41033</td></tr>\n",
       "\t<tr><td>Other             </td><td>Male  </td><td>36.75000</td><td>13.16667</td></tr>\n",
       "\t<tr><td>White             </td><td>Male  </td><td>41.53804</td><td>13.09590</td></tr>\n",
       "\t<tr><td>Asian-Pac-Islander</td><td>Female</td><td>35.61379</td><td>12.98621</td></tr>\n",
       "\t<tr><td>White             </td><td>Female</td><td>37.86561</td><td>12.89654</td></tr>\n",
       "\t<tr><td>Black             </td><td>Male  </td><td>39.99690</td><td>12.85139</td></tr>\n",
       "\t<tr><td>Other             </td><td>Female</td><td>35.70833</td><td>12.79167</td></tr>\n",
       "\t<tr><td>Amer-Indian-Eskimo</td><td>Male  </td><td>39.62963</td><td>12.74074</td></tr>\n",
       "\t<tr><td>Black             </td><td>Female</td><td>37.30769</td><td>12.60355</td></tr>\n",
       "\t<tr><td>Amer-Indian-Eskimo</td><td>Female</td><td>37.03226</td><td>12.32258</td></tr>\n",
       "</tbody>\n",
       "</table>\n"
      ],
      "text/latex": [
       "A grouped\\_df: 10 × 4\n",
       "\\begin{tabular}{llll}\n",
       " race & sex & media\\_idade & media\\_anos\\_educacao\\\\\n",
       " <fct> & <fct> & <dbl> & <dbl>\\\\\n",
       "\\hline\n",
       "\t Asian-Pac-Islander & Male   & 39.71467 & 13.41033\\\\\n",
       "\t Other              & Male   & 36.75000 & 13.16667\\\\\n",
       "\t White              & Male   & 41.53804 & 13.09590\\\\\n",
       "\t Asian-Pac-Islander & Female & 35.61379 & 12.98621\\\\\n",
       "\t White              & Female & 37.86561 & 12.89654\\\\\n",
       "\t Black              & Male   & 39.99690 & 12.85139\\\\\n",
       "\t Other              & Female & 35.70833 & 12.79167\\\\\n",
       "\t Amer-Indian-Eskimo & Male   & 39.62963 & 12.74074\\\\\n",
       "\t Black              & Female & 37.30769 & 12.60355\\\\\n",
       "\t Amer-Indian-Eskimo & Female & 37.03226 & 12.32258\\\\\n",
       "\\end{tabular}\n"
      ],
      "text/markdown": [
       "\n",
       "A grouped_df: 10 × 4\n",
       "\n",
       "| race &lt;fct&gt; | sex &lt;fct&gt; | media_idade &lt;dbl&gt; | media_anos_educacao &lt;dbl&gt; |\n",
       "|---|---|---|---|\n",
       "| Asian-Pac-Islander | Male   | 39.71467 | 13.41033 |\n",
       "| Other              | Male   | 36.75000 | 13.16667 |\n",
       "| White              | Male   | 41.53804 | 13.09590 |\n",
       "| Asian-Pac-Islander | Female | 35.61379 | 12.98621 |\n",
       "| White              | Female | 37.86561 | 12.89654 |\n",
       "| Black              | Male   | 39.99690 | 12.85139 |\n",
       "| Other              | Female | 35.70833 | 12.79167 |\n",
       "| Amer-Indian-Eskimo | Male   | 39.62963 | 12.74074 |\n",
       "| Black              | Female | 37.30769 | 12.60355 |\n",
       "| Amer-Indian-Eskimo | Female | 37.03226 | 12.32258 |\n",
       "\n"
      ],
      "text/plain": [
       "   race               sex    media_idade media_anos_educacao\n",
       "1  Asian-Pac-Islander Male   39.71467    13.41033           \n",
       "2  Other              Male   36.75000    13.16667           \n",
       "3  White              Male   41.53804    13.09590           \n",
       "4  Asian-Pac-Islander Female 35.61379    12.98621           \n",
       "5  White              Female 37.86561    12.89654           \n",
       "6  Black              Male   39.99690    12.85139           \n",
       "7  Other              Female 35.70833    12.79167           \n",
       "8  Amer-Indian-Eskimo Male   39.62963    12.74074           \n",
       "9  Black              Female 37.30769    12.60355           \n",
       "10 Amer-Indian-Eskimo Female 37.03226    12.32258           "
      ]
     },
     "metadata": {},
     "output_type": "display_data"
    }
   ],
   "source": [
    "adult %>% \n",
    "    filter(education.num > mean(education.num, na.rm = TRUE)) %>%\n",
    "    group_by(race, sex) %>%\n",
    "    summarise(media_idade = mean(age), media_anos_educacao = mean(education.num)) %>%\n",
    "    arrange(desc(media_anos_educacao))"
   ]
  },
  {
   "cell_type": "markdown",
   "metadata": {},
   "source": [
    "## <a id = \"parte3\"></a><span style=\"color: orange;\"> Parte 4 - Visualização de dados em R </span>"
   ]
  },
  {
   "cell_type": "markdown",
   "metadata": {},
   "source": [
    "## <a id = \"parte5\"></a><span style=\"color: orange;\"> Parte 5 - Inferência Estatística em R </span>"
   ]
  }
 ],
 "metadata": {
  "kernelspec": {
   "display_name": "R",
   "language": "R",
   "name": "ir"
  },
  "language_info": {
   "codemirror_mode": "r",
   "file_extension": ".r",
   "mimetype": "text/x-r-source",
   "name": "R",
   "pygments_lexer": "r",
   "version": "3.4.4"
  }
 },
 "nbformat": 4,
 "nbformat_minor": 4
}
