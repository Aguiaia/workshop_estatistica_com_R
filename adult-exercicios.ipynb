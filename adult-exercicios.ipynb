{
 "cells": [
  {
   "cell_type": "markdown",
   "metadata": {},
   "source": [
    "# WORKSHOP - ESTATÍSTICA BÁSICA COM R - GRUPO TURING"
   ]
  },
  {
   "cell_type": "markdown",
   "metadata": {},
   "source": [
    "**Tabela de Conteúdos**\n",
    "\n",
    "- :open_file_folder: [Importando dados em R](#parte1)\n",
    "    - [Importando um csv](#importando_csv)\n",
    "    - [Boas práticas em criação de bases de dados](#boas_praticas)\n",
    "    - [Importando os dados do Workshop](#importando_ws)\n",
    "    <br><br>\n",
    "- :mag: [Estatística básica em R](#parte2)\n",
    "    - [Tipos de dados](#tipos_de_dados)\n",
    "        - [Dados Qualitativos](#quali)\n",
    "        - [Dados Quantitativos](#quant)\n",
    "    - [Estatística Descritiva](#descritiva)\n",
    "        - [Medidas de tendência central](#tendencia_central)\n",
    "            - [Média](#media)\n",
    "            - [Mediana](#mediana)\n",
    "            - [Percentis](#percentil)\n",
    "            - [Summary](#summary)\n",
    "        - [Medidas de variação uni e multivariadas](#variacao)\n",
    "            - [Amplitude](#amplitude)\n",
    "            - [Amplitude interquartil](#amplitude_interquartil)\n",
    "            - [Variância](#variancia)\n",
    "            - [Desvio Padrão](#desv_pad)\n",
    "            - [Covariância](#covar)\n",
    "            - [Coeficiente de Correlação](#ccor)\n",
    "            <br><br>\n",
    "- :bookmark_tabs: [Manipulando dados em R](#parte3)\n",
    "    - [Dados Faltantes](#dados_faltantes)\n",
    "    - [Deep dive in dplyr](#dplyr)\n",
    "        - [mutate() - criando novas variáveis](#mutate)\n",
    "        - [select() - selecionando colunas](#select)\n",
    "        - [filter() - filtrando a base de dados](#filter)\n",
    "        - [summarise() - a tabela dinâmica do R](#summarise)\n",
    "        - [arrange() - alterando a ordem das linhas](#arrange)\n",
    "        - [Combinando os verbos](#varios_verbos)\n",
    "        <br><br>\n",
    "- :chart_with_downwards_trend: [Visualizando dados em R](#parte4)\n",
    "<br><br>\n",
    "- :question: [Inferência Estatística em R](#parte5)\n",
    "    - [Testes de hipótese](#testes_de_hipotese)\n",
    "        - [Amostra vs População](#amostra_pop)\n",
    "        - [Testes paramétricos VS Testes não paramétricos](#par_vs_npar)\n",
    "        - [Teste de Kolgomorov-Smirnov](#ks)\n",
    "        - Testes Paramétricos\n",
    "            - [Teste T](#t_test)\n",
    "            - [ANOVA de um fator](#anova)\n",
    "    - [Regressão Linear](#rl)\n"
   ]
  },
  {
   "cell_type": "markdown",
   "metadata": {},
   "source": [
    "## <a id = \"parte1\"></a> <span style=\"color: orange;\"> Parte 1 - Importando dados em R </span>"
   ]
  },
  {
   "cell_type": "markdown",
   "metadata": {},
   "source": [
    "Quando vamos fazer nossa análise de dados, comumente devemos trazer esses dados de algum outro arquivo, o que nos pede um pouco de cuidado. <br> Por exemplo, é importante sabermos qual é o tipo de arquivo que estamos importando, pois isso pode fazer nosso programa ler os dados errôneamente. <br> Um dos formatos mais comums para a análise de dados é o **CSV**, ou *Comma separeted values*."
   ]
  },
  {
   "cell_type": "markdown",
   "metadata": {},
   "source": [
    "Assim, se for salvar uma planilha de dados, não se esqueça de salvar como CSV."
   ]
  },
  {
   "cell_type": "markdown",
   "metadata": {},
   "source": [
    "![img](img/csv_meme.jpg)"
   ]
  },
  {
   "cell_type": "markdown",
   "metadata": {},
   "source": [
    "Outro fator importante que devemos levar em conta na hora de importar o arquivo é o local em que ele está salvo. Se ele for salvo no mesmo diretório que o programa que se está usando para ler os dados, ou alguma pasta dentro deste, isso acarretará que podemos apenas escrever o nome do arquivo, sem a necessidade de escrever todo o caminho. <br> Vamos ver um exemplo abaixo:"
   ]
  },
  {
   "cell_type": "markdown",
   "metadata": {},
   "source": [
    "### <a id=\"importando_csv\"></a>Importando um arquivo CSV "
   ]
  },
  {
   "cell_type": "markdown",
   "metadata": {},
   "source": [
    "```R\n",
    "mydata <- read.csv(\"Data.csv\", header=TRUE)\n",
    "```"
   ]
  },
  {
   "cell_type": "markdown",
   "metadata": {},
   "source": [
    "Aqui ```mydata``` é o nome da variável que atribuiremos o conteúdo do arquivo que estamos lendo <br>\n",
    "A função ```read.csv``` lê arquivos que possuem este formato, aí uma importância de sabermos o formato do arquivo que estamos trabalhando. <br>\n",
    "O nome do arquivo deve vir dentro de aspas (simples ou dupla). Neste caso o arquivo está no mesmo diretório em que o nosso programa está sendo salvo, por isso não há necessidade de especificar diretórios anteriores. <br>\n",
    "Um argumento diferente da função deve ser separado por vírgula, aqui colocamos a função ```header=TRUE``` que significa que a primeira linha do nosso arquivo contém o nome das colunas (*labels*). Caso a primeira linha já contenha dados, vc deve trocar esse argumento por ```header=FALSE``` ."
   ]
  },
  {
   "cell_type": "markdown",
   "metadata": {},
   "source": [
    "Caso o arquivo esteja em um diretório diferente, é necessário identificá-lo. Vamos ver um exemplo:"
   ]
  },
  {
   "cell_type": "markdown",
   "metadata": {},
   "source": [
    "```R\n",
    "mydata <- read.csv(\"C:/Usuarios/Caminho/do/arquivo/Data.csv\", header=TRUE)\n",
    "```"
   ]
  },
  {
   "cell_type": "markdown",
   "metadata": {},
   "source": [
    "### Alguns problemas "
   ]
  },
  {
   "cell_type": "markdown",
   "metadata": {},
   "source": [
    "É comum importarmos um arquivo e este não parecer estar com um formato adequado, como por exemplo uma coluna sem dados, ou duplicada. Nestes casos, é importante checar se os dados estão da mesma forma que seu programa está lendo. Uma forma de descobrir isso é abrir os dados em um programa como o excel, ou leitor de texto e verificar se a divisão das colunas está sendo feita por vírgula ```,``` ou ponto e vírgula ```;```."
   ]
  },
  {
   "cell_type": "markdown",
   "metadata": {},
   "source": [
    "Caso o separador não seja a vírgula, podemos usar o argumento  ```sep=\" \"``` como o separador desejado:"
   ]
  },
  {
   "cell_type": "markdown",
   "metadata": {},
   "source": [
    "``` R \n",
    "mydata4 <- read.csv(\"Data3.csv\", header=TRUE, sep=\";\")\n",
    "```"
   ]
  },
  {
   "cell_type": "markdown",
   "metadata": {},
   "source": [
    "## <a id=\"boas_praticas\"></a> Boas Práticas "
   ]
  },
  {
   "cell_type": "markdown",
   "metadata": {},
   "source": [
    "Caso você não queira ter problemas na hora de importar dados para fazer suas análises, são necessárias algumas boas práticas na hora de criar seu arquivo."
   ]
  },
  {
   "cell_type": "markdown",
   "metadata": {},
   "source": [
    "Neste WorkShop, usaremos o dataset Adults, que possui dados do censo norte americano sobre fatores socioeconômicos. Vamos visualizá-lo no Excel para entender sua estrutura:"
   ]
  },
  {
   "cell_type": "markdown",
   "metadata": {},
   "source": [
    "![img2](img/excel_adults.png)"
   ]
  },
  {
   "cell_type": "markdown",
   "metadata": {},
   "source": [
    "Datasets também podem ser montados num simples arquivo de texto:"
   ]
  },
  {
   "cell_type": "markdown",
   "metadata": {},
   "source": [
    "```\n",
    "Id,age,marital.status,occupation,relationship,race,sex,capital.gain,capital.loss,hours.per.week,native.country,income\n",
    "16280,34,Divorced,Exec-managerial,Own-child,White,Male,0,0,44,United-States,<=50K\n",
    "16281,58,Married-civ-spouse,Transport-moving,Husband,White,Male,0,0,40,United-States,<=50K\n",
    "```"
   ]
  },
  {
   "cell_type": "markdown",
   "metadata": {},
   "source": [
    "### Como escrever então seu arquivo de dados?"
   ]
  },
  {
   "cell_type": "markdown",
   "metadata": {},
   "source": [
    "1. Comece pela primeira linha e primeira coluna, ou seja, não pule células\n",
    "2. Inclua uma linha de títulos para cada coluna\n",
    "3. Tenha certeza que o número de títulos é igual ao número de colunas dos seus dados\n",
    "4. Não junte células, isso pode fazer seu programa ter problemas na hora de ler o arquivo\n",
    "5. No caso de arquivos de texto, use preferencialmente ```,``` como separador dos dados"
   ]
  },
  {
   "cell_type": "markdown",
   "metadata": {},
   "source": [
    "## <a id=\"importando_ws\"></a> Importando o arquivo do Workshop "
   ]
  },
  {
   "cell_type": "code",
   "execution_count": null,
   "metadata": {
    "scrolled": true
   },
   "outputs": [],
   "source": []
  },
  {
   "cell_type": "markdown",
   "metadata": {},
   "source": [
    "Note que por padrão, R lê seu arquivo CSV como se fosse separado por ```,``` <br>\n",
    "O que acontece então se usarmos outro separador?"
   ]
  },
  {
   "cell_type": "code",
   "execution_count": null,
   "metadata": {},
   "outputs": [],
   "source": []
  },
  {
   "cell_type": "markdown",
   "metadata": {},
   "source": [
    "<img src=\"img/surprised_face.jpg\" width=\"300\"/>"
   ]
  },
  {
   "cell_type": "code",
   "execution_count": null,
   "metadata": {},
   "outputs": [],
   "source": []
  },
  {
   "cell_type": "markdown",
   "metadata": {},
   "source": [
    "## <a id = \"parte2\"></a><span style=\"color: orange;\">  Parte 2 -  Estatística Básica em R </span>\n",
    "\n",
    "Agora que já vimos o básico de importação de dados em **R**, estamos prontos para entender como essa linguagem é utilizada efetivamente para fazer análises estatísticas!\n",
    "\n",
    "Mas não se preocupe, vamos explorando os diversos temas de estatística enquanto aprendemos mais sobre **R**."
   ]
  },
  {
   "cell_type": "markdown",
   "metadata": {},
   "source": [
    "## <a id=\"tipos_de_dados\"></a> Tipos de Dados\n",
    "\n",
    "Um dos pontos base da Estatística consiste em entender nossas informações e como elas elas são organizadas: os **dados**. Esses dados podem ser divididos em dois tipos diferentes: dados **qualitativos** e dados **quantitativos**.\n",
    "\n",
    "### <a id=\"quali\"></a>Dados Qualitativos\n",
    "\n",
    "Esses dados representam **categorias** do nosso espaço, ou seja, eles dividem os indivíduos em diversas classes que não se intersectam. Por exemplo, a cor de uma flor é um tipo de dado qualitativo, já que as categoriza em classes como: *'amarelo'*, *'rosa'*, *'vermelho'*, *'azul'*, etc. Esses dados são bem úteis para representar características que não são facilmente descritas por números, como qualidades (daí vem o nome)."
   ]
  },
  {
   "cell_type": "code",
   "execution_count": 1,
   "metadata": {},
   "outputs": [
    {
     "data": {
      "text/html": [
       "<table>\n",
       "<caption>A data.frame: 4 × 2</caption>\n",
       "<thead>\n",
       "\t<tr><th scope=col>Flor</th><th scope=col>Cor</th></tr>\n",
       "\t<tr><th scope=col>&lt;fct&gt;</th><th scope=col>&lt;fct&gt;</th></tr>\n",
       "</thead>\n",
       "<tbody>\n",
       "\t<tr><td>Margarida</td><td>Amarelo </td></tr>\n",
       "\t<tr><td>Hortênsia</td><td>Azul    </td></tr>\n",
       "\t<tr><td>Violeta  </td><td>Azul    </td></tr>\n",
       "\t<tr><td>Rosa     </td><td>Vermelho</td></tr>\n",
       "</tbody>\n",
       "</table>\n"
      ],
      "text/latex": [
       "A data.frame: 4 × 2\n",
       "\\begin{tabular}{ll}\n",
       " Flor & Cor\\\\\n",
       " <fct> & <fct>\\\\\n",
       "\\hline\n",
       "\t Margarida & Amarelo \\\\\n",
       "\t Hortênsia & Azul    \\\\\n",
       "\t Violeta   & Azul    \\\\\n",
       "\t Rosa      & Vermelho\\\\\n",
       "\\end{tabular}\n"
      ],
      "text/markdown": [
       "\n",
       "A data.frame: 4 × 2\n",
       "\n",
       "| Flor &lt;fct&gt; | Cor &lt;fct&gt; |\n",
       "|---|---|\n",
       "| Margarida | Amarelo  |\n",
       "| Hortênsia | Azul     |\n",
       "| Violeta   | Azul     |\n",
       "| Rosa      | Vermelho |\n",
       "\n"
      ],
      "text/plain": [
       "  Flor      Cor     \n",
       "1 Margarida Amarelo \n",
       "2 Hortênsia Azul    \n",
       "3 Violeta   Azul    \n",
       "4 Rosa      Vermelho"
      ]
     },
     "metadata": {},
     "output_type": "display_data"
    }
   ],
   "source": [
    "# Montando um Dataframe de Cores de Flores\n",
    "\n",
    "Flor = c(\"Margarida\", \"Hortênsia\", \"Violeta\", \"Rosa\")\n",
    "Cor = c(\"Amarelo\", \"Azul\", \"Azul\", \"Vermelho\")\n",
    "flores = data.frame(Flor, Cor)\n",
    "flores"
   ]
  },
  {
   "cell_type": "code",
   "execution_count": 2,
   "metadata": {},
   "outputs": [],
   "source": [
    "# Mostrando as flores de cor Azul\n"
   ]
  },
  {
   "cell_type": "markdown",
   "metadata": {},
   "source": [
    "### <a id=\"quant\"></a> Dados Quantitativos\n",
    "\n",
    "São tipos de dados **numéricos**, ou seja, são mensuráveis e podem ser manipulados matematicamente. Essa categoria engloba os dados representáveis por números, como a altura de uma pessoa ou a área de um terreno. Esses dados são mais versáteis, já que conseguimos fazer comparações, médias e outros tipos de operações aritméticas que não são possíveis com os dados qualitativos."
   ]
  },
  {
   "cell_type": "code",
   "execution_count": 3,
   "metadata": {},
   "outputs": [
    {
     "data": {
      "text/html": [
       "<table>\n",
       "<caption>A data.frame: 5 × 2</caption>\n",
       "<thead>\n",
       "\t<tr><th scope=col>Nome</th><th scope=col>Altura</th></tr>\n",
       "\t<tr><th scope=col>&lt;fct&gt;</th><th scope=col>&lt;dbl&gt;</th></tr>\n",
       "</thead>\n",
       "<tbody>\n",
       "\t<tr><td>Marcela  </td><td>161</td></tr>\n",
       "\t<tr><td>Alexandre</td><td>184</td></tr>\n",
       "\t<tr><td>Rafaela  </td><td>172</td></tr>\n",
       "\t<tr><td>Mariana  </td><td>174</td></tr>\n",
       "\t<tr><td>Victor   </td><td>169</td></tr>\n",
       "</tbody>\n",
       "</table>\n"
      ],
      "text/latex": [
       "A data.frame: 5 × 2\n",
       "\\begin{tabular}{ll}\n",
       " Nome & Altura\\\\\n",
       " <fct> & <dbl>\\\\\n",
       "\\hline\n",
       "\t Marcela   & 161\\\\\n",
       "\t Alexandre & 184\\\\\n",
       "\t Rafaela   & 172\\\\\n",
       "\t Mariana   & 174\\\\\n",
       "\t Victor    & 169\\\\\n",
       "\\end{tabular}\n"
      ],
      "text/markdown": [
       "\n",
       "A data.frame: 5 × 2\n",
       "\n",
       "| Nome &lt;fct&gt; | Altura &lt;dbl&gt; |\n",
       "|---|---|\n",
       "| Marcela   | 161 |\n",
       "| Alexandre | 184 |\n",
       "| Rafaela   | 172 |\n",
       "| Mariana   | 174 |\n",
       "| Victor    | 169 |\n",
       "\n"
      ],
      "text/plain": [
       "  Nome      Altura\n",
       "1 Marcela   161   \n",
       "2 Alexandre 184   \n",
       "3 Rafaela   172   \n",
       "4 Mariana   174   \n",
       "5 Victor    169   "
      ]
     },
     "metadata": {},
     "output_type": "display_data"
    }
   ],
   "source": [
    "# Montando um Dataframe de Altura de Pessoas\n",
    "\n",
    "Nome = c(\"Marcela\", \"Alexandre\", \"Rafaela\", \"Mariana\", \"Victor\")\n",
    "Altura = c(161, 184, 172, 174, 169)\n",
    "alturas = data.frame(Nome, Altura)\n",
    "alturas"
   ]
  },
  {
   "cell_type": "code",
   "execution_count": 4,
   "metadata": {},
   "outputs": [],
   "source": [
    "# Selecionando as pessoas com altura maior que 170 cm\n",
    "\n"
   ]
  },
  {
   "cell_type": "markdown",
   "metadata": {},
   "source": [
    "## <a id=\"descritiva\"></a>Estatística Descritiva\n",
    "\n",
    "O tipo de análise estatística mais básico é a **Estatística Descritiva**, que busca simplesmente resumir e descrever os nossos dados da melhor maneira possível. Esse ramo utiliza de diversas medidas para expressar características diferentes dos nossos dados, como veremos a seguir."
   ]
  },
  {
   "cell_type": "markdown",
   "metadata": {},
   "source": [
    "### <a id=\"tendencia_central\"></a>Medidas de Tendência Central\n",
    "\n",
    "As **Medidas de Tendência Central** procuram representrar um valor central em torno do qual os dados se agrupam. Você provavelmente já ouviu falar de alguns exemplos desse tipo de medida, como a **média** e a **mediana**.\n",
    "\n",
    "#### <a id=\"media\"></a> Média\n",
    "\n",
    "A **Média** é a medida numérica que representa a posição central dos nossos dados. Seu valor é obtido ao dividir a soma de todos os nossos dados pela sua quantidade.\n",
    "\n",
    "$$\\large \\bar x ={\\frac {1}{N}}\\sum _{i=1}^{N}x_{i}$$"
   ]
  },
  {
   "cell_type": "code",
   "execution_count": 5,
   "metadata": {},
   "outputs": [],
   "source": [
    "# Média de horas trabalhadas dos indivíduos\n"
   ]
  },
  {
   "cell_type": "code",
   "execution_count": 6,
   "metadata": {},
   "outputs": [],
   "source": [
    "# Média de idade dos indivíduos divorciados e não-casados\n",
    "\n",
    "\n",
    "\n",
    "# As pessoas divorciadas são, na média, mais velhas que as que nunca casaram\n",
    "\n"
   ]
  },
  {
   "cell_type": "code",
   "execution_count": 7,
   "metadata": {},
   "outputs": [],
   "source": [
    "# Não é possível calcular a média de dados qualitativos\n",
    "\n"
   ]
  },
  {
   "cell_type": "markdown",
   "metadata": {},
   "source": [
    "#### <a id=\"mediana\"></a>Mediana\n",
    "\n",
    "A **Mediana** é a medida numérica que representa o dado que se encontra na metade da nossa distribuição quanto esta se encontra ordenada. Ou seja, a mediana é o valor que divide os nossos dados de tal forma que metade deles sejam maiores que a mediana e a outra metade seja menor."
   ]
  },
  {
   "cell_type": "code",
   "execution_count": 8,
   "metadata": {},
   "outputs": [],
   "source": [
    "# Mediana do grau de escolaridade dos trabalhadores do setor privado\n",
    "\n"
   ]
  },
  {
   "cell_type": "code",
   "execution_count": 9,
   "metadata": {},
   "outputs": [],
   "source": [
    "# Não é possível calcular a mediana de dados qualitativos\n",
    "\n"
   ]
  },
  {
   "cell_type": "markdown",
   "metadata": {},
   "source": [
    "#### <a id=\"percentil\"></a>Percentil\n",
    "\n",
    "O **Percentil** não é uma medida de tendência central, mas se relaciona bastante com a Mediana. Os percentis são medidas que dividem as nossas amostras tal que **p%** delas sejam menores que o percentil. O **50º percentil**, portanto, é a nossa já conhecida mediana, enquanto o **25º percentil** é denominado primeiro quartil."
   ]
  },
  {
   "cell_type": "code",
   "execution_count": 10,
   "metadata": {},
   "outputs": [],
   "source": [
    "# Obtendo os quartis das horas trabalhadas pelos indivíduos\n",
    "\n",
    "\n",
    "\n",
    "# Transpondo o resultado para ficar mais visualizável\n"
   ]
  },
  {
   "cell_type": "code",
   "execution_count": 11,
   "metadata": {},
   "outputs": [],
   "source": [
    "# Obtendo os percentis 30%, 60% e 90% das horas trabalhadas pelas mulheres\n",
    "\n",
    "\n",
    "\n",
    "# Transpondo o resultado para ficar mais visualizável\n"
   ]
  },
  {
   "cell_type": "markdown",
   "metadata": {},
   "source": [
    "#### <a id=\"summary\"></a> Summary\n",
    "\n",
    "Uma maneira bem simples de mostrar vários dos valores que vimos até agora é utilizando a função ```summary()```. Ela nos apresenta o *mínimo*, o *1º quartil*, a *mediana*, a *média*, o *3º quartil* e o *máximo* da variável em questão, da seguinte forma:"
   ]
  },
  {
   "cell_type": "code",
   "execution_count": 12,
   "metadata": {},
   "outputs": [],
   "source": [
    "# Resumo do grau de escolaridade dos indivíduos\n",
    "\n"
   ]
  },
  {
   "cell_type": "markdown",
   "metadata": {},
   "source": [
    "### <a id=\"variacao\"></a> Medidas de Variação\n",
    "\n",
    "As **Medidas de Variação** medem o *grau de afastamento* dos dados em torno de um valor central. Elas são importantes para medir a homogeneidade dos dados, indicando se nossas amostras estão próximas entre si ou muito afastadas.\n",
    "\n",
    "#### <a id=\"amplitude\"></a> Amplitude\n",
    "\n",
    "A medida mais simples de variação é a **Amplitude**, que mede simplesmente a diferença entre a maior e a menor amostra. Entretanto, essa medida é bem sensível outliers em suas extremidades.\n",
    "\n",
    "$$ \\large A =  x_{max} - x_{min} $$"
   ]
  },
  {
   "cell_type": "code",
   "execution_count": 13,
   "metadata": {},
   "outputs": [],
   "source": [
    "# Calculando a amplitude de idade dos homens\n"
   ]
  },
  {
   "cell_type": "markdown",
   "metadata": {},
   "source": [
    "#### <a id=\"amplitude_interquartil\"></a> Amplitude Interquartil\n",
    "\n",
    "Uma outra medida de variação mais precisa é a **Amplitude Interquartil**, definida como a diferença entre o 3º e o 1º quartil. Por desprezar os valores mais extremos, essa medida é menos sujeita a flutuações que a amplitude normal."
   ]
  },
  {
   "cell_type": "code",
   "execution_count": 14,
   "metadata": {},
   "outputs": [],
   "source": [
    "# Calculando a amplitude interquartil da idade dos homens\n",
    "\n"
   ]
  },
  {
   "cell_type": "markdown",
   "metadata": {},
   "source": [
    "#### <a id=\"variancia\"></a> Variância\n",
    "\n",
    "A **Variância** é uma medida de variação que mensura a dispersão das amostras com relação à média.\n",
    "\n",
    "Seu valor é obtido a partir do cálculo da média do quadrado das diferenças entre os dados e a média, da seguinte forma:\n",
    "<br>\n",
    "<br>\n",
    "\n",
    "$$\\large s^2 = {\\frac{\\sum_{i=1}^{N}(x_{i} -\\bar{x})^2}{N-1}}$$"
   ]
  },
  {
   "cell_type": "code",
   "execution_count": 15,
   "metadata": {},
   "outputs": [],
   "source": [
    "# Calculando a variância das horas trabalhadas de quem possui mais de 30 anos\n",
    "\n"
   ]
  },
  {
   "cell_type": "markdown",
   "metadata": {},
   "source": [
    "#### <a id=\"desv_pad\"></a> Desvio Padrão\n",
    "\n",
    "O **Desvio Padrão** é uma outra medida de variação obtida simplesmente pela raiz quadrada da variância. Essa raiz é feita para que a unidade de medida seja a mesma dos nossos dados.\n",
    "<br>\n",
    "<br>\n",
    "\n",
    "$$\\large s = \\sqrt{\\frac{\\sum_{i=1}^{N}(x_{i} -\\bar{x})^2}{N-1}}$$"
   ]
  },
  {
   "cell_type": "code",
   "execution_count": 16,
   "metadata": {},
   "outputs": [],
   "source": [
    "# Calculando o desvio padrão das horas trabalhadas de quem possui mais de 30 anos\n",
    "\n"
   ]
  },
  {
   "cell_type": "markdown",
   "metadata": {},
   "source": [
    "#### <a id=\"covar\"></a> Covariância\n",
    "\n",
    "A **Covariância** é a medida da *relação linear* entre duas variáveis: seu valor representa o quanto elas \"caminham juntas\". Se a covarância é positiva, significa que as duas crescem juntas; se a covariância é negativa, significa que conforme uma cresce, a outra decresce.\n",
    "\n",
    "Seu valor é obtido da seguinte forma:\n",
    "<br>\n",
    "\n",
    "$$\\large s_{x,y}=\\frac{\\sum_{i=1}^{N}(x_{i}-\\bar{x})(y_{i}-\\bar{y})}{N-1}$$"
   ]
  },
  {
   "cell_type": "code",
   "execution_count": 17,
   "metadata": {},
   "outputs": [],
   "source": [
    "# Calculando a covarância entre o grau de escolaridade e as horas trabalhadas dos indivíduos\n",
    "\n"
   ]
  },
  {
   "cell_type": "markdown",
   "metadata": {},
   "source": [
    "A covariância positiva significa que quanto maior a idade do indivíduo, maior é a chance dele trabalhar mais horas"
   ]
  },
  {
   "cell_type": "markdown",
   "metadata": {},
   "source": [
    "#### <a id=\"ccor\"></a>Coeficiente de Correlação\n",
    "\n",
    "O **Coeficiente de Correlação** também mede a relação linear entre duas variáveis, mas é obtida a partir da divisão da covariância pelos desvios padrões individuais de cada variável. Dessa forma, encontramos uma medida **normalizada** da relação entre as duas. \n",
    "<br>\n",
    "<br>\n",
    "\n",
    "$$\\large r_{x,y}= \\frac{s_{x,y}}{s_{x} s_{y}}$$\n",
    "\n",
    "Quanto mais próximo de 1, maior a _relação linear positiva_ entre as duas variáveis, e seu gráfico se aproxima de uma linha reta _crescente_. Quanto mais próximo de -1, maior a _relação linear negativa_ entre as duas variáveis, e seu gráfico se aproxima de uma linha reta _decrescente_. Quando seu valor é próximo de 0, não existe uma relação muito grande entre as duas variáveis."
   ]
  },
  {
   "cell_type": "code",
   "execution_count": 18,
   "metadata": {},
   "outputs": [],
   "source": [
    "# Calculando o coeficiente de correlação entre o grau de escolaridade e as horas trabalhadas dos indivíduos\n",
    "\n"
   ]
  },
  {
   "cell_type": "markdown",
   "metadata": {},
   "source": [
    "O grau de escolaridade dos indivíduos tem uma relação linear positiva fraca com as horas semanais de trabalho."
   ]
  },
  {
   "cell_type": "markdown",
   "metadata": {},
   "source": [
    "## <a id = \"parte3\"></a><span style=\"color: orange;\"> Parte 3 - Manipulação de dados em R </span>"
   ]
  },
  {
   "cell_type": "markdown",
   "metadata": {},
   "source": [
    "A linguagem R tem como um de seus grandes destaques o pacote Tidyverse.<br>\n",
    "Para falar a verdade, o Tidyverse não é um pacote em si, mas sim um conjunto de pacotes.<br>\n",
    "Dentro dele, encotramos o `dplyr`, que é instaldo automaticamente com o `install.packages(\"tidyverse\")`.\n",
    "<br>\n",
    "Aqui uma [Cheat Sheet do dplyr](https://github.com/rstudio/cheatsheets/blob/master/data-transformation.pdf)\n",
    "<br>"
   ]
  },
  {
   "cell_type": "code",
   "execution_count": 19,
   "metadata": {},
   "outputs": [
    {
     "name": "stderr",
     "output_type": "stream",
     "text": [
      "\n",
      "Attaching package: ‘dplyr’\n",
      "\n",
      "\n",
      "The following objects are masked from ‘package:stats’:\n",
      "\n",
      "    filter, lag\n",
      "\n",
      "\n",
      "The following objects are masked from ‘package:base’:\n",
      "\n",
      "    intersect, setdiff, setequal, union\n",
      "\n",
      "\n"
     ]
    }
   ],
   "source": [
    "library(dplyr)"
   ]
  },
  {
   "cell_type": "markdown",
   "metadata": {},
   "source": [
    "### <a id=\"dados_faltantes\"></a>Dados faltantes\n",
    "<br>\n",
    "Dados faltantes podem ser um grande problema quando estamos lidando com uma base de dados. Assim, uma abordagem geralmente aplicada é simplesmente removê-los da sua base de dados. No R, muitas funções (a grande maioria delas) exibe um parâmetro `na.rm` que abrevia \"remover NAs (dados faltantes)\"."
   ]
  },
  {
   "cell_type": "code",
   "execution_count": 20,
   "metadata": {},
   "outputs": [],
   "source": [
    "vetor <- c(2,3,4,5,NA,7) \n",
    "#definimos aqui um vetor, vamos ver o que acontece quando aplicamos a função mean()  a ele\n"
   ]
  },
  {
   "cell_type": "code",
   "execution_count": 21,
   "metadata": {},
   "outputs": [],
   "source": [
    "#Agora com o na.rm = TRUE\n"
   ]
  },
  {
   "cell_type": "markdown",
   "metadata": {},
   "source": [
    "Outra coisa que podemos querer fazer é inputar algum dado padrão aos dados faltantes, isso pode ser feito da seguinte maneira:"
   ]
  },
  {
   "cell_type": "code",
   "execution_count": null,
   "metadata": {},
   "outputs": [],
   "source": []
  },
  {
   "cell_type": "markdown",
   "metadata": {},
   "source": [
    "Vamos dar uma olhada na base adult, vamos ver se ela tem algum dado faltante, messa base eles estão representados como \"?\" então temos que arrumar isso."
   ]
  },
  {
   "cell_type": "code",
   "execution_count": null,
   "metadata": {},
   "outputs": [],
   "source": []
  },
  {
   "cell_type": "code",
   "execution_count": null,
   "metadata": {},
   "outputs": [],
   "source": []
  },
  {
   "cell_type": "markdown",
   "metadata": {},
   "source": [
    "Temos cerca de 4262 dados faltantes na base"
   ]
  },
  {
   "cell_type": "markdown",
   "metadata": {},
   "source": [
    "### <a id=\"dplyr\"></a>Deep dive in dplyr\n",
    "Vamos agora nos aprofundar na biblioteca `dplyr`. <br>\n",
    "Essa biblioteca é boa porque deixa o nosso código extremamente legível para um ser humano.<br>\n",
    "Isso ocorre porque ela usa uma estrutura de \"verbos\" que regem o que será feito com a base de dados.<br>\n",
    "Os verbos existentes na biblioteca são os seguintes:\n",
    "1. `mutate()` - que adiciona novas variáveis (colunas) ao dataset a partir de operações/ aplicação de funções nas variáveis existentes \n",
    "2. `select()` - seleciona as colunas com base em critérios de nome\n",
    "3. `filter()` - filtra os dados com base em valores.\n",
    "4. `summarise()` - reduz um grande número de valores para valores resumo (como média, contagem, desvio, etc). Para quem mexe com excel, aqui seria algo para criar uma tabela dinâmica (pivot table). Em geral é usado com `group_by()`\n",
    "5. `arrange()`- muda a ordenação das linhas com base em algum critério\n",
    "<br>\n",
    "<br>\n",
    "Todos esses verbos podem ser performados tendo como critério um grupo, usando o `group_by()` , mas é mais comum usar isso no `summarise()`. <br>"
   ]
  },
  {
   "cell_type": "markdown",
   "metadata": {},
   "source": [
    "A estrutura de utilização dos verbos é bem simples: <br>\n",
    "`base de dados %>% verbo` <br>\n",
    "Podemos aplicar vários verbos em seguida também, com a seguinte estutura (a ordem de execução será a ordem desses verbos): <br>\n",
    "`base de dados %>% verbo1 %>% verbo2 %>% verbo3`"
   ]
  },
  {
   "cell_type": "markdown",
   "metadata": {},
   "source": [
    "#### <a id=\"mutate\"></a> `mutate()` - adicionando variáveis"
   ]
  },
  {
   "cell_type": "code",
   "execution_count": 22,
   "metadata": {},
   "outputs": [],
   "source": [
    "\n",
    "            # a função if_else tem quatro argumentos. O primeiro é a 'afirmação lógica' a ser avaliada\n",
    "            # no caso, essa afirmação é verificar se a idade é maior que 65 anos \n",
    "            # o segundo argumento é o que será inputado no caso da afirmação ser verdadeira\n",
    "            # o terceiro, o que será inputado no caso de falsa\n",
    "            # e o quarto, o que será inputado no caso de missing value (valor faltante)\n"
   ]
  },
  {
   "cell_type": "markdown",
   "metadata": {},
   "source": [
    "#### <a id=\"select\"></a>`select()` - selecionando valores com base em nome"
   ]
  },
  {
   "cell_type": "markdown",
   "metadata": {},
   "source": [
    "Esse comando é bem simples, nós podemos selecionar as colunas com o critério baseado no nome. \n",
    "<br>Isso pode incluir \"começa com\": `starts_with(padrão procurado)`, \"termina com\": `ends_with(padrão procurado)`, \"contém\": `contains(padrão procurado)`... <br>\n",
    "Pra quem manja mais, pode usar expressões regulares com `matches()` ou muitos outros critérios que vc pode dar uma conferida [aqui!](https://www.rdocumentation.org/packages/tidyselect/versions/1.0.0/topics/select_helpers)"
   ]
  },
  {
   "cell_type": "markdown",
   "metadata": {},
   "source": [
    "Vamos selecionar as variávis que contém a palavra \"capital\""
   ]
  },
  {
   "cell_type": "code",
   "execution_count": null,
   "metadata": {},
   "outputs": [],
   "source": []
  },
  {
   "cell_type": "markdown",
   "metadata": {},
   "source": [
    "#### <a id=\"filter\"></a> `filter()` - Filtrando nossa base de dados!"
   ]
  },
  {
   "cell_type": "markdown",
   "metadata": {},
   "source": [
    "Vamos supor que você quer analisar sua base de dados e segmentar essa análise com base em algum critério.. Isso é só um dos cenários em que pode ser muito importante você usar filtros!<br>\n",
    "Vamos aqui filtrar a base para pessoas com educação formal acima da média"
   ]
  },
  {
   "cell_type": "code",
   "execution_count": null,
   "metadata": {},
   "outputs": [],
   "source": []
  },
  {
   "cell_type": "markdown",
   "metadata": {},
   "source": [
    "#### <a id=\"summarise\"></a> `summarise()` - \"Tabelas dinâmicas\" no R"
   ]
  },
  {
   "cell_type": "markdown",
   "metadata": {},
   "source": [
    "Usar o verbo `summarise()` vai produzir um único número com a(s) medida(s) resumo escolhidas. <br>\n",
    "Mas como, muitas vezes, nós queremos segmentar a análise para subgrupos diferentes do dataset, o `summarise()` costuma ser utilizado com o `group_by()`. <br>\n",
    "O `group_by()` vai fazer com que as medidas resumos sejam feitas com base nos diferentes valores tidos em uma coluna."
   ]
  },
  {
   "cell_type": "markdown",
   "metadata": {},
   "source": [
    "Vamos, primeiro, usar o `summarise()` puro. Perceba que ele devolve a medida escolhida levando em consideração todas as linhas."
   ]
  },
  {
   "cell_type": "code",
   "execution_count": null,
   "metadata": {},
   "outputs": [],
   "source": []
  },
  {
   "cell_type": "markdown",
   "metadata": {},
   "source": [
    "Agora, utilizando o `group_by()` podemos segmentar os números com base em uma ou mais categorias."
   ]
  },
  {
   "cell_type": "code",
   "execution_count": null,
   "metadata": {},
   "outputs": [],
   "source": []
  },
  {
   "cell_type": "markdown",
   "metadata": {},
   "source": [
    "Perceba que nos é devolvida uma medida para cada combinação possível de grupos"
   ]
  },
  {
   "cell_type": "markdown",
   "metadata": {},
   "source": [
    "#### <a id=\"arrange\"></a> `arrange()` - Alterando a ordem das linhas do seu dataset"
   ]
  },
  {
   "cell_type": "markdown",
   "metadata": {},
   "source": [
    "Esse é provavelmente o verbo mais fácil de ser usado. Você passa como argumento um ou mais critérios de ordenação (sendo que a ordem de preferência é a ordem passada). <br>\n",
    "Caso queira que a ordenação seja decrescente, é só utilizar a função `desc()`."
   ]
  },
  {
   "cell_type": "code",
   "execution_count": null,
   "metadata": {},
   "outputs": [],
   "source": []
  },
  {
   "cell_type": "markdown",
   "metadata": {},
   "source": [
    "### <a id=\"varios_verbos\"></a> Usando vários verbos ao mesmo tempo\n",
    "\n",
    "Uma coisa legal do `dplyr` é que a gente pode usar vários verbos ao mesmo tempo"
   ]
  },
  {
   "cell_type": "markdown",
   "metadata": {},
   "source": [
    "Aqui vamos pegar uma base apenas com aqueles com anos de educação acima da média, depois vamos avaliar as combinações de raça e sexo possíves, para cada uma dando sua média de idade e média de anos de educação. Finalmente, vamos fazer com que os resultados sejam ordenados da maior média de anos de educação para a menor"
   ]
  },
  {
   "cell_type": "code",
   "execution_count": null,
   "metadata": {},
   "outputs": [],
   "source": []
  },
  {
   "cell_type": "markdown",
   "metadata": {},
   "source": [
    "## <a id = \"parte3\"></a><span style=\"color: orange;\"> Parte 4 - Visualização de dados em R com ggplot2 </span>\n",
    "\n",
    "__ggplot2__ foi desenvolvido para apresentações gráficas de qualidade em segundos. \n",
    "\n",
    "Este pacote é baseado em **gramática de gráficos**, a ideia é que você possa construir qualquer gráfico combinando adequadamente elementos da gramática, do mesmo modo que é feito na língua portuguesa.\n",
    "\n",
    "### Vantagens\n",
    "\n",
    "- Baseado em __gramática de gráficos__;\n",
    "- Alto nível de abstração em plots;\n",
    "- Flexibilidade;\n",
    "- Sistema de temas para melhorar aparência de gráficos;\n",
    "- Muitos usuários ativos na comunidade open source;\n",
    "\n",
    "### O que não fazer com ggplot2?\n",
    "\n",
    "- Gráficos de 3 dimensões (vide biblioteca [rgl](https://www.rdocumentation.org/packages/rgl/versions/0.100.50));\n",
    "- Gráficos iterativos (vide biblioteca [ggvis](https://ggvis.rstudio.com/));\n",
    "- Gráficos de teoria dos grafos (vide biblioteca [igraph](https://igraph.org/r/));"
   ]
  },
  {
   "cell_type": "code",
   "execution_count": 23,
   "metadata": {
    "scrolled": true
   },
   "outputs": [
    {
     "ename": "ERROR",
     "evalue": "Error in library(tidyverse): there is no package called ‘tidyverse’\n",
     "output_type": "error",
     "traceback": [
      "Error in library(tidyverse): there is no package called ‘tidyverse’\nTraceback:\n",
      "1. library(tidyverse)",
      "2. stop(txt, domain = NA)"
     ]
    }
   ],
   "source": [
    "library(tidyverse) # pacote que vamos usar em quase todas as análises de dados"
   ]
  },
  {
   "cell_type": "markdown",
   "metadata": {},
   "source": [
    "Esse warning mostra as funções do tidyverse que conflitam com as funções do R base. Se precisar explicitar de onde a função vem, basta usar a notação ```package::function()```:\n",
    "```R\n",
    "# exemplo\n",
    "\n",
    "ggplot2::ggplot()\n",
    "```"
   ]
  },
  {
   "cell_type": "markdown",
   "metadata": {},
   "source": [
    "## A gramática de gráficos\n",
    "Esse conceito foi introduzido pelo estatístico Leland Wilkinson, em [Grammar of Graphics](https://www.springer.com/gp/book/9780387245447) (1999).\n",
    "\n",
    "### Os elementos\n",
    "\n",
    "1. __Dados__ - o conjunto de dados da visualização;\n",
    "2. __Estética__ - descreve como variáveis são mapeadas em propriedades visuais;\n",
    "3. __Geometrias__ - o formato que os dados assumem nos plots;\n",
    "4. __Facetas__ - plots de pequenos multiplos;\n",
    "5. __Estatísticas__-  representação dos dados para auxiliar o entendimento;\n",
    "6. __Coordenadas__ - o espaço em que os dados são plotados;\n",
    "7. __Temas__ - todo material sem dados;"
   ]
  },
  {
   "cell_type": "markdown",
   "metadata": {},
   "source": [
    "## Entendendo a lógica do ggplot2\n",
    "\n",
    "\n",
    "### Códigos base\n",
    "\n",
    "#### [Inicializando objeto](https://ggplot2.tidyverse.org/reference/ggplot.html)\n",
    "\n",
    "```R\n",
    "# exemplo\n",
    "ggplot(data = adult)\n",
    "```\n",
    "\n",
    "- dados\n",
    "- mapeamento estético (opcional)\n",
    "\n",
    "#### [Mapeamento Estético](https://ggplot2.tidyverse.org/reference/aes.html)\n",
    "\n",
    "```R\n",
    "# exemplo\n",
    "aes(x = age, y = hours.per.week)\n",
    "```\n",
    "\n",
    "- atribui variáveis aos eixos;\n",
    "- adicionar detalhes (cores, contorno, preenchimento, ...)"
   ]
  },
  {
   "cell_type": "code",
   "execution_count": null,
   "metadata": {
    "scrolled": false
   },
   "outputs": [],
   "source": [
    "# exemplo teste com ggplot e aes\n"
   ]
  },
  {
   "cell_type": "markdown",
   "metadata": {},
   "source": [
    "#### [Geometrias](https://ggplot2.tidyverse.org/reference/index.html#section-layer-geoms)\n",
    "\n",
    "- Gráfico de barras - geom_bar()\n",
    "- Histograma - geom_histogram()\n",
    "- Dispersão - geom_point() ou geom_jitter()"
   ]
  },
  {
   "cell_type": "code",
   "execution_count": null,
   "metadata": {},
   "outputs": [],
   "source": [
    "# exemplo teste com geom_jitter\n"
   ]
  },
  {
   "cell_type": "markdown",
   "metadata": {},
   "source": [
    "#### [O CheatSheet do ggplot2](https://github.com/rstudio/cheatsheets/blob/master/data-visualization-2.1.pdf)\n",
    "\n",
    "### Boas Práticas de Visualização de Dados\n",
    "\n",
    "- Títulos\n",
    "- Nome dos Eixos\n",
    "- Unidades dos eixos\n",
    "\n",
    "```R\n",
    "# inserindo textos nos graficos\n",
    "labs(\n",
    "    x = \"Idade\", y = \"Horas Semanais (h)\",\n",
    "    title = \"Idade X Horas Semanais\"\n",
    ")\n",
    "```\n",
    "\n",
    "- Cores\n",
    "\n",
    "```R\n",
    "aes(\n",
    "    #color = income,\n",
    "    color = \"red\",\n",
    ")\n",
    "```"
   ]
  },
  {
   "cell_type": "code",
   "execution_count": null,
   "metadata": {
    "scrolled": false
   },
   "outputs": [],
   "source": [
    "# exemplo teste com nomes dos eixos e cores\n"
   ]
  },
  {
   "cell_type": "markdown",
   "metadata": {},
   "source": [
    "### Analisando o Dataset"
   ]
  },
  {
   "cell_type": "code",
   "execution_count": null,
   "metadata": {},
   "outputs": [],
   "source": [
    "# Número de pessoas por sexo\n"
   ]
  },
  {
   "cell_type": "code",
   "execution_count": null,
   "metadata": {},
   "outputs": [],
   "source": [
    "# Número de pessoas por grau de educação\n"
   ]
  },
  {
   "cell_type": "code",
   "execution_count": null,
   "metadata": {},
   "outputs": [],
   "source": [
    "# numero de pessoas por tipo de receita e estado civil\n"
   ]
  },
  {
   "cell_type": "code",
   "execution_count": null,
   "metadata": {},
   "outputs": [],
   "source": [
    "# Contagem de pessoas por idade e sexo\n"
   ]
  },
  {
   "cell_type": "code",
   "execution_count": null,
   "metadata": {},
   "outputs": [],
   "source": []
  },
  {
   "cell_type": "code",
   "execution_count": null,
   "metadata": {
    "scrolled": false
   },
   "outputs": [],
   "source": [
    "# ajuste de curva renda x horas semanais x idade\n",
    "\n"
   ]
  },
  {
   "cell_type": "code",
   "execution_count": null,
   "metadata": {},
   "outputs": [],
   "source": [
    "# violin plot horas semanais x renda\n",
    "\n",
    "\n"
   ]
  },
  {
   "cell_type": "markdown",
   "metadata": {},
   "source": [
    "## <a id = \"parte5\"></a><span style=\"color: orange;\"> Parte 5 - Inferência Estatística em R </span>"
   ]
  },
  {
   "cell_type": "markdown",
   "metadata": {},
   "source": [
    "### <a id=\"testes_de_hipotese\"></a>Testes de Hipótese\n",
    "Muitas vezes, quando estamos fazendo alguma análise, queremos provar que **duas médias são diferentes**. <br>\n",
    "Por exemplo, temos dois grupos de pacientes, um que tomou analgésico e outro que tomou um placebo, e queremos saber se existe diferença na nota que eles atribuem para sua dor antes e depois de tomar o remédio/placebo. <br>\n",
    "<br>\n",
    "Esse é o típico cenário em que devemos aplicar um **teste de hipótese**.\n",
    "<br>\n",
    "#### <a id=\"amostra_pop\"></a> Amostra vs População\n",
    "![censovssample](img/census-vs-sample.jpg)\n",
    "Os testes de hipótese precisam ser feitos porque, muitas vezes, nós não temos a totalidade dos dados e sim uma **amostra**.\n",
    "<br> <br>\n",
    "Existem teoremas matemáticos que garantem que as médias tiradas de amostras aleatorias de uma população convergem para a própria média da população.\n",
    "Mas pode ser que, por acaso, vc tenha pegado uma amostra extrema que não representa essa população - **os testes de hipótese são uma forma de verificar qual é essa probabilidade e se ela é considerável**.\n",
    "Os **testes de hipóteses** têm uma estrutura comum. Eles assumem uma *hipótese nula* e uma *hipótese alternativa*.<br>\n",
    "Em geral: <br>\n",
    "$H_0 =$ (hipótese nula) as médias são iguais <br>\n",
    "$H_A =$ (hipótese alternativa) as médias são diferentes (você pode mudar isso para \"maior\" ou \"menor\" também\n",
    "<br>\n",
    "O que o teste de hipótese nos retorna é o **p-valor**, ele nos dá **a probabilidade de cometer um erro ao falar que $H_A$ está certa** . <br>\n",
    "Em geral, quando o $p-valor \\leq 0.05$ aceitamos $H_A$, pois a probabilidade de \"estarmos falando besteira\" é menor do que 5%"
   ]
  },
  {
   "cell_type": "markdown",
   "metadata": {},
   "source": [
    "#### <a id=\"par_vs_npar\"></a> Testes paramétricos VS não-paramétricos\n",
    "![distribuicaonormal](img/normal.jpeg)\n",
    "Os testes de hipótese podem ser divididos entre paramétricos e não paramétricos.\n",
    "<br>\n",
    "Os testes **paramétricos** assumem a **distribuição normal dos dados**, enquanto os **não paramétricos** não possuem tal premissa.<br>\n",
    "A distribuição normal é a famosa curva de sino, em que a maioria dos valores estão próximos de uma média.\n",
    "#### <a id=\"ks\"></a> Kolgomorov-Smirnov\n",
    "Para saber se devemos ou não aplicar um teste paramétrico ou não paramétrico, precisamos saber se nossos dados seguem ou não uma distribuição normal. Para isso usamos o teste de *Kolgomorov-Smirnov* comparando a nossa amostra com uma distribuição normal.\n",
    "Nesse teste, as hipóteses são as seguintes:<br>\n",
    "$H_0 = $ a distribuição é normal <br>\n",
    "$H_A = $ a distribuição não é normal\n"
   ]
  },
  {
   "cell_type": "markdown",
   "metadata": {},
   "source": [
    "Aplicando o ks nas variáveis da base adult, vemos que praticamente todas são não paramétricas"
   ]
  },
  {
   "cell_type": "code",
   "execution_count": null,
   "metadata": {},
   "outputs": [],
   "source": []
  },
  {
   "cell_type": "markdown",
   "metadata": {},
   "source": [
    "Vamos criar variáveis aleatórias que seguem uma distribuição normal, através da função `rnorm()`. Na segunda, vamos multiplicar ela por 30"
   ]
  },
  {
   "cell_type": "code",
   "execution_count": null,
   "metadata": {},
   "outputs": [],
   "source": [
    "r_1 = rnorm(1000, 1.01, 1.002)\n",
    "r_2 = rnorm(1000, 300, 10)\n",
    "r_3 = rnorm(1000, 1.031, 1.012)"
   ]
  },
  {
   "cell_type": "code",
   "execution_count": null,
   "metadata": {},
   "outputs": [],
   "source": []
  },
  {
   "cell_type": "code",
   "execution_count": null,
   "metadata": {},
   "outputs": [],
   "source": []
  },
  {
   "cell_type": "code",
   "execution_count": null,
   "metadata": {},
   "outputs": [],
   "source": []
  },
  {
   "cell_type": "markdown",
   "metadata": {},
   "source": [
    "#### <a id=\"ttest\"></a> Teste T"
   ]
  },
  {
   "cell_type": "markdown",
   "metadata": {},
   "source": [
    "Existem dois testes mais conhecidos para comparar médias, o teste T e o teste Z. O teste Z é mais usado para comparar uma média amostral com uma média teórica, apesar de poder ser usado para comparar duas médias amostrais também. <br>\n",
    "O teste Z não é nativo do R, mas aceitando-se $H_A$ de teste T = também aceitaria-se ela via teste Z\n",
    "<br>\n",
    "Vamos aqui aplicar um teste que compara as médias, o teste t. A hipótese nula é de que as médias são iguais e a alternativa é de que são diferentes. <br>\n",
    "Esse teste precisa saber se as variâncias são iguais ou diferentes. Pra isso vamos aplicar um teste chamado teste F. <br>\n",
    "Para o teste  F, a hipótese nula é de que as variâncias são diferentes."
   ]
  },
  {
   "cell_type": "markdown",
   "metadata": {},
   "source": [
    "Vemos aqui que $r_1$ e $r_3$ tem variâncias que podem ser consideradas iguais, enquanto $r_2$ e $r_3$ tem variâncias que podem ser consideradas diferentes"
   ]
  },
  {
   "cell_type": "code",
   "execution_count": null,
   "metadata": {},
   "outputs": [],
   "source": [
    "\n",
    "print(paste(\"Valor p do teste: \",))"
   ]
  },
  {
   "cell_type": "code",
   "execution_count": null,
   "metadata": {},
   "outputs": [],
   "source": [
    "\n",
    "print(paste(\"Valor p do teste: \", ))"
   ]
  },
  {
   "cell_type": "markdown",
   "metadata": {},
   "source": [
    "Fazendo o teste T, vemos que as médias de $r_1$e $r_3$ podem ser consideradas iguais"
   ]
  },
  {
   "cell_type": "code",
   "execution_count": null,
   "metadata": {},
   "outputs": [],
   "source": [
    "\n",
    "print(paste(\"Valor p do teste: \", ))\n"
   ]
  },
  {
   "cell_type": "markdown",
   "metadata": {},
   "source": [
    "Vemos que $r_2$ e $r_3$ são diferentes"
   ]
  },
  {
   "cell_type": "code",
   "execution_count": null,
   "metadata": {},
   "outputs": [],
   "source": [
    "\n",
    "print(paste(\"Valor p do teste: \", ))\n"
   ]
  },
  {
   "cell_type": "markdown",
   "metadata": {},
   "source": [
    "#### <a id=\"anova\"></a> ANOVA de um fator"
   ]
  },
  {
   "cell_type": "markdown",
   "metadata": {},
   "source": [
    "Para comparar três ou mais médias, utilizaremos um teste de hipóteses chamado ANOVA (Análise de variância) de um fator<br>\n",
    "Aqui, a $H_A$ é que *alguma das médias é diferentes da outras*"
   ]
  },
  {
   "cell_type": "code",
   "execution_count": null,
   "metadata": {},
   "outputs": [],
   "source": [
    "r_1_name = rep(\"r_1\", 1000)\n",
    "r_2_name = rep(\"r_2\", 1000)\n",
    "r_3_name = rep(\"r_3\", 1000)\n",
    "nomes = c(r_1_name, r_2_name, r_3_name)\n",
    "valores = c(r_1,r_2,r_3)\n",
    "data = data.frame(nomes, valores)"
   ]
  },
  {
   "cell_type": "code",
   "execution_count": null,
   "metadata": {
    "scrolled": true
   },
   "outputs": [],
   "source": []
  },
  {
   "cell_type": "markdown",
   "metadata": {},
   "source": [
    "Temos que `Pr(>F)` é o nosso valor P, ele é bem baixo, então alguma das médias é diferente das outras."
   ]
  },
  {
   "cell_type": "markdown",
   "metadata": {},
   "source": [
    "#### <a id=\"rl\"></a> Regressão Linear"
   ]
  },
  {
   "cell_type": "markdown",
   "metadata": {},
   "source": [
    "Os principais tipos de correlação estatística são: <br>\n",
    "**Spearmann** = correlação não paramétrica <br>\n",
    "**Pearson** = correlação paramétrica <br>"
   ]
  },
  {
   "cell_type": "code",
   "execution_count": null,
   "metadata": {
    "scrolled": false
   },
   "outputs": [],
   "source": []
  },
  {
   "cell_type": "markdown",
   "metadata": {},
   "source": [
    "P valor baixo, a relação entre os dois é significativa"
   ]
  },
  {
   "cell_type": "code",
   "execution_count": null,
   "metadata": {},
   "outputs": [],
   "source": []
  },
  {
   "cell_type": "code",
   "execution_count": null,
   "metadata": {},
   "outputs": [],
   "source": []
  },
  {
   "cell_type": "code",
   "execution_count": null,
   "metadata": {
    "scrolled": false
   },
   "outputs": [],
   "source": []
  }
 ],
 "metadata": {
  "kernelspec": {
   "display_name": "R",
   "language": "R",
   "name": "ir"
  },
  "language_info": {
   "codemirror_mode": "r",
   "file_extension": ".r",
   "mimetype": "text/x-r-source",
   "name": "R",
   "pygments_lexer": "r",
   "version": "3.4.4"
  }
 },
 "nbformat": 4,
 "nbformat_minor": 4
}
